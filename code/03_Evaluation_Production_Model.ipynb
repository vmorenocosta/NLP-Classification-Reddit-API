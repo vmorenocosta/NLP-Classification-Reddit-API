{
 "cells": [
  {
   "cell_type": "markdown",
   "id": "7a5db7f8-4507-49f3-90da-7366d7405c08",
   "metadata": {},
   "source": [
    "# 3. Evaluation of Production Model\n",
    "\n",
    "This notebook evaluates the production model identified in [02_NLP_Pipeline_Model](02_NLP_Pipeline_Model.ipynb) and provides conclusions and recommendations.\n",
    "\n",
    "**Evaluation and Conceptual Understanding**\n",
    "- Does the student accurately identify and explain the baseline score?\n",
    "- Does the student select and use metrics relevant to the problem objective?\n",
    "- Does the student interpret the results of their model for purposes of inference?\n",
    "- Is domain knowledge demonstrated when interpreting results?\n",
    "- Does the student provide appropriate interpretation with regards to descriptive and inferential statistics?\n",
    "\n",
    "**Conclusion and Recommendations**\n",
    "- Does the student provide appropriate context to connect individual steps back to the overall project?\n",
    "- Is it clear how the final recommendations were reached?\n",
    "- Are the conclusions/recommendations clearly stated?\n",
    "- Does the conclusion answer the original problem statement?\n",
    "- Does the student address how findings of this research can be applied for the benefit of stakeholders?\n",
    "- Are future steps to move the project forward identified?\n"
   ]
  },
  {
   "cell_type": "markdown",
   "id": "556e3a12-fde6-4f7c-9e4f-d433159e92ce",
   "metadata": {
    "tags": []
   },
   "source": [
    "#### Imports"
   ]
  },
  {
   "cell_type": "code",
   "execution_count": 1,
   "id": "84bbd5ec-5ea0-41ba-879c-0dc859550339",
   "metadata": {},
   "outputs": [],
   "source": [
    "import pandas as pd\n",
    "import numpy as np\n",
    "import matplotlib.pyplot as plt\n",
    "\n",
    "from sklearn.metrics import mean_squared_error, ConfusionMatrixDisplay, recall_score\n",
    "from sklearn.ensemble import VotingClassifier"
   ]
  },
  {
   "cell_type": "code",
   "execution_count": null,
   "id": "bf811a1a-0cb9-4e83-b906-4d0a6d32fe30",
   "metadata": {},
   "outputs": [],
   "source": []
  },
  {
   "cell_type": "code",
   "execution_count": 2,
   "id": "02d1ba9e-b70c-4135-bc97-30d74e3477f4",
   "metadata": {},
   "outputs": [],
   "source": [
    "misclassifications = pd.read_csv('../datasets/misclassifications.csv')"
   ]
  },
  {
   "cell_type": "code",
   "execution_count": 3,
   "id": "1956cc02-6386-405a-8f76-d728bd7220c5",
   "metadata": {},
   "outputs": [],
   "source": [
    "df = pd.read_csv('../datasets/combined_cleaned.csv',na_filter=False)"
   ]
  },
  {
   "cell_type": "code",
   "execution_count": 4,
   "id": "5f669928-22fa-49b6-9167-f52368960848",
   "metadata": {},
   "outputs": [],
   "source": [
    "%store -r vr1 X_train X_test y_train y_test"
   ]
  },
  {
   "cell_type": "markdown",
   "id": "8dbe759e-c377-465d-bb75-9df82ec1ff71",
   "metadata": {
    "tags": []
   },
   "source": [
    "### Evaluation"
   ]
  },
  {
   "cell_type": "markdown",
   "id": "9e4d2cc5-5bbc-4082-95ee-c2db63eae83a",
   "metadata": {
    "tags": []
   },
   "source": [
    "#### Baseline score"
   ]
  },
  {
   "cell_type": "code",
   "execution_count": 5,
   "id": "81882955-d8a0-4365-92eb-668481d4bef4",
   "metadata": {},
   "outputs": [
    {
     "name": "stdout",
     "output_type": "stream",
     "text": [
      "Baseline accuracy is 50.3% if you were to always predict divorce.\n"
     ]
    }
   ],
   "source": [
    "%store -r baseline\n",
    "print(f'Baseline accuracy is {round(baseline*100,1)}% if you were to always predict divorce.')"
   ]
  },
  {
   "cell_type": "code",
   "execution_count": 6,
   "id": "240f1af2-392b-4c2e-91fb-ac1a657a4877",
   "metadata": {},
   "outputs": [],
   "source": [
    "baseline_recall = recall_score(y_test, np.full_like(y_test,'Divorce'),pos_label = 'Divorce')"
   ]
  },
  {
   "cell_type": "code",
   "execution_count": 7,
   "id": "942278ed-000c-4068-b137-515628873074",
   "metadata": {},
   "outputs": [
    {
     "name": "stdout",
     "output_type": "stream",
     "text": [
      "Baseline recall score is 100.0%\n"
     ]
    }
   ],
   "source": [
    "print(f'Baseline recall score is {round(baseline_recall*100,1)}%')"
   ]
  },
  {
   "cell_type": "markdown",
   "id": "979c02c2-d8d6-4be9-a09e-91d93014c602",
   "metadata": {
    "tags": []
   },
   "source": [
    "#### Production Model score"
   ]
  },
  {
   "cell_type": "markdown",
   "id": "113b4c87-b374-4ccf-8e20-2fd0bcc86aaa",
   "metadata": {
    "tags": []
   },
   "source": [
    "The production model uses the following methodology:\n",
    "- Inputs\n",
    "    - Selftext (including empty, removed, and deleted posts)\n",
    "    - Titles\n",
    "- Column Transformation: count vectorizer on both inputs\n",
    "    - Stop words = stopwords.words('english') plus 'na','removed','deleted','would','like','get','really'\n",
    "    - N-grams = 1, 2, and 3 word phrases\n",
    "    - Mininimum document frequency = 4 documents\n",
    "    - Maxinimum document frequency = 40% of all documents\n",
    "    - Strip accents = Use unicode normalizations\n",
    "- Voting classifier\n",
    "    - Soft voting\n",
    "    - Equal weighting for 3 models:\n",
    "    1. Logistic Regression\n",
    "        - default settings\n",
    "    2. Random Forest Classifier\n",
    "        - no max depth\n",
    "        - 500 estimators\n",
    "    3. Ada Boost Classifier\n",
    "        - Logistic Regression base estimator\n",
    "        - learning rate = 2.0\n",
    "        - 100 estimators"
   ]
  },
  {
   "cell_type": "code",
   "execution_count": 8,
   "id": "fb348dac-ceda-4ba8-ac1f-9f8eaa695570",
   "metadata": {},
   "outputs": [],
   "source": [
    "train_accuracy = vr1.score(X_train, y_train)\n",
    "test_accuracy = vr1.score(X_test, y_test)"
   ]
  },
  {
   "cell_type": "code",
   "execution_count": 9,
   "id": "4b3b81dc-8760-4c02-953b-5ea7fddf3cc8",
   "metadata": {},
   "outputs": [
    {
     "name": "stdout",
     "output_type": "stream",
     "text": [
      "The accuracy scores for the train and test splits are 99.8% and 97.4%, respectively.\n"
     ]
    }
   ],
   "source": [
    "print(f'The accuracy scores for the train and test splits are {round(train_accuracy*100,1)}% and {round(test_accuracy*100,1)}%, respectively.')"
   ]
  },
  {
   "cell_type": "code",
   "execution_count": 10,
   "id": "88ac5ecf-1ac7-47fe-9ea0-7c0e2bfe37d4",
   "metadata": {},
   "outputs": [],
   "source": [
    "train_recall = recall_score(y_train,vr1.predict(X_train),pos_label='Divorce')\n",
    "test_recall = recall_score(y_test,vr1.predict(X_test),pos_label='Divorce')"
   ]
  },
  {
   "cell_type": "markdown",
   "id": "5503a4b5-cc41-4c57-8f0b-bb7192d9303f",
   "metadata": {},
   "source": [
    "The recall score tells us how many of the divorce posts we were able to accurately classify. This is an important metric for the divorce lawyer as well because each divorce post they miss is a potential customer lost."
   ]
  },
  {
   "cell_type": "code",
   "execution_count": 11,
   "id": "80d8b84c-93b0-4e7c-9175-11d3bbc9703b",
   "metadata": {},
   "outputs": [
    {
     "name": "stdout",
     "output_type": "stream",
     "text": [
      "The recall scores for the train and test splits are 100.0% and 99.0%, respectively.\n"
     ]
    }
   ],
   "source": [
    "print(f'The recall scores for the train and test splits are {round(train_recall*100,1)}% and {round(test_recall*100,1)}%, respectively.')"
   ]
  },
  {
   "cell_type": "markdown",
   "id": "9181eb36-ed73-4469-a3d1-dca03c8156e4",
   "metadata": {},
   "source": [
    "Note, the baseline recall score is 100%, so in the effort to avoid advertising to wedding planners (and thus, avoid angering them), the recall score decreases by 1%, which means you are missing a potential 2% of divorce posts (i.e. clients)."
   ]
  },
  {
   "cell_type": "code",
   "execution_count": 76,
   "id": "50f495ff-a8f2-468a-bdda-d0e4a7bc5ef1",
   "metadata": {},
   "outputs": [],
   "source": [
    "df_scores = pd.DataFrame([baseline, baseline_recall],columns=['Baseline'],index=['Accuracy','Recall'])"
   ]
  },
  {
   "cell_type": "code",
   "execution_count": 77,
   "id": "5e1ad82e-2bf9-4b68-be87-6a3b88be7e34",
   "metadata": {},
   "outputs": [],
   "source": [
    "df_scores['Baseline'] = [str(round(x*100,1)) + '%' for x in df_scores['Baseline']]"
   ]
  },
  {
   "cell_type": "code",
   "execution_count": 78,
   "id": "0a8e24da-27e7-4b51-966b-873f336bfca0",
   "metadata": {},
   "outputs": [],
   "source": [
    "df_scores['Model'] = [test_accuracy, test_recall]"
   ]
  },
  {
   "cell_type": "code",
   "execution_count": 79,
   "id": "b8e89475-0323-4f35-a732-fb09a10b05ea",
   "metadata": {},
   "outputs": [],
   "source": [
    "df_scores['Model'] = [str(round(x*100,1)) + '%' for x in df_scores['Model']]"
   ]
  },
  {
   "cell_type": "code",
   "execution_count": 81,
   "id": "dffb0260-0ddc-48fe-b91d-5ff6262e5ffd",
   "metadata": {},
   "outputs": [
    {
     "data": {
      "text/html": [
       "<div>\n",
       "<style scoped>\n",
       "    .dataframe tbody tr th:only-of-type {\n",
       "        vertical-align: middle;\n",
       "    }\n",
       "\n",
       "    .dataframe tbody tr th {\n",
       "        vertical-align: top;\n",
       "    }\n",
       "\n",
       "    .dataframe thead th {\n",
       "        text-align: right;\n",
       "    }\n",
       "</style>\n",
       "<table border=\"1\" class=\"dataframe\">\n",
       "  <thead>\n",
       "    <tr style=\"text-align: right;\">\n",
       "      <th></th>\n",
       "      <th>Accuracy</th>\n",
       "      <th>Recall</th>\n",
       "    </tr>\n",
       "  </thead>\n",
       "  <tbody>\n",
       "    <tr>\n",
       "      <th>Baseline</th>\n",
       "      <td>50.3%</td>\n",
       "      <td>100.0%</td>\n",
       "    </tr>\n",
       "    <tr>\n",
       "      <th>Model</th>\n",
       "      <td>97.4%</td>\n",
       "      <td>99.0%</td>\n",
       "    </tr>\n",
       "  </tbody>\n",
       "</table>\n",
       "</div>"
      ],
      "text/plain": [
       "         Accuracy  Recall\n",
       "Baseline    50.3%  100.0%\n",
       "Model       97.4%   99.0%"
      ]
     },
     "execution_count": 81,
     "metadata": {},
     "output_type": "execute_result"
    }
   ],
   "source": [
    "df_scores.transpose()"
   ]
  },
  {
   "cell_type": "markdown",
   "id": "62b167f3-94ab-42c2-b648-700a54ba6c80",
   "metadata": {
    "tags": []
   },
   "source": [
    "#### Inference of the production model"
   ]
  },
  {
   "cell_type": "code",
   "execution_count": 12,
   "id": "ed52cab5-9c27-4fe6-bc04-a1f26e17fc75",
   "metadata": {},
   "outputs": [],
   "source": [
    "# Create a vector of the words transformed in the count vectorizer\n",
    "vect_names = vr1.named_estimators['lr'].named_steps['ct'].named_transformers_['countvectorizer-1'].get_feature_names_out() + ' (selftext)'\n",
    "\n",
    "vect_names = np.append(vect_names,(vr1.named_estimators['lr'].named_steps['ct'].named_transformers_['countvectorizer-2'].get_feature_names_out()+' (title)'))"
   ]
  },
  {
   "cell_type": "code",
   "execution_count": 13,
   "id": "d7117886-f19c-4304-b0cc-7b7bdc7d10fd",
   "metadata": {},
   "outputs": [],
   "source": [
    "# Create a data frame that contains the coeficients of the logistic regression model and the feature importances of the random forest\n",
    "df_coefs = pd.DataFrame(np.transpose(vr1.named_estimators['lr'].named_steps['lr'].coef_), index=vect_names,columns =['LR coefs'])\n",
    "\n",
    "df_coefs['LR odds'] = df_coefs['LR coefs'].apply(np.exp)\n",
    "\n",
    "df_coefs['RF FI'] = np.transpose(vr1.named_estimators['rf'].named_steps['rf'].feature_importances_)"
   ]
  },
  {
   "cell_type": "code",
   "execution_count": 93,
   "id": "690c332a-b6f7-40ec-b4bd-c69a8329551c",
   "metadata": {},
   "outputs": [
    {
     "data": {
      "text/html": [
       "<div>\n",
       "<style scoped>\n",
       "    .dataframe tbody tr th:only-of-type {\n",
       "        vertical-align: middle;\n",
       "    }\n",
       "\n",
       "    .dataframe tbody tr th {\n",
       "        vertical-align: top;\n",
       "    }\n",
       "\n",
       "    .dataframe thead th {\n",
       "        text-align: right;\n",
       "    }\n",
       "</style>\n",
       "<table border=\"1\" class=\"dataframe\">\n",
       "  <thead>\n",
       "    <tr style=\"text-align: right;\">\n",
       "      <th></th>\n",
       "      <th>LR coefs</th>\n",
       "      <th>LR odds</th>\n",
       "      <th>RF FI</th>\n",
       "    </tr>\n",
       "  </thead>\n",
       "  <tbody>\n",
       "    <tr>\n",
       "      <th>rings (title)</th>\n",
       "      <td>0.124997</td>\n",
       "      <td>1.133145</td>\n",
       "      <td>0.000035</td>\n",
       "    </tr>\n",
       "    <tr>\n",
       "      <th>band (selftext)</th>\n",
       "      <td>0.196374</td>\n",
       "      <td>1.216982</td>\n",
       "      <td>0.000103</td>\n",
       "    </tr>\n",
       "    <tr>\n",
       "      <th>engagement ring (selftext)</th>\n",
       "      <td>0.006919</td>\n",
       "      <td>1.006943</td>\n",
       "      <td>0.000046</td>\n",
       "    </tr>\n",
       "    <tr>\n",
       "      <th>engagement (selftext)</th>\n",
       "      <td>0.130738</td>\n",
       "      <td>1.139670</td>\n",
       "      <td>0.000434</td>\n",
       "    </tr>\n",
       "    <tr>\n",
       "      <th>sell (selftext)</th>\n",
       "      <td>-0.807043</td>\n",
       "      <td>0.446176</td>\n",
       "      <td>0.000120</td>\n",
       "    </tr>\n",
       "    <tr>\n",
       "      <th>hassle (selftext)</th>\n",
       "      <td>0.000010</td>\n",
       "      <td>1.000010</td>\n",
       "      <td>0.000005</td>\n",
       "    </tr>\n",
       "  </tbody>\n",
       "</table>\n",
       "</div>"
      ],
      "text/plain": [
       "                            LR coefs   LR odds     RF FI\n",
       "rings (title)               0.124997  1.133145  0.000035\n",
       "band (selftext)             0.196374  1.216982  0.000103\n",
       "engagement ring (selftext)  0.006919  1.006943  0.000046\n",
       "engagement (selftext)       0.130738  1.139670  0.000434\n",
       "sell (selftext)            -0.807043  0.446176  0.000120\n",
       "hassle (selftext)           0.000010  1.000010  0.000005"
      ]
     },
     "execution_count": 93,
     "metadata": {},
     "output_type": "execute_result"
    }
   ],
   "source": [
    "df_coefs.loc[['rings (title)','band (selftext)','engagement ring (selftext)','engagement (selftext)',\n",
    "              'sell (selftext)','hassle (selftext)'],:]"
   ]
  },
  {
   "cell_type": "code",
   "execution_count": 14,
   "id": "f08ac28a-e30b-4d3c-afcc-6e0d001a8ace",
   "metadata": {},
   "outputs": [],
   "source": [
    "# Create data frames for the top coefficients for wedding and divorce, and top feature importances\n",
    "top_coefs_div = df_coefs.sort_values(by=['LR coefs']).head(20)\n",
    "\n",
    "top_coefs_wed = df_coefs.sort_values(by=['LR coefs']).tail(20)\n",
    "\n",
    "top_feat_imp = df_coefs.sort_values(by=['RF FI'],ascending = False).head(20)"
   ]
  },
  {
   "cell_type": "code",
   "execution_count": 15,
   "id": "9e17ad3f-8e7f-4f3b-bd40-7bee0739d6b0",
   "metadata": {},
   "outputs": [],
   "source": [
    "# Create data frames for the selftext and title vectors, and include information about which subreddit it came from\n",
    "selftext_vect = vr1.named_estimators['lr'].named_steps['ct'].named_transformers_['countvectorizer-1'].transform(X_train['selftext'])\n",
    "df_selftext_vect = pd.DataFrame(selftext_vect.A, columns=vr1.named_estimators['lr'].named_steps['ct'].named_transformers_['countvectorizer-1'].get_feature_names_out())\n",
    "df_selftext_vect['subreddit'] = y_train\n",
    "df_selftext_vect['subreddit_div'] = [1 if x == 'Divorce' else 0 for x in y_train]\n",
    "\n",
    "title_vect = vr1.named_estimators['lr'].named_steps['ct'].named_transformers_['countvectorizer-1'].transform(X_train['title'])\n",
    "df_title_vect = pd.DataFrame(title_vect.A, columns=vr1.named_estimators['lr'].named_steps['ct'].named_transformers_['countvectorizer-1'].get_feature_names_out())\n",
    "df_title_vect['subreddit'] = y_train\n",
    "df_title_vect['subreddit_div'] = [1 if x == 'Divorce' else 0 for x in y_train]"
   ]
  },
  {
   "cell_type": "code",
   "execution_count": 16,
   "id": "5bfcd439-50fe-4cf3-b772-6614d277e57f",
   "metadata": {},
   "outputs": [],
   "source": [
    "# Add the frequency which the words appear in the divorce posts when the word appears in a post or title at all\n",
    "top_coefs_div['div_freq'] = [df_selftext_vect[df_selftext_vect[word.replace(' (selftext)','').replace(' (title)','')]>0]['subreddit_div'].mean() if '(selftext)' in word else df_title_vect[df_title_vect[word.replace(' (selftext)','').replace(' (title)','')]>0]['subreddit_div'].mean() for word in top_coefs_div.index]\n",
    "\n",
    "top_coefs_wed['div_freq'] = [df_selftext_vect[df_selftext_vect[word.replace(' (selftext)','').replace(' (title)','')]>0]['subreddit_div'].mean() if '(selftext)' in word else df_title_vect[df_title_vect[word.replace(' (selftext)','').replace(' (title)','')]>0]['subreddit_div'].mean() for word in top_coefs_wed.index]\n",
    "\n",
    "top_feat_imp['div_freq'] = [df_selftext_vect[df_selftext_vect[word.replace(' (selftext)','').replace(' (title)','')]>0]['subreddit_div'].mean() if '(selftext)' in word else df_title_vect[df_title_vect[word.replace(' (selftext)','').replace(' (title)','')]>0]['subreddit_div'].mean() for word in top_feat_imp.index]"
   ]
  },
  {
   "cell_type": "code",
   "execution_count": 17,
   "id": "88d5f23d-8faf-4d0f-a4da-640e5530a631",
   "metadata": {},
   "outputs": [],
   "source": [
    "# Add the count which the words appear in the posts or titles\n",
    "top_coefs_div['count'] = [len(df_selftext_vect[df_selftext_vect[word.replace(' (selftext)','').replace(' (title)','')]>0]) for word in top_coefs_div.index]\n",
    "\n",
    "top_coefs_wed['count'] = [len(df_selftext_vect[df_selftext_vect[word.replace(' (selftext)','').replace(' (title)','')]>0]) for word in top_coefs_wed.index]\n",
    "\n",
    "top_feat_imp['count'] = [len(df_selftext_vect[df_selftext_vect[word.replace(' (selftext)','').replace(' (title)','')]>0]) for word in top_feat_imp.index]"
   ]
  },
  {
   "cell_type": "code",
   "execution_count": null,
   "id": "74c3c452-4476-4163-8842-246a6d9699a8",
   "metadata": {},
   "outputs": [],
   "source": []
  },
  {
   "cell_type": "code",
   "execution_count": 18,
   "id": "b41afb1d-42a9-49c3-8697-997776af6988",
   "metadata": {
    "tags": []
   },
   "outputs": [
    {
     "data": {
      "text/html": [
       "<div>\n",
       "<style scoped>\n",
       "    .dataframe tbody tr th:only-of-type {\n",
       "        vertical-align: middle;\n",
       "    }\n",
       "\n",
       "    .dataframe tbody tr th {\n",
       "        vertical-align: top;\n",
       "    }\n",
       "\n",
       "    .dataframe thead th {\n",
       "        text-align: right;\n",
       "    }\n",
       "</style>\n",
       "<table border=\"1\" class=\"dataframe\">\n",
       "  <thead>\n",
       "    <tr style=\"text-align: right;\">\n",
       "      <th></th>\n",
       "      <th>LR coefs</th>\n",
       "      <th>LR odds</th>\n",
       "      <th>RF FI</th>\n",
       "      <th>div_freq</th>\n",
       "      <th>count</th>\n",
       "    </tr>\n",
       "  </thead>\n",
       "  <tbody>\n",
       "    <tr>\n",
       "      <th>divorce (title)</th>\n",
       "      <td>-3.276906</td>\n",
       "      <td>0.037745</td>\n",
       "      <td>0.030106</td>\n",
       "      <td>1.000000</td>\n",
       "      <td>1349</td>\n",
       "    </tr>\n",
       "    <tr>\n",
       "      <th>divorce (selftext)</th>\n",
       "      <td>-2.629223</td>\n",
       "      <td>0.072134</td>\n",
       "      <td>0.040236</td>\n",
       "      <td>0.995552</td>\n",
       "      <td>1349</td>\n",
       "    </tr>\n",
       "    <tr>\n",
       "      <th>divorced (title)</th>\n",
       "      <td>-1.768574</td>\n",
       "      <td>0.170576</td>\n",
       "      <td>0.003233</td>\n",
       "      <td>0.987500</td>\n",
       "      <td>304</td>\n",
       "    </tr>\n",
       "    <tr>\n",
       "      <th>ex (title)</th>\n",
       "      <td>-1.754912</td>\n",
       "      <td>0.172923</td>\n",
       "      <td>0.006712</td>\n",
       "      <td>0.988304</td>\n",
       "      <td>532</td>\n",
       "    </tr>\n",
       "    <tr>\n",
       "      <th>husband (title)</th>\n",
       "      <td>-1.494438</td>\n",
       "      <td>0.224375</td>\n",
       "      <td>0.003224</td>\n",
       "      <td>0.988235</td>\n",
       "      <td>638</td>\n",
       "    </tr>\n",
       "    <tr>\n",
       "      <th>years (title)</th>\n",
       "      <td>-1.253099</td>\n",
       "      <td>0.285618</td>\n",
       "      <td>0.000979</td>\n",
       "      <td>0.861538</td>\n",
       "      <td>1255</td>\n",
       "    </tr>\n",
       "    <tr>\n",
       "      <th>custody (title)</th>\n",
       "      <td>-1.173133</td>\n",
       "      <td>0.309396</td>\n",
       "      <td>0.002048</td>\n",
       "      <td>1.000000</td>\n",
       "      <td>233</td>\n",
       "    </tr>\n",
       "    <tr>\n",
       "      <th>wife (title)</th>\n",
       "      <td>-1.129264</td>\n",
       "      <td>0.323271</td>\n",
       "      <td>0.002843</td>\n",
       "      <td>1.000000</td>\n",
       "      <td>602</td>\n",
       "    </tr>\n",
       "    <tr>\n",
       "      <th>ex (selftext)</th>\n",
       "      <td>-1.121651</td>\n",
       "      <td>0.325741</td>\n",
       "      <td>0.009057</td>\n",
       "      <td>0.960526</td>\n",
       "      <td>532</td>\n",
       "    </tr>\n",
       "    <tr>\n",
       "      <th>spouse (title)</th>\n",
       "      <td>-1.095312</td>\n",
       "      <td>0.334435</td>\n",
       "      <td>0.002083</td>\n",
       "      <td>0.968254</td>\n",
       "      <td>160</td>\n",
       "    </tr>\n",
       "    <tr>\n",
       "      <th>wedding ring (title)</th>\n",
       "      <td>-1.076041</td>\n",
       "      <td>0.340943</td>\n",
       "      <td>0.000153</td>\n",
       "      <td>0.400000</td>\n",
       "      <td>13</td>\n",
       "    </tr>\n",
       "    <tr>\n",
       "      <th>marriage (title)</th>\n",
       "      <td>-1.064246</td>\n",
       "      <td>0.344988</td>\n",
       "      <td>0.001329</td>\n",
       "      <td>0.892857</td>\n",
       "      <td>713</td>\n",
       "    </tr>\n",
       "    <tr>\n",
       "      <th>lawyer (title)</th>\n",
       "      <td>-1.042297</td>\n",
       "      <td>0.352644</td>\n",
       "      <td>0.001307</td>\n",
       "      <td>1.000000</td>\n",
       "      <td>254</td>\n",
       "    </tr>\n",
       "    <tr>\n",
       "      <th>know (title)</th>\n",
       "      <td>-1.027247</td>\n",
       "      <td>0.357991</td>\n",
       "      <td>0.001239</td>\n",
       "      <td>0.735294</td>\n",
       "      <td>1785</td>\n",
       "    </tr>\n",
       "    <tr>\n",
       "      <th>divorced (selftext)</th>\n",
       "      <td>-1.015321</td>\n",
       "      <td>0.362286</td>\n",
       "      <td>0.005061</td>\n",
       "      <td>0.960526</td>\n",
       "      <td>304</td>\n",
       "    </tr>\n",
       "    <tr>\n",
       "      <th>alimony (title)</th>\n",
       "      <td>-0.960295</td>\n",
       "      <td>0.382780</td>\n",
       "      <td>0.000668</td>\n",
       "      <td>1.000000</td>\n",
       "      <td>62</td>\n",
       "    </tr>\n",
       "    <tr>\n",
       "      <th>wife (selftext)</th>\n",
       "      <td>-0.949566</td>\n",
       "      <td>0.386909</td>\n",
       "      <td>0.008419</td>\n",
       "      <td>0.925249</td>\n",
       "      <td>602</td>\n",
       "    </tr>\n",
       "    <tr>\n",
       "      <th>need (title)</th>\n",
       "      <td>-0.930471</td>\n",
       "      <td>0.394368</td>\n",
       "      <td>0.000772</td>\n",
       "      <td>0.518072</td>\n",
       "      <td>885</td>\n",
       "    </tr>\n",
       "    <tr>\n",
       "      <th>house (title)</th>\n",
       "      <td>-0.927071</td>\n",
       "      <td>0.395711</td>\n",
       "      <td>0.000856</td>\n",
       "      <td>0.864407</td>\n",
       "      <td>738</td>\n",
       "    </tr>\n",
       "    <tr>\n",
       "      <th>lawyer (selftext)</th>\n",
       "      <td>-0.880975</td>\n",
       "      <td>0.414379</td>\n",
       "      <td>0.004901</td>\n",
       "      <td>0.992126</td>\n",
       "      <td>254</td>\n",
       "    </tr>\n",
       "  </tbody>\n",
       "</table>\n",
       "</div>"
      ],
      "text/plain": [
       "                      LR coefs   LR odds     RF FI  div_freq  count\n",
       "divorce (title)      -3.276906  0.037745  0.030106  1.000000   1349\n",
       "divorce (selftext)   -2.629223  0.072134  0.040236  0.995552   1349\n",
       "divorced (title)     -1.768574  0.170576  0.003233  0.987500    304\n",
       "ex (title)           -1.754912  0.172923  0.006712  0.988304    532\n",
       "husband (title)      -1.494438  0.224375  0.003224  0.988235    638\n",
       "years (title)        -1.253099  0.285618  0.000979  0.861538   1255\n",
       "custody (title)      -1.173133  0.309396  0.002048  1.000000    233\n",
       "wife (title)         -1.129264  0.323271  0.002843  1.000000    602\n",
       "ex (selftext)        -1.121651  0.325741  0.009057  0.960526    532\n",
       "spouse (title)       -1.095312  0.334435  0.002083  0.968254    160\n",
       "wedding ring (title) -1.076041  0.340943  0.000153  0.400000     13\n",
       "marriage (title)     -1.064246  0.344988  0.001329  0.892857    713\n",
       "lawyer (title)       -1.042297  0.352644  0.001307  1.000000    254\n",
       "know (title)         -1.027247  0.357991  0.001239  0.735294   1785\n",
       "divorced (selftext)  -1.015321  0.362286  0.005061  0.960526    304\n",
       "alimony (title)      -0.960295  0.382780  0.000668  1.000000     62\n",
       "wife (selftext)      -0.949566  0.386909  0.008419  0.925249    602\n",
       "need (title)         -0.930471  0.394368  0.000772  0.518072    885\n",
       "house (title)        -0.927071  0.395711  0.000856  0.864407    738\n",
       "lawyer (selftext)    -0.880975  0.414379  0.004901  0.992126    254"
      ]
     },
     "execution_count": 18,
     "metadata": {},
     "output_type": "execute_result"
    }
   ],
   "source": [
    "top_coefs_div"
   ]
  },
  {
   "cell_type": "markdown",
   "id": "d9c8d30d-01cd-476b-bffa-077f4628a442",
   "metadata": {},
   "source": [
    "This tells us that if a post has divorce in the title, it is 4% as likely to be in the wedding planning reddit as compared to the divorce reddit, holding all other factors constant. The likelihood increases to 7% for divorce in the post selftext. \n",
    "\n",
    "Interestingly, if \"wedding ring\" is in the post title, a post is 34% as likely to be in the wedding planning reddit as compared to the divorce reddit, holding all other factors constant. However, when the phrase is in the title, it is in the divorce reddit only 40% of the time. Part of this anomaly could be explained by the few times the phrase appears in the training data (13 times)."
   ]
  },
  {
   "cell_type": "code",
   "execution_count": 19,
   "id": "0a92e9d2-1e6c-4341-bbe3-590b5a00c61d",
   "metadata": {
    "tags": []
   },
   "outputs": [
    {
     "data": {
      "text/html": [
       "<div>\n",
       "<style scoped>\n",
       "    .dataframe tbody tr th:only-of-type {\n",
       "        vertical-align: middle;\n",
       "    }\n",
       "\n",
       "    .dataframe tbody tr th {\n",
       "        vertical-align: top;\n",
       "    }\n",
       "\n",
       "    .dataframe thead th {\n",
       "        text-align: right;\n",
       "    }\n",
       "</style>\n",
       "<table border=\"1\" class=\"dataframe\">\n",
       "  <thead>\n",
       "    <tr style=\"text-align: right;\">\n",
       "      <th></th>\n",
       "      <th>LR coefs</th>\n",
       "      <th>LR odds</th>\n",
       "      <th>RF FI</th>\n",
       "      <th>div_freq</th>\n",
       "      <th>count</th>\n",
       "    </tr>\n",
       "  </thead>\n",
       "  <tbody>\n",
       "    <tr>\n",
       "      <th>ceremony (title)</th>\n",
       "      <td>1.110191</td>\n",
       "      <td>3.034939</td>\n",
       "      <td>0.001404</td>\n",
       "      <td>0.029851</td>\n",
       "      <td>323</td>\n",
       "    </tr>\n",
       "    <tr>\n",
       "      <th>covid (title)</th>\n",
       "      <td>1.156924</td>\n",
       "      <td>3.180136</td>\n",
       "      <td>0.000733</td>\n",
       "      <td>0.117647</td>\n",
       "      <td>152</td>\n",
       "    </tr>\n",
       "    <tr>\n",
       "      <th>reception (title)</th>\n",
       "      <td>1.165263</td>\n",
       "      <td>3.206766</td>\n",
       "      <td>0.001144</td>\n",
       "      <td>0.000000</td>\n",
       "      <td>230</td>\n",
       "    </tr>\n",
       "    <tr>\n",
       "      <th>ideas (title)</th>\n",
       "      <td>1.168042</td>\n",
       "      <td>3.215689</td>\n",
       "      <td>0.001617</td>\n",
       "      <td>0.000000</td>\n",
       "      <td>217</td>\n",
       "    </tr>\n",
       "    <tr>\n",
       "      <th>honeymoon (title)</th>\n",
       "      <td>1.173079</td>\n",
       "      <td>3.231929</td>\n",
       "      <td>0.000697</td>\n",
       "      <td>0.000000</td>\n",
       "      <td>56</td>\n",
       "    </tr>\n",
       "    <tr>\n",
       "      <th>invite (title)</th>\n",
       "      <td>1.190412</td>\n",
       "      <td>3.288437</td>\n",
       "      <td>0.000978</td>\n",
       "      <td>0.000000</td>\n",
       "      <td>176</td>\n",
       "    </tr>\n",
       "    <tr>\n",
       "      <th>moh (title)</th>\n",
       "      <td>1.202803</td>\n",
       "      <td>3.329437</td>\n",
       "      <td>0.000772</td>\n",
       "      <td>0.000000</td>\n",
       "      <td>105</td>\n",
       "    </tr>\n",
       "    <tr>\n",
       "      <th>planning (title)</th>\n",
       "      <td>1.218939</td>\n",
       "      <td>3.383596</td>\n",
       "      <td>0.001755</td>\n",
       "      <td>0.011628</td>\n",
       "      <td>533</td>\n",
       "    </tr>\n",
       "    <tr>\n",
       "      <th>invitations (title)</th>\n",
       "      <td>1.220057</td>\n",
       "      <td>3.387380</td>\n",
       "      <td>0.000658</td>\n",
       "      <td>0.000000</td>\n",
       "      <td>75</td>\n",
       "    </tr>\n",
       "    <tr>\n",
       "      <th>dress (selftext)</th>\n",
       "      <td>1.238236</td>\n",
       "      <td>3.449524</td>\n",
       "      <td>0.009169</td>\n",
       "      <td>0.010178</td>\n",
       "      <td>393</td>\n",
       "    </tr>\n",
       "    <tr>\n",
       "      <th>bridesmaids (title)</th>\n",
       "      <td>1.264924</td>\n",
       "      <td>3.542822</td>\n",
       "      <td>0.000708</td>\n",
       "      <td>0.000000</td>\n",
       "      <td>180</td>\n",
       "    </tr>\n",
       "    <tr>\n",
       "      <th>fiance (title)</th>\n",
       "      <td>1.281767</td>\n",
       "      <td>3.603002</td>\n",
       "      <td>0.000856</td>\n",
       "      <td>0.083333</td>\n",
       "      <td>414</td>\n",
       "    </tr>\n",
       "    <tr>\n",
       "      <th>party (title)</th>\n",
       "      <td>1.386367</td>\n",
       "      <td>4.000291</td>\n",
       "      <td>0.003084</td>\n",
       "      <td>0.021127</td>\n",
       "      <td>430</td>\n",
       "    </tr>\n",
       "    <tr>\n",
       "      <th>bachelorette (title)</th>\n",
       "      <td>1.568446</td>\n",
       "      <td>4.799184</td>\n",
       "      <td>0.002212</td>\n",
       "      <td>0.000000</td>\n",
       "      <td>103</td>\n",
       "    </tr>\n",
       "    <tr>\n",
       "      <th>venue (title)</th>\n",
       "      <td>1.570253</td>\n",
       "      <td>4.807865</td>\n",
       "      <td>0.001982</td>\n",
       "      <td>0.000000</td>\n",
       "      <td>341</td>\n",
       "    </tr>\n",
       "    <tr>\n",
       "      <th>bridal (title)</th>\n",
       "      <td>1.615437</td>\n",
       "      <td>5.030085</td>\n",
       "      <td>0.002314</td>\n",
       "      <td>0.000000</td>\n",
       "      <td>233</td>\n",
       "    </tr>\n",
       "    <tr>\n",
       "      <th>wedding (selftext)</th>\n",
       "      <td>1.818931</td>\n",
       "      <td>6.165265</td>\n",
       "      <td>0.040938</td>\n",
       "      <td>0.040417</td>\n",
       "      <td>1534</td>\n",
       "    </tr>\n",
       "    <tr>\n",
       "      <th>bridesmaid (title)</th>\n",
       "      <td>2.020628</td>\n",
       "      <td>7.543063</td>\n",
       "      <td>0.002970</td>\n",
       "      <td>0.000000</td>\n",
       "      <td>129</td>\n",
       "    </tr>\n",
       "    <tr>\n",
       "      <th>dress (title)</th>\n",
       "      <td>2.254701</td>\n",
       "      <td>9.532442</td>\n",
       "      <td>0.008068</td>\n",
       "      <td>0.004167</td>\n",
       "      <td>393</td>\n",
       "    </tr>\n",
       "    <tr>\n",
       "      <th>wedding (title)</th>\n",
       "      <td>3.107630</td>\n",
       "      <td>22.367961</td>\n",
       "      <td>0.034973</td>\n",
       "      <td>0.014541</td>\n",
       "      <td>1534</td>\n",
       "    </tr>\n",
       "  </tbody>\n",
       "</table>\n",
       "</div>"
      ],
      "text/plain": [
       "                      LR coefs    LR odds     RF FI  div_freq  count\n",
       "ceremony (title)      1.110191   3.034939  0.001404  0.029851    323\n",
       "covid (title)         1.156924   3.180136  0.000733  0.117647    152\n",
       "reception (title)     1.165263   3.206766  0.001144  0.000000    230\n",
       "ideas (title)         1.168042   3.215689  0.001617  0.000000    217\n",
       "honeymoon (title)     1.173079   3.231929  0.000697  0.000000     56\n",
       "invite (title)        1.190412   3.288437  0.000978  0.000000    176\n",
       "moh (title)           1.202803   3.329437  0.000772  0.000000    105\n",
       "planning (title)      1.218939   3.383596  0.001755  0.011628    533\n",
       "invitations (title)   1.220057   3.387380  0.000658  0.000000     75\n",
       "dress (selftext)      1.238236   3.449524  0.009169  0.010178    393\n",
       "bridesmaids (title)   1.264924   3.542822  0.000708  0.000000    180\n",
       "fiance (title)        1.281767   3.603002  0.000856  0.083333    414\n",
       "party (title)         1.386367   4.000291  0.003084  0.021127    430\n",
       "bachelorette (title)  1.568446   4.799184  0.002212  0.000000    103\n",
       "venue (title)         1.570253   4.807865  0.001982  0.000000    341\n",
       "bridal (title)        1.615437   5.030085  0.002314  0.000000    233\n",
       "wedding (selftext)    1.818931   6.165265  0.040938  0.040417   1534\n",
       "bridesmaid (title)    2.020628   7.543063  0.002970  0.000000    129\n",
       "dress (title)         2.254701   9.532442  0.008068  0.004167    393\n",
       "wedding (title)       3.107630  22.367961  0.034973  0.014541   1534"
      ]
     },
     "execution_count": 19,
     "metadata": {},
     "output_type": "execute_result"
    }
   ],
   "source": [
    "top_coefs_wed"
   ]
  },
  {
   "cell_type": "markdown",
   "id": "a6867c92-f3dd-4286-aecf-df9bb2b82781",
   "metadata": {},
   "source": [
    "This tells us that if a post has wedding in the title, it is 2200% as likely to be in the wedding planning reddit as compared to the divorce reddit, holding all other factors constant. The likelihood decreases to 600% for wedding in the post selftext. This is despite the observation that when the phrase is in the title, it is in the divorce reddit 1.4% of the time. "
   ]
  },
  {
   "cell_type": "code",
   "execution_count": 20,
   "id": "1984e5a0-9966-4fac-9836-ddfbd2591755",
   "metadata": {},
   "outputs": [
    {
     "data": {
      "text/plain": [
       "0.007499239433770193"
      ]
     },
     "execution_count": 20,
     "metadata": {},
     "output_type": "execute_result"
    }
   ],
   "source": [
    "top_coefs_wed.loc['wedding (title)',:]['div_freq']*top_coefs_wed.loc['wedding (title)',:]['count']/(len(y_train == 'divorce')/2)"
   ]
  },
  {
   "cell_type": "markdown",
   "id": "5ebfcb4a-c0f6-4cfc-95c0-8a968ef89ce8",
   "metadata": {},
   "source": [
    "If the lawyer were to filter out words based on whether they had wedding in the title, they would potential miss out on around 0.75% of the time."
   ]
  },
  {
   "cell_type": "code",
   "execution_count": 21,
   "id": "2602b4a9-c5c3-410f-b54e-9c6fd2c16175",
   "metadata": {
    "tags": []
   },
   "outputs": [
    {
     "data": {
      "text/html": [
       "<div>\n",
       "<style scoped>\n",
       "    .dataframe tbody tr th:only-of-type {\n",
       "        vertical-align: middle;\n",
       "    }\n",
       "\n",
       "    .dataframe tbody tr th {\n",
       "        vertical-align: top;\n",
       "    }\n",
       "\n",
       "    .dataframe thead th {\n",
       "        text-align: right;\n",
       "    }\n",
       "</style>\n",
       "<table border=\"1\" class=\"dataframe\">\n",
       "  <thead>\n",
       "    <tr style=\"text-align: right;\">\n",
       "      <th></th>\n",
       "      <th>LR coefs</th>\n",
       "      <th>LR odds</th>\n",
       "      <th>RF FI</th>\n",
       "      <th>div_freq</th>\n",
       "      <th>count</th>\n",
       "    </tr>\n",
       "  </thead>\n",
       "  <tbody>\n",
       "    <tr>\n",
       "      <th>wedding (selftext)</th>\n",
       "      <td>1.818931</td>\n",
       "      <td>6.165265</td>\n",
       "      <td>0.040938</td>\n",
       "      <td>0.040417</td>\n",
       "      <td>1534</td>\n",
       "    </tr>\n",
       "    <tr>\n",
       "      <th>divorce (selftext)</th>\n",
       "      <td>-2.629223</td>\n",
       "      <td>0.072134</td>\n",
       "      <td>0.040236</td>\n",
       "      <td>0.995552</td>\n",
       "      <td>1349</td>\n",
       "    </tr>\n",
       "    <tr>\n",
       "      <th>wedding (title)</th>\n",
       "      <td>3.107630</td>\n",
       "      <td>22.367961</td>\n",
       "      <td>0.034973</td>\n",
       "      <td>0.014541</td>\n",
       "      <td>1534</td>\n",
       "    </tr>\n",
       "    <tr>\n",
       "      <th>divorce (title)</th>\n",
       "      <td>-3.276906</td>\n",
       "      <td>0.037745</td>\n",
       "      <td>0.030106</td>\n",
       "      <td>1.000000</td>\n",
       "      <td>1349</td>\n",
       "    </tr>\n",
       "    <tr>\n",
       "      <th>kids (selftext)</th>\n",
       "      <td>-0.529632</td>\n",
       "      <td>0.588822</td>\n",
       "      <td>0.011040</td>\n",
       "      <td>0.895487</td>\n",
       "      <td>842</td>\n",
       "    </tr>\n",
       "    <tr>\n",
       "      <th>years (selftext)</th>\n",
       "      <td>-0.831579</td>\n",
       "      <td>0.435361</td>\n",
       "      <td>0.009949</td>\n",
       "      <td>0.831076</td>\n",
       "      <td>1255</td>\n",
       "    </tr>\n",
       "    <tr>\n",
       "      <th>marriage (selftext)</th>\n",
       "      <td>-0.800164</td>\n",
       "      <td>0.449255</td>\n",
       "      <td>0.009500</td>\n",
       "      <td>0.922861</td>\n",
       "      <td>713</td>\n",
       "    </tr>\n",
       "    <tr>\n",
       "      <th>dress (selftext)</th>\n",
       "      <td>1.238236</td>\n",
       "      <td>3.449524</td>\n",
       "      <td>0.009169</td>\n",
       "      <td>0.010178</td>\n",
       "      <td>393</td>\n",
       "    </tr>\n",
       "    <tr>\n",
       "      <th>ex (selftext)</th>\n",
       "      <td>-1.121651</td>\n",
       "      <td>0.325741</td>\n",
       "      <td>0.009057</td>\n",
       "      <td>0.960526</td>\n",
       "      <td>532</td>\n",
       "    </tr>\n",
       "    <tr>\n",
       "      <th>wife (selftext)</th>\n",
       "      <td>-0.949566</td>\n",
       "      <td>0.386909</td>\n",
       "      <td>0.008419</td>\n",
       "      <td>0.925249</td>\n",
       "      <td>602</td>\n",
       "    </tr>\n",
       "    <tr>\n",
       "      <th>dress (title)</th>\n",
       "      <td>2.254701</td>\n",
       "      <td>9.532442</td>\n",
       "      <td>0.008068</td>\n",
       "      <td>0.004167</td>\n",
       "      <td>393</td>\n",
       "    </tr>\n",
       "    <tr>\n",
       "      <th>fiance (selftext)</th>\n",
       "      <td>0.973947</td>\n",
       "      <td>2.648378</td>\n",
       "      <td>0.008064</td>\n",
       "      <td>0.028986</td>\n",
       "      <td>414</td>\n",
       "    </tr>\n",
       "    <tr>\n",
       "      <th>life (selftext)</th>\n",
       "      <td>-0.503182</td>\n",
       "      <td>0.604604</td>\n",
       "      <td>0.007048</td>\n",
       "      <td>0.839858</td>\n",
       "      <td>843</td>\n",
       "    </tr>\n",
       "    <tr>\n",
       "      <th>guests (selftext)</th>\n",
       "      <td>0.741002</td>\n",
       "      <td>2.098037</td>\n",
       "      <td>0.006884</td>\n",
       "      <td>0.008671</td>\n",
       "      <td>346</td>\n",
       "    </tr>\n",
       "    <tr>\n",
       "      <th>house (selftext)</th>\n",
       "      <td>-0.822473</td>\n",
       "      <td>0.439344</td>\n",
       "      <td>0.006739</td>\n",
       "      <td>0.880759</td>\n",
       "      <td>738</td>\n",
       "    </tr>\n",
       "    <tr>\n",
       "      <th>husband (selftext)</th>\n",
       "      <td>-0.754444</td>\n",
       "      <td>0.470272</td>\n",
       "      <td>0.006713</td>\n",
       "      <td>0.851097</td>\n",
       "      <td>638</td>\n",
       "    </tr>\n",
       "    <tr>\n",
       "      <th>ex (title)</th>\n",
       "      <td>-1.754912</td>\n",
       "      <td>0.172923</td>\n",
       "      <td>0.006712</td>\n",
       "      <td>0.988304</td>\n",
       "      <td>532</td>\n",
       "    </tr>\n",
       "    <tr>\n",
       "      <th>venue (selftext)</th>\n",
       "      <td>0.750514</td>\n",
       "      <td>2.118088</td>\n",
       "      <td>0.006324</td>\n",
       "      <td>0.000000</td>\n",
       "      <td>341</td>\n",
       "    </tr>\n",
       "    <tr>\n",
       "      <th>planning (selftext)</th>\n",
       "      <td>0.861247</td>\n",
       "      <td>2.366109</td>\n",
       "      <td>0.006280</td>\n",
       "      <td>0.155722</td>\n",
       "      <td>533</td>\n",
       "    </tr>\n",
       "    <tr>\n",
       "      <th>ceremony (selftext)</th>\n",
       "      <td>0.778577</td>\n",
       "      <td>2.178369</td>\n",
       "      <td>0.005751</td>\n",
       "      <td>0.024768</td>\n",
       "      <td>323</td>\n",
       "    </tr>\n",
       "  </tbody>\n",
       "</table>\n",
       "</div>"
      ],
      "text/plain": [
       "                     LR coefs    LR odds     RF FI  div_freq  count\n",
       "wedding (selftext)   1.818931   6.165265  0.040938  0.040417   1534\n",
       "divorce (selftext)  -2.629223   0.072134  0.040236  0.995552   1349\n",
       "wedding (title)      3.107630  22.367961  0.034973  0.014541   1534\n",
       "divorce (title)     -3.276906   0.037745  0.030106  1.000000   1349\n",
       "kids (selftext)     -0.529632   0.588822  0.011040  0.895487    842\n",
       "years (selftext)    -0.831579   0.435361  0.009949  0.831076   1255\n",
       "marriage (selftext) -0.800164   0.449255  0.009500  0.922861    713\n",
       "dress (selftext)     1.238236   3.449524  0.009169  0.010178    393\n",
       "ex (selftext)       -1.121651   0.325741  0.009057  0.960526    532\n",
       "wife (selftext)     -0.949566   0.386909  0.008419  0.925249    602\n",
       "dress (title)        2.254701   9.532442  0.008068  0.004167    393\n",
       "fiance (selftext)    0.973947   2.648378  0.008064  0.028986    414\n",
       "life (selftext)     -0.503182   0.604604  0.007048  0.839858    843\n",
       "guests (selftext)    0.741002   2.098037  0.006884  0.008671    346\n",
       "house (selftext)    -0.822473   0.439344  0.006739  0.880759    738\n",
       "husband (selftext)  -0.754444   0.470272  0.006713  0.851097    638\n",
       "ex (title)          -1.754912   0.172923  0.006712  0.988304    532\n",
       "venue (selftext)     0.750514   2.118088  0.006324  0.000000    341\n",
       "planning (selftext)  0.861247   2.366109  0.006280  0.155722    533\n",
       "ceremony (selftext)  0.778577   2.178369  0.005751  0.024768    323"
      ]
     },
     "execution_count": 21,
     "metadata": {},
     "output_type": "execute_result"
    }
   ],
   "source": [
    "top_feat_imp"
   ]
  },
  {
   "cell_type": "markdown",
   "id": "c94afcf1-496e-4c0f-a1b5-34042fd3b17c",
   "metadata": {},
   "source": [
    "The feature importances give us a general sense of the relevancies for each word. It makes sense that wedding/divorce are the top importances. However, there are some words that do not appear in the previous list for coefficients, which is interesting."
   ]
  },
  {
   "cell_type": "code",
   "execution_count": 22,
   "id": "3d959c81-27ba-4b64-a70d-ff6aebc14f99",
   "metadata": {},
   "outputs": [
    {
     "data": {
      "text/html": [
       "<div>\n",
       "<style scoped>\n",
       "    .dataframe tbody tr th:only-of-type {\n",
       "        vertical-align: middle;\n",
       "    }\n",
       "\n",
       "    .dataframe tbody tr th {\n",
       "        vertical-align: top;\n",
       "    }\n",
       "\n",
       "    .dataframe thead th {\n",
       "        text-align: right;\n",
       "    }\n",
       "</style>\n",
       "<table border=\"1\" class=\"dataframe\">\n",
       "  <thead>\n",
       "    <tr style=\"text-align: right;\">\n",
       "      <th></th>\n",
       "      <th>LR coefs</th>\n",
       "      <th>LR odds</th>\n",
       "      <th>RF FI</th>\n",
       "      <th>div_freq</th>\n",
       "      <th>count</th>\n",
       "    </tr>\n",
       "  </thead>\n",
       "  <tbody>\n",
       "    <tr>\n",
       "      <th>kids (selftext)</th>\n",
       "      <td>-0.529632</td>\n",
       "      <td>0.588822</td>\n",
       "      <td>0.011040</td>\n",
       "      <td>0.895487</td>\n",
       "      <td>842</td>\n",
       "    </tr>\n",
       "    <tr>\n",
       "      <th>years (selftext)</th>\n",
       "      <td>-0.831579</td>\n",
       "      <td>0.435361</td>\n",
       "      <td>0.009949</td>\n",
       "      <td>0.831076</td>\n",
       "      <td>1255</td>\n",
       "    </tr>\n",
       "    <tr>\n",
       "      <th>marriage (selftext)</th>\n",
       "      <td>-0.800164</td>\n",
       "      <td>0.449255</td>\n",
       "      <td>0.009500</td>\n",
       "      <td>0.922861</td>\n",
       "      <td>713</td>\n",
       "    </tr>\n",
       "    <tr>\n",
       "      <th>fiance (selftext)</th>\n",
       "      <td>0.973947</td>\n",
       "      <td>2.648378</td>\n",
       "      <td>0.008064</td>\n",
       "      <td>0.028986</td>\n",
       "      <td>414</td>\n",
       "    </tr>\n",
       "    <tr>\n",
       "      <th>life (selftext)</th>\n",
       "      <td>-0.503182</td>\n",
       "      <td>0.604604</td>\n",
       "      <td>0.007048</td>\n",
       "      <td>0.839858</td>\n",
       "      <td>843</td>\n",
       "    </tr>\n",
       "    <tr>\n",
       "      <th>guests (selftext)</th>\n",
       "      <td>0.741002</td>\n",
       "      <td>2.098037</td>\n",
       "      <td>0.006884</td>\n",
       "      <td>0.008671</td>\n",
       "      <td>346</td>\n",
       "    </tr>\n",
       "    <tr>\n",
       "      <th>house (selftext)</th>\n",
       "      <td>-0.822473</td>\n",
       "      <td>0.439344</td>\n",
       "      <td>0.006739</td>\n",
       "      <td>0.880759</td>\n",
       "      <td>738</td>\n",
       "    </tr>\n",
       "    <tr>\n",
       "      <th>husband (selftext)</th>\n",
       "      <td>-0.754444</td>\n",
       "      <td>0.470272</td>\n",
       "      <td>0.006713</td>\n",
       "      <td>0.851097</td>\n",
       "      <td>638</td>\n",
       "    </tr>\n",
       "    <tr>\n",
       "      <th>venue (selftext)</th>\n",
       "      <td>0.750514</td>\n",
       "      <td>2.118088</td>\n",
       "      <td>0.006324</td>\n",
       "      <td>0.000000</td>\n",
       "      <td>341</td>\n",
       "    </tr>\n",
       "    <tr>\n",
       "      <th>planning (selftext)</th>\n",
       "      <td>0.861247</td>\n",
       "      <td>2.366109</td>\n",
       "      <td>0.006280</td>\n",
       "      <td>0.155722</td>\n",
       "      <td>533</td>\n",
       "    </tr>\n",
       "    <tr>\n",
       "      <th>ceremony (selftext)</th>\n",
       "      <td>0.778577</td>\n",
       "      <td>2.178369</td>\n",
       "      <td>0.005751</td>\n",
       "      <td>0.024768</td>\n",
       "      <td>323</td>\n",
       "    </tr>\n",
       "  </tbody>\n",
       "</table>\n",
       "</div>"
      ],
      "text/plain": [
       "                     LR coefs   LR odds     RF FI  div_freq  count\n",
       "kids (selftext)     -0.529632  0.588822  0.011040  0.895487    842\n",
       "years (selftext)    -0.831579  0.435361  0.009949  0.831076   1255\n",
       "marriage (selftext) -0.800164  0.449255  0.009500  0.922861    713\n",
       "fiance (selftext)    0.973947  2.648378  0.008064  0.028986    414\n",
       "life (selftext)     -0.503182  0.604604  0.007048  0.839858    843\n",
       "guests (selftext)    0.741002  2.098037  0.006884  0.008671    346\n",
       "house (selftext)    -0.822473  0.439344  0.006739  0.880759    738\n",
       "husband (selftext)  -0.754444  0.470272  0.006713  0.851097    638\n",
       "venue (selftext)     0.750514  2.118088  0.006324  0.000000    341\n",
       "planning (selftext)  0.861247  2.366109  0.006280  0.155722    533\n",
       "ceremony (selftext)  0.778577  2.178369  0.005751  0.024768    323"
      ]
     },
     "execution_count": 22,
     "metadata": {},
     "output_type": "execute_result"
    }
   ],
   "source": [
    "# Let's look at words that are not top coefficients for wedding and divorce, but are top feature importances\n",
    "top_feat_imp.loc[[word for word in top_feat_imp.index if (word not in top_coefs_wed.index) & (word not in top_coefs_div.index)],:]"
   ]
  },
  {
   "cell_type": "markdown",
   "id": "f2f45e7d-3cc1-4fe5-b149-e2a120b537f7",
   "metadata": {},
   "source": [
    "#### Misclassifications"
   ]
  },
  {
   "cell_type": "code",
   "execution_count": 26,
   "id": "0f6c2e7b-60e5-4d7f-98e1-92687c0139aa",
   "metadata": {},
   "outputs": [],
   "source": [
    "missed_divorce = misclassifications[(misclassifications['true class'] != misclassifications['vr1 pred class']) & (misclassifications['true class'] == 'Divorce')][['selftext','title']]"
   ]
  },
  {
   "cell_type": "code",
   "execution_count": 27,
   "id": "125c0e69-e573-44c3-a119-d1cac041b54c",
   "metadata": {},
   "outputs": [
    {
     "data": {
      "text/plain": [
       "'Can you give me a checklist of red flags to look out for ? Both during and before you get with a person..'"
      ]
     },
     "execution_count": 27,
     "metadata": {},
     "output_type": "execute_result"
    }
   ],
   "source": [
    "missed_divorce.loc[85,'title']"
   ]
  },
  {
   "cell_type": "code",
   "execution_count": 25,
   "id": "1a46372d-dc3d-42c5-b736-6835ec509260",
   "metadata": {},
   "outputs": [
    {
     "name": "stdout",
     "output_type": "stream",
     "text": [
      "Index 85: Can you give me a checklist of red flags to look out for ? Both during and before you get with a person..\n",
      "Post: Going through something super unexpected, and I feel like an idiot.. :(\n",
      "------\n",
      "Index 990: NINE days and counting\n",
      "Post: SOCK DAY 21/03/2022, 3PM.\n",
      "It's nearly time!\n",
      "------\n",
      "Index 1040: Dads how often do you talk to your kids? its rhetorical the answer is not enough.\n",
      "Post: [removed]\n",
      "------\n",
      "Index 1077: Discovery process Photos\n",
      "Post: Those who have went threw the Discovery process or Trial. How did you decide what photos to send or use?? I have well over 300 but really do not want to print them all off since it’s all out of my pocket for ink and paper.\n",
      "------\n",
      "Index 1113: I live in Ohio and we're supposed to use family wizard to communicate ,\n",
      "Post: how long do I have time wise to reply back?\n",
      "------\n",
      "Index 1182: Name Change\n",
      "Post: I hate my maiden name because my dad abandoned me when I was a kid.\n",
      "\n",
      "I actually like my married name but for obvious reasons, no matter how much I like the sound of it I can't see myself keeping that tie to someone that I have only ill memories of.\n",
      "\n",
      "I was thinking I would take my mom's maiden name.  My mom's side of the family is the closet family to me, and we're Sicilian so I would be proud to carry that name.\n",
      "\n",
      "Anyone done this?  Thoughts?\n",
      "\n",
      "I'm not sure what I'll do but I am thinking this...\n",
      "------\n",
      "Index 1262: Bit of a rant about Beta/alpha\n",
      "Post: [removed]\n",
      "------\n",
      "Index 1288: Has anyone used Worthy to sell their rings?\n",
      "Post: I have my band and engagement ring to sell, they’re appraised at around 10k together. I know I’m only going to get a fraction of that I’m just of course looking for the easiest way to get the most I can. Worthy seems pretty safe and hassle free just wondering if anyone has used them 💍\n",
      "------\n",
      "Index 1766: any companies that will help consolidate my credit card debt ?\n",
      "Post: [removed]\n",
      "------\n",
      "Index 1940: how it began, ended, and the unknowable future\n",
      "Post: [removed]\n",
      "------\n"
     ]
    }
   ],
   "source": [
    "for index,title,post in zip(['title'].keys(),['title'],['selftext']):\n",
    "    print(f'Index {index}: {title}')\n",
    "    print(f'Post: {post}\\n------')"
   ]
  },
  {
   "cell_type": "code",
   "execution_count": null,
   "id": "3ce0b313-6cfd-4256-a69a-cfb1b25fcb06",
   "metadata": {},
   "outputs": [],
   "source": []
  },
  {
   "cell_type": "code",
   "execution_count": null,
   "id": "24112ac0-406d-4e5c-8f78-0ffd1c5485c4",
   "metadata": {},
   "outputs": [],
   "source": []
  },
  {
   "cell_type": "markdown",
   "id": "1de71503-2860-4d11-99c9-252adf386908",
   "metadata": {},
   "source": [
    "### Conclusions and Recommendations"
   ]
  },
  {
   "cell_type": "markdown",
   "id": "c6d61b75-2424-4fa9-aceb-9a3f496a502e",
   "metadata": {},
   "source": [
    "The production model is ready to be deployed as a model to separate out wedding planning posts from divorce posts. \n",
    "\n",
    "The model will work on reddit posts with 97.4% accuracy This ensures the lawyer will not waste precious advertising dollars on wedding planners and potentially annoy the wedding planners, who might eventually become clients in a few years. \n",
    "\n",
    "Additionally, the model correctly classifies divorce posts 99% of the time, so the lawyer is advertising to 99% of the potential clients, only missing 1%. \n",
    "\n",
    "The next steps for the lawyer would be to share this technical report with her advertising coordinators/partners so they can implement this modeling pipeline to filter out wedding planning related posts. The advertising partners may wish to collect more data to further improve the model and focus in on key coefficients that seem to be overly low/high even though the word appears frequently in both divorce and wedding planning posts."
   ]
  }
 ],
 "metadata": {
  "kernelspec": {
   "display_name": "Python 3 (ipykernel)",
   "language": "python",
   "name": "python3"
  },
  "language_info": {
   "codemirror_mode": {
    "name": "ipython",
    "version": 3
   },
   "file_extension": ".py",
   "mimetype": "text/x-python",
   "name": "python",
   "nbconvert_exporter": "python",
   "pygments_lexer": "ipython3",
   "version": "3.8.8"
  }
 },
 "nbformat": 4,
 "nbformat_minor": 5
}
