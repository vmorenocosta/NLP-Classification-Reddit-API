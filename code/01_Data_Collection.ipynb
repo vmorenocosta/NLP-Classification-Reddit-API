{
 "cells": [
  {
   "cell_type": "markdown",
   "id": "daa43402-084e-4a2c-b164-982fc7c7965d",
   "metadata": {},
   "source": [
    "# 1. Data Collection\n",
    "\n",
    "This notebook collects and prepares posts from two subreddits using [Pushshift's API](https://github.com/pushshift/api). \n",
    "\n",
    "#### Data Collection\n",
    "\n",
    "- Was enough data gathered to generate a significant result?\n",
    "- Was data collected that was useful and relevant to the project?\n",
    "- Was data collection and storage optimized through custom functions, pipelines, and/or automation?\n",
    "- Was thought given to the server receiving the requests such as considering number of requests per second?\n",
    "\n",
    "#### Data Cleaning and EDA\n",
    "\n",
    "- Are missing values imputed/handled appropriately?\n",
    "- Are distributions examined and described?\n",
    "- Are outliers identified and addressed?\n",
    "- Are appropriate summary statistics provided?\n",
    "- Are steps taken during data cleaning and EDA framed appropriately?\n",
    "- Does the student address whether or not they are likely to be able to answer their problem statement with the provided data given what they've discovered during EDA?"
   ]
  },
  {
   "cell_type": "code",
   "execution_count": 2,
   "id": "96fb561a-dd4e-489f-a232-b3e2f8fc2d29",
   "metadata": {},
   "outputs": [],
   "source": [
    "# imports\n",
    "import requests\n",
    "import pandas as pd\n",
    "import time"
   ]
  },
  {
   "cell_type": "markdown",
   "id": "435fc780-d2ac-4d09-9025-98912f39af59",
   "metadata": {
    "tags": []
   },
   "source": [
    "#### Collect and save data for r/weddingplanning and r/divorce"
   ]
  },
  {
   "cell_type": "code",
   "execution_count": 26,
   "id": "cef2d4a6-5370-4f55-86df-e5f212a5a527",
   "metadata": {},
   "outputs": [],
   "source": [
    "def collect_posts(subreddit):\n",
    "    \"\"\" This function pulls down data from a given subreddit using the Pushshift API and returns the \n",
    "    data as a Pandas DataFrame.\n",
    "    \n",
    "    args:\n",
    "        subreddit (str): name of a subreddit\n",
    "    \n",
    "    return:\n",
    "        df (Pandas DataFrame): information from the 4000 most recent posts with text before Thursday, April 21, 2022 8:55:21 PM\n",
    "    \"\"\"\n",
    "\n",
    "    url = 'https://api.pushshift.io/reddit/search/submission'\n",
    "    \n",
    "    num_posts = 0\n",
    "    min_date = 1650599721\n",
    "    for x in range(40):\n",
    "        params = {\n",
    "            'subreddit':subreddit,\n",
    "            'size':100,\n",
    "            'is_self':True,\n",
    "            'meta_data':True,\n",
    "            'before':min_date\n",
    "        }\n",
    "        res = requests.get(url, params)\n",
    "        if res.status_code == 200:\n",
    "            posts = pd.DataFrame(res.json()['data'])\n",
    "            min_date = posts['created_utc'].min()\n",
    "            if x == 0:\n",
    "                df = posts\n",
    "            else:\n",
    "                df = pd.concat([df,posts],)\n",
    "            time.sleep(1)\n",
    "        else:\n",
    "            print('request_failed')\n",
    "            return df\n",
    "    return df"
   ]
  },
  {
   "cell_type": "code",
   "execution_count": 25,
   "id": "83091117-3979-454c-9e9e-4ce0c90b4ca0",
   "metadata": {},
   "outputs": [],
   "source": [
    "# These function calls were used to collect and save the data\n",
    "\n",
    "# df_wedding = collect_posts('weddingplanning')\n",
    "\n",
    "# df_wedding.to_csv('../datasets/wedding.csv')\n",
    "\n",
    "# df_divorce = collect_posts('divorce')\n",
    "\n",
    "# df_divorce.to_csv('../datasets/divorce.csv')"
   ]
  },
  {
   "cell_type": "markdown",
   "id": "ef18158c-c9e8-41da-85bb-8d1990dab3be",
   "metadata": {},
   "source": [
    "#### Exploratory Data Analysis"
   ]
  },
  {
   "cell_type": "code",
   "execution_count": 27,
   "id": "9bb012d8-72ed-463d-a49a-5678b5ceb555",
   "metadata": {},
   "outputs": [],
   "source": [
    "# Import data frames already pulled from API\n",
    "\n",
    "df_wedding = pd.read_csv('../datasets/wedding.csv')\n",
    "\n",
    "df_divorce = pd.read_csv('../datasets/divorce.csv')"
   ]
  },
  {
   "cell_type": "code",
   "execution_count": 15,
   "id": "1412e376-2529-4598-bcd5-9ede1d6f57ed",
   "metadata": {},
   "outputs": [
    {
     "data": {
      "text/plain": [
       "(4000, 78)"
      ]
     },
     "execution_count": 15,
     "metadata": {},
     "output_type": "execute_result"
    }
   ],
   "source": [
    "df_wedding.shape"
   ]
  },
  {
   "cell_type": "code",
   "execution_count": 23,
   "id": "bd2718d4-f70c-48bc-837a-75c9dfb0adc6",
   "metadata": {},
   "outputs": [
    {
     "name": "stdout",
     "output_type": "stream",
     "text": [
      "<class 'pandas.core.frame.DataFrame'>\n",
      "Int64Index: 4000 entries, 0 to 99\n",
      "Data columns (total 78 columns):\n",
      " #   Column                         Non-Null Count  Dtype  \n",
      "---  ------                         --------------  -----  \n",
      " 0   all_awardings                  4000 non-null   object \n",
      " 1   allow_live_comments            4000 non-null   bool   \n",
      " 2   author                         4000 non-null   object \n",
      " 3   author_flair_css_class         213 non-null    object \n",
      " 4   author_flair_richtext          3988 non-null   object \n",
      " 5   author_flair_text              213 non-null    object \n",
      " 6   author_flair_type              3988 non-null   object \n",
      " 7   author_fullname                3988 non-null   object \n",
      " 8   author_is_blocked              4000 non-null   bool   \n",
      " 9   author_patreon_flair           3988 non-null   object \n",
      " 10  author_premium                 3988 non-null   object \n",
      " 11  awarders                       4000 non-null   object \n",
      " 12  can_mod_post                   4000 non-null   bool   \n",
      " 13  contest_mode                   4000 non-null   bool   \n",
      " 14  created_utc                    4000 non-null   int64  \n",
      " 15  domain                         4000 non-null   object \n",
      " 16  full_link                      4000 non-null   object \n",
      " 17  gildings                       4000 non-null   object \n",
      " 18  id                             4000 non-null   object \n",
      " 19  is_created_from_ads_ui         4000 non-null   bool   \n",
      " 20  is_crosspostable               4000 non-null   bool   \n",
      " 21  is_meta                        4000 non-null   bool   \n",
      " 22  is_original_content            4000 non-null   bool   \n",
      " 23  is_reddit_media_domain         4000 non-null   bool   \n",
      " 24  is_robot_indexable             4000 non-null   bool   \n",
      " 25  is_self                        4000 non-null   bool   \n",
      " 26  is_video                       4000 non-null   bool   \n",
      " 27  link_flair_background_color    4000 non-null   object \n",
      " 28  link_flair_css_class           3980 non-null   object \n",
      " 29  link_flair_richtext            4000 non-null   object \n",
      " 30  link_flair_template_id         3948 non-null   object \n",
      " 31  link_flair_text                3993 non-null   object \n",
      " 32  link_flair_text_color          4000 non-null   object \n",
      " 33  link_flair_type                4000 non-null   object \n",
      " 34  locked                         4000 non-null   bool   \n",
      " 35  media_only                     4000 non-null   bool   \n",
      " 36  no_follow                      4000 non-null   bool   \n",
      " 37  num_comments                   4000 non-null   int64  \n",
      " 38  num_crossposts                 4000 non-null   int64  \n",
      " 39  over_18                        4000 non-null   bool   \n",
      " 40  parent_whitelist_status        4000 non-null   object \n",
      " 41  permalink                      4000 non-null   object \n",
      " 42  pinned                         4000 non-null   bool   \n",
      " 43  pwls                           4000 non-null   int64  \n",
      " 44  retrieved_on                   4000 non-null   int64  \n",
      " 45  score                          4000 non-null   int64  \n",
      " 46  selftext                       3997 non-null   object \n",
      " 47  send_replies                   4000 non-null   bool   \n",
      " 48  spoiler                        4000 non-null   bool   \n",
      " 49  stickied                       4000 non-null   bool   \n",
      " 50  subreddit                      4000 non-null   object \n",
      " 51  subreddit_id                   4000 non-null   object \n",
      " 52  subreddit_subscribers          4000 non-null   int64  \n",
      " 53  subreddit_type                 4000 non-null   object \n",
      " 54  thumbnail                      4000 non-null   object \n",
      " 55  title                          4000 non-null   object \n",
      " 56  total_awards_received          4000 non-null   int64  \n",
      " 57  treatment_tags                 4000 non-null   object \n",
      " 58  upvote_ratio                   4000 non-null   float64\n",
      " 59  url                            4000 non-null   object \n",
      " 60  whitelist_status               4000 non-null   object \n",
      " 61  wls                            4000 non-null   int64  \n",
      " 62  removed_by_category            692 non-null    object \n",
      " 63  author_flair_template_id       212 non-null    object \n",
      " 64  author_flair_text_color        238 non-null    object \n",
      " 65  author_cakeday                 13 non-null     object \n",
      " 66  poll_data                      66 non-null     object \n",
      " 67  media_metadata                 31 non-null     object \n",
      " 68  thumbnail_height               45 non-null     float64\n",
      " 69  thumbnail_width                45 non-null     float64\n",
      " 70  suggested_sort                 44 non-null     object \n",
      " 71  post_hint                      120 non-null    object \n",
      " 72  preview                        120 non-null    object \n",
      " 73  author_flair_background_color  26 non-null     object \n",
      " 74  banned_by                      3 non-null      object \n",
      " 75  edited                         5 non-null      float64\n",
      " 76  call_to_action                 2 non-null      object \n",
      " 77  category                       2 non-null      object \n",
      "dtypes: bool(20), float64(4), int64(9), object(45)\n",
      "memory usage: 1.9+ MB\n"
     ]
    }
   ],
   "source": [
    "df_wedding.info()"
   ]
  },
  {
   "cell_type": "code",
   "execution_count": 28,
   "id": "087cfd9f-9205-48cc-ae58-b9f89610ddcd",
   "metadata": {},
   "outputs": [
    {
     "data": {
      "text/plain": [
       "Unnamed: 0                          0\n",
       "all_awardings                       0\n",
       "allow_live_comments                 0\n",
       "author                              0\n",
       "author_flair_css_class           3787\n",
       "                                 ... \n",
       "author_flair_background_color    4000\n",
       "banned_by                        3997\n",
       "edited                           3995\n",
       "call_to_action                   4000\n",
       "category                         4000\n",
       "Length: 79, dtype: int64"
      ]
     },
     "execution_count": 28,
     "metadata": {},
     "output_type": "execute_result"
    }
   ],
   "source": [
    "df_wedding.isna().sum()"
   ]
  },
  {
   "cell_type": "code",
   "execution_count": 16,
   "id": "44f383c5-d03a-408e-8bba-7aa394c96262",
   "metadata": {},
   "outputs": [
    {
     "data": {
      "text/html": [
       "<div>\n",
       "<style scoped>\n",
       "    .dataframe tbody tr th:only-of-type {\n",
       "        vertical-align: middle;\n",
       "    }\n",
       "\n",
       "    .dataframe tbody tr th {\n",
       "        vertical-align: top;\n",
       "    }\n",
       "\n",
       "    .dataframe thead th {\n",
       "        text-align: right;\n",
       "    }\n",
       "</style>\n",
       "<table border=\"1\" class=\"dataframe\">\n",
       "  <thead>\n",
       "    <tr style=\"text-align: right;\">\n",
       "      <th></th>\n",
       "      <th>subreddit</th>\n",
       "      <th>selftext</th>\n",
       "      <th>title</th>\n",
       "    </tr>\n",
       "  </thead>\n",
       "  <tbody>\n",
       "    <tr>\n",
       "      <th>0</th>\n",
       "      <td>weddingplanning</td>\n",
       "      <td>Hello everyone! I’m wondering if it’s common f...</td>\n",
       "      <td>Requiring guest contact info to confirm a rehe...</td>\n",
       "    </tr>\n",
       "    <tr>\n",
       "      <th>1</th>\n",
       "      <td>weddingplanning</td>\n",
       "      <td>[removed]</td>\n",
       "      <td>Officiant Arriving in Town the Day of Wedding ...</td>\n",
       "    </tr>\n",
       "    <tr>\n",
       "      <th>2</th>\n",
       "      <td>weddingplanning</td>\n",
       "      <td>This is one of those things I've never put muc...</td>\n",
       "      <td>How do you find a good officiant?</td>\n",
       "    </tr>\n",
       "    <tr>\n",
       "      <th>3</th>\n",
       "      <td>weddingplanning</td>\n",
       "      <td>We’re in the process of booking our May 2023 w...</td>\n",
       "      <td>Each time we hire a vendor we really only have...</td>\n",
       "    </tr>\n",
       "    <tr>\n",
       "      <th>4</th>\n",
       "      <td>weddingplanning</td>\n",
       "      <td>I love reading y’alls vents so here’s mine. An...</td>\n",
       "      <td>Vent: So many small things</td>\n",
       "    </tr>\n",
       "  </tbody>\n",
       "</table>\n",
       "</div>"
      ],
      "text/plain": [
       "         subreddit                                           selftext  \\\n",
       "0  weddingplanning  Hello everyone! I’m wondering if it’s common f...   \n",
       "1  weddingplanning                                          [removed]   \n",
       "2  weddingplanning  This is one of those things I've never put muc...   \n",
       "3  weddingplanning  We’re in the process of booking our May 2023 w...   \n",
       "4  weddingplanning  I love reading y’alls vents so here’s mine. An...   \n",
       "\n",
       "                                               title  \n",
       "0  Requiring guest contact info to confirm a rehe...  \n",
       "1  Officiant Arriving in Town the Day of Wedding ...  \n",
       "2                  How do you find a good officiant?  \n",
       "3  Each time we hire a vendor we really only have...  \n",
       "4                         Vent: So many small things  "
      ]
     },
     "execution_count": 16,
     "metadata": {},
     "output_type": "execute_result"
    }
   ],
   "source": [
    "df_wedding[['subreddit','selftext','title']].head()"
   ]
  },
  {
   "cell_type": "code",
   "execution_count": 18,
   "id": "c5a9a94e-472e-4871-9420-e3a4bd3be738",
   "metadata": {},
   "outputs": [
    {
     "data": {
      "text/plain": [
       "(3999, 72)"
      ]
     },
     "execution_count": 18,
     "metadata": {},
     "output_type": "execute_result"
    }
   ],
   "source": [
    "df_divorce.shape"
   ]
  },
  {
   "cell_type": "code",
   "execution_count": 19,
   "id": "74ad7988-5443-4337-a19e-eb97feb60dcf",
   "metadata": {},
   "outputs": [
    {
     "data": {
      "text/html": [
       "<div>\n",
       "<style scoped>\n",
       "    .dataframe tbody tr th:only-of-type {\n",
       "        vertical-align: middle;\n",
       "    }\n",
       "\n",
       "    .dataframe tbody tr th {\n",
       "        vertical-align: top;\n",
       "    }\n",
       "\n",
       "    .dataframe thead th {\n",
       "        text-align: right;\n",
       "    }\n",
       "</style>\n",
       "<table border=\"1\" class=\"dataframe\">\n",
       "  <thead>\n",
       "    <tr style=\"text-align: right;\">\n",
       "      <th></th>\n",
       "      <th>subreddit</th>\n",
       "      <th>selftext</th>\n",
       "      <th>title</th>\n",
       "    </tr>\n",
       "  </thead>\n",
       "  <tbody>\n",
       "    <tr>\n",
       "      <th>0</th>\n",
       "      <td>Divorce</td>\n",
       "      <td>I can’t handle it, the thought of not being hi...</td>\n",
       "      <td>How to cope</td>\n",
       "    </tr>\n",
       "    <tr>\n",
       "      <th>1</th>\n",
       "      <td>Divorce</td>\n",
       "      <td>If my child has done something that requires p...</td>\n",
       "      <td>Using different punishments for your children ...</td>\n",
       "    </tr>\n",
       "    <tr>\n",
       "      <th>2</th>\n",
       "      <td>Divorce</td>\n",
       "      <td>I think sometimes it’s easy to get caught up i...</td>\n",
       "      <td>What is something you’re looking forward to?</td>\n",
       "    </tr>\n",
       "    <tr>\n",
       "      <th>3</th>\n",
       "      <td>Divorce</td>\n",
       "      <td>My wife and I have a pretty comfortable life b...</td>\n",
       "      <td>So... when do you know it's time to move on?</td>\n",
       "    </tr>\n",
       "    <tr>\n",
       "      <th>4</th>\n",
       "      <td>Divorce</td>\n",
       "      <td>Young married couple, no kids, no house (we re...</td>\n",
       "      <td>Could this be relatively simple?</td>\n",
       "    </tr>\n",
       "  </tbody>\n",
       "</table>\n",
       "</div>"
      ],
      "text/plain": [
       "  subreddit                                           selftext  \\\n",
       "0   Divorce  I can’t handle it, the thought of not being hi...   \n",
       "1   Divorce  If my child has done something that requires p...   \n",
       "2   Divorce  I think sometimes it’s easy to get caught up i...   \n",
       "3   Divorce  My wife and I have a pretty comfortable life b...   \n",
       "4   Divorce  Young married couple, no kids, no house (we re...   \n",
       "\n",
       "                                               title  \n",
       "0                                        How to cope  \n",
       "1  Using different punishments for your children ...  \n",
       "2       What is something you’re looking forward to?  \n",
       "3       So... when do you know it's time to move on?  \n",
       "4                   Could this be relatively simple?  "
      ]
     },
     "execution_count": 19,
     "metadata": {},
     "output_type": "execute_result"
    }
   ],
   "source": [
    "df_divorce[['subreddit','selftext','title']].head()"
   ]
  },
  {
   "cell_type": "code",
   "execution_count": 24,
   "id": "502a49de-2170-4097-b0e6-6d863a5ec3f4",
   "metadata": {},
   "outputs": [
    {
     "name": "stdout",
     "output_type": "stream",
     "text": [
      "<class 'pandas.core.frame.DataFrame'>\n",
      "Int64Index: 3999 entries, 0 to 99\n",
      "Data columns (total 72 columns):\n",
      " #   Column                         Non-Null Count  Dtype  \n",
      "---  ------                         --------------  -----  \n",
      " 0   all_awardings                  3999 non-null   object \n",
      " 1   allow_live_comments            3999 non-null   bool   \n",
      " 2   author                         3999 non-null   object \n",
      " 3   author_flair_css_class         0 non-null      object \n",
      " 4   author_flair_richtext          3997 non-null   object \n",
      " 5   author_flair_text              29 non-null     object \n",
      " 6   author_flair_type              3997 non-null   object \n",
      " 7   author_fullname                3997 non-null   object \n",
      " 8   author_is_blocked              3999 non-null   bool   \n",
      " 9   author_patreon_flair           3997 non-null   object \n",
      " 10  author_premium                 3997 non-null   object \n",
      " 11  awarders                       3999 non-null   object \n",
      " 12  can_mod_post                   3999 non-null   bool   \n",
      " 13  contest_mode                   3999 non-null   bool   \n",
      " 14  created_utc                    3999 non-null   int64  \n",
      " 15  domain                         3999 non-null   object \n",
      " 16  full_link                      3999 non-null   object \n",
      " 17  gildings                       3999 non-null   object \n",
      " 18  id                             3999 non-null   object \n",
      " 19  is_created_from_ads_ui         3999 non-null   bool   \n",
      " 20  is_crosspostable               3999 non-null   bool   \n",
      " 21  is_meta                        3999 non-null   bool   \n",
      " 22  is_original_content            3999 non-null   bool   \n",
      " 23  is_reddit_media_domain         3999 non-null   bool   \n",
      " 24  is_robot_indexable             3999 non-null   bool   \n",
      " 25  is_self                        3999 non-null   bool   \n",
      " 26  is_video                       3999 non-null   bool   \n",
      " 27  link_flair_background_color    3999 non-null   object \n",
      " 28  link_flair_richtext            3999 non-null   object \n",
      " 29  link_flair_template_id         3997 non-null   object \n",
      " 30  link_flair_text                3997 non-null   object \n",
      " 31  link_flair_text_color          3999 non-null   object \n",
      " 32  link_flair_type                3999 non-null   object \n",
      " 33  locked                         3999 non-null   bool   \n",
      " 34  media_only                     3999 non-null   bool   \n",
      " 35  no_follow                      3999 non-null   bool   \n",
      " 36  num_comments                   3999 non-null   int64  \n",
      " 37  num_crossposts                 3999 non-null   int64  \n",
      " 38  over_18                        3999 non-null   bool   \n",
      " 39  parent_whitelist_status        3999 non-null   object \n",
      " 40  permalink                      3999 non-null   object \n",
      " 41  pinned                         3999 non-null   bool   \n",
      " 42  pwls                           3999 non-null   int64  \n",
      " 43  retrieved_on                   3999 non-null   int64  \n",
      " 44  score                          3999 non-null   int64  \n",
      " 45  selftext                       3999 non-null   object \n",
      " 46  send_replies                   3999 non-null   bool   \n",
      " 47  spoiler                        3999 non-null   bool   \n",
      " 48  stickied                       3999 non-null   bool   \n",
      " 49  subreddit                      3999 non-null   object \n",
      " 50  subreddit_id                   3999 non-null   object \n",
      " 51  subreddit_subscribers          3999 non-null   int64  \n",
      " 52  subreddit_type                 3999 non-null   object \n",
      " 53  thumbnail                      3999 non-null   object \n",
      " 54  title                          3999 non-null   object \n",
      " 55  total_awards_received          3999 non-null   int64  \n",
      " 56  treatment_tags                 3999 non-null   object \n",
      " 57  upvote_ratio                   3999 non-null   float64\n",
      " 58  url                            3999 non-null   object \n",
      " 59  whitelist_status               3999 non-null   object \n",
      " 60  wls                            3999 non-null   int64  \n",
      " 61  removed_by_category            491 non-null    object \n",
      " 62  post_hint                      41 non-null     object \n",
      " 63  preview                        41 non-null     object \n",
      " 64  call_to_action                 3 non-null      object \n",
      " 65  category                       3 non-null      object \n",
      " 66  edited                         4 non-null      float64\n",
      " 67  author_cakeday                 7 non-null      object \n",
      " 68  author_flair_background_color  31 non-null     object \n",
      " 69  author_flair_template_id       27 non-null     object \n",
      " 70  author_flair_text_color        31 non-null     object \n",
      " 71  distinguished                  2 non-null      object \n",
      "dtypes: bool(20), float64(2), int64(9), object(41)\n",
      "memory usage: 1.7+ MB\n"
     ]
    }
   ],
   "source": [
    "df_divorce.info()"
   ]
  },
  {
   "cell_type": "code",
   "execution_count": null,
   "id": "e7ff13c7-ebcd-4578-bf35-0214fdf54e6a",
   "metadata": {},
   "outputs": [],
   "source": []
  }
 ],
 "metadata": {
  "kernelspec": {
   "display_name": "Python 3 (ipykernel)",
   "language": "python",
   "name": "python3"
  },
  "language_info": {
   "codemirror_mode": {
    "name": "ipython",
    "version": 3
   },
   "file_extension": ".py",
   "mimetype": "text/x-python",
   "name": "python",
   "nbconvert_exporter": "python",
   "pygments_lexer": "ipython3",
   "version": "3.8.8"
  }
 },
 "nbformat": 4,
 "nbformat_minor": 5
}
