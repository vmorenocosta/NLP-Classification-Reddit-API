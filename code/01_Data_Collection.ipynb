{
 "cells": [
  {
   "cell_type": "markdown",
   "id": "eece6b8f-fbb2-4bd4-9488-3ce519e87d59",
   "metadata": {},
   "source": [
    "# 1. Data Collection"
   ]
  },
  {
   "cell_type": "markdown",
   "id": "dfea223e-8651-4c73-b8b9-9cde8ed8c9ec",
   "metadata": {},
   "source": [
    "This notebook collects and prepares posts from two subreddits using [Pushshift's API](https://github.com/pushshift/api). "
   ]
  },
  {
   "cell_type": "code",
   "execution_count": 89,
   "id": "96fb561a-dd4e-489f-a232-b3e2f8fc2d29",
   "metadata": {},
   "outputs": [],
   "source": [
    "# imports\n",
    "import requests\n",
    "import pandas as pd\n",
    "import time"
   ]
  },
  {
   "cell_type": "code",
   "execution_count": 90,
   "id": "2b1bab77-0991-4df6-a78b-dfab9cd2c86f",
   "metadata": {},
   "outputs": [],
   "source": [
    "url = 'https://api.pushshift.io/reddit/search/submission'"
   ]
  },
  {
   "cell_type": "code",
   "execution_count": 91,
   "id": "9c152664-dad7-4110-bbf8-b0ba10f43669",
   "metadata": {},
   "outputs": [],
   "source": [
    "params_w = {\n",
    "        'subreddit':'weddingplanning',\n",
    "        'size':100,\n",
    "        'is_self':True,\n",
    "        'meta_data':True\n",
    "}\n",
    "\n",
    "params_d = {\n",
    "    'subreddit':'divorce',\n",
    "    'size':100\n",
    "}"
   ]
  },
  {
   "cell_type": "code",
   "execution_count": 147,
   "id": "cef2d4a6-5370-4f55-86df-e5f212a5a527",
   "metadata": {},
   "outputs": [],
   "source": [
    "def collect_posts(subreddit):\n",
    "    url = 'https://api.pushshift.io/reddit/search/submission'\n",
    "    \n",
    "    num_posts = 0\n",
    "    min_date = 1650599721\n",
    "    for x in range(30):\n",
    "        params = {\n",
    "            'subreddit':subreddit,\n",
    "            'size':100,\n",
    "            'is_self':True,\n",
    "            'meta_data':True,\n",
    "            'before':min_date\n",
    "        }\n",
    "        res = requests.get(url, params)\n",
    "        if res.status_code == 200:\n",
    "            posts = pd.DataFrame(res.json()['data'])\n",
    "            min_date = posts['created_utc'].min()\n",
    "            if x == 0:\n",
    "                df = posts\n",
    "            else:\n",
    "                df = pd.concat([df,posts],)\n",
    "            time.sleep(0.5)\n",
    "        else:\n",
    "            print('request_failed')\n",
    "            return\n",
    "    return df"
   ]
  },
  {
   "cell_type": "code",
   "execution_count": 148,
   "id": "7b0af739-a2dd-474a-b5e5-215b09af1c19",
   "metadata": {},
   "outputs": [],
   "source": [
    "df_wedding = collect_posts('weddingplanning')"
   ]
  },
  {
   "cell_type": "code",
   "execution_count": 149,
   "id": "1412e376-2529-4598-bcd5-9ede1d6f57ed",
   "metadata": {},
   "outputs": [
    {
     "data": {
      "text/plain": [
       "(3000, 78)"
      ]
     },
     "execution_count": 149,
     "metadata": {},
     "output_type": "execute_result"
    }
   ],
   "source": [
    "df_wedding.shape"
   ]
  },
  {
   "cell_type": "code",
   "execution_count": 150,
   "id": "44f383c5-d03a-408e-8bba-7aa394c96262",
   "metadata": {},
   "outputs": [
    {
     "data": {
      "text/html": [
       "<div>\n",
       "<style scoped>\n",
       "    .dataframe tbody tr th:only-of-type {\n",
       "        vertical-align: middle;\n",
       "    }\n",
       "\n",
       "    .dataframe tbody tr th {\n",
       "        vertical-align: top;\n",
       "    }\n",
       "\n",
       "    .dataframe thead th {\n",
       "        text-align: right;\n",
       "    }\n",
       "</style>\n",
       "<table border=\"1\" class=\"dataframe\">\n",
       "  <thead>\n",
       "    <tr style=\"text-align: right;\">\n",
       "      <th></th>\n",
       "      <th>subreddit</th>\n",
       "      <th>selftext</th>\n",
       "      <th>title</th>\n",
       "    </tr>\n",
       "  </thead>\n",
       "  <tbody>\n",
       "    <tr>\n",
       "      <th>0</th>\n",
       "      <td>weddingplanning</td>\n",
       "      <td>Hello everyone! I’m wondering if it’s common f...</td>\n",
       "      <td>Requiring guest contact info to confirm a rehe...</td>\n",
       "    </tr>\n",
       "    <tr>\n",
       "      <th>1</th>\n",
       "      <td>weddingplanning</td>\n",
       "      <td>[removed]</td>\n",
       "      <td>Officiant Arriving in Town the Day of Wedding ...</td>\n",
       "    </tr>\n",
       "    <tr>\n",
       "      <th>2</th>\n",
       "      <td>weddingplanning</td>\n",
       "      <td>This is one of those things I've never put muc...</td>\n",
       "      <td>How do you find a good officiant?</td>\n",
       "    </tr>\n",
       "    <tr>\n",
       "      <th>3</th>\n",
       "      <td>weddingplanning</td>\n",
       "      <td>We’re in the process of booking our May 2023 w...</td>\n",
       "      <td>Each time we hire a vendor we really only have...</td>\n",
       "    </tr>\n",
       "    <tr>\n",
       "      <th>4</th>\n",
       "      <td>weddingplanning</td>\n",
       "      <td>I love reading y’alls vents so here’s mine. An...</td>\n",
       "      <td>Vent: So many small things</td>\n",
       "    </tr>\n",
       "  </tbody>\n",
       "</table>\n",
       "</div>"
      ],
      "text/plain": [
       "         subreddit                                           selftext  \\\n",
       "0  weddingplanning  Hello everyone! I’m wondering if it’s common f...   \n",
       "1  weddingplanning                                          [removed]   \n",
       "2  weddingplanning  This is one of those things I've never put muc...   \n",
       "3  weddingplanning  We’re in the process of booking our May 2023 w...   \n",
       "4  weddingplanning  I love reading y’alls vents so here’s mine. An...   \n",
       "\n",
       "                                               title  \n",
       "0  Requiring guest contact info to confirm a rehe...  \n",
       "1  Officiant Arriving in Town the Day of Wedding ...  \n",
       "2                  How do you find a good officiant?  \n",
       "3  Each time we hire a vendor we really only have...  \n",
       "4                         Vent: So many small things  "
      ]
     },
     "execution_count": 150,
     "metadata": {},
     "output_type": "execute_result"
    }
   ],
   "source": [
    "df_wedding[['subreddit','selftext','title']].head()"
   ]
  },
  {
   "cell_type": "code",
   "execution_count": null,
   "id": "d40c7f7d-2364-46c5-ab0e-d4736c18ead4",
   "metadata": {},
   "outputs": [],
   "source": []
  }
 ],
 "metadata": {
  "kernelspec": {
   "display_name": "Python 3 (ipykernel)",
   "language": "python",
   "name": "python3"
  },
  "language_info": {
   "codemirror_mode": {
    "name": "ipython",
    "version": 3
   },
   "file_extension": ".py",
   "mimetype": "text/x-python",
   "name": "python",
   "nbconvert_exporter": "python",
   "pygments_lexer": "ipython3",
   "version": "3.8.8"
  }
 },
 "nbformat": 4,
 "nbformat_minor": 5
}
