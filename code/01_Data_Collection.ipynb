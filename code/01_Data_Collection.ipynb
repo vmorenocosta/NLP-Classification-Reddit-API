{
 "cells": [
  {
   "cell_type": "markdown",
   "id": "daa43402-084e-4a2c-b164-982fc7c7965d",
   "metadata": {},
   "source": [
    "# 1. Data Collection and EDA\n",
    "\n",
    "This notebook collects and prepares posts from two subreddits using [Pushshift's API](https://github.com/pushshift/api). "
   ]
  },
  {
   "cell_type": "code",
   "execution_count": 1,
   "id": "96fb561a-dd4e-489f-a232-b3e2f8fc2d29",
   "metadata": {},
   "outputs": [],
   "source": [
    "# imports\n",
    "import requests\n",
    "import pandas as pd\n",
    "import time\n",
    "import matplotlib.pyplot as plt\n",
    "import seaborn as sns\n",
    "\n",
    "from sklearn.feature_extraction.text import CountVectorizer\n",
    "from nltk.corpus import stopwords"
   ]
  },
  {
   "cell_type": "markdown",
   "id": "435fc780-d2ac-4d09-9025-98912f39af59",
   "metadata": {
    "tags": []
   },
   "source": [
    "#### Collect and save data for r/weddingplanning and r/divorce"
   ]
  },
  {
   "cell_type": "code",
   "execution_count": 2,
   "id": "cef2d4a6-5370-4f55-86df-e5f212a5a527",
   "metadata": {},
   "outputs": [],
   "source": [
    "def collect_posts(subreddit):\n",
    "    \"\"\" This function pulls down data from a given subreddit using the Pushshift API and returns the \n",
    "    data as a Pandas DataFrame.\n",
    "    \n",
    "    args:\n",
    "        subreddit (str): name of a subreddit\n",
    "    \n",
    "    return:\n",
    "        df (Pandas DataFrame): information from the 4000 most recent posts with text before Thursday, April 21, 2022 8:55:21 PM\n",
    "    \"\"\"\n",
    "\n",
    "    url = 'https://api.pushshift.io/reddit/search/submission'\n",
    "    \n",
    "    num_posts = 0\n",
    "    min_date = 1650599721\n",
    "    for x in range(40):\n",
    "        params = {\n",
    "            'subreddit':subreddit,\n",
    "            'size':100,\n",
    "            'is_self':True,\n",
    "            'meta_data':True,\n",
    "            'before':min_date\n",
    "        }\n",
    "        res = requests.get(url, params)\n",
    "        if res.status_code == 200:\n",
    "            posts = pd.DataFrame(res.json()['data'])\n",
    "            min_date = posts['created_utc'].min()\n",
    "            if x == 0:\n",
    "                df = posts\n",
    "            else:\n",
    "                df = pd.concat([df,posts],)\n",
    "            time.sleep(1)\n",
    "        else:\n",
    "            print('request_failed')\n",
    "            return df\n",
    "    return df"
   ]
  },
  {
   "cell_type": "code",
   "execution_count": 3,
   "id": "6bc3b643-2199-409c-90db-aed61be6301c",
   "metadata": {},
   "outputs": [],
   "source": [
    "# These function calls were used to collect and save the data\n",
    "\n",
    "# df_wedding = collect_posts('weddingplanning')\n",
    "\n",
    "# df_wedding.to_csv('../datasets/wedding.csv',index=False)\n",
    "\n",
    "# df_divorce = collect_posts('divorce')\n",
    "\n",
    "# df_divorce.to_csv('../datasets/divorce.csv',index=False)\n",
    "\n",
    "# df = df_wedding.append(df_divorce)\n",
    "\n",
    "# df.to_csv('../datasets/combined.csv',index=False)"
   ]
  },
  {
   "cell_type": "markdown",
   "id": "ef18158c-c9e8-41da-85bb-8d1990dab3be",
   "metadata": {
    "tags": []
   },
   "source": [
    "#### Exploratory Data Analysis"
   ]
  },
  {
   "cell_type": "code",
   "execution_count": 4,
   "id": "9bb012d8-72ed-463d-a49a-5678b5ceb555",
   "metadata": {},
   "outputs": [],
   "source": [
    "# Import data frames already pulled from API\n",
    "\n",
    "df = pd.read_csv('../datasets/combined.csv')"
   ]
  },
  {
   "cell_type": "code",
   "execution_count": 5,
   "id": "32e60835-1ca6-401c-b795-758e810cc17a",
   "metadata": {},
   "outputs": [],
   "source": [
    "# Import data frames already pulled from API\n",
    "\n",
    "df_wedding = pd.read_csv('../datasets/wedding.csv')\n",
    "\n",
    "df_divorce = pd.read_csv('../datasets/divorce.csv')"
   ]
  },
  {
   "cell_type": "code",
   "execution_count": 6,
   "id": "1412e376-2529-4598-bcd5-9ede1d6f57ed",
   "metadata": {},
   "outputs": [
    {
     "data": {
      "text/plain": [
       "(4000, 80)"
      ]
     },
     "execution_count": 6,
     "metadata": {},
     "output_type": "execute_result"
    }
   ],
   "source": [
    "df_wedding.shape"
   ]
  },
  {
   "cell_type": "code",
   "execution_count": 7,
   "id": "34cc8e0f-204b-4c54-8551-28210b519cec",
   "metadata": {},
   "outputs": [
    {
     "data": {
      "text/plain": [
       "(3999, 73)"
      ]
     },
     "execution_count": 7,
     "metadata": {},
     "output_type": "execute_result"
    }
   ],
   "source": [
    "df_divorce.shape"
   ]
  },
  {
   "cell_type": "code",
   "execution_count": 8,
   "id": "c5843b29-5a20-4687-b377-b0aff2b3aae9",
   "metadata": {},
   "outputs": [
    {
     "data": {
      "text/plain": [
       "(7999, 82)"
      ]
     },
     "execution_count": 8,
     "metadata": {},
     "output_type": "execute_result"
    }
   ],
   "source": [
    "df.shape"
   ]
  },
  {
   "cell_type": "code",
   "execution_count": 9,
   "id": "af16983e-1e44-4f1e-be3d-61e19709d7eb",
   "metadata": {},
   "outputs": [
    {
     "data": {
      "text/html": [
       "<div>\n",
       "<style scoped>\n",
       "    .dataframe tbody tr th:only-of-type {\n",
       "        vertical-align: middle;\n",
       "    }\n",
       "\n",
       "    .dataframe tbody tr th {\n",
       "        vertical-align: top;\n",
       "    }\n",
       "\n",
       "    .dataframe thead th {\n",
       "        text-align: right;\n",
       "    }\n",
       "</style>\n",
       "<table border=\"1\" class=\"dataframe\">\n",
       "  <thead>\n",
       "    <tr style=\"text-align: right;\">\n",
       "      <th></th>\n",
       "      <th>Unnamed: 0.1</th>\n",
       "      <th>Unnamed: 0</th>\n",
       "      <th>all_awardings</th>\n",
       "      <th>allow_live_comments</th>\n",
       "      <th>author</th>\n",
       "      <th>author_flair_css_class</th>\n",
       "      <th>author_flair_richtext</th>\n",
       "      <th>author_flair_text</th>\n",
       "      <th>author_flair_type</th>\n",
       "      <th>author_fullname</th>\n",
       "      <th>...</th>\n",
       "      <th>suggested_sort</th>\n",
       "      <th>post_hint</th>\n",
       "      <th>preview</th>\n",
       "      <th>author_flair_background_color</th>\n",
       "      <th>banned_by</th>\n",
       "      <th>edited</th>\n",
       "      <th>call_to_action</th>\n",
       "      <th>category</th>\n",
       "      <th>num_posts</th>\n",
       "      <th>distinguished</th>\n",
       "    </tr>\n",
       "  </thead>\n",
       "  <tbody>\n",
       "    <tr>\n",
       "      <th>0</th>\n",
       "      <td>0</td>\n",
       "      <td>0</td>\n",
       "      <td>[]</td>\n",
       "      <td>False</td>\n",
       "      <td>theallusionist</td>\n",
       "      <td>NaN</td>\n",
       "      <td>[]</td>\n",
       "      <td>NaN</td>\n",
       "      <td>text</td>\n",
       "      <td>t2_7685k</td>\n",
       "      <td>...</td>\n",
       "      <td>NaN</td>\n",
       "      <td>NaN</td>\n",
       "      <td>NaN</td>\n",
       "      <td>NaN</td>\n",
       "      <td>NaN</td>\n",
       "      <td>NaN</td>\n",
       "      <td>NaN</td>\n",
       "      <td>NaN</td>\n",
       "      <td>1.0</td>\n",
       "      <td>NaN</td>\n",
       "    </tr>\n",
       "    <tr>\n",
       "      <th>1</th>\n",
       "      <td>1</td>\n",
       "      <td>1</td>\n",
       "      <td>[]</td>\n",
       "      <td>False</td>\n",
       "      <td>Asleep_Contest2388</td>\n",
       "      <td>NaN</td>\n",
       "      <td>[]</td>\n",
       "      <td>NaN</td>\n",
       "      <td>text</td>\n",
       "      <td>t2_m8qjrlnv</td>\n",
       "      <td>...</td>\n",
       "      <td>NaN</td>\n",
       "      <td>NaN</td>\n",
       "      <td>NaN</td>\n",
       "      <td>NaN</td>\n",
       "      <td>NaN</td>\n",
       "      <td>NaN</td>\n",
       "      <td>NaN</td>\n",
       "      <td>NaN</td>\n",
       "      <td>1.0</td>\n",
       "      <td>NaN</td>\n",
       "    </tr>\n",
       "    <tr>\n",
       "      <th>2</th>\n",
       "      <td>2</td>\n",
       "      <td>2</td>\n",
       "      <td>[]</td>\n",
       "      <td>False</td>\n",
       "      <td>J3llyDonut</td>\n",
       "      <td>NaN</td>\n",
       "      <td>[]</td>\n",
       "      <td>NaN</td>\n",
       "      <td>text</td>\n",
       "      <td>t2_iaek90tb</td>\n",
       "      <td>...</td>\n",
       "      <td>NaN</td>\n",
       "      <td>NaN</td>\n",
       "      <td>NaN</td>\n",
       "      <td>NaN</td>\n",
       "      <td>NaN</td>\n",
       "      <td>NaN</td>\n",
       "      <td>NaN</td>\n",
       "      <td>NaN</td>\n",
       "      <td>3.0</td>\n",
       "      <td>NaN</td>\n",
       "    </tr>\n",
       "    <tr>\n",
       "      <th>3</th>\n",
       "      <td>3</td>\n",
       "      <td>3</td>\n",
       "      <td>[]</td>\n",
       "      <td>False</td>\n",
       "      <td>Wednesday_Atoms</td>\n",
       "      <td>NaN</td>\n",
       "      <td>[]</td>\n",
       "      <td>NaN</td>\n",
       "      <td>text</td>\n",
       "      <td>t2_ccasgn</td>\n",
       "      <td>...</td>\n",
       "      <td>NaN</td>\n",
       "      <td>NaN</td>\n",
       "      <td>NaN</td>\n",
       "      <td>NaN</td>\n",
       "      <td>NaN</td>\n",
       "      <td>NaN</td>\n",
       "      <td>NaN</td>\n",
       "      <td>NaN</td>\n",
       "      <td>1.0</td>\n",
       "      <td>NaN</td>\n",
       "    </tr>\n",
       "    <tr>\n",
       "      <th>4</th>\n",
       "      <td>4</td>\n",
       "      <td>4</td>\n",
       "      <td>[]</td>\n",
       "      <td>False</td>\n",
       "      <td>EudoxiaPrade</td>\n",
       "      <td>NaN</td>\n",
       "      <td>[]</td>\n",
       "      <td>NaN</td>\n",
       "      <td>text</td>\n",
       "      <td>t2_itfve</td>\n",
       "      <td>...</td>\n",
       "      <td>NaN</td>\n",
       "      <td>NaN</td>\n",
       "      <td>NaN</td>\n",
       "      <td>NaN</td>\n",
       "      <td>NaN</td>\n",
       "      <td>NaN</td>\n",
       "      <td>NaN</td>\n",
       "      <td>NaN</td>\n",
       "      <td>1.0</td>\n",
       "      <td>NaN</td>\n",
       "    </tr>\n",
       "  </tbody>\n",
       "</table>\n",
       "<p>5 rows × 82 columns</p>\n",
       "</div>"
      ],
      "text/plain": [
       "   Unnamed: 0.1  Unnamed: 0 all_awardings  allow_live_comments  \\\n",
       "0             0           0            []                False   \n",
       "1             1           1            []                False   \n",
       "2             2           2            []                False   \n",
       "3             3           3            []                False   \n",
       "4             4           4            []                False   \n",
       "\n",
       "               author author_flair_css_class author_flair_richtext  \\\n",
       "0      theallusionist                    NaN                    []   \n",
       "1  Asleep_Contest2388                    NaN                    []   \n",
       "2          J3llyDonut                    NaN                    []   \n",
       "3     Wednesday_Atoms                    NaN                    []   \n",
       "4        EudoxiaPrade                    NaN                    []   \n",
       "\n",
       "  author_flair_text author_flair_type author_fullname  ...  suggested_sort  \\\n",
       "0               NaN              text        t2_7685k  ...             NaN   \n",
       "1               NaN              text     t2_m8qjrlnv  ...             NaN   \n",
       "2               NaN              text     t2_iaek90tb  ...             NaN   \n",
       "3               NaN              text       t2_ccasgn  ...             NaN   \n",
       "4               NaN              text        t2_itfve  ...             NaN   \n",
       "\n",
       "  post_hint preview author_flair_background_color  banned_by  edited  \\\n",
       "0       NaN     NaN                           NaN        NaN     NaN   \n",
       "1       NaN     NaN                           NaN        NaN     NaN   \n",
       "2       NaN     NaN                           NaN        NaN     NaN   \n",
       "3       NaN     NaN                           NaN        NaN     NaN   \n",
       "4       NaN     NaN                           NaN        NaN     NaN   \n",
       "\n",
       "   call_to_action category num_posts distinguished  \n",
       "0             NaN      NaN       1.0           NaN  \n",
       "1             NaN      NaN       1.0           NaN  \n",
       "2             NaN      NaN       3.0           NaN  \n",
       "3             NaN      NaN       1.0           NaN  \n",
       "4             NaN      NaN       1.0           NaN  \n",
       "\n",
       "[5 rows x 82 columns]"
      ]
     },
     "execution_count": 9,
     "metadata": {},
     "output_type": "execute_result"
    }
   ],
   "source": [
    "df.head()"
   ]
  },
  {
   "cell_type": "code",
   "execution_count": 10,
   "id": "bd2718d4-f70c-48bc-837a-75c9dfb0adc6",
   "metadata": {},
   "outputs": [
    {
     "name": "stdout",
     "output_type": "stream",
     "text": [
      "<class 'pandas.core.frame.DataFrame'>\n",
      "RangeIndex: 7999 entries, 0 to 7998\n",
      "Data columns (total 82 columns):\n",
      " #   Column                         Non-Null Count  Dtype  \n",
      "---  ------                         --------------  -----  \n",
      " 0   Unnamed: 0.1                   7999 non-null   int64  \n",
      " 1   Unnamed: 0                     7999 non-null   int64  \n",
      " 2   all_awardings                  7999 non-null   object \n",
      " 3   allow_live_comments            7999 non-null   bool   \n",
      " 4   author                         7999 non-null   object \n",
      " 5   author_flair_css_class         213 non-null    object \n",
      " 6   author_flair_richtext          7985 non-null   object \n",
      " 7   author_flair_text              242 non-null    object \n",
      " 8   author_flair_type              7985 non-null   object \n",
      " 9   author_fullname                7985 non-null   object \n",
      " 10  author_is_blocked              7999 non-null   bool   \n",
      " 11  author_patreon_flair           7985 non-null   object \n",
      " 12  author_premium                 7985 non-null   object \n",
      " 13  awarders                       7999 non-null   object \n",
      " 14  can_mod_post                   7999 non-null   bool   \n",
      " 15  contest_mode                   7999 non-null   bool   \n",
      " 16  created_utc                    7999 non-null   int64  \n",
      " 17  domain                         7999 non-null   object \n",
      " 18  full_link                      7999 non-null   object \n",
      " 19  gildings                       7999 non-null   object \n",
      " 20  id                             7999 non-null   object \n",
      " 21  is_created_from_ads_ui         7999 non-null   bool   \n",
      " 22  is_crosspostable               7999 non-null   bool   \n",
      " 23  is_meta                        7999 non-null   bool   \n",
      " 24  is_original_content            7999 non-null   bool   \n",
      " 25  is_reddit_media_domain         7999 non-null   bool   \n",
      " 26  is_robot_indexable             7999 non-null   bool   \n",
      " 27  is_self                        7999 non-null   bool   \n",
      " 28  is_video                       7999 non-null   bool   \n",
      " 29  link_flair_background_color    7922 non-null   object \n",
      " 30  link_flair_css_class           3980 non-null   object \n",
      " 31  link_flair_richtext            7999 non-null   object \n",
      " 32  link_flair_template_id         7945 non-null   object \n",
      " 33  link_flair_text                7990 non-null   object \n",
      " 34  link_flair_text_color          7999 non-null   object \n",
      " 35  link_flair_type                7999 non-null   object \n",
      " 36  locked                         7999 non-null   bool   \n",
      " 37  media_only                     7999 non-null   bool   \n",
      " 38  no_follow                      7999 non-null   bool   \n",
      " 39  num_comments                   7999 non-null   int64  \n",
      " 40  num_crossposts                 7999 non-null   int64  \n",
      " 41  over_18                        7999 non-null   bool   \n",
      " 42  parent_whitelist_status        7999 non-null   object \n",
      " 43  permalink                      7999 non-null   object \n",
      " 44  pinned                         7999 non-null   bool   \n",
      " 45  pwls                           7999 non-null   int64  \n",
      " 46  retrieved_on                   7999 non-null   int64  \n",
      " 47  score                          7999 non-null   int64  \n",
      " 48  selftext                       7835 non-null   object \n",
      " 49  send_replies                   7999 non-null   bool   \n",
      " 50  spoiler                        7999 non-null   bool   \n",
      " 51  stickied                       7999 non-null   bool   \n",
      " 52  subreddit                      7999 non-null   object \n",
      " 53  subreddit_id                   7999 non-null   object \n",
      " 54  subreddit_subscribers          7999 non-null   int64  \n",
      " 55  subreddit_type                 7999 non-null   object \n",
      " 56  thumbnail                      7999 non-null   object \n",
      " 57  title                          7999 non-null   object \n",
      " 58  total_awards_received          7999 non-null   int64  \n",
      " 59  treatment_tags                 7999 non-null   object \n",
      " 60  upvote_ratio                   7999 non-null   float64\n",
      " 61  url                            7999 non-null   object \n",
      " 62  whitelist_status               7999 non-null   object \n",
      " 63  wls                            7999 non-null   int64  \n",
      " 64  removed_by_category            1183 non-null   object \n",
      " 65  author_flair_template_id       239 non-null    object \n",
      " 66  author_flair_text_color        268 non-null    object \n",
      " 67  author_cakeday                 20 non-null     object \n",
      " 68  poll_data                      66 non-null     object \n",
      " 69  media_metadata                 31 non-null     object \n",
      " 70  thumbnail_height               45 non-null     float64\n",
      " 71  thumbnail_width                45 non-null     float64\n",
      " 72  suggested_sort                 44 non-null     object \n",
      " 73  post_hint                      161 non-null    object \n",
      " 74  preview                        161 non-null    object \n",
      " 75  author_flair_background_color  27 non-null     object \n",
      " 76  banned_by                      3 non-null      object \n",
      " 77  edited                         9 non-null      float64\n",
      " 78  call_to_action                 0 non-null      float64\n",
      " 79  category                       0 non-null      float64\n",
      " 80  num_posts                      4000 non-null   float64\n",
      " 81  distinguished                  2 non-null      object \n",
      "dtypes: bool(20), float64(7), int64(11), object(44)\n",
      "memory usage: 3.9+ MB\n"
     ]
    }
   ],
   "source": [
    "df.info()"
   ]
  },
  {
   "cell_type": "markdown",
   "id": "43cacb94-f1cb-4b7f-bf8b-8dd5e2d6cd83",
   "metadata": {},
   "source": [
    "Will want to drop \"Unnamed: 0\" column."
   ]
  },
  {
   "cell_type": "code",
   "execution_count": 11,
   "id": "087cfd9f-9205-48cc-ae58-b9f89610ddcd",
   "metadata": {},
   "outputs": [
    {
     "data": {
      "text/plain": [
       "[('author_flair_css_class', 7786),\n",
       " ('author_flair_richtext', 14),\n",
       " ('author_flair_text', 7757),\n",
       " ('author_flair_type', 14),\n",
       " ('author_fullname', 14),\n",
       " ('author_patreon_flair', 14),\n",
       " ('author_premium', 14),\n",
       " ('link_flair_background_color', 77),\n",
       " ('link_flair_css_class', 4019),\n",
       " ('link_flair_template_id', 54),\n",
       " ('link_flair_text', 9),\n",
       " ('selftext', 164),\n",
       " ('removed_by_category', 6816),\n",
       " ('author_flair_template_id', 7760),\n",
       " ('author_flair_text_color', 7731),\n",
       " ('author_cakeday', 7979),\n",
       " ('poll_data', 7933),\n",
       " ('media_metadata', 7968),\n",
       " ('thumbnail_height', 7954),\n",
       " ('thumbnail_width', 7954),\n",
       " ('suggested_sort', 7955),\n",
       " ('post_hint', 7838),\n",
       " ('preview', 7838),\n",
       " ('author_flair_background_color', 7972),\n",
       " ('banned_by', 7996),\n",
       " ('edited', 7990),\n",
       " ('call_to_action', 7999),\n",
       " ('category', 7999),\n",
       " ('num_posts', 3999),\n",
       " ('distinguished', 7997)]"
      ]
     },
     "execution_count": 11,
     "metadata": {},
     "output_type": "execute_result"
    }
   ],
   "source": [
    "# Columns with null values\n",
    "[x for x in list(zip(df.columns, df.isna().sum())) if x[1] != 0]"
   ]
  },
  {
   "cell_type": "code",
   "execution_count": 12,
   "id": "44f383c5-d03a-408e-8bba-7aa394c96262",
   "metadata": {},
   "outputs": [
    {
     "data": {
      "text/html": [
       "<div>\n",
       "<style scoped>\n",
       "    .dataframe tbody tr th:only-of-type {\n",
       "        vertical-align: middle;\n",
       "    }\n",
       "\n",
       "    .dataframe tbody tr th {\n",
       "        vertical-align: top;\n",
       "    }\n",
       "\n",
       "    .dataframe thead th {\n",
       "        text-align: right;\n",
       "    }\n",
       "</style>\n",
       "<table border=\"1\" class=\"dataframe\">\n",
       "  <thead>\n",
       "    <tr style=\"text-align: right;\">\n",
       "      <th></th>\n",
       "      <th>subreddit</th>\n",
       "      <th>selftext</th>\n",
       "      <th>title</th>\n",
       "    </tr>\n",
       "  </thead>\n",
       "  <tbody>\n",
       "    <tr>\n",
       "      <th>0</th>\n",
       "      <td>weddingplanning</td>\n",
       "      <td>Hello everyone! I’m wondering if it’s common f...</td>\n",
       "      <td>Requiring guest contact info to confirm a rehe...</td>\n",
       "    </tr>\n",
       "    <tr>\n",
       "      <th>1</th>\n",
       "      <td>weddingplanning</td>\n",
       "      <td>[removed]</td>\n",
       "      <td>Officiant Arriving in Town the Day of Wedding ...</td>\n",
       "    </tr>\n",
       "    <tr>\n",
       "      <th>2</th>\n",
       "      <td>weddingplanning</td>\n",
       "      <td>This is one of those things I've never put muc...</td>\n",
       "      <td>How do you find a good officiant?</td>\n",
       "    </tr>\n",
       "    <tr>\n",
       "      <th>3</th>\n",
       "      <td>weddingplanning</td>\n",
       "      <td>We’re in the process of booking our May 2023 w...</td>\n",
       "      <td>Each time we hire a vendor we really only have...</td>\n",
       "    </tr>\n",
       "    <tr>\n",
       "      <th>4</th>\n",
       "      <td>weddingplanning</td>\n",
       "      <td>I love reading y’alls vents so here’s mine. An...</td>\n",
       "      <td>Vent: So many small things</td>\n",
       "    </tr>\n",
       "  </tbody>\n",
       "</table>\n",
       "</div>"
      ],
      "text/plain": [
       "         subreddit                                           selftext  \\\n",
       "0  weddingplanning  Hello everyone! I’m wondering if it’s common f...   \n",
       "1  weddingplanning                                          [removed]   \n",
       "2  weddingplanning  This is one of those things I've never put muc...   \n",
       "3  weddingplanning  We’re in the process of booking our May 2023 w...   \n",
       "4  weddingplanning  I love reading y’alls vents so here’s mine. An...   \n",
       "\n",
       "                                               title  \n",
       "0  Requiring guest contact info to confirm a rehe...  \n",
       "1  Officiant Arriving in Town the Day of Wedding ...  \n",
       "2                  How do you find a good officiant?  \n",
       "3  Each time we hire a vendor we really only have...  \n",
       "4                         Vent: So many small things  "
      ]
     },
     "execution_count": 12,
     "metadata": {},
     "output_type": "execute_result"
    }
   ],
   "source": [
    "df[['subreddit','selftext','title']].head()"
   ]
  },
  {
   "cell_type": "markdown",
   "id": "194d8305-a2c9-40f0-bc9b-8a91baaa2e52",
   "metadata": {
    "tags": []
   },
   "source": [
    "#### Drop Unnamed column"
   ]
  },
  {
   "cell_type": "code",
   "execution_count": 13,
   "id": "1b9953fa-8f84-4a47-8c79-67b727c27a4d",
   "metadata": {},
   "outputs": [],
   "source": [
    "df.drop(columns=['Unnamed: 0','Unnamed: 0.1'],inplace=True)"
   ]
  },
  {
   "cell_type": "code",
   "execution_count": 14,
   "id": "3c68bb3e-c890-40a5-a918-e63fb3097ea3",
   "metadata": {},
   "outputs": [
    {
     "data": {
      "text/html": [
       "<div>\n",
       "<style scoped>\n",
       "    .dataframe tbody tr th:only-of-type {\n",
       "        vertical-align: middle;\n",
       "    }\n",
       "\n",
       "    .dataframe tbody tr th {\n",
       "        vertical-align: top;\n",
       "    }\n",
       "\n",
       "    .dataframe thead th {\n",
       "        text-align: right;\n",
       "    }\n",
       "</style>\n",
       "<table border=\"1\" class=\"dataframe\">\n",
       "  <thead>\n",
       "    <tr style=\"text-align: right;\">\n",
       "      <th></th>\n",
       "      <th>all_awardings</th>\n",
       "      <th>allow_live_comments</th>\n",
       "      <th>author</th>\n",
       "      <th>author_flair_css_class</th>\n",
       "      <th>author_flair_richtext</th>\n",
       "      <th>author_flair_text</th>\n",
       "      <th>author_flair_type</th>\n",
       "      <th>author_fullname</th>\n",
       "      <th>author_is_blocked</th>\n",
       "      <th>author_patreon_flair</th>\n",
       "      <th>...</th>\n",
       "      <th>suggested_sort</th>\n",
       "      <th>post_hint</th>\n",
       "      <th>preview</th>\n",
       "      <th>author_flair_background_color</th>\n",
       "      <th>banned_by</th>\n",
       "      <th>edited</th>\n",
       "      <th>call_to_action</th>\n",
       "      <th>category</th>\n",
       "      <th>num_posts</th>\n",
       "      <th>distinguished</th>\n",
       "    </tr>\n",
       "  </thead>\n",
       "  <tbody>\n",
       "    <tr>\n",
       "      <th>0</th>\n",
       "      <td>[]</td>\n",
       "      <td>False</td>\n",
       "      <td>theallusionist</td>\n",
       "      <td>NaN</td>\n",
       "      <td>[]</td>\n",
       "      <td>NaN</td>\n",
       "      <td>text</td>\n",
       "      <td>t2_7685k</td>\n",
       "      <td>False</td>\n",
       "      <td>False</td>\n",
       "      <td>...</td>\n",
       "      <td>NaN</td>\n",
       "      <td>NaN</td>\n",
       "      <td>NaN</td>\n",
       "      <td>NaN</td>\n",
       "      <td>NaN</td>\n",
       "      <td>NaN</td>\n",
       "      <td>NaN</td>\n",
       "      <td>NaN</td>\n",
       "      <td>1.0</td>\n",
       "      <td>NaN</td>\n",
       "    </tr>\n",
       "    <tr>\n",
       "      <th>1</th>\n",
       "      <td>[]</td>\n",
       "      <td>False</td>\n",
       "      <td>Asleep_Contest2388</td>\n",
       "      <td>NaN</td>\n",
       "      <td>[]</td>\n",
       "      <td>NaN</td>\n",
       "      <td>text</td>\n",
       "      <td>t2_m8qjrlnv</td>\n",
       "      <td>False</td>\n",
       "      <td>False</td>\n",
       "      <td>...</td>\n",
       "      <td>NaN</td>\n",
       "      <td>NaN</td>\n",
       "      <td>NaN</td>\n",
       "      <td>NaN</td>\n",
       "      <td>NaN</td>\n",
       "      <td>NaN</td>\n",
       "      <td>NaN</td>\n",
       "      <td>NaN</td>\n",
       "      <td>1.0</td>\n",
       "      <td>NaN</td>\n",
       "    </tr>\n",
       "    <tr>\n",
       "      <th>2</th>\n",
       "      <td>[]</td>\n",
       "      <td>False</td>\n",
       "      <td>J3llyDonut</td>\n",
       "      <td>NaN</td>\n",
       "      <td>[]</td>\n",
       "      <td>NaN</td>\n",
       "      <td>text</td>\n",
       "      <td>t2_iaek90tb</td>\n",
       "      <td>False</td>\n",
       "      <td>False</td>\n",
       "      <td>...</td>\n",
       "      <td>NaN</td>\n",
       "      <td>NaN</td>\n",
       "      <td>NaN</td>\n",
       "      <td>NaN</td>\n",
       "      <td>NaN</td>\n",
       "      <td>NaN</td>\n",
       "      <td>NaN</td>\n",
       "      <td>NaN</td>\n",
       "      <td>3.0</td>\n",
       "      <td>NaN</td>\n",
       "    </tr>\n",
       "    <tr>\n",
       "      <th>3</th>\n",
       "      <td>[]</td>\n",
       "      <td>False</td>\n",
       "      <td>Wednesday_Atoms</td>\n",
       "      <td>NaN</td>\n",
       "      <td>[]</td>\n",
       "      <td>NaN</td>\n",
       "      <td>text</td>\n",
       "      <td>t2_ccasgn</td>\n",
       "      <td>False</td>\n",
       "      <td>False</td>\n",
       "      <td>...</td>\n",
       "      <td>NaN</td>\n",
       "      <td>NaN</td>\n",
       "      <td>NaN</td>\n",
       "      <td>NaN</td>\n",
       "      <td>NaN</td>\n",
       "      <td>NaN</td>\n",
       "      <td>NaN</td>\n",
       "      <td>NaN</td>\n",
       "      <td>1.0</td>\n",
       "      <td>NaN</td>\n",
       "    </tr>\n",
       "    <tr>\n",
       "      <th>4</th>\n",
       "      <td>[]</td>\n",
       "      <td>False</td>\n",
       "      <td>EudoxiaPrade</td>\n",
       "      <td>NaN</td>\n",
       "      <td>[]</td>\n",
       "      <td>NaN</td>\n",
       "      <td>text</td>\n",
       "      <td>t2_itfve</td>\n",
       "      <td>False</td>\n",
       "      <td>False</td>\n",
       "      <td>...</td>\n",
       "      <td>NaN</td>\n",
       "      <td>NaN</td>\n",
       "      <td>NaN</td>\n",
       "      <td>NaN</td>\n",
       "      <td>NaN</td>\n",
       "      <td>NaN</td>\n",
       "      <td>NaN</td>\n",
       "      <td>NaN</td>\n",
       "      <td>1.0</td>\n",
       "      <td>NaN</td>\n",
       "    </tr>\n",
       "  </tbody>\n",
       "</table>\n",
       "<p>5 rows × 80 columns</p>\n",
       "</div>"
      ],
      "text/plain": [
       "  all_awardings  allow_live_comments              author  \\\n",
       "0            []                False      theallusionist   \n",
       "1            []                False  Asleep_Contest2388   \n",
       "2            []                False          J3llyDonut   \n",
       "3            []                False     Wednesday_Atoms   \n",
       "4            []                False        EudoxiaPrade   \n",
       "\n",
       "  author_flair_css_class author_flair_richtext author_flair_text  \\\n",
       "0                    NaN                    []               NaN   \n",
       "1                    NaN                    []               NaN   \n",
       "2                    NaN                    []               NaN   \n",
       "3                    NaN                    []               NaN   \n",
       "4                    NaN                    []               NaN   \n",
       "\n",
       "  author_flair_type author_fullname  author_is_blocked author_patreon_flair  \\\n",
       "0              text        t2_7685k              False                False   \n",
       "1              text     t2_m8qjrlnv              False                False   \n",
       "2              text     t2_iaek90tb              False                False   \n",
       "3              text       t2_ccasgn              False                False   \n",
       "4              text        t2_itfve              False                False   \n",
       "\n",
       "   ... suggested_sort post_hint  preview  author_flair_background_color  \\\n",
       "0  ...            NaN       NaN      NaN                            NaN   \n",
       "1  ...            NaN       NaN      NaN                            NaN   \n",
       "2  ...            NaN       NaN      NaN                            NaN   \n",
       "3  ...            NaN       NaN      NaN                            NaN   \n",
       "4  ...            NaN       NaN      NaN                            NaN   \n",
       "\n",
       "   banned_by edited call_to_action category num_posts  distinguished  \n",
       "0        NaN    NaN            NaN      NaN       1.0            NaN  \n",
       "1        NaN    NaN            NaN      NaN       1.0            NaN  \n",
       "2        NaN    NaN            NaN      NaN       3.0            NaN  \n",
       "3        NaN    NaN            NaN      NaN       1.0            NaN  \n",
       "4        NaN    NaN            NaN      NaN       1.0            NaN  \n",
       "\n",
       "[5 rows x 80 columns]"
      ]
     },
     "execution_count": 14,
     "metadata": {},
     "output_type": "execute_result"
    }
   ],
   "source": [
    "df.head()"
   ]
  },
  {
   "cell_type": "markdown",
   "id": "9725e56e-0b38-4be2-9270-06387b958bc6",
   "metadata": {
    "tags": []
   },
   "source": [
    "#### Look at post count by unique author"
   ]
  },
  {
   "cell_type": "code",
   "execution_count": 15,
   "id": "6288ef37-9f1a-4109-9590-a94dca64bc32",
   "metadata": {},
   "outputs": [
    {
     "data": {
      "text/plain": [
       "array(['theallusionist', 'Asleep_Contest2388', 'J3llyDonut', ...,\n",
       "       'btmbusby', 'MinnCali', 'Pleasant-Series1472'], dtype=object)"
      ]
     },
     "execution_count": 15,
     "metadata": {},
     "output_type": "execute_result"
    }
   ],
   "source": [
    "df['author'].unique()"
   ]
  },
  {
   "cell_type": "code",
   "execution_count": 16,
   "id": "58de1c1e-664c-42a6-b947-904768bad527",
   "metadata": {},
   "outputs": [],
   "source": [
    "df['num_posts'] = [df[df['author'] == user].shape[0] for user in df['author']]"
   ]
  },
  {
   "cell_type": "code",
   "execution_count": 17,
   "id": "1ef8ccdc-5bc9-4684-bb6c-b58d41f4cc32",
   "metadata": {},
   "outputs": [
    {
     "data": {
      "image/png": "[encoded data removed]",
      "text/plain": [
       "<Figure size 432x288 with 1 Axes>"
      ]
     },
     "metadata": {
      "needs_background": "light"
     },
     "output_type": "display_data"
    }
   ],
   "source": [
    "plt.hist(df['num_posts'],bins=20)\n",
    "plt.title('Distribution of number of posts by user')\n",
    "plt.xlabel('Number of posts per user')\n",
    "plt.ylabel('Count');"
   ]
  },
  {
   "cell_type": "markdown",
   "id": "c89913d4-8d25-443e-993d-9d5838be6016",
   "metadata": {},
   "source": [
    "There is a weird outlier is an author that posts prolifically. Let's explore this."
   ]
  },
  {
   "cell_type": "code",
   "execution_count": 18,
   "id": "72f400bf-26f0-4311-8de4-31ef1019c53a",
   "metadata": {},
   "outputs": [
    {
     "data": {
      "text/html": [
       "<div>\n",
       "<style scoped>\n",
       "    .dataframe tbody tr th:only-of-type {\n",
       "        vertical-align: middle;\n",
       "    }\n",
       "\n",
       "    .dataframe tbody tr th {\n",
       "        vertical-align: top;\n",
       "    }\n",
       "\n",
       "    .dataframe thead th {\n",
       "        text-align: right;\n",
       "    }\n",
       "</style>\n",
       "<table border=\"1\" class=\"dataframe\">\n",
       "  <thead>\n",
       "    <tr style=\"text-align: right;\">\n",
       "      <th></th>\n",
       "      <th>all_awardings</th>\n",
       "      <th>allow_live_comments</th>\n",
       "      <th>author</th>\n",
       "      <th>author_flair_css_class</th>\n",
       "      <th>author_flair_richtext</th>\n",
       "      <th>author_flair_text</th>\n",
       "      <th>author_flair_type</th>\n",
       "      <th>author_fullname</th>\n",
       "      <th>author_is_blocked</th>\n",
       "      <th>author_patreon_flair</th>\n",
       "      <th>...</th>\n",
       "      <th>suggested_sort</th>\n",
       "      <th>post_hint</th>\n",
       "      <th>preview</th>\n",
       "      <th>author_flair_background_color</th>\n",
       "      <th>banned_by</th>\n",
       "      <th>edited</th>\n",
       "      <th>call_to_action</th>\n",
       "      <th>category</th>\n",
       "      <th>num_posts</th>\n",
       "      <th>distinguished</th>\n",
       "    </tr>\n",
       "  </thead>\n",
       "  <tbody>\n",
       "    <tr>\n",
       "      <th>70</th>\n",
       "      <td>[]</td>\n",
       "      <td>False</td>\n",
       "      <td>AutoModerator</td>\n",
       "      <td>NaN</td>\n",
       "      <td>[]</td>\n",
       "      <td>NaN</td>\n",
       "      <td>text</td>\n",
       "      <td>t2_6l4z3</td>\n",
       "      <td>False</td>\n",
       "      <td>False</td>\n",
       "      <td>...</td>\n",
       "      <td>NaN</td>\n",
       "      <td>NaN</td>\n",
       "      <td>NaN</td>\n",
       "      <td>NaN</td>\n",
       "      <td>NaN</td>\n",
       "      <td>NaN</td>\n",
       "      <td>NaN</td>\n",
       "      <td>NaN</td>\n",
       "      <td>50</td>\n",
       "      <td>NaN</td>\n",
       "    </tr>\n",
       "    <tr>\n",
       "      <th>71</th>\n",
       "      <td>[]</td>\n",
       "      <td>False</td>\n",
       "      <td>AutoModerator</td>\n",
       "      <td>NaN</td>\n",
       "      <td>[]</td>\n",
       "      <td>NaN</td>\n",
       "      <td>text</td>\n",
       "      <td>t2_6l4z3</td>\n",
       "      <td>False</td>\n",
       "      <td>False</td>\n",
       "      <td>...</td>\n",
       "      <td>new</td>\n",
       "      <td>NaN</td>\n",
       "      <td>NaN</td>\n",
       "      <td>NaN</td>\n",
       "      <td>NaN</td>\n",
       "      <td>NaN</td>\n",
       "      <td>NaN</td>\n",
       "      <td>NaN</td>\n",
       "      <td>50</td>\n",
       "      <td>NaN</td>\n",
       "    </tr>\n",
       "  </tbody>\n",
       "</table>\n",
       "<p>2 rows × 80 columns</p>\n",
       "</div>"
      ],
      "text/plain": [
       "   all_awardings  allow_live_comments         author author_flair_css_class  \\\n",
       "70            []                False  AutoModerator                    NaN   \n",
       "71            []                False  AutoModerator                    NaN   \n",
       "\n",
       "   author_flair_richtext author_flair_text author_flair_type author_fullname  \\\n",
       "70                    []               NaN              text        t2_6l4z3   \n",
       "71                    []               NaN              text        t2_6l4z3   \n",
       "\n",
       "    author_is_blocked author_patreon_flair  ... suggested_sort post_hint  \\\n",
       "70              False                False  ...            NaN       NaN   \n",
       "71              False                False  ...            new       NaN   \n",
       "\n",
       "    preview  author_flair_background_color  banned_by edited call_to_action  \\\n",
       "70      NaN                            NaN        NaN    NaN            NaN   \n",
       "71      NaN                            NaN        NaN    NaN            NaN   \n",
       "\n",
       "   category num_posts  distinguished  \n",
       "70      NaN        50            NaN  \n",
       "71      NaN        50            NaN  \n",
       "\n",
       "[2 rows x 80 columns]"
      ]
     },
     "execution_count": 18,
     "metadata": {},
     "output_type": "execute_result"
    }
   ],
   "source": [
    "df[df['num_posts']==50].head(2)"
   ]
  },
  {
   "cell_type": "markdown",
   "id": "e6b1972b-10a1-40f9-a7b5-155fda82c687",
   "metadata": {},
   "source": [
    "This is written by an AutoModerator, so perhaps these posts aren't relevant?"
   ]
  },
  {
   "cell_type": "code",
   "execution_count": 19,
   "id": "1e52437b-21bf-47e5-b34e-99ea3937a873",
   "metadata": {},
   "outputs": [
    {
     "data": {
      "text/plain": [
       "70     This is a weekly thread for a more collaborati...\n",
       "71     Discuss anything on your mind with your fellow...\n",
       "168    Discuss anything on your mind with your fellow...\n",
       "290    Discuss anything on your mind with your fellow...\n",
       "386    Discuss anything on your mind with your fellow...\n",
       "Name: selftext, dtype: object"
      ]
     },
     "execution_count": 19,
     "metadata": {},
     "output_type": "execute_result"
    }
   ],
   "source": [
    "df[df['num_posts']==50]['selftext'].head(5)"
   ]
  },
  {
   "cell_type": "markdown",
   "id": "ebcd33d8-747e-4b87-a7eb-c1181211c62b",
   "metadata": {},
   "source": [
    "Confirmed: These posts are not relevant. Let's drop all posts from the author 'AutoModerator'."
   ]
  },
  {
   "cell_type": "code",
   "execution_count": 20,
   "id": "3d6c9dbc-ecc1-4b28-9ba1-9a486705c46d",
   "metadata": {},
   "outputs": [
    {
     "data": {
      "text/plain": [
       "Int64Index([  70,   71,  168,  290,  386,  448,  507,  579,  652,  653,  765,\n",
       "             862,  956, 1071, 1151, 1222, 1312, 1313, 1411, 1516, 1607, 1692,\n",
       "            1746, 1832, 1833, 1921, 1922, 2025, 2144, 2264, 2359, 2438, 2515,\n",
       "            2609, 2610, 2720, 2814, 2923, 2999, 3062, 3151, 3245, 3361, 3478,\n",
       "            3579, 3674, 3789, 3881, 3986, 3987],\n",
       "           dtype='int64')"
      ]
     },
     "execution_count": 20,
     "metadata": {},
     "output_type": "execute_result"
    }
   ],
   "source": [
    "df[df['author'] == 'AutoModerator'].index"
   ]
  },
  {
   "cell_type": "code",
   "execution_count": 21,
   "id": "af9f28e3-e1e2-4905-ac7a-903f8e0e0e19",
   "metadata": {},
   "outputs": [],
   "source": [
    "df.drop(index=df[df['author'] == 'AutoModerator'].index,inplace=True)"
   ]
  },
  {
   "cell_type": "code",
   "execution_count": 22,
   "id": "a32b366f-d725-48a9-918b-d479f16116f5",
   "metadata": {},
   "outputs": [
    {
     "data": {
      "image/png": "[encoded data removed]",
      "text/plain": [
       "<Figure size 432x288 with 1 Axes>"
      ]
     },
     "metadata": {
      "needs_background": "light"
     },
     "output_type": "display_data"
    }
   ],
   "source": [
    "plt.hist(df['num_posts'],bins=20)\n",
    "plt.title('Distribution of number of posts by user')\n",
    "plt.xlabel('Number of posts per user')\n",
    "plt.ylabel('Count');"
   ]
  },
  {
   "cell_type": "code",
   "execution_count": 23,
   "id": "2f3f18e5-c8fa-4f1b-aef1-ee88ae2c120e",
   "metadata": {},
   "outputs": [
    {
     "data": {
      "text/plain": [
       "Index(['all_awardings', 'allow_live_comments', 'author',\n",
       "       'author_flair_css_class', 'author_flair_richtext', 'author_flair_text',\n",
       "       'author_flair_type', 'author_fullname', 'author_is_blocked',\n",
       "       'author_patreon_flair', 'author_premium', 'awarders', 'can_mod_post',\n",
       "       'contest_mode', 'created_utc', 'domain', 'full_link', 'gildings', 'id',\n",
       "       'is_created_from_ads_ui', 'is_crosspostable', 'is_meta',\n",
       "       'is_original_content', 'is_reddit_media_domain', 'is_robot_indexable',\n",
       "       'is_self', 'is_video', 'link_flair_background_color',\n",
       "       'link_flair_css_class', 'link_flair_richtext', 'link_flair_template_id',\n",
       "       'link_flair_text', 'link_flair_text_color', 'link_flair_type', 'locked',\n",
       "       'media_only', 'no_follow', 'num_comments', 'num_crossposts', 'over_18',\n",
       "       'parent_whitelist_status', 'permalink', 'pinned', 'pwls',\n",
       "       'retrieved_on', 'score', 'selftext', 'send_replies', 'spoiler',\n",
       "       'stickied', 'subreddit', 'subreddit_id', 'subreddit_subscribers',\n",
       "       'subreddit_type', 'thumbnail', 'title', 'total_awards_received',\n",
       "       'treatment_tags', 'upvote_ratio', 'url', 'whitelist_status', 'wls',\n",
       "       'removed_by_category', 'author_flair_template_id',\n",
       "       'author_flair_text_color', 'author_cakeday', 'poll_data',\n",
       "       'media_metadata', 'thumbnail_height', 'thumbnail_width',\n",
       "       'suggested_sort', 'post_hint', 'preview',\n",
       "       'author_flair_background_color', 'banned_by', 'edited',\n",
       "       'call_to_action', 'category', 'num_posts', 'distinguished'],\n",
       "      dtype='object')"
      ]
     },
     "execution_count": 23,
     "metadata": {},
     "output_type": "execute_result"
    }
   ],
   "source": [
    "df.columns"
   ]
  },
  {
   "cell_type": "code",
   "execution_count": 24,
   "id": "13f78fa3-aa9b-4bd3-ba09-bc42633f7a54",
   "metadata": {},
   "outputs": [
    {
     "data": {
      "text/html": [
       "<div>\n",
       "<style scoped>\n",
       "    .dataframe tbody tr th:only-of-type {\n",
       "        vertical-align: middle;\n",
       "    }\n",
       "\n",
       "    .dataframe tbody tr th {\n",
       "        vertical-align: top;\n",
       "    }\n",
       "\n",
       "    .dataframe thead th {\n",
       "        text-align: right;\n",
       "    }\n",
       "</style>\n",
       "<table border=\"1\" class=\"dataframe\">\n",
       "  <thead>\n",
       "    <tr style=\"text-align: right;\">\n",
       "      <th></th>\n",
       "      <th>subreddit</th>\n",
       "      <th>selftext</th>\n",
       "    </tr>\n",
       "  </thead>\n",
       "  <tbody>\n",
       "    <tr>\n",
       "      <th>4824</th>\n",
       "      <td>Divorce</td>\n",
       "      <td>I almost feel hatred for him and his kids and ...</td>\n",
       "    </tr>\n",
       "    <tr>\n",
       "      <th>4913</th>\n",
       "      <td>Divorce</td>\n",
       "      <td>And starts trying to love bomb me and shit, bu...</td>\n",
       "    </tr>\n",
       "    <tr>\n",
       "      <th>4975</th>\n",
       "      <td>Divorce</td>\n",
       "      <td>One minute wants to claim me as his wife as if...</td>\n",
       "    </tr>\n",
       "    <tr>\n",
       "      <th>5057</th>\n",
       "      <td>Divorce</td>\n",
       "      <td>Talked to my husband today about his last phon...</td>\n",
       "    </tr>\n",
       "    <tr>\n",
       "      <th>5062</th>\n",
       "      <td>Divorce</td>\n",
       "      <td>I just got a text from a local number pretendi...</td>\n",
       "    </tr>\n",
       "    <tr>\n",
       "      <th>5115</th>\n",
       "      <td>Divorce</td>\n",
       "      <td>Right now it seems he’s in denial.</td>\n",
       "    </tr>\n",
       "    <tr>\n",
       "      <th>5174</th>\n",
       "      <td>Divorce</td>\n",
       "      <td>The only thing keeping me sane is God and look...</td>\n",
       "    </tr>\n",
       "    <tr>\n",
       "      <th>5209</th>\n",
       "      <td>Divorce</td>\n",
       "      <td>He’s refusing to give me more. Im out of gas a...</td>\n",
       "    </tr>\n",
       "    <tr>\n",
       "      <th>6170</th>\n",
       "      <td>Divorce</td>\n",
       "      <td>Told me he’s done and living the single life a...</td>\n",
       "    </tr>\n",
       "    <tr>\n",
       "      <th>6261</th>\n",
       "      <td>Divorce</td>\n",
       "      <td>He laughed and said that’s probably for the best</td>\n",
       "    </tr>\n",
       "    <tr>\n",
       "      <th>7056</th>\n",
       "      <td>Divorce</td>\n",
       "      <td>Because it seems he’s still fucking his ex wif...</td>\n",
       "    </tr>\n",
       "    <tr>\n",
       "      <th>7112</th>\n",
       "      <td>Divorce</td>\n",
       "      <td>It was a nightmare! It would have made a humor...</td>\n",
       "    </tr>\n",
       "    <tr>\n",
       "      <th>7431</th>\n",
       "      <td>Divorce</td>\n",
       "      <td>Well I assumed we’d live apart until we could ...</td>\n",
       "    </tr>\n",
       "    <tr>\n",
       "      <th>7469</th>\n",
       "      <td>Divorce</td>\n",
       "      <td>A little hard to accept, but it is truthful an...</td>\n",
       "    </tr>\n",
       "    <tr>\n",
       "      <th>7504</th>\n",
       "      <td>Divorce</td>\n",
       "      <td>&amp;amp; is very unlike him to go more than a ful...</td>\n",
       "    </tr>\n",
       "    <tr>\n",
       "      <th>7530</th>\n",
       "      <td>Divorce</td>\n",
       "      <td>I can’t even communicate with my husband witho...</td>\n",
       "    </tr>\n",
       "    <tr>\n",
       "      <th>7575</th>\n",
       "      <td>Divorce</td>\n",
       "      <td>26f married 48m have been married 6 months and...</td>\n",
       "    </tr>\n",
       "    <tr>\n",
       "      <th>7806</th>\n",
       "      <td>Divorce</td>\n",
       "      <td>Asking for a friend</td>\n",
       "    </tr>\n",
       "    <tr>\n",
       "      <th>7807</th>\n",
       "      <td>Divorce</td>\n",
       "      <td>Trying to understand the confusion. What?</td>\n",
       "    </tr>\n",
       "    <tr>\n",
       "      <th>7818</th>\n",
       "      <td>Divorce</td>\n",
       "      <td>But recently have had no choice. I’m unemploye...</td>\n",
       "    </tr>\n",
       "  </tbody>\n",
       "</table>\n",
       "</div>"
      ],
      "text/plain": [
       "     subreddit                                           selftext\n",
       "4824   Divorce  I almost feel hatred for him and his kids and ...\n",
       "4913   Divorce  And starts trying to love bomb me and shit, bu...\n",
       "4975   Divorce  One minute wants to claim me as his wife as if...\n",
       "5057   Divorce  Talked to my husband today about his last phon...\n",
       "5062   Divorce  I just got a text from a local number pretendi...\n",
       "5115   Divorce                 Right now it seems he’s in denial.\n",
       "5174   Divorce  The only thing keeping me sane is God and look...\n",
       "5209   Divorce  He’s refusing to give me more. Im out of gas a...\n",
       "6170   Divorce  Told me he’s done and living the single life a...\n",
       "6261   Divorce   He laughed and said that’s probably for the best\n",
       "7056   Divorce  Because it seems he’s still fucking his ex wif...\n",
       "7112   Divorce  It was a nightmare! It would have made a humor...\n",
       "7431   Divorce  Well I assumed we’d live apart until we could ...\n",
       "7469   Divorce  A little hard to accept, but it is truthful an...\n",
       "7504   Divorce  &amp; is very unlike him to go more than a ful...\n",
       "7530   Divorce  I can’t even communicate with my husband witho...\n",
       "7575   Divorce  26f married 48m have been married 6 months and...\n",
       "7806   Divorce                                Asking for a friend\n",
       "7807   Divorce          Trying to understand the confusion. What?\n",
       "7818   Divorce  But recently have had no choice. I’m unemploye..."
      ]
     },
     "execution_count": 24,
     "metadata": {},
     "output_type": "execute_result"
    }
   ],
   "source": [
    "df[df['num_posts']==20][['subreddit','selftext']]"
   ]
  },
  {
   "cell_type": "markdown",
   "id": "a399ab99-b298-45dc-ad3a-13dc9ccefaf3",
   "metadata": {},
   "source": [
    "The next most prolific poster seems to be real, so we'll leave them alone."
   ]
  },
  {
   "cell_type": "markdown",
   "id": "9b721de8-1a5b-4464-9b3d-a6c4665a0874",
   "metadata": {
    "tags": []
   },
   "source": [
    "#### Should we drop posts where selftext == [removed]?"
   ]
  },
  {
   "cell_type": "code",
   "execution_count": 25,
   "id": "502d6bfc-fa50-40b0-b09d-75bdca780dad",
   "metadata": {},
   "outputs": [
    {
     "data": {
      "text/plain": [
       "1       Officiant Arriving in Town the Day of Wedding ...\n",
       "5       Wedding in 3mo, just ruptured my Achilles’ tendon\n",
       "17                                     The Preferred List\n",
       "34                         Tipping on top of service fee?\n",
       "40                                     Am I in the wrong?\n",
       "                              ...                        \n",
       "7959    It hurts so much that STBXW doesn't seem to ca...\n",
       "7968                              How to Start Mediation?\n",
       "7969                                       Seeking advice\n",
       "7978    What do you say when your leaver spouse texts ...\n",
       "7981    She asked for a divorce on my Birthday. Is tha...\n",
       "Name: title, Length: 1161, dtype: object"
      ]
     },
     "execution_count": 25,
     "metadata": {},
     "output_type": "execute_result"
    }
   ],
   "source": [
    "df[df['selftext']=='[removed]']['title']"
   ]
  },
  {
   "cell_type": "markdown",
   "id": "b1d733a9-79a5-46cf-98d1-92cb6e331a6c",
   "metadata": {},
   "source": [
    "These posts still have a title, and it's not obvious that the posts do or do not have additional value, so I will keep them for now. However, I will keep this in mind to add '[removed'] to the stop_words"
   ]
  },
  {
   "cell_type": "markdown",
   "id": "c253bf23-5de3-41a4-87ee-ebc59bb60d6a",
   "metadata": {
    "tags": []
   },
   "source": [
    "#### How do we deal with posts with NaN in selftext?"
   ]
  },
  {
   "cell_type": "code",
   "execution_count": 26,
   "id": "8e846426-ac6c-4ff0-b369-05917978110c",
   "metadata": {},
   "outputs": [
    {
     "data": {
      "text/plain": [
       "164"
      ]
     },
     "execution_count": 26,
     "metadata": {},
     "output_type": "execute_result"
    }
   ],
   "source": [
    "df['selftext'].isna().sum()"
   ]
  },
  {
   "cell_type": "markdown",
   "id": "4933c2c6-74f2-4af6-b3a9-45ade7747ca8",
   "metadata": {},
   "source": [
    "Let's fill the NaN with 'NA' and use this as a stop_word."
   ]
  },
  {
   "cell_type": "code",
   "execution_count": 27,
   "id": "9997d74f-3b40-4c9b-aaa5-2db7eb1c7955",
   "metadata": {},
   "outputs": [],
   "source": [
    "df['selftext'] = df['selftext'].fillna('NA')"
   ]
  },
  {
   "cell_type": "code",
   "execution_count": 28,
   "id": "70c3ab45-2008-4814-8c2e-5a15fd015c1d",
   "metadata": {},
   "outputs": [
    {
     "data": {
      "text/plain": [
       "0"
      ]
     },
     "execution_count": 28,
     "metadata": {},
     "output_type": "execute_result"
    }
   ],
   "source": [
    "df['selftext'].isna().sum()"
   ]
  },
  {
   "cell_type": "markdown",
   "id": "1460b0de-b6f3-43f5-af04-b0a436722937",
   "metadata": {},
   "source": [
    "Let's confirm all posts have a title."
   ]
  },
  {
   "cell_type": "code",
   "execution_count": 29,
   "id": "f9db6ced-c5b4-459f-b0fb-bd86eb287113",
   "metadata": {},
   "outputs": [
    {
     "data": {
      "text/plain": [
       "0"
      ]
     },
     "execution_count": 29,
     "metadata": {},
     "output_type": "execute_result"
    }
   ],
   "source": [
    "df['title'].isna().sum()"
   ]
  },
  {
   "cell_type": "markdown",
   "id": "485d6527-368e-4225-afed-b43c2b657abc",
   "metadata": {
    "tags": []
   },
   "source": [
    "#### Number of unique authors"
   ]
  },
  {
   "cell_type": "code",
   "execution_count": 30,
   "id": "789856fd-0878-4c1f-af47-41a593b6bb98",
   "metadata": {},
   "outputs": [
    {
     "name": "stdout",
     "output_type": "stream",
     "text": [
      "Number of unique authors: 5644\n",
      "Mean posts per author: 1.4\n"
     ]
    }
   ],
   "source": [
    "num_unique_auth = len(df['author'].unique())\n",
    "total_posts = df.shape[0]\n",
    "print('Number of unique authors: ' + str(num_unique_auth))\n",
    "print('Mean posts per author: ' + str(round(total_posts/num_unique_auth,1)))"
   ]
  },
  {
   "cell_type": "markdown",
   "id": "1886eda2-b605-4ec0-9198-b91afd563b8f",
   "metadata": {
    "tags": []
   },
   "source": [
    "#### Let's look at length of posts and number of words in each posts."
   ]
  },
  {
   "cell_type": "code",
   "execution_count": 31,
   "id": "2fe9a56e-39ee-4845-ac05-9141616fbf91",
   "metadata": {},
   "outputs": [],
   "source": [
    "df['posts_length'] = df['selftext'].apply(len)"
   ]
  },
  {
   "cell_type": "code",
   "execution_count": 32,
   "id": "b9d0328b-6567-4d91-9f7d-0c42370ce1bd",
   "metadata": {},
   "outputs": [],
   "source": [
    "df['post_word_count'] = df['selftext'].apply(str.split).apply(len)"
   ]
  },
  {
   "cell_type": "code",
   "execution_count": 33,
   "id": "cb013753-a440-4710-83d4-0277b040ecbc",
   "metadata": {},
   "outputs": [
    {
     "data": {
      "image/png": "[encoded data removed]",
      "text/plain": [
       "<Figure size 1296x576 with 1 Axes>"
      ]
     },
     "metadata": {
      "needs_background": "light"
     },
     "output_type": "display_data"
    }
   ],
   "source": [
    "plt.figure(figsize = (18,8))\n",
    "sns.histplot(data = df, x='posts_length',hue='subreddit')\n",
    "plt.title('Distribution of post length')\n",
    "plt.xlabel('Post length, # characters')\n",
    "plt.ylabel('Count');"
   ]
  },
  {
   "cell_type": "code",
   "execution_count": 34,
   "id": "7fccf565-8779-47c9-91c3-d60707b28ed2",
   "metadata": {},
   "outputs": [
    {
     "data": {
      "image/png": "[encoded data removed]",
      "text/plain": [
       "<Figure size 1296x576 with 1 Axes>"
      ]
     },
     "metadata": {
      "needs_background": "light"
     },
     "output_type": "display_data"
    }
   ],
   "source": [
    "plt.figure(figsize = (18,8))\n",
    "sns.histplot(data = df, x='post_word_count',hue='subreddit')\n",
    "plt.title('Distribution of post word count')\n",
    "plt.xlabel('Post length, # words')\n",
    "plt.ylabel('Count');"
   ]
  },
  {
   "cell_type": "code",
   "execution_count": 35,
   "id": "f631785f-5f9a-46ad-b9cd-e7aa2ac9d358",
   "metadata": {},
   "outputs": [
    {
     "data": {
      "text/plain": [
       "270     Hi all! For the uninitiated, Jamie Wolfer is a...\n",
       "597     [First, pictures!](https://imgur.com/a/ZvcNlzt...\n",
       "637     Sorry for the long post, but the details matte...\n",
       "682     Hello 👋 and I hope your wedding planning is co...\n",
       "705     \\n\\n\\nOops, first post deleted as wrong pic fo...\n",
       "945     TLDR: If you want to have a budget bachelorett...\n",
       "1131    CW: brief, vague mention of child abuse. \\n\\n&...\n",
       "2008    A couple of years ago we got engaged. We were ...\n",
       "2194    Please don’t leave rude or negative comments, ...\n",
       "2402    &amp;#x200B;\\n\\nhttps://preview.redd.it/562afp...\n",
       "2566    A few months back I made [this pity party post...\n",
       "3040    &amp;#x200B;\\n\\nhttps://preview.redd.it/tifv3s...\n",
       "3318    Hello everyone!\\n\\nSo I am just about to decid...\n",
       "3522    We estimated $15,000 at the start when we didn...\n",
       "3647    My husband and I got married last October afte...\n",
       "3768    I'm confused y'all. I hope this is the place t...\n",
       "4165    So my STBXW left me in Summer 2019 after a yea...\n",
       "4236    I guess I'm seeking support from this communit...\n",
       "4627    I’ve finally made it. My stbxh comes to pick u...\n",
       "4672    It's been 3 weeks since my last post.  I left ...\n",
       "4711    I haven’t loved him in so long. I haven’t love...\n",
       "4717    I'm so emotionally and physically exhausted th...\n",
       "4972    I had been anticipating the day. I filed back ...\n",
       "4989    Mourning the loss of my marriage pales in comp...\n",
       "5015    2 summers Ago my grandmother passed away. She ...\n",
       "5134    Hi there! This is my first post on Reddit and ...\n",
       "5510    This is going to be a long one, but hopefully ...\n",
       "5524    Not a throwaway, but an alt account, for obvio...\n",
       "5668    Sorry this is a little long, and I might sound...\n",
       "5679    Here's my story and I could really use some wo...\n",
       "5685       My ex ghost the marriage while working over...\n",
       "5695    Back when we were in relationship before marri...\n",
       "5742    Beware, this is something I just pumped out wh...\n",
       "5746    I’m 16 and my dad recently (4 months ago) move...\n",
       "5768    My husband (36) and me (24) have been married ...\n",
       "5771    I have come to terms with the fact that althou...\n",
       "5809    ...really, even longer than that if I am being...\n",
       "5822    \\n\\nI (37M Larry) am going to tell my Wife (42...\n",
       "5945    Please delete if not allowed or let me know if...\n",
       "6034    It’s been a while since I’ve said anything. My...\n",
       "6145    I'm hoping someone here might be able to give ...\n",
       "6286    I'm on mobile, so I apologize for formatting. ...\n",
       "6318    My (33m) wife (34f) have been together for 13 ...\n",
       "6462    Separated Feb 2018\\n\\nDivorced June 2020\\n\\nLi...\n",
       "6585    It's finally happening and I didn't want to be...\n",
       "6736    My (54m) ex wife (54f) and I moved to the same...\n",
       "6929     I will try to describe the story as understan...\n",
       "7327    Hello everyone,\\n\\nTl;dr: My story and asking ...\n",
       "7359    I am genuinely lost and just in awe. My wife i...\n",
       "7463    TLDR: 7 year marriage, I felt that I have clos...\n",
       "7516    Have any dads here been in the situation where...\n",
       "7547    I'm sorry for the long post. I just really nee...\n",
       "7652    This is a bit long, sorry in advance.\\n\\nMet m...\n",
       "7686    Dear Husband,\\n\\nThere are times that I am spe...\n",
       "7719    Short time lurker, first time poster.  I need ...\n",
       "7748    Alright. So. This is another 'I'm not proud of...\n",
       "7777    Ok I'm not sure if I'm in the right place but ...\n",
       "7867    35F mother of 2, 7M and 9D shared with 33M, to...\n",
       "Name: selftext, dtype: object"
      ]
     },
     "execution_count": 35,
     "metadata": {},
     "output_type": "execute_result"
    }
   ],
   "source": [
    "df[df['posts_length'] > 6000]['selftext']"
   ]
  },
  {
   "cell_type": "markdown",
   "id": "1cefdeff-79ef-41df-b9a7-a05997ee3e8b",
   "metadata": {},
   "source": [
    "These very long posts seem to be real, so I will leave them alone"
   ]
  },
  {
   "cell_type": "markdown",
   "id": "d45e93a5-4ad5-4f39-b521-f649c4ecf9eb",
   "metadata": {
    "tags": []
   },
   "source": [
    "#### Let's see if there are any duplicate posts."
   ]
  },
  {
   "cell_type": "code",
   "execution_count": 36,
   "id": "aba3eb9b-927b-4deb-a0d6-323424bfbb3a",
   "metadata": {},
   "outputs": [
    {
     "data": {
      "text/plain": [
       "(7949, 82)"
      ]
     },
     "execution_count": 36,
     "metadata": {},
     "output_type": "execute_result"
    }
   ],
   "source": [
    "df.shape"
   ]
  },
  {
   "cell_type": "code",
   "execution_count": 37,
   "id": "6f88d853-1580-4c1d-890b-159b546adc9e",
   "metadata": {},
   "outputs": [
    {
     "data": {
      "text/html": [
       "<div>\n",
       "<style scoped>\n",
       "    .dataframe tbody tr th:only-of-type {\n",
       "        vertical-align: middle;\n",
       "    }\n",
       "\n",
       "    .dataframe tbody tr th {\n",
       "        vertical-align: top;\n",
       "    }\n",
       "\n",
       "    .dataframe thead th {\n",
       "        text-align: right;\n",
       "    }\n",
       "</style>\n",
       "<table border=\"1\" class=\"dataframe\">\n",
       "  <thead>\n",
       "    <tr style=\"text-align: right;\">\n",
       "      <th></th>\n",
       "      <th>all_awardings</th>\n",
       "      <th>allow_live_comments</th>\n",
       "      <th>author</th>\n",
       "      <th>author_flair_css_class</th>\n",
       "      <th>author_flair_richtext</th>\n",
       "      <th>author_flair_text</th>\n",
       "      <th>author_flair_type</th>\n",
       "      <th>author_fullname</th>\n",
       "      <th>author_is_blocked</th>\n",
       "      <th>author_patreon_flair</th>\n",
       "      <th>...</th>\n",
       "      <th>preview</th>\n",
       "      <th>author_flair_background_color</th>\n",
       "      <th>banned_by</th>\n",
       "      <th>edited</th>\n",
       "      <th>call_to_action</th>\n",
       "      <th>category</th>\n",
       "      <th>num_posts</th>\n",
       "      <th>distinguished</th>\n",
       "      <th>posts_length</th>\n",
       "      <th>post_word_count</th>\n",
       "    </tr>\n",
       "  </thead>\n",
       "  <tbody>\n",
       "    <tr>\n",
       "      <th>0</th>\n",
       "      <td>[]</td>\n",
       "      <td>False</td>\n",
       "      <td>theallusionist</td>\n",
       "      <td>NaN</td>\n",
       "      <td>[]</td>\n",
       "      <td>NaN</td>\n",
       "      <td>text</td>\n",
       "      <td>t2_7685k</td>\n",
       "      <td>False</td>\n",
       "      <td>False</td>\n",
       "      <td>...</td>\n",
       "      <td>NaN</td>\n",
       "      <td>NaN</td>\n",
       "      <td>NaN</td>\n",
       "      <td>NaN</td>\n",
       "      <td>NaN</td>\n",
       "      <td>NaN</td>\n",
       "      <td>1</td>\n",
       "      <td>NaN</td>\n",
       "      <td>503</td>\n",
       "      <td>80</td>\n",
       "    </tr>\n",
       "    <tr>\n",
       "      <th>1</th>\n",
       "      <td>[]</td>\n",
       "      <td>False</td>\n",
       "      <td>Asleep_Contest2388</td>\n",
       "      <td>NaN</td>\n",
       "      <td>[]</td>\n",
       "      <td>NaN</td>\n",
       "      <td>text</td>\n",
       "      <td>t2_m8qjrlnv</td>\n",
       "      <td>False</td>\n",
       "      <td>False</td>\n",
       "      <td>...</td>\n",
       "      <td>NaN</td>\n",
       "      <td>NaN</td>\n",
       "      <td>NaN</td>\n",
       "      <td>NaN</td>\n",
       "      <td>NaN</td>\n",
       "      <td>NaN</td>\n",
       "      <td>1</td>\n",
       "      <td>NaN</td>\n",
       "      <td>9</td>\n",
       "      <td>1</td>\n",
       "    </tr>\n",
       "    <tr>\n",
       "      <th>2</th>\n",
       "      <td>[]</td>\n",
       "      <td>False</td>\n",
       "      <td>J3llyDonut</td>\n",
       "      <td>NaN</td>\n",
       "      <td>[]</td>\n",
       "      <td>NaN</td>\n",
       "      <td>text</td>\n",
       "      <td>t2_iaek90tb</td>\n",
       "      <td>False</td>\n",
       "      <td>False</td>\n",
       "      <td>...</td>\n",
       "      <td>NaN</td>\n",
       "      <td>NaN</td>\n",
       "      <td>NaN</td>\n",
       "      <td>NaN</td>\n",
       "      <td>NaN</td>\n",
       "      <td>NaN</td>\n",
       "      <td>3</td>\n",
       "      <td>NaN</td>\n",
       "      <td>752</td>\n",
       "      <td>139</td>\n",
       "    </tr>\n",
       "    <tr>\n",
       "      <th>3</th>\n",
       "      <td>[]</td>\n",
       "      <td>False</td>\n",
       "      <td>Wednesday_Atoms</td>\n",
       "      <td>NaN</td>\n",
       "      <td>[]</td>\n",
       "      <td>NaN</td>\n",
       "      <td>text</td>\n",
       "      <td>t2_ccasgn</td>\n",
       "      <td>False</td>\n",
       "      <td>False</td>\n",
       "      <td>...</td>\n",
       "      <td>NaN</td>\n",
       "      <td>NaN</td>\n",
       "      <td>NaN</td>\n",
       "      <td>NaN</td>\n",
       "      <td>NaN</td>\n",
       "      <td>NaN</td>\n",
       "      <td>1</td>\n",
       "      <td>NaN</td>\n",
       "      <td>1827</td>\n",
       "      <td>342</td>\n",
       "    </tr>\n",
       "    <tr>\n",
       "      <th>4</th>\n",
       "      <td>[]</td>\n",
       "      <td>False</td>\n",
       "      <td>EudoxiaPrade</td>\n",
       "      <td>NaN</td>\n",
       "      <td>[]</td>\n",
       "      <td>NaN</td>\n",
       "      <td>text</td>\n",
       "      <td>t2_itfve</td>\n",
       "      <td>False</td>\n",
       "      <td>False</td>\n",
       "      <td>...</td>\n",
       "      <td>NaN</td>\n",
       "      <td>NaN</td>\n",
       "      <td>NaN</td>\n",
       "      <td>NaN</td>\n",
       "      <td>NaN</td>\n",
       "      <td>NaN</td>\n",
       "      <td>1</td>\n",
       "      <td>NaN</td>\n",
       "      <td>2211</td>\n",
       "      <td>427</td>\n",
       "    </tr>\n",
       "    <tr>\n",
       "      <th>...</th>\n",
       "      <td>...</td>\n",
       "      <td>...</td>\n",
       "      <td>...</td>\n",
       "      <td>...</td>\n",
       "      <td>...</td>\n",
       "      <td>...</td>\n",
       "      <td>...</td>\n",
       "      <td>...</td>\n",
       "      <td>...</td>\n",
       "      <td>...</td>\n",
       "      <td>...</td>\n",
       "      <td>...</td>\n",
       "      <td>...</td>\n",
       "      <td>...</td>\n",
       "      <td>...</td>\n",
       "      <td>...</td>\n",
       "      <td>...</td>\n",
       "      <td>...</td>\n",
       "      <td>...</td>\n",
       "      <td>...</td>\n",
       "      <td>...</td>\n",
       "    </tr>\n",
       "    <tr>\n",
       "      <th>7994</th>\n",
       "      <td>[]</td>\n",
       "      <td>False</td>\n",
       "      <td>btmbusby</td>\n",
       "      <td>NaN</td>\n",
       "      <td>[]</td>\n",
       "      <td>NaN</td>\n",
       "      <td>text</td>\n",
       "      <td>t2_12l40v</td>\n",
       "      <td>False</td>\n",
       "      <td>False</td>\n",
       "      <td>...</td>\n",
       "      <td>NaN</td>\n",
       "      <td>NaN</td>\n",
       "      <td>NaN</td>\n",
       "      <td>NaN</td>\n",
       "      <td>NaN</td>\n",
       "      <td>NaN</td>\n",
       "      <td>1</td>\n",
       "      <td>NaN</td>\n",
       "      <td>2055</td>\n",
       "      <td>395</td>\n",
       "    </tr>\n",
       "    <tr>\n",
       "      <th>7995</th>\n",
       "      <td>[]</td>\n",
       "      <td>False</td>\n",
       "      <td>MinnCali</td>\n",
       "      <td>NaN</td>\n",
       "      <td>[]</td>\n",
       "      <td>NaN</td>\n",
       "      <td>text</td>\n",
       "      <td>t2_eumpx3ir</td>\n",
       "      <td>False</td>\n",
       "      <td>False</td>\n",
       "      <td>...</td>\n",
       "      <td>NaN</td>\n",
       "      <td>NaN</td>\n",
       "      <td>NaN</td>\n",
       "      <td>NaN</td>\n",
       "      <td>NaN</td>\n",
       "      <td>NaN</td>\n",
       "      <td>1</td>\n",
       "      <td>NaN</td>\n",
       "      <td>1049</td>\n",
       "      <td>211</td>\n",
       "    </tr>\n",
       "    <tr>\n",
       "      <th>7996</th>\n",
       "      <td>[]</td>\n",
       "      <td>False</td>\n",
       "      <td>tinmaridedonpingue</td>\n",
       "      <td>NaN</td>\n",
       "      <td>[]</td>\n",
       "      <td>NaN</td>\n",
       "      <td>text</td>\n",
       "      <td>t2_16fxed</td>\n",
       "      <td>False</td>\n",
       "      <td>False</td>\n",
       "      <td>...</td>\n",
       "      <td>NaN</td>\n",
       "      <td>NaN</td>\n",
       "      <td>NaN</td>\n",
       "      <td>NaN</td>\n",
       "      <td>NaN</td>\n",
       "      <td>NaN</td>\n",
       "      <td>2</td>\n",
       "      <td>NaN</td>\n",
       "      <td>370</td>\n",
       "      <td>71</td>\n",
       "    </tr>\n",
       "    <tr>\n",
       "      <th>7997</th>\n",
       "      <td>[]</td>\n",
       "      <td>False</td>\n",
       "      <td>newlife92021</td>\n",
       "      <td>NaN</td>\n",
       "      <td>[]</td>\n",
       "      <td>NaN</td>\n",
       "      <td>text</td>\n",
       "      <td>t2_en3mluz8</td>\n",
       "      <td>False</td>\n",
       "      <td>False</td>\n",
       "      <td>...</td>\n",
       "      <td>NaN</td>\n",
       "      <td>NaN</td>\n",
       "      <td>NaN</td>\n",
       "      <td>NaN</td>\n",
       "      <td>NaN</td>\n",
       "      <td>NaN</td>\n",
       "      <td>3</td>\n",
       "      <td>NaN</td>\n",
       "      <td>1428</td>\n",
       "      <td>268</td>\n",
       "    </tr>\n",
       "    <tr>\n",
       "      <th>7998</th>\n",
       "      <td>[]</td>\n",
       "      <td>False</td>\n",
       "      <td>Pleasant-Series1472</td>\n",
       "      <td>NaN</td>\n",
       "      <td>[]</td>\n",
       "      <td>NaN</td>\n",
       "      <td>text</td>\n",
       "      <td>t2_8wf79o7k</td>\n",
       "      <td>False</td>\n",
       "      <td>False</td>\n",
       "      <td>...</td>\n",
       "      <td>NaN</td>\n",
       "      <td>NaN</td>\n",
       "      <td>NaN</td>\n",
       "      <td>NaN</td>\n",
       "      <td>NaN</td>\n",
       "      <td>NaN</td>\n",
       "      <td>1</td>\n",
       "      <td>NaN</td>\n",
       "      <td>309</td>\n",
       "      <td>59</td>\n",
       "    </tr>\n",
       "  </tbody>\n",
       "</table>\n",
       "<p>7844 rows × 82 columns</p>\n",
       "</div>"
      ],
      "text/plain": [
       "     all_awardings  allow_live_comments               author  \\\n",
       "0               []                False       theallusionist   \n",
       "1               []                False   Asleep_Contest2388   \n",
       "2               []                False           J3llyDonut   \n",
       "3               []                False      Wednesday_Atoms   \n",
       "4               []                False         EudoxiaPrade   \n",
       "...            ...                  ...                  ...   \n",
       "7994            []                False             btmbusby   \n",
       "7995            []                False             MinnCali   \n",
       "7996            []                False   tinmaridedonpingue   \n",
       "7997            []                False         newlife92021   \n",
       "7998            []                False  Pleasant-Series1472   \n",
       "\n",
       "     author_flair_css_class author_flair_richtext author_flair_text  \\\n",
       "0                       NaN                    []               NaN   \n",
       "1                       NaN                    []               NaN   \n",
       "2                       NaN                    []               NaN   \n",
       "3                       NaN                    []               NaN   \n",
       "4                       NaN                    []               NaN   \n",
       "...                     ...                   ...               ...   \n",
       "7994                    NaN                    []               NaN   \n",
       "7995                    NaN                    []               NaN   \n",
       "7996                    NaN                    []               NaN   \n",
       "7997                    NaN                    []               NaN   \n",
       "7998                    NaN                    []               NaN   \n",
       "\n",
       "     author_flair_type author_fullname  author_is_blocked  \\\n",
       "0                 text        t2_7685k              False   \n",
       "1                 text     t2_m8qjrlnv              False   \n",
       "2                 text     t2_iaek90tb              False   \n",
       "3                 text       t2_ccasgn              False   \n",
       "4                 text        t2_itfve              False   \n",
       "...                ...             ...                ...   \n",
       "7994              text       t2_12l40v              False   \n",
       "7995              text     t2_eumpx3ir              False   \n",
       "7996              text       t2_16fxed              False   \n",
       "7997              text     t2_en3mluz8              False   \n",
       "7998              text     t2_8wf79o7k              False   \n",
       "\n",
       "     author_patreon_flair  ... preview author_flair_background_color  \\\n",
       "0                   False  ...     NaN                           NaN   \n",
       "1                   False  ...     NaN                           NaN   \n",
       "2                   False  ...     NaN                           NaN   \n",
       "3                   False  ...     NaN                           NaN   \n",
       "4                   False  ...     NaN                           NaN   \n",
       "...                   ...  ...     ...                           ...   \n",
       "7994                False  ...     NaN                           NaN   \n",
       "7995                False  ...     NaN                           NaN   \n",
       "7996                False  ...     NaN                           NaN   \n",
       "7997                False  ...     NaN                           NaN   \n",
       "7998                False  ...     NaN                           NaN   \n",
       "\n",
       "      banned_by  edited  call_to_action category num_posts distinguished  \\\n",
       "0           NaN     NaN             NaN      NaN         1           NaN   \n",
       "1           NaN     NaN             NaN      NaN         1           NaN   \n",
       "2           NaN     NaN             NaN      NaN         3           NaN   \n",
       "3           NaN     NaN             NaN      NaN         1           NaN   \n",
       "4           NaN     NaN             NaN      NaN         1           NaN   \n",
       "...         ...     ...             ...      ...       ...           ...   \n",
       "7994        NaN     NaN             NaN      NaN         1           NaN   \n",
       "7995        NaN     NaN             NaN      NaN         1           NaN   \n",
       "7996        NaN     NaN             NaN      NaN         2           NaN   \n",
       "7997        NaN     NaN             NaN      NaN         3           NaN   \n",
       "7998        NaN     NaN             NaN      NaN         1           NaN   \n",
       "\n",
       "     posts_length  post_word_count  \n",
       "0             503               80  \n",
       "1               9                1  \n",
       "2             752              139  \n",
       "3            1827              342  \n",
       "4            2211              427  \n",
       "...           ...              ...  \n",
       "7994         2055              395  \n",
       "7995         1049              211  \n",
       "7996          370               71  \n",
       "7997         1428              268  \n",
       "7998          309               59  \n",
       "\n",
       "[7844 rows x 82 columns]"
      ]
     },
     "execution_count": 37,
     "metadata": {},
     "output_type": "execute_result"
    }
   ],
   "source": [
    "df.drop_duplicates(subset=['title'])"
   ]
  },
  {
   "cell_type": "markdown",
   "id": "20ef1ad6-3c48-4a01-b8cc-5a56e6b9038c",
   "metadata": {},
   "source": [
    "It seems there are a number of duplicates... let's explore those."
   ]
  },
  {
   "cell_type": "code",
   "execution_count": 38,
   "id": "b81492f4-274f-4e6e-8bcf-2c53a3996aec",
   "metadata": {},
   "outputs": [],
   "source": [
    "post_count = list(zip(df['selftext'].value_counts().keys(),df['selftext'].value_counts()))"
   ]
  },
  {
   "cell_type": "markdown",
   "id": "55c0c95e-a59a-461f-baa7-b85d6143e3ff",
   "metadata": {},
   "source": [
    "Most of the duplicates are the removed, NA, or deleted posts, but some are real duplicates. Let's drop these duplicates."
   ]
  },
  {
   "cell_type": "code",
   "execution_count": 39,
   "id": "683799b3-27d9-4374-b57f-184c371a9f8b",
   "metadata": {},
   "outputs": [],
   "source": [
    "duplicates = [x[0] for x in post_count if x[1] > 1][3::]"
   ]
  },
  {
   "cell_type": "code",
   "execution_count": 40,
   "id": "51a7079b-b4d1-49b7-a5c4-4988bdd7834a",
   "metadata": {},
   "outputs": [],
   "source": [
    "duplicates_index = [df[df['selftext']==x].index[1:] for x in duplicates]"
   ]
  },
  {
   "cell_type": "code",
   "execution_count": 41,
   "id": "3ed7faac-cbff-406c-9533-2ed470a96ced",
   "metadata": {},
   "outputs": [
    {
     "data": {
      "text/plain": [
       "[Int64Index([6842], dtype='int64'),\n",
       " Int64Index([7097], dtype='int64'),\n",
       " Int64Index([5631], dtype='int64'),\n",
       " Int64Index([5206], dtype='int64'),\n",
       " Int64Index([7803], dtype='int64'),\n",
       " Int64Index([7031], dtype='int64'),\n",
       " Int64Index([6570], dtype='int64'),\n",
       " Int64Index([4203], dtype='int64'),\n",
       " Int64Index([4897], dtype='int64'),\n",
       " Int64Index([1283], dtype='int64'),\n",
       " Int64Index([2398], dtype='int64'),\n",
       " Int64Index([4172], dtype='int64'),\n",
       " Int64Index([6559], dtype='int64'),\n",
       " Int64Index([6576], dtype='int64'),\n",
       " Int64Index([4096], dtype='int64'),\n",
       " Int64Index([6761], dtype='int64')]"
      ]
     },
     "execution_count": 41,
     "metadata": {},
     "output_type": "execute_result"
    }
   ],
   "source": [
    "duplicates_index"
   ]
  },
  {
   "cell_type": "code",
   "execution_count": 42,
   "id": "65f09788-b12c-4d4b-b49a-ff07cb8e7410",
   "metadata": {},
   "outputs": [],
   "source": [
    "for x in duplicates_index:\n",
    "    df.drop(index=x,inplace=True)"
   ]
  },
  {
   "cell_type": "code",
   "execution_count": 43,
   "id": "7540cef2-ccbb-440a-8107-d0a800b607c9",
   "metadata": {},
   "outputs": [
    {
     "data": {
      "text/plain": [
       "(7933, 82)"
      ]
     },
     "execution_count": 43,
     "metadata": {},
     "output_type": "execute_result"
    }
   ],
   "source": [
    "df.shape"
   ]
  },
  {
   "cell_type": "markdown",
   "id": "12094cb4-f48f-4b7a-a397-7ad64c3674b6",
   "metadata": {},
   "source": [
    "### Save Cleaned DF for use in other notebooks"
   ]
  },
  {
   "cell_type": "code",
   "execution_count": 44,
   "id": "b54e6d40-0f85-4f4b-a70e-4e9c8d090d1c",
   "metadata": {},
   "outputs": [],
   "source": [
    "#df.to_csv('../datasets/combined_cleaned.csv',index=False)"
   ]
  },
  {
   "cell_type": "markdown",
   "id": "dc6fd99f-df39-4dac-9ffd-a445db569ed2",
   "metadata": {
    "tags": []
   },
   "source": [
    "### EDA on Word Counts"
   ]
  },
  {
   "cell_type": "markdown",
   "id": "821d060a-099e-487a-ac47-7910af760e99",
   "metadata": {},
   "source": [
    "#### Create own stop words list"
   ]
  },
  {
   "cell_type": "code",
   "execution_count": 45,
   "id": "9a783c7f-4b5d-4004-ba4e-411802ca04ea",
   "metadata": {},
   "outputs": [],
   "source": [
    "add_stop_words = ['na','removed','deleted','would','like','get','really']"
   ]
  },
  {
   "cell_type": "code",
   "execution_count": 46,
   "id": "0dcf8a8c-9050-44ed-98be-40f579fbf261",
   "metadata": {},
   "outputs": [],
   "source": [
    "stop_words = stopwords.words('english')"
   ]
  },
  {
   "cell_type": "code",
   "execution_count": 47,
   "id": "93fc9181-cc28-46ff-8a52-39c2bd42931a",
   "metadata": {},
   "outputs": [
    {
     "name": "stdout",
     "output_type": "stream",
     "text": [
      "Stored 'stop_words' (list)\n"
     ]
    }
   ],
   "source": [
    "for word in add_stop_words:\n",
    "    stop_words.append(word)\n",
    "    \n",
    "%store stop_words"
   ]
  },
  {
   "cell_type": "markdown",
   "id": "c5f96068-1c0d-4f72-a81b-337fbc4c2a49",
   "metadata": {
    "tags": []
   },
   "source": [
    "#### Instantiate and fit Count Vectorizer for selftext"
   ]
  },
  {
   "cell_type": "code",
   "execution_count": 48,
   "id": "daa41793-8b2f-48e2-b57e-cd7c6003e166",
   "metadata": {},
   "outputs": [],
   "source": [
    "cv = CountVectorizer(stop_words=stop_words,ngram_range=(1,3),min_df=4,max_df=1.0,strip_accents='unicode')"
   ]
  },
  {
   "cell_type": "code",
   "execution_count": 49,
   "id": "af52d314-e3e3-4a26-a1e9-5b56fb343606",
   "metadata": {},
   "outputs": [
    {
     "data": {
      "text/plain": [
       "CountVectorizer(min_df=4, ngram_range=(1, 3),\n",
       "                stop_words=['i', 'me', 'my', 'myself', 'we', 'our', 'ours',\n",
       "                            'ourselves', 'you', \"you're\", \"you've\", \"you'll\",\n",
       "                            \"you'd\", 'your', 'yours', 'yourself', 'yourselves',\n",
       "                            'he', 'him', 'his', 'himself', 'she', \"she's\",\n",
       "                            'her', 'hers', 'herself', 'it', \"it's\", 'its',\n",
       "                            'itself', ...],\n",
       "                strip_accents='unicode')"
      ]
     },
     "execution_count": 49,
     "metadata": {},
     "output_type": "execute_result"
    }
   ],
   "source": [
    "cv.fit(df['selftext'])"
   ]
  },
  {
   "cell_type": "code",
   "execution_count": 50,
   "id": "a6640b90-ba13-45d9-9643-fa0c9d009b48",
   "metadata": {},
   "outputs": [],
   "source": [
    "selftext_vect = cv.transform(df['selftext'])"
   ]
  },
  {
   "cell_type": "code",
   "execution_count": 51,
   "id": "aefd022a-4f01-4cbe-9c5d-87fafc5f52c7",
   "metadata": {},
   "outputs": [],
   "source": [
    "df_selftext_vect = pd.DataFrame(selftext_vect.A, columns=cv.get_feature_names_out())"
   ]
  },
  {
   "cell_type": "code",
   "execution_count": 52,
   "id": "d7d56185-7cf3-4e62-b290-fff60e2d5842",
   "metadata": {},
   "outputs": [],
   "source": [
    "df_selftext_vect['subreddit'] = df['subreddit']"
   ]
  },
  {
   "cell_type": "code",
   "execution_count": 53,
   "id": "3a36a94e-ce37-421e-bda0-ca521da39c02",
   "metadata": {},
   "outputs": [],
   "source": [
    "df_selftext_vect['subreddit_div'] = [1 if x == 'Divorce' else 0 for x in df['subreddit']]"
   ]
  },
  {
   "cell_type": "code",
   "execution_count": 54,
   "id": "d5a6e00d-6a0d-476b-af8c-d4fa34ab51f6",
   "metadata": {},
   "outputs": [
    {
     "data": {
      "text/plain": [
       "25581"
      ]
     },
     "execution_count": 54,
     "metadata": {},
     "output_type": "execute_result"
    }
   ],
   "source": [
    "len(df_selftext_vect.columns)"
   ]
  },
  {
   "cell_type": "code",
   "execution_count": 55,
   "id": "0e905bf8-88ad-4a2a-9827-f482f10a8767",
   "metadata": {},
   "outputs": [],
   "source": [
    "most_common_words_selftext = df_selftext_vect.drop(columns=['subreddit','subreddit_div']).sum().sort_values(ascending=False).head(30)"
   ]
  },
  {
   "cell_type": "code",
   "execution_count": 56,
   "id": "a9cf9ad9-2f78-4c99-a45e-4f1482ea589e",
   "metadata": {},
   "outputs": [],
   "source": [
    "df_most_common_words_selftext = pd.DataFrame(most_common_words_selftext, columns=['selftext'])\n",
    "df_most_common_words_selftext['div_frequency_selftext'] = [df_selftext_vect[df_selftext_vect[word]>0]['subreddit_div'].mean() for word in most_common_words_selftext.keys()]"
   ]
  },
  {
   "cell_type": "code",
   "execution_count": 57,
   "id": "d8ef271c-a8cf-4551-943b-ac4f10475d14",
   "metadata": {},
   "outputs": [
    {
     "data": {
      "text/html": [
       "<div>\n",
       "<style scoped>\n",
       "    .dataframe tbody tr th:only-of-type {\n",
       "        vertical-align: middle;\n",
       "    }\n",
       "\n",
       "    .dataframe tbody tr th {\n",
       "        vertical-align: top;\n",
       "    }\n",
       "\n",
       "    .dataframe thead th {\n",
       "        text-align: right;\n",
       "    }\n",
       "</style>\n",
       "<table border=\"1\" class=\"dataframe\">\n",
       "  <thead>\n",
       "    <tr style=\"text-align: right;\">\n",
       "      <th></th>\n",
       "      <th>selftext</th>\n",
       "      <th>div_frequency_selftext</th>\n",
       "    </tr>\n",
       "  </thead>\n",
       "  <tbody>\n",
       "    <tr>\n",
       "      <th>wedding</th>\n",
       "      <td>4702</td>\n",
       "      <td>0.039901</td>\n",
       "    </tr>\n",
       "    <tr>\n",
       "      <th>want</th>\n",
       "      <td>4535</td>\n",
       "      <td>0.553183</td>\n",
       "    </tr>\n",
       "    <tr>\n",
       "      <th>know</th>\n",
       "      <td>4059</td>\n",
       "      <td>0.593881</td>\n",
       "    </tr>\n",
       "    <tr>\n",
       "      <th>time</th>\n",
       "      <td>3803</td>\n",
       "      <td>0.664720</td>\n",
       "    </tr>\n",
       "    <tr>\n",
       "      <th>feel</th>\n",
       "      <td>3236</td>\n",
       "      <td>0.630378</td>\n",
       "    </tr>\n",
       "    <tr>\n",
       "      <th>one</th>\n",
       "      <td>3166</td>\n",
       "      <td>0.543060</td>\n",
       "    </tr>\n",
       "    <tr>\n",
       "      <th>divorce</th>\n",
       "      <td>3031</td>\n",
       "      <td>0.994423</td>\n",
       "    </tr>\n",
       "    <tr>\n",
       "      <th>years</th>\n",
       "      <td>2899</td>\n",
       "      <td>0.830448</td>\n",
       "    </tr>\n",
       "    <tr>\n",
       "      <th>even</th>\n",
       "      <td>2541</td>\n",
       "      <td>0.652469</td>\n",
       "    </tr>\n",
       "    <tr>\n",
       "      <th>going</th>\n",
       "      <td>2494</td>\n",
       "      <td>0.618452</td>\n",
       "    </tr>\n",
       "    <tr>\n",
       "      <th>things</th>\n",
       "      <td>2408</td>\n",
       "      <td>0.700831</td>\n",
       "    </tr>\n",
       "    <tr>\n",
       "      <th>also</th>\n",
       "      <td>2314</td>\n",
       "      <td>0.476943</td>\n",
       "    </tr>\n",
       "    <tr>\n",
       "      <th>family</th>\n",
       "      <td>2303</td>\n",
       "      <td>0.561013</td>\n",
       "    </tr>\n",
       "    <tr>\n",
       "      <th>kids</th>\n",
       "      <td>2261</td>\n",
       "      <td>0.904197</td>\n",
       "    </tr>\n",
       "    <tr>\n",
       "      <th>still</th>\n",
       "      <td>2184</td>\n",
       "      <td>0.689917</td>\n",
       "    </tr>\n",
       "    <tr>\n",
       "      <th>back</th>\n",
       "      <td>2179</td>\n",
       "      <td>0.721017</td>\n",
       "    </tr>\n",
       "    <tr>\n",
       "      <th>people</th>\n",
       "      <td>2146</td>\n",
       "      <td>0.384446</td>\n",
       "    </tr>\n",
       "    <tr>\n",
       "      <th>day</th>\n",
       "      <td>2120</td>\n",
       "      <td>0.509615</td>\n",
       "    </tr>\n",
       "    <tr>\n",
       "      <th>much</th>\n",
       "      <td>2112</td>\n",
       "      <td>0.596479</td>\n",
       "    </tr>\n",
       "    <tr>\n",
       "      <th>go</th>\n",
       "      <td>2111</td>\n",
       "      <td>0.639511</td>\n",
       "    </tr>\n",
       "    <tr>\n",
       "      <th>got</th>\n",
       "      <td>1957</td>\n",
       "      <td>0.643780</td>\n",
       "    </tr>\n",
       "    <tr>\n",
       "      <th>us</th>\n",
       "      <td>1948</td>\n",
       "      <td>0.525327</td>\n",
       "    </tr>\n",
       "    <tr>\n",
       "      <th>make</th>\n",
       "      <td>1938</td>\n",
       "      <td>0.584727</td>\n",
       "    </tr>\n",
       "    <tr>\n",
       "      <th>think</th>\n",
       "      <td>1888</td>\n",
       "      <td>0.573034</td>\n",
       "    </tr>\n",
       "    <tr>\n",
       "      <th>love</th>\n",
       "      <td>1884</td>\n",
       "      <td>0.559200</td>\n",
       "    </tr>\n",
       "    <tr>\n",
       "      <th>said</th>\n",
       "      <td>1879</td>\n",
       "      <td>0.661896</td>\n",
       "    </tr>\n",
       "    <tr>\n",
       "      <th>married</th>\n",
       "      <td>1834</td>\n",
       "      <td>0.630451</td>\n",
       "    </tr>\n",
       "    <tr>\n",
       "      <th>work</th>\n",
       "      <td>1816</td>\n",
       "      <td>0.777682</td>\n",
       "    </tr>\n",
       "    <tr>\n",
       "      <th>since</th>\n",
       "      <td>1789</td>\n",
       "      <td>0.639207</td>\n",
       "    </tr>\n",
       "    <tr>\n",
       "      <th>never</th>\n",
       "      <td>1789</td>\n",
       "      <td>0.732358</td>\n",
       "    </tr>\n",
       "  </tbody>\n",
       "</table>\n",
       "</div>"
      ],
      "text/plain": [
       "         selftext  div_frequency_selftext\n",
       "wedding      4702                0.039901\n",
       "want         4535                0.553183\n",
       "know         4059                0.593881\n",
       "time         3803                0.664720\n",
       "feel         3236                0.630378\n",
       "one          3166                0.543060\n",
       "divorce      3031                0.994423\n",
       "years        2899                0.830448\n",
       "even         2541                0.652469\n",
       "going        2494                0.618452\n",
       "things       2408                0.700831\n",
       "also         2314                0.476943\n",
       "family       2303                0.561013\n",
       "kids         2261                0.904197\n",
       "still        2184                0.689917\n",
       "back         2179                0.721017\n",
       "people       2146                0.384446\n",
       "day          2120                0.509615\n",
       "much         2112                0.596479\n",
       "go           2111                0.639511\n",
       "got          1957                0.643780\n",
       "us           1948                0.525327\n",
       "make         1938                0.584727\n",
       "think        1888                0.573034\n",
       "love         1884                0.559200\n",
       "said         1879                0.661896\n",
       "married      1834                0.630451\n",
       "work         1816                0.777682\n",
       "since        1789                0.639207\n",
       "never        1789                0.732358"
      ]
     },
     "execution_count": 57,
     "metadata": {},
     "output_type": "execute_result"
    }
   ],
   "source": [
    "df_most_common_words_selftext"
   ]
  },
  {
   "cell_type": "code",
   "execution_count": 58,
   "id": "11737e0c-17a4-42ba-918e-0f76b5c2d4af",
   "metadata": {},
   "outputs": [
    {
     "data": {
      "image/png": "[encoded data removed]",
      "text/plain": [
       "<Figure size 432x288 with 1 Axes>"
      ]
     },
     "metadata": {
      "needs_background": "light"
     },
     "output_type": "display_data"
    }
   ],
   "source": [
    "plt.hist(df_selftext_vect.drop(columns=['subreddit','subreddit_div']).sum().sort_values(ascending=False),bins=25);\n",
    "plt.title('Count of individual words/phrases in reddit posts');"
   ]
  },
  {
   "cell_type": "markdown",
   "id": "bd966966-5be6-430f-9495-145732cfe267",
   "metadata": {},
   "source": [
    "Most words/phrases are infrequently used in redditposts."
   ]
  },
  {
   "cell_type": "markdown",
   "id": "571b0d9f-4959-4d7d-8e9d-b4efd7e7bc73",
   "metadata": {
    "tags": []
   },
   "source": [
    "#### Instantiate and fit Count Vectorizer for title"
   ]
  },
  {
   "cell_type": "code",
   "execution_count": 59,
   "id": "192b346a-cd0f-40a4-98f8-35102a8f4d87",
   "metadata": {},
   "outputs": [],
   "source": [
    "cv2 = CountVectorizer(stop_words=stop_words,ngram_range=(1,3),min_df=4,max_df=1.0,strip_accents='unicode')"
   ]
  },
  {
   "cell_type": "code",
   "execution_count": 60,
   "id": "3cf50dc1-35a7-42da-a0a8-b1dfa9212e70",
   "metadata": {},
   "outputs": [
    {
     "data": {
      "text/plain": [
       "CountVectorizer(min_df=4, ngram_range=(1, 3),\n",
       "                stop_words=['i', 'me', 'my', 'myself', 'we', 'our', 'ours',\n",
       "                            'ourselves', 'you', \"you're\", \"you've\", \"you'll\",\n",
       "                            \"you'd\", 'your', 'yours', 'yourself', 'yourselves',\n",
       "                            'he', 'him', 'his', 'himself', 'she', \"she's\",\n",
       "                            'her', 'hers', 'herself', 'it', \"it's\", 'its',\n",
       "                            'itself', ...],\n",
       "                strip_accents='unicode')"
      ]
     },
     "execution_count": 60,
     "metadata": {},
     "output_type": "execute_result"
    }
   ],
   "source": [
    "cv2.fit(df['title'])"
   ]
  },
  {
   "cell_type": "code",
   "execution_count": 61,
   "id": "73b2e598-9742-4f18-93e9-e1f017af5d6c",
   "metadata": {},
   "outputs": [],
   "source": [
    "title_vect = cv2.transform(df['title'])"
   ]
  },
  {
   "cell_type": "code",
   "execution_count": 62,
   "id": "e25863d2-34d7-4d8e-bcfb-6a37926ff1f2",
   "metadata": {},
   "outputs": [],
   "source": [
    "df_title_vect = pd.DataFrame(title_vect.A, columns=cv2.get_feature_names_out())"
   ]
  },
  {
   "cell_type": "code",
   "execution_count": 63,
   "id": "9f6eff3e-5803-4ad1-8e8b-80d4f6a66479",
   "metadata": {},
   "outputs": [],
   "source": [
    "df_title_vect['subreddit'] = df['subreddit']"
   ]
  },
  {
   "cell_type": "code",
   "execution_count": 64,
   "id": "0dc1086f-72d2-4bac-bd73-061b61dedc8a",
   "metadata": {},
   "outputs": [],
   "source": [
    "df_title_vect['subreddit_div'] = df_selftext_vect['subreddit_div']"
   ]
  },
  {
   "cell_type": "code",
   "execution_count": 65,
   "id": "9e7d09a9-e2b5-4460-85a7-75b3e8cf6d70",
   "metadata": {},
   "outputs": [
    {
     "data": {
      "text/plain": [
       "2050"
      ]
     },
     "execution_count": 65,
     "metadata": {},
     "output_type": "execute_result"
    }
   ],
   "source": [
    "len(df_title_vect.columns)"
   ]
  },
  {
   "cell_type": "code",
   "execution_count": 66,
   "id": "71531d8d-c7a4-4bac-9309-5896c1a74726",
   "metadata": {},
   "outputs": [],
   "source": [
    "most_common_words_title = df_title_vect.drop(columns=['subreddit','subreddit_div']).sum().sort_values(ascending=False).head(30)"
   ]
  },
  {
   "cell_type": "code",
   "execution_count": 67,
   "id": "4d095ba1-a287-4455-af1d-571667c57df2",
   "metadata": {},
   "outputs": [],
   "source": [
    "df_most_common_words_title = pd.DataFrame(most_common_words_title, columns=['title'])\n",
    "df_most_common_words_title['div_frequency_title'] = [df_title_vect[df_title_vect[word]>0]['subreddit_div'].mean() for word in most_common_words_title.keys()]"
   ]
  },
  {
   "cell_type": "code",
   "execution_count": 68,
   "id": "6eb12352-b184-4680-9a6d-eef0ddcb59a7",
   "metadata": {},
   "outputs": [
    {
     "data": {
      "image/png": "[encoded data removed]",
      "text/plain": [
       "<Figure size 432x288 with 1 Axes>"
      ]
     },
     "metadata": {
      "needs_background": "light"
     },
     "output_type": "display_data"
    }
   ],
   "source": [
    "plt.hist(df_title_vect.drop(columns=['subreddit','subreddit_div']).sum().sort_values(ascending=False),bins=25);\n",
    "plt.title('Count of individual words/phrases in reddit titles');"
   ]
  },
  {
   "cell_type": "markdown",
   "id": "def44011-6f16-479e-8106-6ac91f9ac0ba",
   "metadata": {},
   "source": [
    "Most words/phrases are infrequently used in reddit title as well."
   ]
  },
  {
   "cell_type": "code",
   "execution_count": 69,
   "id": "51ffac3d-b505-4bf9-ab4e-a3e975f1812d",
   "metadata": {},
   "outputs": [],
   "source": [
    "df_most_common_words = df_most_common_words_selftext.join([df_most_common_words_title], how = 'outer')"
   ]
  },
  {
   "cell_type": "code",
   "execution_count": 70,
   "id": "bd37ca4a-45b7-4864-9edd-d167a5630464",
   "metadata": {},
   "outputs": [
    {
     "data": {
      "text/html": [
       "<div>\n",
       "<style scoped>\n",
       "    .dataframe tbody tr th:only-of-type {\n",
       "        vertical-align: middle;\n",
       "    }\n",
       "\n",
       "    .dataframe tbody tr th {\n",
       "        vertical-align: top;\n",
       "    }\n",
       "\n",
       "    .dataframe thead th {\n",
       "        text-align: right;\n",
       "    }\n",
       "</style>\n",
       "<table border=\"1\" class=\"dataframe\">\n",
       "  <thead>\n",
       "    <tr style=\"text-align: right;\">\n",
       "      <th></th>\n",
       "      <th>selftext</th>\n",
       "      <th>div_frequency_selftext</th>\n",
       "      <th>title</th>\n",
       "      <th>div_frequency_title</th>\n",
       "    </tr>\n",
       "  </thead>\n",
       "  <tbody>\n",
       "    <tr>\n",
       "      <th>wedding</th>\n",
       "      <td>4702.0</td>\n",
       "      <td>0.039901</td>\n",
       "      <td>1244.0</td>\n",
       "      <td>0.011686</td>\n",
       "    </tr>\n",
       "    <tr>\n",
       "      <th>want</th>\n",
       "      <td>4535.0</td>\n",
       "      <td>0.553183</td>\n",
       "      <td>189.0</td>\n",
       "      <td>0.592179</td>\n",
       "    </tr>\n",
       "    <tr>\n",
       "      <th>know</th>\n",
       "      <td>4059.0</td>\n",
       "      <td>0.593881</td>\n",
       "      <td>145.0</td>\n",
       "      <td>0.723404</td>\n",
       "    </tr>\n",
       "    <tr>\n",
       "      <th>time</th>\n",
       "      <td>3803.0</td>\n",
       "      <td>0.664720</td>\n",
       "      <td>150.0</td>\n",
       "      <td>0.673333</td>\n",
       "    </tr>\n",
       "    <tr>\n",
       "      <th>feel</th>\n",
       "      <td>3236.0</td>\n",
       "      <td>0.630378</td>\n",
       "      <td>125.0</td>\n",
       "      <td>0.661157</td>\n",
       "    </tr>\n",
       "    <tr>\n",
       "      <th>one</th>\n",
       "      <td>3166.0</td>\n",
       "      <td>0.543060</td>\n",
       "      <td>141.0</td>\n",
       "      <td>0.485075</td>\n",
       "    </tr>\n",
       "    <tr>\n",
       "      <th>divorce</th>\n",
       "      <td>3031.0</td>\n",
       "      <td>0.994423</td>\n",
       "      <td>797.0</td>\n",
       "      <td>1.000000</td>\n",
       "    </tr>\n",
       "    <tr>\n",
       "      <th>years</th>\n",
       "      <td>2899.0</td>\n",
       "      <td>0.830448</td>\n",
       "      <td>NaN</td>\n",
       "      <td>NaN</td>\n",
       "    </tr>\n",
       "    <tr>\n",
       "      <th>even</th>\n",
       "      <td>2541.0</td>\n",
       "      <td>0.652469</td>\n",
       "      <td>NaN</td>\n",
       "      <td>NaN</td>\n",
       "    </tr>\n",
       "    <tr>\n",
       "      <th>going</th>\n",
       "      <td>2494.0</td>\n",
       "      <td>0.618452</td>\n",
       "      <td>NaN</td>\n",
       "      <td>NaN</td>\n",
       "    </tr>\n",
       "    <tr>\n",
       "      <th>things</th>\n",
       "      <td>2408.0</td>\n",
       "      <td>0.700831</td>\n",
       "      <td>NaN</td>\n",
       "      <td>NaN</td>\n",
       "    </tr>\n",
       "    <tr>\n",
       "      <th>also</th>\n",
       "      <td>2314.0</td>\n",
       "      <td>0.476943</td>\n",
       "      <td>NaN</td>\n",
       "      <td>NaN</td>\n",
       "    </tr>\n",
       "    <tr>\n",
       "      <th>family</th>\n",
       "      <td>2303.0</td>\n",
       "      <td>0.561013</td>\n",
       "      <td>131.0</td>\n",
       "      <td>0.409449</td>\n",
       "    </tr>\n",
       "    <tr>\n",
       "      <th>kids</th>\n",
       "      <td>2261.0</td>\n",
       "      <td>0.904197</td>\n",
       "      <td>151.0</td>\n",
       "      <td>0.829932</td>\n",
       "    </tr>\n",
       "    <tr>\n",
       "      <th>still</th>\n",
       "      <td>2184.0</td>\n",
       "      <td>0.689917</td>\n",
       "      <td>NaN</td>\n",
       "      <td>NaN</td>\n",
       "    </tr>\n",
       "    <tr>\n",
       "      <th>back</th>\n",
       "      <td>2179.0</td>\n",
       "      <td>0.721017</td>\n",
       "      <td>NaN</td>\n",
       "      <td>NaN</td>\n",
       "    </tr>\n",
       "    <tr>\n",
       "      <th>people</th>\n",
       "      <td>2146.0</td>\n",
       "      <td>0.384446</td>\n",
       "      <td>NaN</td>\n",
       "      <td>NaN</td>\n",
       "    </tr>\n",
       "    <tr>\n",
       "      <th>day</th>\n",
       "      <td>2120.0</td>\n",
       "      <td>0.509615</td>\n",
       "      <td>155.0</td>\n",
       "      <td>0.344156</td>\n",
       "    </tr>\n",
       "    <tr>\n",
       "      <th>much</th>\n",
       "      <td>2112.0</td>\n",
       "      <td>0.596479</td>\n",
       "      <td>NaN</td>\n",
       "      <td>NaN</td>\n",
       "    </tr>\n",
       "    <tr>\n",
       "      <th>go</th>\n",
       "      <td>2111.0</td>\n",
       "      <td>0.639511</td>\n",
       "      <td>111.0</td>\n",
       "      <td>0.554545</td>\n",
       "    </tr>\n",
       "    <tr>\n",
       "      <th>got</th>\n",
       "      <td>1957.0</td>\n",
       "      <td>0.643780</td>\n",
       "      <td>NaN</td>\n",
       "      <td>NaN</td>\n",
       "    </tr>\n",
       "    <tr>\n",
       "      <th>us</th>\n",
       "      <td>1948.0</td>\n",
       "      <td>0.525327</td>\n",
       "      <td>NaN</td>\n",
       "      <td>NaN</td>\n",
       "    </tr>\n",
       "    <tr>\n",
       "      <th>make</th>\n",
       "      <td>1938.0</td>\n",
       "      <td>0.584727</td>\n",
       "      <td>NaN</td>\n",
       "      <td>NaN</td>\n",
       "    </tr>\n",
       "    <tr>\n",
       "      <th>think</th>\n",
       "      <td>1888.0</td>\n",
       "      <td>0.573034</td>\n",
       "      <td>NaN</td>\n",
       "      <td>NaN</td>\n",
       "    </tr>\n",
       "    <tr>\n",
       "      <th>love</th>\n",
       "      <td>1884.0</td>\n",
       "      <td>0.559200</td>\n",
       "      <td>NaN</td>\n",
       "      <td>NaN</td>\n",
       "    </tr>\n",
       "    <tr>\n",
       "      <th>said</th>\n",
       "      <td>1879.0</td>\n",
       "      <td>0.661896</td>\n",
       "      <td>NaN</td>\n",
       "      <td>NaN</td>\n",
       "    </tr>\n",
       "    <tr>\n",
       "      <th>married</th>\n",
       "      <td>1834.0</td>\n",
       "      <td>0.630451</td>\n",
       "      <td>NaN</td>\n",
       "      <td>NaN</td>\n",
       "    </tr>\n",
       "    <tr>\n",
       "      <th>work</th>\n",
       "      <td>1816.0</td>\n",
       "      <td>0.777682</td>\n",
       "      <td>NaN</td>\n",
       "      <td>NaN</td>\n",
       "    </tr>\n",
       "    <tr>\n",
       "      <th>since</th>\n",
       "      <td>1789.0</td>\n",
       "      <td>0.639207</td>\n",
       "      <td>NaN</td>\n",
       "      <td>NaN</td>\n",
       "    </tr>\n",
       "    <tr>\n",
       "      <th>never</th>\n",
       "      <td>1789.0</td>\n",
       "      <td>0.732358</td>\n",
       "      <td>NaN</td>\n",
       "      <td>NaN</td>\n",
       "    </tr>\n",
       "    <tr>\n",
       "      <th>help</th>\n",
       "      <td>NaN</td>\n",
       "      <td>NaN</td>\n",
       "      <td>346.0</td>\n",
       "      <td>0.324561</td>\n",
       "    </tr>\n",
       "    <tr>\n",
       "      <th>dress</th>\n",
       "      <td>NaN</td>\n",
       "      <td>NaN</td>\n",
       "      <td>336.0</td>\n",
       "      <td>0.006250</td>\n",
       "    </tr>\n",
       "    <tr>\n",
       "      <th>advice</th>\n",
       "      <td>NaN</td>\n",
       "      <td>NaN</td>\n",
       "      <td>289.0</td>\n",
       "      <td>0.484429</td>\n",
       "    </tr>\n",
       "    <tr>\n",
       "      <th>anyone</th>\n",
       "      <td>NaN</td>\n",
       "      <td>NaN</td>\n",
       "      <td>264.0</td>\n",
       "      <td>0.376923</td>\n",
       "    </tr>\n",
       "    <tr>\n",
       "      <th>need</th>\n",
       "      <td>NaN</td>\n",
       "      <td>NaN</td>\n",
       "      <td>241.0</td>\n",
       "      <td>0.504237</td>\n",
       "    </tr>\n",
       "    <tr>\n",
       "      <th>ex</th>\n",
       "      <td>NaN</td>\n",
       "      <td>NaN</td>\n",
       "      <td>233.0</td>\n",
       "      <td>0.986842</td>\n",
       "    </tr>\n",
       "    <tr>\n",
       "      <th>party</th>\n",
       "      <td>NaN</td>\n",
       "      <td>NaN</td>\n",
       "      <td>187.0</td>\n",
       "      <td>0.016393</td>\n",
       "    </tr>\n",
       "    <tr>\n",
       "      <th>wife</th>\n",
       "      <td>NaN</td>\n",
       "      <td>NaN</td>\n",
       "      <td>170.0</td>\n",
       "      <td>0.982143</td>\n",
       "    </tr>\n",
       "    <tr>\n",
       "      <th>getting</th>\n",
       "      <td>NaN</td>\n",
       "      <td>NaN</td>\n",
       "      <td>137.0</td>\n",
       "      <td>0.507463</td>\n",
       "    </tr>\n",
       "    <tr>\n",
       "      <th>bridal</th>\n",
       "      <td>NaN</td>\n",
       "      <td>NaN</td>\n",
       "      <td>134.0</td>\n",
       "      <td>0.000000</td>\n",
       "    </tr>\n",
       "    <tr>\n",
       "      <th>question</th>\n",
       "      <td>NaN</td>\n",
       "      <td>NaN</td>\n",
       "      <td>124.0</td>\n",
       "      <td>0.467742</td>\n",
       "    </tr>\n",
       "    <tr>\n",
       "      <th>marriage</th>\n",
       "      <td>NaN</td>\n",
       "      <td>NaN</td>\n",
       "      <td>119.0</td>\n",
       "      <td>0.881356</td>\n",
       "    </tr>\n",
       "    <tr>\n",
       "      <th>planning</th>\n",
       "      <td>NaN</td>\n",
       "      <td>NaN</td>\n",
       "      <td>117.0</td>\n",
       "      <td>0.017094</td>\n",
       "    </tr>\n",
       "    <tr>\n",
       "      <th>feeling</th>\n",
       "      <td>NaN</td>\n",
       "      <td>NaN</td>\n",
       "      <td>117.0</td>\n",
       "      <td>0.646552</td>\n",
       "    </tr>\n",
       "    <tr>\n",
       "      <th>husband</th>\n",
       "      <td>NaN</td>\n",
       "      <td>NaN</td>\n",
       "      <td>115.0</td>\n",
       "      <td>0.982609</td>\n",
       "    </tr>\n",
       "    <tr>\n",
       "      <th>bridesmaid</th>\n",
       "      <td>NaN</td>\n",
       "      <td>NaN</td>\n",
       "      <td>115.0</td>\n",
       "      <td>0.000000</td>\n",
       "    </tr>\n",
       "    <tr>\n",
       "      <th>first</th>\n",
       "      <td>NaN</td>\n",
       "      <td>NaN</td>\n",
       "      <td>113.0</td>\n",
       "      <td>0.553571</td>\n",
       "    </tr>\n",
       "    <tr>\n",
       "      <th>child</th>\n",
       "      <td>NaN</td>\n",
       "      <td>NaN</td>\n",
       "      <td>110.0</td>\n",
       "      <td>0.884615</td>\n",
       "    </tr>\n",
       "    <tr>\n",
       "      <th>venue</th>\n",
       "      <td>NaN</td>\n",
       "      <td>NaN</td>\n",
       "      <td>106.0</td>\n",
       "      <td>0.000000</td>\n",
       "    </tr>\n",
       "  </tbody>\n",
       "</table>\n",
       "</div>"
      ],
      "text/plain": [
       "            selftext  div_frequency_selftext   title  div_frequency_title\n",
       "wedding       4702.0                0.039901  1244.0             0.011686\n",
       "want          4535.0                0.553183   189.0             0.592179\n",
       "know          4059.0                0.593881   145.0             0.723404\n",
       "time          3803.0                0.664720   150.0             0.673333\n",
       "feel          3236.0                0.630378   125.0             0.661157\n",
       "one           3166.0                0.543060   141.0             0.485075\n",
       "divorce       3031.0                0.994423   797.0             1.000000\n",
       "years         2899.0                0.830448     NaN                  NaN\n",
       "even          2541.0                0.652469     NaN                  NaN\n",
       "going         2494.0                0.618452     NaN                  NaN\n",
       "things        2408.0                0.700831     NaN                  NaN\n",
       "also          2314.0                0.476943     NaN                  NaN\n",
       "family        2303.0                0.561013   131.0             0.409449\n",
       "kids          2261.0                0.904197   151.0             0.829932\n",
       "still         2184.0                0.689917     NaN                  NaN\n",
       "back          2179.0                0.721017     NaN                  NaN\n",
       "people        2146.0                0.384446     NaN                  NaN\n",
       "day           2120.0                0.509615   155.0             0.344156\n",
       "much          2112.0                0.596479     NaN                  NaN\n",
       "go            2111.0                0.639511   111.0             0.554545\n",
       "got           1957.0                0.643780     NaN                  NaN\n",
       "us            1948.0                0.525327     NaN                  NaN\n",
       "make          1938.0                0.584727     NaN                  NaN\n",
       "think         1888.0                0.573034     NaN                  NaN\n",
       "love          1884.0                0.559200     NaN                  NaN\n",
       "said          1879.0                0.661896     NaN                  NaN\n",
       "married       1834.0                0.630451     NaN                  NaN\n",
       "work          1816.0                0.777682     NaN                  NaN\n",
       "since         1789.0                0.639207     NaN                  NaN\n",
       "never         1789.0                0.732358     NaN                  NaN\n",
       "help             NaN                     NaN   346.0             0.324561\n",
       "dress            NaN                     NaN   336.0             0.006250\n",
       "advice           NaN                     NaN   289.0             0.484429\n",
       "anyone           NaN                     NaN   264.0             0.376923\n",
       "need             NaN                     NaN   241.0             0.504237\n",
       "ex               NaN                     NaN   233.0             0.986842\n",
       "party            NaN                     NaN   187.0             0.016393\n",
       "wife             NaN                     NaN   170.0             0.982143\n",
       "getting          NaN                     NaN   137.0             0.507463\n",
       "bridal           NaN                     NaN   134.0             0.000000\n",
       "question         NaN                     NaN   124.0             0.467742\n",
       "marriage         NaN                     NaN   119.0             0.881356\n",
       "planning         NaN                     NaN   117.0             0.017094\n",
       "feeling          NaN                     NaN   117.0             0.646552\n",
       "husband          NaN                     NaN   115.0             0.982609\n",
       "bridesmaid       NaN                     NaN   115.0             0.000000\n",
       "first            NaN                     NaN   113.0             0.553571\n",
       "child            NaN                     NaN   110.0             0.884615\n",
       "venue            NaN                     NaN   106.0             0.000000"
      ]
     },
     "execution_count": 70,
     "metadata": {},
     "output_type": "execute_result"
    }
   ],
   "source": [
    "df_most_common_words"
   ]
  },
  {
   "cell_type": "markdown",
   "id": "02170ce8-15ba-4869-9fd6-9f171997acd1",
   "metadata": {},
   "source": [
    "Interesting that the posts and titles have different most common words"
   ]
  },
  {
   "cell_type": "markdown",
   "id": "42230f98-6a62-49e2-8e38-e4925800fd57",
   "metadata": {},
   "source": [
    "Given there is a fair amount of stratification of the most common words between the divorce and wedding planning subreddits, it seems that the model may be able to pick on these differences and accurately predict which reddit the post came from."
   ]
  },
  {
   "cell_type": "code",
   "execution_count": null,
   "id": "0156028e-c10a-4cca-86b7-fe240fd436f7",
   "metadata": {},
   "outputs": [],
   "source": []
  }
 ],
 "metadata": {
  "kernelspec": {
   "display_name": "Python 3 (ipykernel)",
   "language": "python",
   "name": "python3"
  },
  "language_info": {
   "codemirror_mode": {
    "name": "ipython",
    "version": 3
   },
   "file_extension": ".py",
   "mimetype": "text/x-python",
   "name": "python",
   "nbconvert_exporter": "python",
   "pygments_lexer": "ipython3",
   "version": "3.8.8"
  }
 },
 "nbformat": 4,
 "nbformat_minor": 5
}
