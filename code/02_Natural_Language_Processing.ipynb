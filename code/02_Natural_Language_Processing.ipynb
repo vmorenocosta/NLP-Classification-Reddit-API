{
 "cells": [
  {
   "cell_type": "markdown",
   "id": "4f1b9fd9-7d1c-4db5-8c02-68bb5882998e",
   "metadata": {},
   "source": [
    "# 2. Natural Language Processing\n",
    "\n",
    "This notebook preprocesses and develops pipelines to classify posts from the two subreddits using classification models.\n",
    "\n",
    "**Preprocessing and Modeling**\n",
    "- Is text data successfully converted to a matrix representation?\n",
    "- Are methods such as stop words, stemming, and lemmatization explored?\n",
    "- Does the student properly split and/or sample the data for validation/training purposes?\n",
    "- Does the student test and evaluate a variety of models to identify a production algorithm (**AT MINIMUM:** two classification models, **BONUS:** try a Naive Bayes)?\n",
    "- Does the student defend their choice of production model relevant to the data at hand and the problem?\n",
    "- Does the student explain how the model works and evaluate its performance successes/downfalls?"
   ]
  },
  {
   "cell_type": "markdown",
   "id": "d9a70348-6217-4d6e-ac7c-41529c6374e0",
   "metadata": {},
   "source": [
    "#### Imports"
   ]
  },
  {
   "cell_type": "code",
   "execution_count": 13,
   "id": "8af2e953-f669-494c-8960-370399caadb8",
   "metadata": {},
   "outputs": [],
   "source": [
    "import pandas as pd\n",
    "import numpy as np\n",
    "import matplotlib.pyplot as plt\n",
    "\n",
    "from nltk.corpus import stopwords\n",
    "from nltk import word_tokenize\n",
    "from nltk import WordNetLemmatizer\n",
    "\n",
    "from sklearn.model_selection import train_test_split, GridSearchCV\n",
    "from sklearn.feature_extraction.text import CountVectorizer, TfidfVectorizer\n",
    "from sklearn.pipeline import Pipeline\n",
    "from sklearn.preprocessing import LabelBinarizer, OneHotEncoder, LabelEncoder\n",
    "from sklearn.linear_model import LogisticRegression\n",
    "from sklearn.compose import make_column_transformer\n",
    "from sklearn.metrics import mean_squared_error, ConfusionMatrixDisplay, recall_score, precision_score, RocCurveDisplay\n",
    "from sklearn.tree import DecisionTreeClassifier\n",
    "from sklearn.dummy import DummyClassifier\n",
    "from sklearn.neighbors import KNeighborsClassifier\n",
    "from sklearn.ensemble import RandomForestClassifier, ExtraTreesClassifier, VotingClassifier\n",
    "from sklearn.naive_bayes import MultinomialNB"
   ]
  },
  {
   "cell_type": "code",
   "execution_count": 14,
   "id": "f63b43df-55f3-4727-a0e8-e2bf47fab9ee",
   "metadata": {},
   "outputs": [],
   "source": [
    "%store -r stop_words"
   ]
  },
  {
   "cell_type": "code",
   "execution_count": 15,
   "id": "899e3df8-be8b-40e1-a21a-ce30e8748a7c",
   "metadata": {},
   "outputs": [],
   "source": [
    "df = pd.read_csv('../datasets/combined_cleaned.csv',na_filter=False)"
   ]
  },
  {
   "cell_type": "markdown",
   "id": "f0d1c9a8-2ab6-469e-8fbf-c6479577ef44",
   "metadata": {},
   "source": [
    "#### Make train and test sets out of the train data"
   ]
  },
  {
   "cell_type": "code",
   "execution_count": 16,
   "id": "75c77ce0-9765-4c9b-984b-fc24c4715ef7",
   "metadata": {},
   "outputs": [],
   "source": [
    "X = df['selftext']\n",
    "y = df['subreddit']"
   ]
  },
  {
   "cell_type": "code",
   "execution_count": 17,
   "id": "59e9da18-fcc0-4eba-9f8d-3712c38938ca",
   "metadata": {},
   "outputs": [],
   "source": [
    "X_train, X_test, y_train, y_test = train_test_split(X, y, random_state = 42,stratify=y)"
   ]
  },
  {
   "cell_type": "code",
   "execution_count": 18,
   "id": "cff9c1b8-dc2c-416e-8048-9f2dc4548dd6",
   "metadata": {},
   "outputs": [
    {
     "data": {
      "text/plain": [
       "Divorce            997\n",
       "weddingplanning    987\n",
       "Name: subreddit, dtype: int64"
      ]
     },
     "execution_count": 18,
     "metadata": {},
     "output_type": "execute_result"
    }
   ],
   "source": [
    "y_test.value_counts()"
   ]
  },
  {
   "cell_type": "code",
   "execution_count": 19,
   "id": "25e05412-954d-4471-8492-4a10ce083a56",
   "metadata": {},
   "outputs": [
    {
     "name": "stdout",
     "output_type": "stream",
     "text": [
      "Baseline accuracy is 50.3%.\n"
     ]
    }
   ],
   "source": [
    "print(f'Baseline accuracy is {round(y_test.value_counts()[0]*100/len(y_test),1)}%.')"
   ]
  },
  {
   "cell_type": "code",
   "execution_count": null,
   "id": "52a65a11-d401-4687-8eb4-5344ae76c52f",
   "metadata": {},
   "outputs": [],
   "source": []
  },
  {
   "cell_type": "markdown",
   "id": "b2f82fe2-012f-49d8-8e25-97d40351c239",
   "metadata": {},
   "source": [
    "#### Encode subreddit"
   ]
  },
  {
   "cell_type": "code",
   "execution_count": 20,
   "id": "70290fb7-5235-4177-bf8a-3f9f9b32959b",
   "metadata": {},
   "outputs": [],
   "source": [
    "le = LabelEncoder()\n",
    "y_train_enc = le.fit_transform(y_train)\n",
    "y_test_enc = le.transform(y_test)"
   ]
  },
  {
   "cell_type": "code",
   "execution_count": 21,
   "id": "3f0cfec6-c7e6-4329-b15a-02bc10c4085c",
   "metadata": {},
   "outputs": [
    {
     "data": {
      "text/plain": [
       "0    997\n",
       "1    987\n",
       "dtype: int64"
      ]
     },
     "execution_count": 21,
     "metadata": {},
     "output_type": "execute_result"
    }
   ],
   "source": [
    "pd.DataFrame(y_test_enc).value_counts()"
   ]
  },
  {
   "cell_type": "markdown",
   "id": "fe163625-86e5-4895-89df-58456b5f6119",
   "metadata": {},
   "source": [
    "Classes legend:\n",
    "- 0: Divorce\n",
    "- 1: WeddingPlanning"
   ]
  },
  {
   "cell_type": "markdown",
   "id": "619ffaf0-faaa-4870-9fce-eb293733f340",
   "metadata": {},
   "source": [
    "#### Create Lemmatizer"
   ]
  },
  {
   "cell_type": "code",
   "execution_count": 22,
   "id": "e7596dff-cd40-4a6b-af08-7b3e0e123857",
   "metadata": {},
   "outputs": [],
   "source": [
    "def lemma_tokenizer(doc):  ## Used class notes\n",
    "    wnl = WordNetLemmatizer()\n",
    "    return [w for w in word_tokenize(doc)]"
   ]
  },
  {
   "cell_type": "markdown",
   "id": "954251aa-4580-4db6-9a25-ed380fb92b8d",
   "metadata": {},
   "source": [
    "### Pipelines"
   ]
  },
  {
   "cell_type": "markdown",
   "id": "7fcab945-a424-4077-b0e4-466da1ee92b0",
   "metadata": {},
   "source": [
    "#### Logistic Regression Pipeline"
   ]
  },
  {
   "cell_type": "code",
   "execution_count": null,
   "id": "198ca903-6001-40bf-9818-d4cc35c5d8bc",
   "metadata": {},
   "outputs": [],
   "source": []
  },
  {
   "cell_type": "code",
   "execution_count": 23,
   "id": "50181ccd-cf4e-4c4a-a093-8ec0c2c6df86",
   "metadata": {},
   "outputs": [
    {
     "data": {
      "text/html": [
       "<div>\n",
       "<style scoped>\n",
       "    .dataframe tbody tr th:only-of-type {\n",
       "        vertical-align: middle;\n",
       "    }\n",
       "\n",
       "    .dataframe tbody tr th {\n",
       "        vertical-align: top;\n",
       "    }\n",
       "\n",
       "    .dataframe thead th {\n",
       "        text-align: right;\n",
       "    }\n",
       "</style>\n",
       "<table border=\"1\" class=\"dataframe\">\n",
       "  <thead>\n",
       "    <tr style=\"text-align: right;\">\n",
       "      <th></th>\n",
       "      <th>Unnamed: 0</th>\n",
       "      <th>all_awardings</th>\n",
       "      <th>allow_live_comments</th>\n",
       "      <th>author</th>\n",
       "      <th>author_flair_css_class</th>\n",
       "      <th>author_flair_richtext</th>\n",
       "      <th>author_flair_text</th>\n",
       "      <th>author_flair_type</th>\n",
       "      <th>author_fullname</th>\n",
       "      <th>author_is_blocked</th>\n",
       "      <th>...</th>\n",
       "      <th>preview</th>\n",
       "      <th>author_flair_background_color</th>\n",
       "      <th>banned_by</th>\n",
       "      <th>edited</th>\n",
       "      <th>call_to_action</th>\n",
       "      <th>category</th>\n",
       "      <th>num_posts</th>\n",
       "      <th>distinguished</th>\n",
       "      <th>posts_length</th>\n",
       "      <th>post_word_count</th>\n",
       "    </tr>\n",
       "  </thead>\n",
       "  <tbody>\n",
       "  </tbody>\n",
       "</table>\n",
       "<p>0 rows × 83 columns</p>\n",
       "</div>"
      ],
      "text/plain": [
       "Empty DataFrame\n",
       "Columns: [Unnamed: 0, all_awardings, allow_live_comments, author, author_flair_css_class, author_flair_richtext, author_flair_text, author_flair_type, author_fullname, author_is_blocked, author_patreon_flair, author_premium, awarders, can_mod_post, contest_mode, created_utc, domain, full_link, gildings, id, is_created_from_ads_ui, is_crosspostable, is_meta, is_original_content, is_reddit_media_domain, is_robot_indexable, is_self, is_video, link_flair_background_color, link_flair_css_class, link_flair_richtext, link_flair_template_id, link_flair_text, link_flair_text_color, link_flair_type, locked, media_only, no_follow, num_comments, num_crossposts, over_18, parent_whitelist_status, permalink, pinned, pwls, retrieved_on, score, selftext, send_replies, spoiler, stickied, subreddit, subreddit_id, subreddit_subscribers, subreddit_type, thumbnail, title, total_awards_received, treatment_tags, upvote_ratio, url, whitelist_status, wls, removed_by_category, author_flair_template_id, author_flair_text_color, author_cakeday, poll_data, media_metadata, thumbnail_height, thumbnail_width, suggested_sort, post_hint, preview, author_flair_background_color, banned_by, edited, call_to_action, category, num_posts, distinguished, posts_length, post_word_count]\n",
       "Index: []\n",
       "\n",
       "[0 rows x 83 columns]"
      ]
     },
     "execution_count": 23,
     "metadata": {},
     "output_type": "execute_result"
    }
   ],
   "source": [
    "df[df['selftext'].isna()]"
   ]
  },
  {
   "cell_type": "code",
   "execution_count": 24,
   "id": "37beac8e-888f-4697-b83c-1b3e984932a1",
   "metadata": {},
   "outputs": [
    {
     "data": {
      "text/plain": [
       "(0.939149436880148, 0.9112903225806451)"
      ]
     },
     "execution_count": 24,
     "metadata": {},
     "output_type": "execute_result"
    }
   ],
   "source": [
    "# First pass\n",
    "pipe_lr = Pipeline([\n",
    "    ('cv', CountVectorizer()),\n",
    "    ('lr', LogisticRegression(max_iter = 10_000))\n",
    "])\n",
    "pipe_lr.fit(X_train, y_train)\n",
    "pipe_lr.score(X_train, y_train), pipe_lr.score(X_test, y_test)"
   ]
  },
  {
   "cell_type": "markdown",
   "id": "c9f0f8ce-2dc1-4bf5-bf9b-3b946ecf5c75",
   "metadata": {},
   "source": [
    "GridSearch"
   ]
  },
  {
   "cell_type": "code",
   "execution_count": 25,
   "id": "41043c16-d09a-4dfa-b977-acac229091e8",
   "metadata": {},
   "outputs": [],
   "source": [
    "# params = {\n",
    "#     'cv__tokenizer': [None,lemma_tokenizer]\n",
    "# }\n",
    "\n",
    "# gs_lr = GridSearchCV(\n",
    "#     pipe_lr, param_grid=params,n_jobs=-1)\n",
    "\n",
    "# gs_lr.fit(X_train,y_train_enc);\n",
    "\n",
    "# gs_lr.best_params_\n",
    "\n",
    "# gs_lr.best_score_\n",
    "\n",
    "# gs_lr.cv_results_"
   ]
  },
  {
   "cell_type": "markdown",
   "id": "f2f4559d-0e83-4396-81ba-61d8aa17f92f",
   "metadata": {},
   "source": [
    "I will feed this back into my model."
   ]
  },
  {
   "cell_type": "markdown",
   "id": "11dbd885-4cd4-484a-80e6-8e52a33f62fc",
   "metadata": {},
   "source": [
    "I will feed the results back into my model. Results:\n",
    "- best_params = {'cv__min_df': 4, 'cv__ngram_range': (1, 3)} for params = {\n",
    "    'cv__ngram_range':[(1,1),(1,2),(1,3),(1,4),(2,2),(2,3),(2,4)],\n",
    "    'cv__min_df':np.arange(2,9)\n",
    "}\n",
    "- best_params = {'lr__C': 0.2} for params = {\n",
    "    'lr__C': [1/20, 1/10, 1/5, 1/2, 1, 2, 5]\n",
    "}\n",
    "- no impact for params = {\n",
    "    'cv__max_df': [0.4,0.5,0.6,0.7,0.8,0.9,1.0]\n",
    "}\n",
    "- best_params = {'cv__strip_accents': 'unicode'} (actually tie with None, but quicker) for params = {\n",
    "    'cv__strip_accents': [None,'ascii', 'unicode']\n",
    "}\n",
    "- best_params = 'cv__tokenizer': None} for params = {\n",
    "    'cv__tokenizer': [None,lemma_tokenizer]\n",
    "}"
   ]
  },
  {
   "cell_type": "code",
   "execution_count": 26,
   "id": "5b4da8db-faac-47bf-93bb-585a4e838438",
   "metadata": {},
   "outputs": [
    {
     "data": {
      "text/plain": [
       "(0.9324256177508825, 0.9143145161290323)"
      ]
     },
     "execution_count": 26,
     "metadata": {},
     "output_type": "execute_result"
    }
   ],
   "source": [
    "# Best logistic model using gridsearch\n",
    "pipe_lr = Pipeline([\n",
    "    ('cv', CountVectorizer(stop_words=stop_words,ngram_range=(1,3),min_df=4,max_df=1.0,strip_accents='unicode')),\n",
    "    ('lr', LogisticRegression(C=1/5))\n",
    "])\n",
    "pipe_lr.fit(X_train, y_train)\n",
    "pipe_lr.score(X_train, y_train), pipe_lr.score(X_test, y_test)"
   ]
  },
  {
   "cell_type": "markdown",
   "id": "06c0d4cb-e73c-4dea-8569-60a666985fb5",
   "metadata": {
    "tags": []
   },
   "source": [
    "#### Decision Tree Pipeline"
   ]
  },
  {
   "cell_type": "code",
   "execution_count": 27,
   "id": "9f19900a-e9cb-4eb2-acec-fece19640715",
   "metadata": {},
   "outputs": [
    {
     "data": {
      "text/plain": [
       "(0.9384770549672213, 0.8770161290322581)"
      ]
     },
     "execution_count": 27,
     "metadata": {},
     "output_type": "execute_result"
    }
   ],
   "source": [
    "pipe_dt = Pipeline([\n",
    "    ('cv', CountVectorizer(stop_words=stop_words,ngram_range=(1,2),min_df=4)),\n",
    "    ('dt', DecisionTreeClassifier(max_depth=None,criterion='entropy',min_samples_split=3))\n",
    "])\n",
    "pipe_dt.fit(X_train, y_train)\n",
    "pipe_dt.score(X_train, y_train), pipe_dt.score(X_test, y_test)"
   ]
  },
  {
   "cell_type": "code",
   "execution_count": 28,
   "id": "52f7796e-daf2-4ae3-af3e-665c0b115ab8",
   "metadata": {
    "tags": []
   },
   "outputs": [],
   "source": [
    "# params_dt = {\n",
    "#      'cv__max_df': [0.4,0.5,0.6,0.7,0.8,0.9,1.0] \n",
    "# }\n",
    "\n",
    "# gs_dt = GridSearchCV(pipe_dt, param_grid = params_dt, n_jobs=-1)\n",
    "\n",
    "# gs_dt.fit(X_train,y_train_enc);\n",
    "\n",
    "# gs_dt.best_params_\n",
    "\n",
    "# gs_dt.best_score_\n",
    "\n",
    "# gs_dt.cv_results_"
   ]
  },
  {
   "cell_type": "markdown",
   "id": "472c0377-23e8-498a-8483-d905e36831ad",
   "metadata": {},
   "source": [
    "I will feed the results back into my model. Results:\n",
    "- best_params = {'dt__criterion': 'entropy'} for params_dt = {\n",
    "    'dt__criterion': [\"gini\", \"entropy\"]\n",
    "}\n",
    "- best_params = {'dt__criterion': 'entropy', 'dt__min_samples_split': 4} for params_dt = {\n",
    "    'dt__criterion': [\"gini\", \"entropy\"],\n",
    "    'dt__min_samples_split': [2,4,6],\n",
    "}\n",
    "- best_params = {'dt__criterion': 'entropy', 'dt__min_samples_split': 3} for params_dt = {\n",
    "    'dt__criterion': [\"entropy\"],\n",
    "    'dt__min_samples_split': [3,4,5],\n",
    "}\n",
    "- best_params = {'cv__min_df': 4, 'cv__ngram_range': (1, 2)} for params_dt = {\n",
    "    'cv__ngram_range':[(1,1),(1,2),(1,3),(1,4),(2,2),(2,3),(2,4)], 'cv__min_df':np.arange(2,9) \n",
    "}\n",
    "- best_params = {'cv__max_df': 0.5} for params_dt = {\n",
    "     'cv__max_df': [0.4,0.5,0.6,0.7,0.8,0.9,1.0] \n",
    "}"
   ]
  },
  {
   "cell_type": "code",
   "execution_count": 29,
   "id": "133d59da-5073-448f-b43e-a5de540008b3",
   "metadata": {},
   "outputs": [
    {
     "data": {
      "text/plain": [
       "(0.9384770549672213, 0.8775201612903226)"
      ]
     },
     "execution_count": 29,
     "metadata": {},
     "output_type": "execute_result"
    }
   ],
   "source": [
    "# Best Model\n",
    "pipe_dt = Pipeline([\n",
    "    ('cv', CountVectorizer(stop_words=stop_words,ngram_range=(1,2),min_df=4,max_df=0.5)),\n",
    "    ('dt', DecisionTreeClassifier(max_depth=None,criterion='entropy',min_samples_split=3))\n",
    "])\n",
    "pipe_dt.fit(X_train, y_train)\n",
    "pipe_dt.score(X_train, y_train), pipe_dt.score(X_test, y_test)"
   ]
  },
  {
   "cell_type": "markdown",
   "id": "72b8fd61-267a-4600-bacb-fe1b33e29c9d",
   "metadata": {
    "tags": []
   },
   "source": [
    "#### K Nearest Neighbors Pipeline"
   ]
  },
  {
   "cell_type": "code",
   "execution_count": 30,
   "id": "409b90f6-746a-440c-96c1-207f5648d509",
   "metadata": {},
   "outputs": [
    {
     "data": {
      "text/plain": [
       "(0.7959320894267944, 0.688508064516129)"
      ]
     },
     "execution_count": 30,
     "metadata": {},
     "output_type": "execute_result"
    }
   ],
   "source": [
    "pipe_knn = Pipeline([\n",
    "    ('cv', CountVectorizer(stop_words=stop_words,ngram_range=(1,3),min_df=4,max_df=1.0,strip_accents='unicode')),\n",
    "    ('knn', KNeighborsClassifier(n_neighbors=5,p=2))\n",
    "     ])\n",
    "pipe_knn.fit(X_train, y_train)\n",
    "pipe_knn.score(X_train, y_train), pipe_knn.score(X_test, y_test)"
   ]
  },
  {
   "cell_type": "markdown",
   "id": "376496ea-de3f-472e-a1cb-c54ab9c4070d",
   "metadata": {},
   "source": [
    "GridSearch"
   ]
  },
  {
   "cell_type": "code",
   "execution_count": 31,
   "id": "9dc09801-049b-4e88-a6f4-34d32e7534e7",
   "metadata": {
    "tags": []
   },
   "outputs": [],
   "source": [
    "# params_knn = {\n",
    "#     'cv__ngram_range':[(1,1),(1,2),(1,3),(1,4),(2,2),(2,3),(2,4)], 'cv__min_df':np.arange(2,9) \n",
    "# }\n",
    "\n",
    "# gs_knn = GridSearchCV(\n",
    "#     pipe_knn, param_grid=params_knn,n_jobs=-1)\n",
    "\n",
    "# gs_knn.fit(X_train,y_train_enc);\n",
    "\n",
    "# gs_knn.best_params_\n",
    "\n",
    "# gs_knn.best_score_\n",
    "\n",
    "# gs_knn.cv_results_"
   ]
  },
  {
   "cell_type": "markdown",
   "id": "2b5d0bdf-0358-470b-bf0b-4d88a5da3e0c",
   "metadata": {},
   "source": [
    "I will feed the results back into my model. Results:\n",
    "- best_params = {'knn__n_neighbors': 5} for params_knn = {'knn__n_neighbors':np.arange(2,15)}\n",
    "- best_params = {'knn__n_neighbors': 5, 'knn__p': 2} for params_knn = {\n",
    "    'knn__n_neighbors':np.arange(3,7),\n",
    "    'knn__p': [1,2]\n",
    "}\n",
    "- no impact for params_knn = {\n",
    "     'cv__max_df': [0.4,0.5,0.6,0.7,0.8,0.9,1.0] \n",
    "}\n",
    "- best_params = {'cv__min_df': 3, 'cv__ngram_range': (1, 1)} for params_knn = {\n",
    "    'cv__ngram_range':[(1,1),(1,2),(1,3),(1,4),(2,2),(2,3),(2,4)], 'cv__min_df':np.arange(2,9) \n",
    "}"
   ]
  },
  {
   "cell_type": "code",
   "execution_count": 32,
   "id": "e1bc3ca8-202a-4cf6-978f-739711dcd7f3",
   "metadata": {},
   "outputs": [
    {
     "data": {
      "text/plain": [
       "(0.7656749033451, 0.6854838709677419)"
      ]
     },
     "execution_count": 32,
     "metadata": {},
     "output_type": "execute_result"
    }
   ],
   "source": [
    "pipe_knn = Pipeline([\n",
    "    ('cv', CountVectorizer(stop_words=stop_words,ngram_range=(1,1),min_df=3,max_df=1.0,strip_accents='unicode')),\n",
    "    ('knn', KNeighborsClassifier(n_neighbors=5,p=2))\n",
    "])\n",
    "pipe_knn.fit(X_train, y_train)\n",
    "pipe_knn.score(X_train, y_train), pipe_knn.score(X_test, y_test)"
   ]
  },
  {
   "cell_type": "markdown",
   "id": "04229dc4-e7b9-49df-8d10-a634fa48d57a",
   "metadata": {
    "tags": []
   },
   "source": [
    "#### Random Forest Pipeline"
   ]
  },
  {
   "cell_type": "code",
   "execution_count": 33,
   "id": "15925c71-6b41-48d1-9b9a-341dbd2a5aa4",
   "metadata": {},
   "outputs": [
    {
     "data": {
      "text/plain": [
       "(0.9384770549672213, 0.9082661290322581)"
      ]
     },
     "execution_count": 33,
     "metadata": {},
     "output_type": "execute_result"
    }
   ],
   "source": [
    "pipe_rf = Pipeline([\n",
    "    ('cv', CountVectorizer(stop_words=stop_words,ngram_range=(1,3),min_df=8,strip_accents = 'unicode')),\n",
    "    ('rf', RandomForestClassifier(max_depth=None,n_estimators=500))\n",
    "])\n",
    "pipe_rf.fit(X_train, y_train)\n",
    "pipe_rf.score(X_train, y_train), pipe_rf.score(X_test, y_test)"
   ]
  },
  {
   "cell_type": "code",
   "execution_count": 34,
   "id": "ef4000d8-f4be-44b8-bbdd-0649d0918410",
   "metadata": {
    "tags": []
   },
   "outputs": [],
   "source": [
    "# params_rf = {\n",
    "#     'cv__min_df':np.arange(7,11)\n",
    "# }\n",
    "\n",
    "# gs_rf = GridSearchCV(pipe_rf, param_grid = params_rf, n_jobs=-1)\n",
    "\n",
    "# gs_rf.fit(X_train,y_train_enc);\n",
    "\n",
    "# gs_rf.best_params_\n",
    "\n",
    "# gs_rf.best_score_\n",
    "\n",
    "# gs_rf.cv_results_"
   ]
  },
  {
   "cell_type": "markdown",
   "id": "9a34327c-39ce-45e1-b7cd-b560a0c9a8fd",
   "metadata": {},
   "source": [
    "I will feed the results back into my model. Results:\n",
    "- best_params = {'cv__min_df': 8, 'cv__ngram_range': (1, 3)} for  'cv__ngram_range':[(1,1),(1,2),(1,3),(1,4),(2,2),(2,3),(2,4)], 'cv__min_df':np.arange(2,9)\n",
    "- best_params = {'rf__max_depth': None, 'rf__n_estimators': 500} for params_rf = {\n",
    "    'rf__max_depth':[None, 1,3,5],\n",
    "    'rf__n_estimators':[100,500,700]\n",
    "}\n",
    "- best_params = {'cv__min_df': 7} for params_rf = {\n",
    "    'cv__min_df':np.arange(7,11)\n",
    "}"
   ]
  },
  {
   "cell_type": "code",
   "execution_count": 35,
   "id": "625ccd94-9b4f-429f-8738-4be51949983c",
   "metadata": {},
   "outputs": [
    {
     "data": {
      "text/plain": [
       "(0.9384770549672213, 0.9067540322580645)"
      ]
     },
     "execution_count": 35,
     "metadata": {},
     "output_type": "execute_result"
    }
   ],
   "source": [
    "# Best model\n",
    "pipe_rf = Pipeline([\n",
    "    ('cv', CountVectorizer(stop_words=stop_words,ngram_range=(1,3),min_df=7,strip_accents = 'unicode')),\n",
    "    ('rf', RandomForestClassifier(max_depth=None,n_estimators=500))\n",
    "])\n",
    "pipe_rf.fit(X_train, y_train)\n",
    "pipe_rf.score(X_train, y_train), pipe_rf.score(X_test, y_test)"
   ]
  },
  {
   "cell_type": "markdown",
   "id": "604a525a-d1d8-4774-b99e-617c77ba72ba",
   "metadata": {
    "tags": []
   },
   "source": [
    "#### Extra Trees Pipeline"
   ]
  },
  {
   "cell_type": "code",
   "execution_count": 36,
   "id": "49aa1816-8fb5-4917-a5f6-dbcd00971ada",
   "metadata": {},
   "outputs": [
    {
     "data": {
      "text/plain": [
       "(0.9384770549672213, 0.9022177419354839)"
      ]
     },
     "execution_count": 36,
     "metadata": {},
     "output_type": "execute_result"
    }
   ],
   "source": [
    "pipe_et = Pipeline([\n",
    "    ('cv', CountVectorizer(stop_words=stop_words,ngram_range=(1,3),min_df=3,strip_accents = 'unicode')),\n",
    "    ('et', ExtraTreesClassifier())\n",
    "])\n",
    "pipe_et.fit(X_train, y_train)\n",
    "pipe_et.score(X_train, y_train), pipe_et.score(X_test, y_test)"
   ]
  },
  {
   "cell_type": "code",
   "execution_count": 37,
   "id": "e624a442-6947-4b47-a637-b4ed20ca8108",
   "metadata": {},
   "outputs": [
    {
     "data": {
      "text/plain": [
       "dict_keys(['memory', 'steps', 'verbose', 'cv', 'et', 'cv__analyzer', 'cv__binary', 'cv__decode_error', 'cv__dtype', 'cv__encoding', 'cv__input', 'cv__lowercase', 'cv__max_df', 'cv__max_features', 'cv__min_df', 'cv__ngram_range', 'cv__preprocessor', 'cv__stop_words', 'cv__strip_accents', 'cv__token_pattern', 'cv__tokenizer', 'cv__vocabulary', 'et__bootstrap', 'et__ccp_alpha', 'et__class_weight', 'et__criterion', 'et__max_depth', 'et__max_features', 'et__max_leaf_nodes', 'et__max_samples', 'et__min_impurity_decrease', 'et__min_samples_leaf', 'et__min_samples_split', 'et__min_weight_fraction_leaf', 'et__n_estimators', 'et__n_jobs', 'et__oob_score', 'et__random_state', 'et__verbose', 'et__warm_start'])"
      ]
     },
     "execution_count": 37,
     "metadata": {},
     "output_type": "execute_result"
    }
   ],
   "source": [
    "pipe_et.get_params().keys()"
   ]
  },
  {
   "cell_type": "code",
   "execution_count": 38,
   "id": "84ab7717-6736-440b-886a-c2197152c297",
   "metadata": {
    "tags": []
   },
   "outputs": [],
   "source": [
    "# params_et = {\n",
    "#     'cv__ngram_range':[(1,1),(1,2),(1,3),(1,4),(2,2),(2,3),(2,4)],\n",
    "#     'cv__min_df':np.arange(2,9)\n",
    "# }\n",
    "\n",
    "# gs_et = GridSearchCV(pipe_et, param_grid = params_et, n_jobs=-1)\n",
    "\n",
    "# gs_et.fit(X_train,y_train_enc);\n",
    "\n",
    "# gs_et.best_params_\n",
    "\n",
    "# gs_et.best_score_\n",
    "\n",
    "# gs_et.cv_results_"
   ]
  },
  {
   "cell_type": "markdown",
   "id": "7ff58a10-022b-4d0e-bc38-bc30dae1602b",
   "metadata": {},
   "source": [
    "I will feed the results back into my model. Results:\n",
    "- best_params = {'et__max_features': 'auto'} params_et = {\n",
    "    'et__max_features':['auto', 'sqrt','log2']\n",
    "}\n",
    "- best_params = {'cv__min_df': 7, 'cv__ngram_range': (1, 4)} for params_et = {\n",
    "    'cv__ngram_range':[(1,1),(1,2),(1,3),(1,4),(2,2),(2,3),(2,4)],\n",
    "    'cv__min_df':np.arange(2,9)\n",
    "}"
   ]
  },
  {
   "cell_type": "code",
   "execution_count": 39,
   "id": "54f0e1ae-6a83-43da-af69-cdf7e9e7ba3c",
   "metadata": {},
   "outputs": [
    {
     "data": {
      "text/plain": [
       "(0.9384770549672213, 0.9042338709677419)"
      ]
     },
     "execution_count": 39,
     "metadata": {},
     "output_type": "execute_result"
    }
   ],
   "source": [
    "# Best Model\n",
    "pipe_et = Pipeline([\n",
    "    ('cv', CountVectorizer(stop_words=stop_words,ngram_range=(1,4),min_df=7)),\n",
    "    ('et', ExtraTreesClassifier())\n",
    "])\n",
    "pipe_et.fit(X_train, y_train)\n",
    "pipe_et.score(X_train, y_train), pipe_et.score(X_test, y_test)"
   ]
  },
  {
   "cell_type": "markdown",
   "id": "6e70e3eb-b75c-4f8d-ae54-8ac76f5f9fce",
   "metadata": {
    "tags": []
   },
   "source": [
    "#### Multinomial Naive Bayes Pipeline"
   ]
  },
  {
   "cell_type": "code",
   "execution_count": 40,
   "id": "6cc2a5fa-b994-4248-ab8e-e391364f294e",
   "metadata": {},
   "outputs": [
    {
     "data": {
      "text/plain": [
       "(0.8813245923684653, 0.8805443548387096)"
      ]
     },
     "execution_count": 40,
     "metadata": {},
     "output_type": "execute_result"
    }
   ],
   "source": [
    "pipe_mnb = Pipeline([\n",
    "    ('cv', CountVectorizer(stop_words=stop_words,ngram_range=(1,3),min_df=3,strip_accents = 'unicode')),\n",
    "    ('mnb', MultinomialNB())\n",
    "])\n",
    "pipe_mnb.fit(X_train, y_train)\n",
    "pipe_mnb.score(X_train, y_train), pipe_mnb.score(X_test, y_test)"
   ]
  },
  {
   "cell_type": "code",
   "execution_count": 41,
   "id": "03c2a1cc-1ff1-4854-b22a-ed321a802d9c",
   "metadata": {},
   "outputs": [],
   "source": [
    "# params_mnb = {\n",
    "#     'mnb__alpha':[1/50,1/20,1/10]\n",
    "# }\n",
    "\n",
    "# gs_mnb = GridSearchCV(pipe_mnb, param_grid = params_mnb, n_jobs=-1)\n",
    "\n",
    "# gs_mnb.fit(X_train,y_train_enc);\n",
    "\n",
    "# gs_mnb.best_params_\n",
    "\n",
    "# gs_mnb.best_score_\n",
    "\n",
    "# gs_mnb.cv_results_"
   ]
  },
  {
   "cell_type": "markdown",
   "id": "46ca5f5e-8dff-4036-9a19-4e6f1d2cc6ae",
   "metadata": {},
   "source": [
    "I will feed the results back into my model. Results:\n",
    "- best_params = {'mnb__alpha': 0.1} for params_mnb = {\n",
    "    'mnb__alpha':[1/10,1/2,1,2,5,10]\n",
    "}\n",
    "- best_params = {'mnb__alpha': 0.1} for params_mnb = {\n",
    "    'mnb__alpha':[1/50,1/20,1/10]\n",
    "}"
   ]
  },
  {
   "cell_type": "code",
   "execution_count": 42,
   "id": "e934f390-6e40-4a94-b046-5b6b990c605c",
   "metadata": {},
   "outputs": [
    {
     "data": {
      "text/plain": [
       "(0.8838460245419398, 0.8810483870967742)"
      ]
     },
     "execution_count": 42,
     "metadata": {},
     "output_type": "execute_result"
    }
   ],
   "source": [
    "# Best model\n",
    "pipe_mnb = Pipeline([\n",
    "    ('cv', CountVectorizer(stop_words=stop_words,ngram_range=(1,3),min_df=3,strip_accents = 'unicode')),\n",
    "    ('mnb', MultinomialNB(alpha=1/10))\n",
    "])\n",
    "pipe_mnb.fit(X_train, y_train)\n",
    "pipe_mnb.score(X_train, y_train), pipe_mnb.score(X_test, y_test)"
   ]
  },
  {
   "cell_type": "markdown",
   "id": "a8cc1cf8-095f-458e-8c4e-46d10c39a5dc",
   "metadata": {},
   "source": [
    "#### Compare confusion matrices"
   ]
  },
  {
   "cell_type": "code",
   "execution_count": null,
   "id": "a18d41dd-f67d-4fac-bc35-e1b82a290f88",
   "metadata": {},
   "outputs": [],
   "source": []
  },
  {
   "cell_type": "code",
   "execution_count": 43,
   "id": "0960de45-9d96-4136-bdb8-d64c8b9f20c2",
   "metadata": {},
   "outputs": [
    {
     "data": {
      "image/png": "[encoded data removed]",
      "text/plain": [
       "<Figure size 432x288 with 2 Axes>"
      ]
     },
     "metadata": {
      "needs_background": "light"
     },
     "output_type": "display_data"
    },
    {
     "data": {
      "image/png": "[encoded data removed]",
      "text/plain": [
       "<Figure size 432x288 with 2 Axes>"
      ]
     },
     "metadata": {
      "needs_background": "light"
     },
     "output_type": "display_data"
    },
    {
     "data": {
      "image/png": "[encoded data removed]",
      "text/plain": [
       "<Figure size 432x288 with 2 Axes>"
      ]
     },
     "metadata": {
      "needs_background": "light"
     },
     "output_type": "display_data"
    },
    {
     "data": {
      "image/png": "[encoded data removed]",
      "text/plain": [
       "<Figure size 432x288 with 2 Axes>"
      ]
     },
     "metadata": {
      "needs_background": "light"
     },
     "output_type": "display_data"
    },
    {
     "data": {
      "image/png": "[encoded data removed]",
      "text/plain": [
       "<Figure size 432x288 with 2 Axes>"
      ]
     },
     "metadata": {
      "needs_background": "light"
     },
     "output_type": "display_data"
    },
    {
     "data": {
      "image/png": "[encoded data removed]",
      "text/plain": [
       "<Figure size 432x288 with 2 Axes>"
      ]
     },
     "metadata": {
      "needs_background": "light"
     },
     "output_type": "display_data"
    }
   ],
   "source": [
    "ConfusionMatrixDisplay.from_estimator(pipe_lr,X_test,y_test)\n",
    "plt.title('Confusion Matrix: Logistic Regression');\n",
    "ConfusionMatrixDisplay.from_estimator(pipe_lr,X_test,y_test)\n",
    "plt.title('Confusion Matrix: Decision Tree');\n",
    "ConfusionMatrixDisplay.from_estimator(pipe_knn,X_test,y_test)\n",
    "plt.title('Confusion Matrix: K Nearest Neighbors');\n",
    "ConfusionMatrixDisplay.from_estimator(pipe_rf,X_test,y_test)\n",
    "plt.title('Confusion Matrix: Random Forest');\n",
    "ConfusionMatrixDisplay.from_estimator(pipe_et,X_test,y_test)\n",
    "plt.title('Confusion Matrix: Extra Trees');\n",
    "ConfusionMatrixDisplay.from_estimator(pipe_mnb,X_test,y_test)\n",
    "plt.title('Confusion Matrix: Multinomial Naive Bayes');"
   ]
  },
  {
   "cell_type": "code",
   "execution_count": 44,
   "id": "e994fdd1-d2ce-4111-aff6-296320e34e87",
   "metadata": {},
   "outputs": [
    {
     "ename": "NameError",
     "evalue": "name 'misclassifications' is not defined",
     "output_type": "error",
     "traceback": [
      "\u001b[0;31m---------------------------------------------------------------------------\u001b[0m",
      "\u001b[0;31mNameError\u001b[0m                                 Traceback (most recent call last)",
      "Input \u001b[0;32mIn [44]\u001b[0m, in \u001b[0;36m<cell line: 1>\u001b[0;34m()\u001b[0m\n\u001b[0;32m----> 1\u001b[0m \u001b[43mmisclassifications\u001b[49m\n",
      "\u001b[0;31mNameError\u001b[0m: name 'misclassifications' is not defined"
     ]
    }
   ],
   "source": [
    "misclassifications"
   ]
  },
  {
   "cell_type": "code",
   "execution_count": null,
   "id": "540e94c2-cd22-426e-9ec9-36161e7f6a6d",
   "metadata": {},
   "outputs": [],
   "source": [
    "misclassifications[misclassifications['true class'] != misclassifications['LR pred class']]"
   ]
  },
  {
   "cell_type": "markdown",
   "id": "7afd9293-e4fa-45f7-830c-e28ba0c7ffc0",
   "metadata": {},
   "source": [
    "It seems that many of the classifications are being mispredicted because of the \"removed\" selftext. Let's see if we can add \"Title\" to make these predictions."
   ]
  },
  {
   "cell_type": "code",
   "execution_count": null,
   "id": "c9d4817e-f4b9-4d39-aa5d-d6505c69b605",
   "metadata": {},
   "outputs": [],
   "source": []
  }
 ],
 "metadata": {
  "kernelspec": {
   "display_name": "Python 3 (ipykernel)",
   "language": "python",
   "name": "python3"
  },
  "language_info": {
   "codemirror_mode": {
    "name": "ipython",
    "version": 3
   },
   "file_extension": ".py",
   "mimetype": "text/x-python",
   "name": "python",
   "nbconvert_exporter": "python",
   "pygments_lexer": "ipython3",
   "version": "3.8.8"
  }
 },
 "nbformat": 4,
 "nbformat_minor": 5
}
