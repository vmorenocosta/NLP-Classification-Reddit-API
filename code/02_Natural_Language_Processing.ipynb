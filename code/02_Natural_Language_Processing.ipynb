{
 "cells": [
  {
   "cell_type": "markdown",
   "id": "4f1b9fd9-7d1c-4db5-8c02-68bb5882998e",
   "metadata": {},
   "source": [
    "# 2. Natural Language Processing\n",
    "\n",
    "This notebook preprocesses and develops pipelines to classify posts from the two subreddits using classification models.\n",
    "\n",
    "**Preprocessing and Modeling**\n",
    "- Is text data successfully converted to a matrix representation?\n",
    "- Are methods such as stop words, stemming, and lemmatization explored?\n",
    "- Does the student properly split and/or sample the data for validation/training purposes?\n",
    "- Does the student test and evaluate a variety of models to identify a production algorithm (**AT MINIMUM:** two classification models, **BONUS:** try a Naive Bayes)?\n",
    "- Does the student defend their choice of production model relevant to the data at hand and the problem?\n",
    "- Does the student explain how the model works and evaluate its performance successes/downfalls?"
   ]
  },
  {
   "cell_type": "markdown",
   "id": "d9a70348-6217-4d6e-ac7c-41529c6374e0",
   "metadata": {},
   "source": [
    "#### Imports"
   ]
  },
  {
   "cell_type": "code",
   "execution_count": 278,
   "id": "8af2e953-f669-494c-8960-370399caadb8",
   "metadata": {},
   "outputs": [],
   "source": [
    "import pandas as pd\n",
    "import numpy as np\n",
    "\n",
    "from nltk.corpus import stopwords\n",
    "from nltk import word_tokenize\n",
    "from nltk import WordNetLemmatizer\n",
    "\n",
    "from sklearn.model_selection import train_test_split, GridSearchCV\n",
    "from sklearn.feature_extraction.text import CountVectorizer, TfidfVectorizer\n",
    "from sklearn.pipeline import Pipeline\n",
    "from sklearn.preprocessing import LabelBinarizer, OneHotEncoder, LabelEncoder\n",
    "from sklearn.linear_model import LogisticRegression\n",
    "from sklearn.compose import make_column_transformer\n",
    "from sklearn.metrics import mean_squared_error\n",
    "from sklearn.tree import DecisionTreeClassifier\n",
    "from sklearn.dummy import DummyClassifier\n",
    "from sklearn.neighbors import KNeighborsClassifier\n",
    "from sklearn.ensemble import RandomForestClassifier, ExtraTreesClassifier, VotingClassifier\n",
    "from sklearn.naive_bayes import MultinomialNB"
   ]
  },
  {
   "cell_type": "code",
   "execution_count": 3,
   "id": "f63b43df-55f3-4727-a0e8-e2bf47fab9ee",
   "metadata": {},
   "outputs": [],
   "source": [
    "%store -r df stop_words"
   ]
  },
  {
   "cell_type": "markdown",
   "id": "f0d1c9a8-2ab6-469e-8fbf-c6479577ef44",
   "metadata": {},
   "source": [
    "#### Make train and test sets out of the train data"
   ]
  },
  {
   "cell_type": "code",
   "execution_count": 4,
   "id": "75c77ce0-9765-4c9b-984b-fc24c4715ef7",
   "metadata": {},
   "outputs": [],
   "source": [
    "X = df['selftext']\n",
    "y = df['subreddit']"
   ]
  },
  {
   "cell_type": "code",
   "execution_count": 5,
   "id": "59e9da18-fcc0-4eba-9f8d-3712c38938ca",
   "metadata": {},
   "outputs": [],
   "source": [
    "X_train, X_test, y_train, y_test = train_test_split(X, y, random_state = 42,stratify=y)"
   ]
  },
  {
   "cell_type": "code",
   "execution_count": 6,
   "id": "cff9c1b8-dc2c-416e-8048-9f2dc4548dd6",
   "metadata": {},
   "outputs": [
    {
     "data": {
      "text/plain": [
       "Divorce            997\n",
       "weddingplanning    987\n",
       "Name: subreddit, dtype: int64"
      ]
     },
     "execution_count": 6,
     "metadata": {},
     "output_type": "execute_result"
    }
   ],
   "source": [
    "y_test.value_counts()"
   ]
  },
  {
   "cell_type": "code",
   "execution_count": 7,
   "id": "25e05412-954d-4471-8492-4a10ce083a56",
   "metadata": {},
   "outputs": [
    {
     "name": "stdout",
     "output_type": "stream",
     "text": [
      "Baseline accuracy is 50.3%.\n"
     ]
    }
   ],
   "source": [
    "print(f'Baseline accuracy is {round(y_test.value_counts()[0]*100/len(y_test),1)}%.')"
   ]
  },
  {
   "cell_type": "markdown",
   "id": "b2f82fe2-012f-49d8-8e25-97d40351c239",
   "metadata": {},
   "source": [
    "#### Encode subreddit"
   ]
  },
  {
   "cell_type": "code",
   "execution_count": 8,
   "id": "70290fb7-5235-4177-bf8a-3f9f9b32959b",
   "metadata": {},
   "outputs": [],
   "source": [
    "le = LabelEncoder()\n",
    "y_train_enc = le.fit_transform(y_train)\n",
    "y_test_enc = le.transform(y_test)"
   ]
  },
  {
   "cell_type": "markdown",
   "id": "619ffaf0-faaa-4870-9fce-eb293733f340",
   "metadata": {},
   "source": [
    "#### Create Lemmatizer"
   ]
  },
  {
   "cell_type": "code",
   "execution_count": 9,
   "id": "e7596dff-cd40-4a6b-af08-7b3e0e123857",
   "metadata": {},
   "outputs": [],
   "source": [
    "def lemma_tokenizer(doc):  ## Used class notes\n",
    "    wnl = WordNetLemmatizer()\n",
    "    return [w for w in word_tokenize(doc)]"
   ]
  },
  {
   "cell_type": "markdown",
   "id": "954251aa-4580-4db6-9a25-ed380fb92b8d",
   "metadata": {},
   "source": [
    "### Pipelines"
   ]
  },
  {
   "cell_type": "markdown",
   "id": "7fcab945-a424-4077-b0e4-466da1ee92b0",
   "metadata": {},
   "source": [
    "#### Logistic Regression Pipeline"
   ]
  },
  {
   "cell_type": "code",
   "execution_count": 22,
   "id": "37beac8e-888f-4697-b83c-1b3e984932a1",
   "metadata": {},
   "outputs": [
    {
     "data": {
      "text/plain": [
       "(0.939149436880148, 0.9112903225806451)"
      ]
     },
     "execution_count": 22,
     "metadata": {},
     "output_type": "execute_result"
    }
   ],
   "source": [
    "# First pass\n",
    "pipe_lr = Pipeline([\n",
    "    ('cv', CountVectorizer()),\n",
    "    ('lr', LogisticRegression(max_iter = 10_000))\n",
    "])\n",
    "pipe_lr.fit(X_train, y_train_enc)\n",
    "pipe_lr.score(X_train, y_train_enc), pipe_lr.score(X_test, y_test_enc)"
   ]
  },
  {
   "cell_type": "markdown",
   "id": "c9f0f8ce-2dc1-4bf5-bf9b-3b946ecf5c75",
   "metadata": {},
   "source": [
    "GridSearch"
   ]
  },
  {
   "cell_type": "code",
   "execution_count": 86,
   "id": "f31f84e6-bd62-4628-a6d8-018a4cbc9d71",
   "metadata": {},
   "outputs": [],
   "source": [
    "params = {\n",
    "    'cv__tokenizer': [None,lemma_tokenizer]\n",
    "}"
   ]
  },
  {
   "cell_type": "code",
   "execution_count": 87,
   "id": "2612f7ab-74a2-4bc1-aacc-053fbd7d24d4",
   "metadata": {},
   "outputs": [],
   "source": [
    "gs_lr = GridSearchCV(\n",
    "    pipe_lr, param_grid=params,n_jobs=-1)"
   ]
  },
  {
   "cell_type": "code",
   "execution_count": 88,
   "id": "25df9080-50a0-4ec8-aca9-2af4e931fe7d",
   "metadata": {
    "tags": []
   },
   "outputs": [],
   "source": [
    "gs_lr.fit(X_train,y_train_enc);"
   ]
  },
  {
   "cell_type": "code",
   "execution_count": 89,
   "id": "97734940-2ff1-4eda-9c08-4f7514cfeebf",
   "metadata": {},
   "outputs": [
    {
     "data": {
      "text/plain": [
       "{'cv__tokenizer': None}"
      ]
     },
     "execution_count": 89,
     "metadata": {},
     "output_type": "execute_result"
    }
   ],
   "source": [
    "gs_lr.best_params_"
   ]
  },
  {
   "cell_type": "code",
   "execution_count": 90,
   "id": "65fa07ad-ce90-4c66-8c7c-a28553fe0da4",
   "metadata": {},
   "outputs": [
    {
     "data": {
      "text/plain": [
       "0.9093972054759666"
      ]
     },
     "execution_count": 90,
     "metadata": {},
     "output_type": "execute_result"
    }
   ],
   "source": [
    "gs_lr.best_score_"
   ]
  },
  {
   "cell_type": "code",
   "execution_count": 91,
   "id": "5c730bfd-2945-40f2-a625-8b28460faad8",
   "metadata": {},
   "outputs": [
    {
     "data": {
      "text/plain": [
       "{'mean_fit_time': array([ 6.39970903, 19.65938621]),\n",
       " 'std_fit_time': array([0.16836814, 1.16669374]),\n",
       " 'mean_score_time': array([0.98642325, 3.49531579]),\n",
       " 'std_score_time': array([0.09329038, 0.7842291 ]),\n",
       " 'param_cv__tokenizer': masked_array(data=[None, <function lemma_tokenizer at 0x7fa0b02d85e0>],\n",
       "              mask=[False, False],\n",
       "        fill_value='?',\n",
       "             dtype=object),\n",
       " 'params': [{'cv__tokenizer': None},\n",
       "  {'cv__tokenizer': <function __main__.lemma_tokenizer(doc)>}],\n",
       " 'split0_test_score': array([0.91092437, 0.89663866]),\n",
       " 'split1_test_score': array([0.89663866, 0.89663866]),\n",
       " 'split2_test_score': array([0.91596639, 0.91428571]),\n",
       " 'split3_test_score': array([0.91008403, 0.90588235]),\n",
       " 'split4_test_score': array([0.91337258, 0.90748528]),\n",
       " 'mean_test_score': array([0.90939721, 0.90418613]),\n",
       " 'std_test_score': array([0.00670138, 0.00677779]),\n",
       " 'rank_test_score': array([1, 2], dtype=int32)}"
      ]
     },
     "execution_count": 91,
     "metadata": {},
     "output_type": "execute_result"
    }
   ],
   "source": [
    "gs_lr.cv_results_"
   ]
  },
  {
   "cell_type": "markdown",
   "id": "f2f4559d-0e83-4396-81ba-61d8aa17f92f",
   "metadata": {},
   "source": [
    "I will feed this back into my model."
   ]
  },
  {
   "cell_type": "markdown",
   "id": "11dbd885-4cd4-484a-80e6-8e52a33f62fc",
   "metadata": {},
   "source": [
    "I will feed the results back into my model. Results:\n",
    "- best_params = {'cv__min_df': 4, 'cv__ngram_range': (1, 3)} for params = {\n",
    "    'cv__ngram_range':[(1,1),(1,2),(1,3),(1,4),(2,2),(2,3),(2,4)],\n",
    "    'cv__min_df':np.arange(2,9)\n",
    "}\n",
    "- best_params = {'lr__C': 0.2} for params = {\n",
    "    'lr__C': [1/20, 1/10, 1/5, 1/2, 1, 2, 5]\n",
    "}\n",
    "- no impact for params = {\n",
    "    'cv__max_df': [0.4,0.5,0.6,0.7,0.8,0.9,1.0]\n",
    "}\n",
    "- best_params = {'cv__strip_accents': 'unicode'} (actually tie with None, but quicker) for params = {\n",
    "    'cv__strip_accents': [None,'ascii', 'unicode']\n",
    "}\n",
    "- best_params = 'cv__tokenizer': None} for params = {\n",
    "    'cv__tokenizer': [None,lemma_tokenizer]\n",
    "}"
   ]
  },
  {
   "cell_type": "code",
   "execution_count": 92,
   "id": "5b4da8db-faac-47bf-93bb-585a4e838438",
   "metadata": {},
   "outputs": [
    {
     "data": {
      "text/plain": [
       "(0.9324256177508825, 0.9143145161290323)"
      ]
     },
     "execution_count": 92,
     "metadata": {},
     "output_type": "execute_result"
    }
   ],
   "source": [
    "# Best logistic model using gridsearch\n",
    "pipe_lr = Pipeline([\n",
    "    ('cv', CountVectorizer(stop_words=stop_words,ngram_range=(1,3),min_df=4,max_df=1.0,strip_accents='unicode')),\n",
    "    ('lr', LogisticRegression(C=1/5))\n",
    "])\n",
    "pipe_lr.fit(X_train, y_train_enc)\n",
    "pipe_lr.score(X_train, y_train_enc), pipe_lr.score(X_test, y_test_enc)"
   ]
  },
  {
   "cell_type": "markdown",
   "id": "06c0d4cb-e73c-4dea-8569-60a666985fb5",
   "metadata": {
    "tags": []
   },
   "source": [
    "#### Decision Tree Pipeline"
   ]
  },
  {
   "cell_type": "code",
   "execution_count": 173,
   "id": "9f19900a-e9cb-4eb2-acec-fece19640715",
   "metadata": {},
   "outputs": [
    {
     "data": {
      "text/plain": [
       "(0.9384770549672213, 0.8770161290322581)"
      ]
     },
     "execution_count": 173,
     "metadata": {},
     "output_type": "execute_result"
    }
   ],
   "source": [
    "pipe_dt = Pipeline([\n",
    "    ('cv', CountVectorizer(stop_words=stop_words,ngram_range=(1,2),min_df=4)),\n",
    "    ('dt', DecisionTreeClassifier(max_depth=None,criterion='entropy',min_samples_split=3))\n",
    "])\n",
    "pipe_dt.fit(X_train, y_train_enc)\n",
    "pipe_dt.score(X_train, y_train_enc), pipe_dt.score(X_test, y_test_enc)"
   ]
  },
  {
   "cell_type": "code",
   "execution_count": 174,
   "id": "e953b342-e1b4-46fe-b005-b60eef287ac9",
   "metadata": {},
   "outputs": [
    {
     "data": {
      "text/plain": [
       "dict_keys(['memory', 'steps', 'verbose', 'cv', 'dt', 'cv__analyzer', 'cv__binary', 'cv__decode_error', 'cv__dtype', 'cv__encoding', 'cv__input', 'cv__lowercase', 'cv__max_df', 'cv__max_features', 'cv__min_df', 'cv__ngram_range', 'cv__preprocessor', 'cv__stop_words', 'cv__strip_accents', 'cv__token_pattern', 'cv__tokenizer', 'cv__vocabulary', 'dt__ccp_alpha', 'dt__class_weight', 'dt__criterion', 'dt__max_depth', 'dt__max_features', 'dt__max_leaf_nodes', 'dt__min_impurity_decrease', 'dt__min_samples_leaf', 'dt__min_samples_split', 'dt__min_weight_fraction_leaf', 'dt__random_state', 'dt__splitter'])"
      ]
     },
     "execution_count": 174,
     "metadata": {},
     "output_type": "execute_result"
    }
   ],
   "source": [
    "pipe_dt.get_params().keys()"
   ]
  },
  {
   "cell_type": "code",
   "execution_count": 175,
   "id": "eb52b5a7-0d55-4fdf-b4aa-cfb7e9b20c95",
   "metadata": {},
   "outputs": [],
   "source": [
    "params_dt = {\n",
    "     'cv__max_df': [0.4,0.5,0.6,0.7,0.8,0.9,1.0] \n",
    "}"
   ]
  },
  {
   "cell_type": "code",
   "execution_count": 176,
   "id": "1c00e588-b0c0-406e-a1ec-72d26d837467",
   "metadata": {},
   "outputs": [],
   "source": [
    "gs_dt = GridSearchCV(pipe_dt, param_grid = params_dt, n_jobs=-1)"
   ]
  },
  {
   "cell_type": "code",
   "execution_count": 177,
   "id": "57f5735f-f1a8-4724-ae0a-97105e7dcc14",
   "metadata": {
    "tags": []
   },
   "outputs": [],
   "source": [
    "gs_dt.fit(X_train,y_train_enc);"
   ]
  },
  {
   "cell_type": "code",
   "execution_count": 178,
   "id": "5c252c1a-55f0-448b-b9f5-3dd5006cf71a",
   "metadata": {},
   "outputs": [
    {
     "data": {
      "text/plain": [
       "{'cv__max_df': 0.5}"
      ]
     },
     "execution_count": 178,
     "metadata": {},
     "output_type": "execute_result"
    }
   ],
   "source": [
    "gs_dt.best_params_"
   ]
  },
  {
   "cell_type": "code",
   "execution_count": 179,
   "id": "ff635fcc-bbfb-44f1-be40-54c1c7cfd575",
   "metadata": {},
   "outputs": [
    {
     "data": {
      "text/plain": [
       "0.8793062456269304"
      ]
     },
     "execution_count": 179,
     "metadata": {},
     "output_type": "execute_result"
    }
   ],
   "source": [
    "gs_dt.best_score_"
   ]
  },
  {
   "cell_type": "code",
   "execution_count": 180,
   "id": "5d6c0c8c-e253-4e97-bfeb-581c9ec52f43",
   "metadata": {
    "collapsed": true,
    "jupyter": {
     "outputs_hidden": true
    },
    "tags": []
   },
   "outputs": [
    {
     "data": {
      "text/plain": [
       "{'mean_fit_time': array([4.118434  , 4.06739755, 3.98271585, 4.56136899, 4.90900517,\n",
       "        5.6661056 , 3.59714231]),\n",
       " 'std_fit_time': array([0.04455259, 0.15831547, 0.08430205, 0.27434803, 0.33933838,\n",
       "        0.0706631 , 1.65485582]),\n",
       " 'mean_score_time': array([0.55636244, 0.57893558, 0.64267879, 0.70341001, 0.78846087,\n",
       "        0.76561017, 0.46437607]),\n",
       " 'std_score_time': array([0.02544631, 0.06927434, 0.03664722, 0.04626765, 0.06456284,\n",
       "        0.03674529, 0.18843309]),\n",
       " 'param_cv__max_df': masked_array(data=[0.4, 0.5, 0.6, 0.7, 0.8, 0.9, 1.0],\n",
       "              mask=[False, False, False, False, False, False, False],\n",
       "        fill_value='?',\n",
       "             dtype=object),\n",
       " 'params': [{'cv__max_df': 0.4},\n",
       "  {'cv__max_df': 0.5},\n",
       "  {'cv__max_df': 0.6},\n",
       "  {'cv__max_df': 0.7},\n",
       "  {'cv__max_df': 0.8},\n",
       "  {'cv__max_df': 0.9},\n",
       "  {'cv__max_df': 1.0}],\n",
       " 'split0_test_score': array([0.87647059, 0.87142857, 0.86806723, 0.8697479 , 0.87310924,\n",
       "        0.87226891, 0.86890756]),\n",
       " 'split1_test_score': array([0.87226891, 0.87310924, 0.87226891, 0.86638655, 0.87563025,\n",
       "        0.87058824, 0.87058824]),\n",
       " 'split2_test_score': array([0.88571429, 0.9       , 0.89243697, 0.8907563 , 0.89243697,\n",
       "        0.89243697, 0.88655462]),\n",
       " 'split3_test_score': array([0.87815126, 0.87983193, 0.87394958, 0.87731092, 0.88151261,\n",
       "        0.87394958, 0.87310924]),\n",
       " 'split4_test_score': array([0.87047939, 0.87216148, 0.87384357, 0.87468461, 0.86543314,\n",
       "        0.87216148, 0.88477712]),\n",
       " 'mean_test_score': array([0.87661689, 0.87930625, 0.87611325, 0.87577726, 0.87762444,\n",
       "        0.87628104, 0.87678736]),\n",
       " 'std_test_score': array([0.00532376, 0.01077048, 0.00843581, 0.00839591, 0.00902796,\n",
       "        0.00814771, 0.00739303]),\n",
       " 'rank_test_score': array([4, 1, 6, 7, 2, 5, 3], dtype=int32)}"
      ]
     },
     "execution_count": 180,
     "metadata": {},
     "output_type": "execute_result"
    }
   ],
   "source": [
    "gs_dt.cv_results_"
   ]
  },
  {
   "cell_type": "markdown",
   "id": "472c0377-23e8-498a-8483-d905e36831ad",
   "metadata": {},
   "source": [
    "I will feed the results back into my model. Results:\n",
    "- best_params = {'dt__criterion': 'entropy'} for params_dt = {\n",
    "    'dt__criterion': [\"gini\", \"entropy\"]\n",
    "}\n",
    "- best_params = {'dt__criterion': 'entropy', 'dt__min_samples_split': 4} for params_dt = {\n",
    "    'dt__criterion': [\"gini\", \"entropy\"],\n",
    "    'dt__min_samples_split': [2,4,6],\n",
    "}\n",
    "- best_params = {'dt__criterion': 'entropy', 'dt__min_samples_split': 3} for params_dt = {\n",
    "    'dt__criterion': [\"entropy\"],\n",
    "    'dt__min_samples_split': [3,4,5],\n",
    "}\n",
    "- best_params = {'cv__min_df': 4, 'cv__ngram_range': (1, 2)} for params_dt = {\n",
    "    'cv__ngram_range':[(1,1),(1,2),(1,3),(1,4),(2,2),(2,3),(2,4)], 'cv__min_df':np.arange(2,9) \n",
    "}\n",
    "- best_params = {'cv__max_df': 0.5} for params_dt = {\n",
    "     'cv__max_df': [0.4,0.5,0.6,0.7,0.8,0.9,1.0] \n",
    "}"
   ]
  },
  {
   "cell_type": "code",
   "execution_count": 187,
   "id": "133d59da-5073-448f-b43e-a5de540008b3",
   "metadata": {},
   "outputs": [
    {
     "data": {
      "text/plain": [
       "(0.9384770549672213, 0.8780241935483871)"
      ]
     },
     "execution_count": 187,
     "metadata": {},
     "output_type": "execute_result"
    }
   ],
   "source": [
    "# Best Model\n",
    "pipe_dt = Pipeline([\n",
    "    ('cv', CountVectorizer(stop_words=stop_words,ngram_range=(1,2),min_df=4,max_df=0.5)),\n",
    "    ('dt', DecisionTreeClassifier(max_depth=None,criterion='entropy',min_samples_split=3))\n",
    "])\n",
    "pipe_dt.fit(X_train, y_train_enc)\n",
    "pipe_dt.score(X_train, y_train_enc), pipe_dt.score(X_test, y_test_enc)"
   ]
  },
  {
   "cell_type": "markdown",
   "id": "72b8fd61-267a-4600-bacb-fe1b33e29c9d",
   "metadata": {
    "tags": []
   },
   "source": [
    "#### K Nearest Neighbors Pipeline"
   ]
  },
  {
   "cell_type": "code",
   "execution_count": 195,
   "id": "409b90f6-746a-440c-96c1-207f5648d509",
   "metadata": {},
   "outputs": [
    {
     "data": {
      "text/plain": [
       "(0.7959320894267944, 0.688508064516129)"
      ]
     },
     "execution_count": 195,
     "metadata": {},
     "output_type": "execute_result"
    }
   ],
   "source": [
    "pipe_knn = Pipeline([\n",
    "    ('cv', CountVectorizer(stop_words=stop_words,ngram_range=(1,3),min_df=4,max_df=1.0,strip_accents='unicode')),\n",
    "    ('knn', KNeighborsClassifier(n_neighbors=5,p=2))\n",
    "])\n",
    "pipe_knn.fit(X_train, y_train_enc)\n",
    "pipe_knn.score(X_train, y_train_enc), pipe_knn.score(X_test, y_test_enc)"
   ]
  },
  {
   "cell_type": "markdown",
   "id": "376496ea-de3f-472e-a1cb-c54ab9c4070d",
   "metadata": {},
   "source": [
    "GridSearch"
   ]
  },
  {
   "cell_type": "code",
   "execution_count": null,
   "id": "f29b4c4c-09ef-4b38-a910-9424729ba4cc",
   "metadata": {},
   "outputs": [],
   "source": [
    "KNeighborsClassifier("
   ]
  },
  {
   "cell_type": "code",
   "execution_count": 196,
   "id": "2d17fe57-aca0-424e-842f-3635cc74ac4c",
   "metadata": {},
   "outputs": [],
   "source": [
    "params_knn = {\n",
    "    'cv__ngram_range':[(1,1),(1,2),(1,3),(1,4),(2,2),(2,3),(2,4)], 'cv__min_df':np.arange(2,9) \n",
    "}"
   ]
  },
  {
   "cell_type": "code",
   "execution_count": 197,
   "id": "b5583593-7bad-46b2-a83f-088759c416e6",
   "metadata": {},
   "outputs": [],
   "source": [
    "gs_knn = GridSearchCV(\n",
    "    pipe_knn, param_grid=params_knn,n_jobs=-1)"
   ]
  },
  {
   "cell_type": "code",
   "execution_count": 198,
   "id": "4f4cf726-3a8f-4c68-9146-5a6abceac6b7",
   "metadata": {
    "tags": []
   },
   "outputs": [],
   "source": [
    "gs_knn.fit(X_train,y_train_enc);"
   ]
  },
  {
   "cell_type": "code",
   "execution_count": 199,
   "id": "dccd9bfb-6405-4b1a-8fc9-200d165e89bf",
   "metadata": {},
   "outputs": [
    {
     "data": {
      "text/plain": [
       "{'cv__min_df': 3, 'cv__ngram_range': (1, 1)}"
      ]
     },
     "execution_count": 199,
     "metadata": {},
     "output_type": "execute_result"
    }
   ],
   "source": [
    "gs_knn.best_params_"
   ]
  },
  {
   "cell_type": "code",
   "execution_count": 200,
   "id": "eb9d1611-1c7e-4117-b7c8-ec75061d9bbf",
   "metadata": {},
   "outputs": [
    {
     "data": {
      "text/plain": [
       "0.7123807167947078"
      ]
     },
     "execution_count": 200,
     "metadata": {},
     "output_type": "execute_result"
    }
   ],
   "source": [
    "gs_knn.best_score_"
   ]
  },
  {
   "cell_type": "code",
   "execution_count": 201,
   "id": "278e3f0d-d61a-46b1-8671-c46cb35f5956",
   "metadata": {
    "collapsed": true,
    "jupyter": {
     "outputs_hidden": true
    },
    "tags": []
   },
   "outputs": [
    {
     "data": {
      "text/plain": [
       "{'mean_fit_time': array([ 2.12323856,  4.16683111,  5.89952655,  8.09805994,  3.84587107,\n",
       "         6.03389306,  8.22604022,  3.02478766,  5.00029564,  7.11949663,\n",
       "         9.74562941,  4.63361645,  6.71892247, 10.11451302,  3.83520718,\n",
       "         5.50885997,  7.87878232, 10.2466238 ,  4.77153378,  7.07806482,\n",
       "         9.97503214,  3.79238582,  5.61771998,  8.09596238, 10.49108057,\n",
       "         4.83726583,  7.01719527,  9.36247749,  3.49472523,  5.52764211,\n",
       "         7.94837661, 10.724475  ,  4.94969053,  7.02651815,  9.25191865,\n",
       "         3.50314326,  5.58030639,  7.74292116, 10.1194838 ,  4.87931461,\n",
       "         8.25374603, 10.859974  ,  3.70433235,  5.36447678,  7.59529076,\n",
       "         9.7388134 ,  4.49696131,  6.69355206,  7.1257195 ]),\n",
       " 'std_fit_time': array([0.05332698, 0.18954436, 0.0491649 , 0.06328984, 0.067586  ,\n",
       "        0.08388695, 0.11230609, 0.06009406, 0.08230781, 0.08148116,\n",
       "        0.1919078 , 0.14482546, 0.08509866, 0.08405127, 0.43405699,\n",
       "        0.1661816 , 0.061999  , 0.12847497, 0.05648152, 0.05673612,\n",
       "        0.10842817, 0.21453338, 0.09719151, 0.05742351, 0.28580822,\n",
       "        0.04096828, 0.09320464, 0.05809192, 0.06668866, 0.09161702,\n",
       "        0.15471912, 0.22471154, 0.09917057, 0.04705276, 0.12480641,\n",
       "        0.0656841 , 0.08842601, 0.10219069, 0.07964969, 0.15312404,\n",
       "        0.12723385, 0.58071645, 0.32605778, 0.05459745, 0.0760936 ,\n",
       "        0.18075264, 0.06897725, 0.13973866, 1.23442458]),\n",
       " 'mean_score_time': array([1.79390206, 1.63805823, 1.91420836, 2.32682815, 1.25913577,\n",
       "        1.57265677, 1.83764062, 1.67532611, 2.0345758 , 2.3786593 ,\n",
       "        2.74977884, 1.46003137, 1.96472054, 2.07808332, 1.90582647,\n",
       "        2.20030284, 2.59476614, 2.82036095, 1.54359751, 1.87319713,\n",
       "        2.16917763, 1.951615  , 2.24025869, 2.65301404, 2.79645338,\n",
       "        1.541293  , 1.82404437, 2.11097002, 1.97033758, 2.21353946,\n",
       "        2.83268738, 2.84455676, 1.5405046 , 1.78396859, 2.0670444 ,\n",
       "        1.9301312 , 2.1930028 , 2.44082103, 2.94486346, 1.61363339,\n",
       "        2.33138123, 2.16632543, 1.96044617, 2.16977129, 2.43528934,\n",
       "        2.63082581, 1.44848671, 1.63593483, 0.9926713 ]),\n",
       " 'std_score_time': array([0.03426616, 0.10513843, 0.02493954, 0.10505161, 0.07020619,\n",
       "        0.06801896, 0.08041367, 0.06194061, 0.05889644, 0.05708078,\n",
       "        0.10441912, 0.02883275, 0.38935784, 0.08418853, 0.04258995,\n",
       "        0.07939551, 0.03596108, 0.09155627, 0.03391036, 0.09493877,\n",
       "        0.05150036, 0.04357924, 0.07724998, 0.05365314, 0.08441718,\n",
       "        0.07137601, 0.06195376, 0.05356654, 0.05813656, 0.04390785,\n",
       "        0.10014249, 0.03479204, 0.03335665, 0.08597031, 0.06871199,\n",
       "        0.06100167, 0.06358728, 0.05832715, 0.29745485, 0.16168401,\n",
       "        0.23533223, 0.10317679, 0.16799213, 0.03299166, 0.03495414,\n",
       "        0.09215548, 0.04864479, 0.16648634, 0.26937282]),\n",
       " 'param_cv__min_df': masked_array(data=[2, 2, 2, 2, 2, 2, 2, 3, 3, 3, 3, 3, 3, 3, 4, 4, 4, 4,\n",
       "                    4, 4, 4, 5, 5, 5, 5, 5, 5, 5, 6, 6, 6, 6, 6, 6, 6, 7,\n",
       "                    7, 7, 7, 7, 7, 7, 8, 8, 8, 8, 8, 8, 8],\n",
       "              mask=[False, False, False, False, False, False, False, False,\n",
       "                    False, False, False, False, False, False, False, False,\n",
       "                    False, False, False, False, False, False, False, False,\n",
       "                    False, False, False, False, False, False, False, False,\n",
       "                    False, False, False, False, False, False, False, False,\n",
       "                    False, False, False, False, False, False, False, False,\n",
       "                    False],\n",
       "        fill_value='?',\n",
       "             dtype=object),\n",
       " 'param_cv__ngram_range': masked_array(data=[(1, 1), (1, 2), (1, 3), (1, 4), (2, 2), (2, 3), (2, 4),\n",
       "                    (1, 1), (1, 2), (1, 3), (1, 4), (2, 2), (2, 3), (2, 4),\n",
       "                    (1, 1), (1, 2), (1, 3), (1, 4), (2, 2), (2, 3), (2, 4),\n",
       "                    (1, 1), (1, 2), (1, 3), (1, 4), (2, 2), (2, 3), (2, 4),\n",
       "                    (1, 1), (1, 2), (1, 3), (1, 4), (2, 2), (2, 3), (2, 4),\n",
       "                    (1, 1), (1, 2), (1, 3), (1, 4), (2, 2), (2, 3), (2, 4),\n",
       "                    (1, 1), (1, 2), (1, 3), (1, 4), (2, 2), (2, 3), (2, 4)],\n",
       "              mask=[False, False, False, False, False, False, False, False,\n",
       "                    False, False, False, False, False, False, False, False,\n",
       "                    False, False, False, False, False, False, False, False,\n",
       "                    False, False, False, False, False, False, False, False,\n",
       "                    False, False, False, False, False, False, False, False,\n",
       "                    False, False, False, False, False, False, False, False,\n",
       "                    False],\n",
       "        fill_value='?',\n",
       "             dtype=object),\n",
       " 'params': [{'cv__min_df': 2, 'cv__ngram_range': (1, 1)},\n",
       "  {'cv__min_df': 2, 'cv__ngram_range': (1, 2)},\n",
       "  {'cv__min_df': 2, 'cv__ngram_range': (1, 3)},\n",
       "  {'cv__min_df': 2, 'cv__ngram_range': (1, 4)},\n",
       "  {'cv__min_df': 2, 'cv__ngram_range': (2, 2)},\n",
       "  {'cv__min_df': 2, 'cv__ngram_range': (2, 3)},\n",
       "  {'cv__min_df': 2, 'cv__ngram_range': (2, 4)},\n",
       "  {'cv__min_df': 3, 'cv__ngram_range': (1, 1)},\n",
       "  {'cv__min_df': 3, 'cv__ngram_range': (1, 2)},\n",
       "  {'cv__min_df': 3, 'cv__ngram_range': (1, 3)},\n",
       "  {'cv__min_df': 3, 'cv__ngram_range': (1, 4)},\n",
       "  {'cv__min_df': 3, 'cv__ngram_range': (2, 2)},\n",
       "  {'cv__min_df': 3, 'cv__ngram_range': (2, 3)},\n",
       "  {'cv__min_df': 3, 'cv__ngram_range': (2, 4)},\n",
       "  {'cv__min_df': 4, 'cv__ngram_range': (1, 1)},\n",
       "  {'cv__min_df': 4, 'cv__ngram_range': (1, 2)},\n",
       "  {'cv__min_df': 4, 'cv__ngram_range': (1, 3)},\n",
       "  {'cv__min_df': 4, 'cv__ngram_range': (1, 4)},\n",
       "  {'cv__min_df': 4, 'cv__ngram_range': (2, 2)},\n",
       "  {'cv__min_df': 4, 'cv__ngram_range': (2, 3)},\n",
       "  {'cv__min_df': 4, 'cv__ngram_range': (2, 4)},\n",
       "  {'cv__min_df': 5, 'cv__ngram_range': (1, 1)},\n",
       "  {'cv__min_df': 5, 'cv__ngram_range': (1, 2)},\n",
       "  {'cv__min_df': 5, 'cv__ngram_range': (1, 3)},\n",
       "  {'cv__min_df': 5, 'cv__ngram_range': (1, 4)},\n",
       "  {'cv__min_df': 5, 'cv__ngram_range': (2, 2)},\n",
       "  {'cv__min_df': 5, 'cv__ngram_range': (2, 3)},\n",
       "  {'cv__min_df': 5, 'cv__ngram_range': (2, 4)},\n",
       "  {'cv__min_df': 6, 'cv__ngram_range': (1, 1)},\n",
       "  {'cv__min_df': 6, 'cv__ngram_range': (1, 2)},\n",
       "  {'cv__min_df': 6, 'cv__ngram_range': (1, 3)},\n",
       "  {'cv__min_df': 6, 'cv__ngram_range': (1, 4)},\n",
       "  {'cv__min_df': 6, 'cv__ngram_range': (2, 2)},\n",
       "  {'cv__min_df': 6, 'cv__ngram_range': (2, 3)},\n",
       "  {'cv__min_df': 6, 'cv__ngram_range': (2, 4)},\n",
       "  {'cv__min_df': 7, 'cv__ngram_range': (1, 1)},\n",
       "  {'cv__min_df': 7, 'cv__ngram_range': (1, 2)},\n",
       "  {'cv__min_df': 7, 'cv__ngram_range': (1, 3)},\n",
       "  {'cv__min_df': 7, 'cv__ngram_range': (1, 4)},\n",
       "  {'cv__min_df': 7, 'cv__ngram_range': (2, 2)},\n",
       "  {'cv__min_df': 7, 'cv__ngram_range': (2, 3)},\n",
       "  {'cv__min_df': 7, 'cv__ngram_range': (2, 4)},\n",
       "  {'cv__min_df': 8, 'cv__ngram_range': (1, 1)},\n",
       "  {'cv__min_df': 8, 'cv__ngram_range': (1, 2)},\n",
       "  {'cv__min_df': 8, 'cv__ngram_range': (1, 3)},\n",
       "  {'cv__min_df': 8, 'cv__ngram_range': (1, 4)},\n",
       "  {'cv__min_df': 8, 'cv__ngram_range': (2, 2)},\n",
       "  {'cv__min_df': 8, 'cv__ngram_range': (2, 3)},\n",
       "  {'cv__min_df': 8, 'cv__ngram_range': (2, 4)}],\n",
       " 'split0_test_score': array([0.71932773, 0.60168067, 0.66134454, 0.63865546, 0.52689076,\n",
       "        0.48991597, 0.55462185, 0.72436975, 0.61932773, 0.61848739,\n",
       "        0.67731092, 0.5092437 , 0.5789916 , 0.54789916, 0.69915966,\n",
       "        0.6789916 , 0.68067227, 0.63109244, 0.57226891, 0.50588235,\n",
       "        0.58571429, 0.70252101, 0.69243697, 0.70252101, 0.7       ,\n",
       "        0.59831933, 0.58151261, 0.60672269, 0.72016807, 0.68991597,\n",
       "        0.69747899, 0.68319328, 0.64621849, 0.63529412, 0.61176471,\n",
       "        0.66134454, 0.70168067, 0.63445378, 0.68655462, 0.63445378,\n",
       "        0.58991597, 0.57478992, 0.71764706, 0.70588235, 0.64033613,\n",
       "        0.64621849, 0.63865546, 0.63613445, 0.59579832]),\n",
       " 'split1_test_score': array([0.66806723, 0.64705882, 0.62184874, 0.63361345, 0.52857143,\n",
       "        0.48739496, 0.50504202, 0.71092437, 0.64453782, 0.63697479,\n",
       "        0.61764706, 0.56722689, 0.54369748, 0.51428571, 0.70336134,\n",
       "        0.67310924, 0.68991597, 0.63781513, 0.54789916, 0.55462185,\n",
       "        0.57478992, 0.69411765, 0.65630252, 0.6789916 , 0.65630252,\n",
       "        0.6092437 , 0.60756303, 0.59663866, 0.67394958, 0.69495798,\n",
       "        0.69327731, 0.6907563 , 0.57478992, 0.61428571, 0.61512605,\n",
       "        0.67647059, 0.65966387, 0.67226891, 0.68823529, 0.58823529,\n",
       "        0.64369748, 0.64537815, 0.6907563 , 0.66302521, 0.7       ,\n",
       "        0.70252101, 0.64453782, 0.66302521, 0.66302521]),\n",
       " 'split2_test_score': array([0.67563025, 0.67142857, 0.6092437 , 0.67142857, 0.51848739,\n",
       "        0.53697479, 0.52436975, 0.7512605 , 0.69243697, 0.68907563,\n",
       "        0.69327731, 0.50756303, 0.57058824, 0.55546218, 0.6789916 ,\n",
       "        0.65462185, 0.71512605, 0.67058824, 0.53529412, 0.54033613,\n",
       "        0.5512605 , 0.73193277, 0.71428571, 0.70756303, 0.71932773,\n",
       "        0.61428571, 0.62773109, 0.62352941, 0.73529412, 0.71428571,\n",
       "        0.69663866, 0.69747899, 0.66386555, 0.62857143, 0.62605042,\n",
       "        0.68235294, 0.6697479 , 0.66134454, 0.65882353, 0.59915966,\n",
       "        0.60420168, 0.61764706, 0.69159664, 0.72689076, 0.65462185,\n",
       "        0.67058824, 0.69915966, 0.6302521 , 0.63277311]),\n",
       " 'split3_test_score': array([0.70252101, 0.6210084 , 0.64537815, 0.64957983, 0.54453782,\n",
       "        0.53109244, 0.53781513, 0.71008403, 0.62436975, 0.65714286,\n",
       "        0.65798319, 0.55462185, 0.5487395 , 0.55378151, 0.71680672,\n",
       "        0.67478992, 0.68487395, 0.68907563, 0.5394958 , 0.54789916,\n",
       "        0.52436975, 0.70420168, 0.69495798, 0.64789916, 0.67815126,\n",
       "        0.59411765, 0.58739496, 0.54537815, 0.67983193, 0.69327731,\n",
       "        0.64537815, 0.70084034, 0.59243697, 0.62184874, 0.57394958,\n",
       "        0.72689076, 0.6697479 , 0.69747899, 0.68403361, 0.64789916,\n",
       "        0.62016807, 0.62016807, 0.71176471, 0.70168067, 0.66386555,\n",
       "        0.70168067, 0.61932773, 0.66638655, 0.66638655]),\n",
       " 'split4_test_score': array([0.66947014, 0.65769554, 0.66526493, 0.67199327, 0.51724138,\n",
       "        0.51135408, 0.52817494, 0.66526493, 0.68881413, 0.69890664,\n",
       "        0.68881413, 0.52144659, 0.51892347, 0.57359125, 0.7333894 ,\n",
       "        0.68965517, 0.69301934, 0.62068966, 0.53322119, 0.55256518,\n",
       "        0.58536585, 0.7275021 , 0.63498738, 0.69722456, 0.69301934,\n",
       "        0.60218671, 0.57947855, 0.57863751, 0.71320437, 0.6980656 ,\n",
       "        0.65012616, 0.68797309, 0.62573591, 0.61900757, 0.61984861,\n",
       "        0.67283431, 0.71404542, 0.70479394, 0.70647603, 0.64844407,\n",
       "        0.62573591, 0.62657696, 0.68965517, 0.71320437, 0.70815812,\n",
       "        0.64003364, 0.627418  , 0.66105971, 0.66105971]),\n",
       " 'mean_test_score': array([0.68700327, 0.6397744 , 0.64061601, 0.65305412, 0.52714575,\n",
       "        0.51134645, 0.53000474, 0.71238072, 0.65389728, 0.66011746,\n",
       "        0.66700652, 0.53202041, 0.55218805, 0.54900396, 0.70634175,\n",
       "        0.67423356, 0.69272152, 0.64985222, 0.54563584, 0.54026094,\n",
       "        0.56430006, 0.71205504, 0.67859412, 0.68683987, 0.68936017,\n",
       "        0.60363062, 0.59673605, 0.59018128, 0.70448961, 0.69810052,\n",
       "        0.67657985, 0.6920484 , 0.62060937, 0.62380151, 0.60934787,\n",
       "        0.68397863, 0.68297715, 0.67406803, 0.68482462, 0.62363839,\n",
       "        0.61674382, 0.61691203, 0.70028398, 0.70213667, 0.67339633,\n",
       "        0.67220841, 0.64581973, 0.65137161, 0.64380858]),\n",
       " 'std_test_score': array([0.02040098, 0.0252171 , 0.02189224, 0.01608505, 0.0097739 ,\n",
       "        0.02039439, 0.01628031, 0.02786635, 0.03117378, 0.03039957,\n",
       "        0.02753065, 0.0244093 , 0.02120147, 0.01936825, 0.01816363,\n",
       "        0.0113724 , 0.0119724 , 0.02575164, 0.01423529, 0.01787661,\n",
       "        0.02356622, 0.01488663, 0.02874632, 0.02173092, 0.02118064,\n",
       "        0.00729149, 0.01841058, 0.02671327, 0.02371233, 0.00850985,\n",
       "        0.02362744, 0.00637935, 0.03300397, 0.00737804, 0.01833853,\n",
       "        0.02252537, 0.02101711, 0.02540302, 0.01523215, 0.02519312,\n",
       "        0.01841805, 0.02319114, 0.01193735, 0.02135042, 0.0262771 ,\n",
       "        0.02646048, 0.02806624, 0.01505536, 0.02684553]),\n",
       " 'rank_test_score': array([11, 31, 30, 25, 48, 49, 47,  1, 24, 23, 22, 46, 42, 43,  3, 18,  8,\n",
       "        27, 44, 45, 41,  2, 16, 12, 10, 38, 39, 40,  4,  7, 17,  9, 34, 32,\n",
       "        37, 14, 15, 19, 13, 33, 36, 35,  6,  5, 20, 21, 28, 26, 29],\n",
       "       dtype=int32)}"
      ]
     },
     "execution_count": 201,
     "metadata": {},
     "output_type": "execute_result"
    }
   ],
   "source": [
    "gs_knn.cv_results_"
   ]
  },
  {
   "cell_type": "markdown",
   "id": "2b5d0bdf-0358-470b-bf0b-4d88a5da3e0c",
   "metadata": {},
   "source": [
    "I will feed the results back into my model. Results:\n",
    "- best_params = {'knn__n_neighbors': 5} for params_knn = {'knn__n_neighbors':np.arange(2,15)}\n",
    "- best_params = {'knn__n_neighbors': 5, 'knn__p': 2} for params_knn = {\n",
    "    'knn__n_neighbors':np.arange(3,7),\n",
    "    'knn__p': [1,2]\n",
    "}\n",
    "- no impact for params_knn = {\n",
    "     'cv__max_df': [0.4,0.5,0.6,0.7,0.8,0.9,1.0] \n",
    "}\n",
    "- best_params = {'cv__min_df': 3, 'cv__ngram_range': (1, 1)} for params_knn = {\n",
    "    'cv__ngram_range':[(1,1),(1,2),(1,3),(1,4),(2,2),(2,3),(2,4)], 'cv__min_df':np.arange(2,9) \n",
    "}"
   ]
  },
  {
   "cell_type": "code",
   "execution_count": 202,
   "id": "e1bc3ca8-202a-4cf6-978f-739711dcd7f3",
   "metadata": {},
   "outputs": [
    {
     "data": {
      "text/plain": [
       "(0.7656749033451, 0.6854838709677419)"
      ]
     },
     "execution_count": 202,
     "metadata": {},
     "output_type": "execute_result"
    }
   ],
   "source": [
    "pipe_knn = Pipeline([\n",
    "    ('cv', CountVectorizer(stop_words=stop_words,ngram_range=(1,1),min_df=3,max_df=1.0,strip_accents='unicode')),\n",
    "    ('knn', KNeighborsClassifier(n_neighbors=5,p=2))\n",
    "])\n",
    "pipe_knn.fit(X_train, y_train_enc)\n",
    "pipe_knn.score(X_train, y_train_enc), pipe_knn.score(X_test, y_test_enc)"
   ]
  },
  {
   "cell_type": "markdown",
   "id": "04229dc4-e7b9-49df-8d10-a634fa48d57a",
   "metadata": {
    "tags": []
   },
   "source": [
    "#### Random Forest Pipeline"
   ]
  },
  {
   "cell_type": "code",
   "execution_count": 245,
   "id": "15925c71-6b41-48d1-9b9a-341dbd2a5aa4",
   "metadata": {},
   "outputs": [
    {
     "data": {
      "text/plain": [
       "(0.9384770549672213, 0.9087701612903226)"
      ]
     },
     "execution_count": 245,
     "metadata": {},
     "output_type": "execute_result"
    }
   ],
   "source": [
    "pipe_rf = Pipeline([\n",
    "    ('cv', CountVectorizer(stop_words=stop_words,ngram_range=(1,3),min_df=8,strip_accents = 'unicode')),\n",
    "    ('rf', RandomForestClassifier(max_depth=None,n_estimators=500))\n",
    "])\n",
    "pipe_rf.fit(X_train, y_train_enc)\n",
    "pipe_rf.score(X_train, y_train_enc), pipe_rf.score(X_test, y_test_enc)"
   ]
  },
  {
   "cell_type": "code",
   "execution_count": 238,
   "id": "e8e79f43-418c-4e1b-9c3b-57c4be2a85e6",
   "metadata": {},
   "outputs": [],
   "source": [
    "params_rf = {\n",
    "    'cv__min_df':np.arange(7,11)\n",
    "}"
   ]
  },
  {
   "cell_type": "code",
   "execution_count": 239,
   "id": "ec236870-5c8a-4268-acfe-4f9f779cbc38",
   "metadata": {},
   "outputs": [],
   "source": [
    "gs_rf = GridSearchCV(pipe_rf, param_grid = params_rf, n_jobs=-1)"
   ]
  },
  {
   "cell_type": "code",
   "execution_count": 240,
   "id": "6d55af58-3859-464f-a842-cec7c660f35f",
   "metadata": {
    "tags": []
   },
   "outputs": [],
   "source": [
    "gs_rf.fit(X_train,y_train_enc);"
   ]
  },
  {
   "cell_type": "code",
   "execution_count": 241,
   "id": "ae8afc50-4a84-430b-b587-75c94b06b3e7",
   "metadata": {},
   "outputs": [
    {
     "data": {
      "text/plain": [
       "{'cv__min_df': 7}"
      ]
     },
     "execution_count": 241,
     "metadata": {},
     "output_type": "execute_result"
    }
   ],
   "source": [
    "gs_rf.best_params_"
   ]
  },
  {
   "cell_type": "code",
   "execution_count": 242,
   "id": "e2a41be9-aa84-429d-8ca1-6c4359c84128",
   "metadata": {},
   "outputs": [
    {
     "data": {
      "text/plain": [
       "0.9072123315263868"
      ]
     },
     "execution_count": 242,
     "metadata": {},
     "output_type": "execute_result"
    }
   ],
   "source": [
    "gs_rf.best_score_"
   ]
  },
  {
   "cell_type": "code",
   "execution_count": 243,
   "id": "9c06ce4a-b5fd-44d4-a7ae-5d5abb933551",
   "metadata": {
    "tags": []
   },
   "outputs": [
    {
     "data": {
      "text/plain": [
       "{'mean_fit_time': array([51.78116174, 53.25754938, 55.80787764, 35.65900488]),\n",
       " 'std_fit_time': array([0.76492955, 2.22882995, 0.52410677, 9.77487916]),\n",
       " 'mean_score_time': array([3.32539935, 3.0655519 , 2.98112411, 1.93132234]),\n",
       " 'std_score_time': array([0.16342747, 0.22127027, 0.08662534, 0.50520455]),\n",
       " 'param_cv__min_df': masked_array(data=[7, 8, 9, 10],\n",
       "              mask=[False, False, False, False],\n",
       "        fill_value='?',\n",
       "             dtype=object),\n",
       " 'params': [{'cv__min_df': 7},\n",
       "  {'cv__min_df': 8},\n",
       "  {'cv__min_df': 9},\n",
       "  {'cv__min_df': 10}],\n",
       " 'split0_test_score': array([0.90756303, 0.90840336, 0.90840336, 0.90420168]),\n",
       " 'split1_test_score': array([0.89663866, 0.89747899, 0.89663866, 0.89327731]),\n",
       " 'split2_test_score': array([0.91260504, 0.91260504, 0.91092437, 0.91176471]),\n",
       " 'split3_test_score': array([0.90588235, 0.90504202, 0.90588235, 0.9092437 ]),\n",
       " 'split4_test_score': array([0.91337258, 0.91253154, 0.91253154, 0.91505467]),\n",
       " 'mean_test_score': array([0.90721233, 0.90721219, 0.90687606, 0.90670841]),\n",
       " 'std_test_score': array([0.00601206, 0.00562569, 0.0055946 , 0.00759384]),\n",
       " 'rank_test_score': array([1, 2, 3, 4], dtype=int32)}"
      ]
     },
     "execution_count": 243,
     "metadata": {},
     "output_type": "execute_result"
    }
   ],
   "source": [
    "gs_rf.cv_results_"
   ]
  },
  {
   "cell_type": "markdown",
   "id": "9a34327c-39ce-45e1-b7cd-b560a0c9a8fd",
   "metadata": {},
   "source": [
    "I will feed the results back into my model. Results:\n",
    "- best_params = {'cv__min_df': 8, 'cv__ngram_range': (1, 3)} for  'cv__ngram_range':[(1,1),(1,2),(1,3),(1,4),(2,2),(2,3),(2,4)], 'cv__min_df':np.arange(2,9)\n",
    "- best_params = {'rf__max_depth': None, 'rf__n_estimators': 500} for params_rf = {\n",
    "    'rf__max_depth':[None, 1,3,5],\n",
    "    'rf__n_estimators':[100,500,700]\n",
    "}\n",
    "- best_params = {'cv__min_df': 7} for params_rf = {\n",
    "    'cv__min_df':np.arange(7,11)\n",
    "}"
   ]
  },
  {
   "cell_type": "code",
   "execution_count": 246,
   "id": "625ccd94-9b4f-429f-8738-4be51949983c",
   "metadata": {},
   "outputs": [
    {
     "data": {
      "text/plain": [
       "(0.9384770549672213, 0.9077620967741935)"
      ]
     },
     "execution_count": 246,
     "metadata": {},
     "output_type": "execute_result"
    }
   ],
   "source": [
    "# Best model\n",
    "pipe_rf = Pipeline([\n",
    "    ('cv', CountVectorizer(stop_words=stop_words,ngram_range=(1,3),min_df=7,strip_accents = 'unicode')),\n",
    "    ('rf', RandomForestClassifier(max_depth=None,n_estimators=500))\n",
    "])\n",
    "pipe_rf.fit(X_train, y_train_enc)\n",
    "pipe_rf.score(X_train, y_train_enc), pipe_rf.score(X_test, y_test_enc)"
   ]
  },
  {
   "cell_type": "markdown",
   "id": "604a525a-d1d8-4774-b99e-617c77ba72ba",
   "metadata": {
    "tags": []
   },
   "source": [
    "#### Extra Trees Pipeline"
   ]
  },
  {
   "cell_type": "code",
   "execution_count": 247,
   "id": "49aa1816-8fb5-4917-a5f6-dbcd00971ada",
   "metadata": {},
   "outputs": [
    {
     "data": {
      "text/plain": [
       "(0.9384770549672213, 0.9017137096774194)"
      ]
     },
     "execution_count": 247,
     "metadata": {},
     "output_type": "execute_result"
    }
   ],
   "source": [
    "pipe_et = Pipeline([\n",
    "    ('cv', CountVectorizer(stop_words=stop_words,ngram_range=(1,3),min_df=3,strip_accents = 'unicode')),\n",
    "    ('et', ExtraTreesClassifier())\n",
    "])\n",
    "pipe_et.fit(X_train, y_train_enc)\n",
    "pipe_et.score(X_train, y_train_enc), pipe_et.score(X_test, y_test_enc)"
   ]
  },
  {
   "cell_type": "code",
   "execution_count": 128,
   "id": "e624a442-6947-4b47-a637-b4ed20ca8108",
   "metadata": {},
   "outputs": [
    {
     "data": {
      "text/plain": [
       "dict_keys(['memory', 'steps', 'verbose', 'cv', 'dt', 'cv__analyzer', 'cv__binary', 'cv__decode_error', 'cv__dtype', 'cv__encoding', 'cv__input', 'cv__lowercase', 'cv__max_df', 'cv__max_features', 'cv__min_df', 'cv__ngram_range', 'cv__preprocessor', 'cv__stop_words', 'cv__strip_accents', 'cv__token_pattern', 'cv__tokenizer', 'cv__vocabulary', 'dt__ccp_alpha', 'dt__class_weight', 'dt__criterion', 'dt__max_depth', 'dt__max_features', 'dt__max_leaf_nodes', 'dt__min_impurity_decrease', 'dt__min_samples_leaf', 'dt__min_samples_split', 'dt__min_weight_fraction_leaf', 'dt__random_state', 'dt__splitter'])"
      ]
     },
     "execution_count": 128,
     "metadata": {},
     "output_type": "execute_result"
    }
   ],
   "source": [
    "pipe_et.get_params().keys()"
   ]
  },
  {
   "cell_type": "code",
   "execution_count": 263,
   "id": "dd526e42-03f0-4b2a-95cf-367d3866c376",
   "metadata": {},
   "outputs": [],
   "source": [
    "params_et = {\n",
    "    'cv__ngram_range':[(1,1),(1,2),(1,3),(1,4),(2,2),(2,3),(2,4)],\n",
    "    'cv__min_df':np.arange(2,9)\n",
    "}"
   ]
  },
  {
   "cell_type": "code",
   "execution_count": 264,
   "id": "994e2c0a-0abb-4bfd-acda-6171465918e9",
   "metadata": {},
   "outputs": [],
   "source": [
    "gs_et = GridSearchCV(pipe_et, param_grid = params_et, n_jobs=-1)"
   ]
  },
  {
   "cell_type": "code",
   "execution_count": 265,
   "id": "3fd7d13e-4dff-4962-a81e-aa7656b2a688",
   "metadata": {
    "tags": []
   },
   "outputs": [],
   "source": [
    "gs_et.fit(X_train,y_train_enc);"
   ]
  },
  {
   "cell_type": "code",
   "execution_count": 266,
   "id": "159f8da0-f0c5-4dbc-8bc5-b77e9a7bfad0",
   "metadata": {},
   "outputs": [
    {
     "data": {
      "text/plain": [
       "{'cv__min_df': 7, 'cv__ngram_range': (1, 4)}"
      ]
     },
     "execution_count": 266,
     "metadata": {},
     "output_type": "execute_result"
    }
   ],
   "source": [
    "gs_et.best_params_"
   ]
  },
  {
   "cell_type": "code",
   "execution_count": 267,
   "id": "daea3feb-9bb2-4884-a813-7ca920cf4d35",
   "metadata": {},
   "outputs": [
    {
     "data": {
      "text/plain": [
       "0.9070441229477494"
      ]
     },
     "execution_count": 267,
     "metadata": {},
     "output_type": "execute_result"
    }
   ],
   "source": [
    "gs_et.best_score_"
   ]
  },
  {
   "cell_type": "code",
   "execution_count": 268,
   "id": "0af4b26b-9704-4791-bcb9-d8d85fd7a2d9",
   "metadata": {
    "collapsed": true,
    "jupyter": {
     "outputs_hidden": true
    },
    "tags": []
   },
   "outputs": [
    {
     "data": {
      "text/plain": [
       "{'mean_fit_time': array([10.23969059, 28.04750681, 51.94104457, 62.28181939, 37.29878163,\n",
       "        42.29960465, 42.65438409, 17.41498642, 24.26708655, 26.56133804,\n",
       "        25.95475655, 15.50171137, 17.56963019, 19.58457317, 12.0753406 ,\n",
       "        15.81823492, 17.9631947 , 20.56166101, 12.23987908, 14.298487  ,\n",
       "        16.60298271, 11.35798039, 15.02687716, 17.09854264, 19.34913197,\n",
       "        11.03969698, 12.86578293, 15.22943788, 11.40297518, 14.10174208,\n",
       "        16.13020458, 18.1261714 , 10.18930697, 12.12218704, 14.55101056,\n",
       "        11.29669328, 13.61789374, 15.63512831, 18.41371427,  9.9675674 ,\n",
       "        11.9394774 , 13.95401711, 10.53455081, 12.7180274 , 14.92627234,\n",
       "        17.09014983,  9.50356145, 11.85960536, 10.81490626]),\n",
       " 'std_fit_time': array([0.08860364, 5.01563102, 6.46917017, 3.19543706, 3.86408846,\n",
       "        0.71740015, 3.28490861, 0.5015007 , 0.55071845, 0.83199271,\n",
       "        1.80934548, 0.348318  , 0.29094769, 0.25926242, 0.12637182,\n",
       "        0.29588728, 0.08362958, 0.24833954, 0.2818083 , 0.13226408,\n",
       "        0.26052503, 0.07630277, 0.33076147, 0.18383531, 0.65661676,\n",
       "        0.10243479, 0.13974195, 0.16533717, 0.21272279, 0.30768203,\n",
       "        0.20817603, 0.32022979, 0.23811205, 0.21228039, 0.31216382,\n",
       "        0.27964222, 0.26798173, 0.20343258, 0.3418766 , 0.42018193,\n",
       "        0.14894502, 0.28360997, 0.15446213, 0.19981656, 0.12179937,\n",
       "        0.22050817, 0.16397513, 0.4117245 , 1.26645384]),\n",
       " 'mean_score_time': array([0.88535585, 2.64316015, 3.55318012, 3.26061406, 2.412499  ,\n",
       "        2.81506481, 2.88304758, 1.44370074, 1.91114774, 2.09252672,\n",
       "        2.04664893, 1.5839592 , 1.80624299, 2.03383236, 1.0995676 ,\n",
       "        1.32519069, 1.65463624, 1.85585699, 1.42067313, 1.71709223,\n",
       "        2.01257172, 1.13921514, 1.32279406, 1.69976134, 1.78394623,\n",
       "        1.35411639, 1.57979178, 1.89583631, 0.99239583, 1.28415356,\n",
       "        1.58095183, 1.77203822, 1.32570505, 1.55046558, 1.96042185,\n",
       "        1.11746893, 1.25745993, 1.65144315, 1.73417115, 1.3158659 ,\n",
       "        1.64986324, 1.74218955, 1.0226728 , 1.24658995, 1.48268843,\n",
       "        1.80319338, 1.36929355, 1.3766118 , 0.85386205]),\n",
       " 'std_score_time': array([0.03956307, 1.47624557, 0.59763133, 0.47026166, 0.39891482,\n",
       "        0.33209131, 0.32650519, 0.06371045, 0.15187012, 0.1152728 ,\n",
       "        0.14809826, 0.05058025, 0.05173152, 0.12315398, 0.07348348,\n",
       "        0.06278975, 0.08355733, 0.09447313, 0.05347872, 0.1068556 ,\n",
       "        0.21360552, 0.13100241, 0.04356954, 0.25960066, 0.07650689,\n",
       "        0.05348125, 0.06336277, 0.16517517, 0.04669458, 0.06024663,\n",
       "        0.07063507, 0.10748805, 0.06218726, 0.06171332, 0.27656325,\n",
       "        0.20062222, 0.04155652, 0.20848329, 0.0677934 , 0.04492848,\n",
       "        0.06791715, 0.07234724, 0.06293351, 0.05593953, 0.07018413,\n",
       "        0.2558252 , 0.17522922, 0.08637623, 0.24938443]),\n",
       " 'param_cv__min_df': masked_array(data=[2, 2, 2, 2, 2, 2, 2, 3, 3, 3, 3, 3, 3, 3, 4, 4, 4, 4,\n",
       "                    4, 4, 4, 5, 5, 5, 5, 5, 5, 5, 6, 6, 6, 6, 6, 6, 6, 7,\n",
       "                    7, 7, 7, 7, 7, 7, 8, 8, 8, 8, 8, 8, 8],\n",
       "              mask=[False, False, False, False, False, False, False, False,\n",
       "                    False, False, False, False, False, False, False, False,\n",
       "                    False, False, False, False, False, False, False, False,\n",
       "                    False, False, False, False, False, False, False, False,\n",
       "                    False, False, False, False, False, False, False, False,\n",
       "                    False, False, False, False, False, False, False, False,\n",
       "                    False],\n",
       "        fill_value='?',\n",
       "             dtype=object),\n",
       " 'param_cv__ngram_range': masked_array(data=[(1, 1), (1, 2), (1, 3), (1, 4), (2, 2), (2, 3), (2, 4),\n",
       "                    (1, 1), (1, 2), (1, 3), (1, 4), (2, 2), (2, 3), (2, 4),\n",
       "                    (1, 1), (1, 2), (1, 3), (1, 4), (2, 2), (2, 3), (2, 4),\n",
       "                    (1, 1), (1, 2), (1, 3), (1, 4), (2, 2), (2, 3), (2, 4),\n",
       "                    (1, 1), (1, 2), (1, 3), (1, 4), (2, 2), (2, 3), (2, 4),\n",
       "                    (1, 1), (1, 2), (1, 3), (1, 4), (2, 2), (2, 3), (2, 4),\n",
       "                    (1, 1), (1, 2), (1, 3), (1, 4), (2, 2), (2, 3), (2, 4)],\n",
       "              mask=[False, False, False, False, False, False, False, False,\n",
       "                    False, False, False, False, False, False, False, False,\n",
       "                    False, False, False, False, False, False, False, False,\n",
       "                    False, False, False, False, False, False, False, False,\n",
       "                    False, False, False, False, False, False, False, False,\n",
       "                    False, False, False, False, False, False, False, False,\n",
       "                    False],\n",
       "        fill_value='?',\n",
       "             dtype=object),\n",
       " 'params': [{'cv__min_df': 2, 'cv__ngram_range': (1, 1)},\n",
       "  {'cv__min_df': 2, 'cv__ngram_range': (1, 2)},\n",
       "  {'cv__min_df': 2, 'cv__ngram_range': (1, 3)},\n",
       "  {'cv__min_df': 2, 'cv__ngram_range': (1, 4)},\n",
       "  {'cv__min_df': 2, 'cv__ngram_range': (2, 2)},\n",
       "  {'cv__min_df': 2, 'cv__ngram_range': (2, 3)},\n",
       "  {'cv__min_df': 2, 'cv__ngram_range': (2, 4)},\n",
       "  {'cv__min_df': 3, 'cv__ngram_range': (1, 1)},\n",
       "  {'cv__min_df': 3, 'cv__ngram_range': (1, 2)},\n",
       "  {'cv__min_df': 3, 'cv__ngram_range': (1, 3)},\n",
       "  {'cv__min_df': 3, 'cv__ngram_range': (1, 4)},\n",
       "  {'cv__min_df': 3, 'cv__ngram_range': (2, 2)},\n",
       "  {'cv__min_df': 3, 'cv__ngram_range': (2, 3)},\n",
       "  {'cv__min_df': 3, 'cv__ngram_range': (2, 4)},\n",
       "  {'cv__min_df': 4, 'cv__ngram_range': (1, 1)},\n",
       "  {'cv__min_df': 4, 'cv__ngram_range': (1, 2)},\n",
       "  {'cv__min_df': 4, 'cv__ngram_range': (1, 3)},\n",
       "  {'cv__min_df': 4, 'cv__ngram_range': (1, 4)},\n",
       "  {'cv__min_df': 4, 'cv__ngram_range': (2, 2)},\n",
       "  {'cv__min_df': 4, 'cv__ngram_range': (2, 3)},\n",
       "  {'cv__min_df': 4, 'cv__ngram_range': (2, 4)},\n",
       "  {'cv__min_df': 5, 'cv__ngram_range': (1, 1)},\n",
       "  {'cv__min_df': 5, 'cv__ngram_range': (1, 2)},\n",
       "  {'cv__min_df': 5, 'cv__ngram_range': (1, 3)},\n",
       "  {'cv__min_df': 5, 'cv__ngram_range': (1, 4)},\n",
       "  {'cv__min_df': 5, 'cv__ngram_range': (2, 2)},\n",
       "  {'cv__min_df': 5, 'cv__ngram_range': (2, 3)},\n",
       "  {'cv__min_df': 5, 'cv__ngram_range': (2, 4)},\n",
       "  {'cv__min_df': 6, 'cv__ngram_range': (1, 1)},\n",
       "  {'cv__min_df': 6, 'cv__ngram_range': (1, 2)},\n",
       "  {'cv__min_df': 6, 'cv__ngram_range': (1, 3)},\n",
       "  {'cv__min_df': 6, 'cv__ngram_range': (1, 4)},\n",
       "  {'cv__min_df': 6, 'cv__ngram_range': (2, 2)},\n",
       "  {'cv__min_df': 6, 'cv__ngram_range': (2, 3)},\n",
       "  {'cv__min_df': 6, 'cv__ngram_range': (2, 4)},\n",
       "  {'cv__min_df': 7, 'cv__ngram_range': (1, 1)},\n",
       "  {'cv__min_df': 7, 'cv__ngram_range': (1, 2)},\n",
       "  {'cv__min_df': 7, 'cv__ngram_range': (1, 3)},\n",
       "  {'cv__min_df': 7, 'cv__ngram_range': (1, 4)},\n",
       "  {'cv__min_df': 7, 'cv__ngram_range': (2, 2)},\n",
       "  {'cv__min_df': 7, 'cv__ngram_range': (2, 3)},\n",
       "  {'cv__min_df': 7, 'cv__ngram_range': (2, 4)},\n",
       "  {'cv__min_df': 8, 'cv__ngram_range': (1, 1)},\n",
       "  {'cv__min_df': 8, 'cv__ngram_range': (1, 2)},\n",
       "  {'cv__min_df': 8, 'cv__ngram_range': (1, 3)},\n",
       "  {'cv__min_df': 8, 'cv__ngram_range': (1, 4)},\n",
       "  {'cv__min_df': 8, 'cv__ngram_range': (2, 2)},\n",
       "  {'cv__min_df': 8, 'cv__ngram_range': (2, 3)},\n",
       "  {'cv__min_df': 8, 'cv__ngram_range': (2, 4)}],\n",
       " 'split0_test_score': array([0.90504202, 0.89915966, 0.89663866, 0.89159664, 0.82857143,\n",
       "        0.83193277, 0.83445378, 0.90504202, 0.89747899, 0.90084034,\n",
       "        0.89915966, 0.82605042, 0.82436975, 0.82268908, 0.90840336,\n",
       "        0.90252101, 0.90336134, 0.90336134, 0.82016807, 0.81932773,\n",
       "        0.81932773, 0.90504202, 0.90672269, 0.90420168, 0.90336134,\n",
       "        0.81176471, 0.81764706, 0.8092437 , 0.90504202, 0.9092437 ,\n",
       "        0.90504202, 0.90756303, 0.81596639, 0.81260504, 0.81092437,\n",
       "        0.90504202, 0.91260504, 0.91008403, 0.90840336, 0.81008403,\n",
       "        0.8092437 , 0.81260504, 0.90756303, 0.90756303, 0.91008403,\n",
       "        0.90504202, 0.80756303, 0.80420168, 0.8       ]),\n",
       " 'split1_test_score': array([0.8907563 , 0.88151261, 0.88991597, 0.88571429, 0.82016807,\n",
       "        0.82521008, 0.82773109, 0.89579832, 0.88823529, 0.88907563,\n",
       "        0.88907563, 0.81680672, 0.81848739, 0.81680672, 0.88907563,\n",
       "        0.88991597, 0.89663866, 0.88739496, 0.81260504, 0.81680672,\n",
       "        0.81848739, 0.8907563 , 0.8907563 , 0.89411765, 0.88907563,\n",
       "        0.80840336, 0.80840336, 0.80840336, 0.89327731, 0.89411765,\n",
       "        0.8907563 , 0.89411765, 0.80672269, 0.80756303, 0.80756303,\n",
       "        0.89579832, 0.89663866, 0.89579832, 0.89243697, 0.80504202,\n",
       "        0.80420168, 0.80168067, 0.89663866, 0.89159664, 0.89579832,\n",
       "        0.89747899, 0.79579832, 0.79831933, 0.79915966]),\n",
       " 'split2_test_score': array([0.91008403, 0.90336134, 0.90168067, 0.90252101, 0.84789916,\n",
       "        0.84957983, 0.84537815, 0.91260504, 0.90504202, 0.90840336,\n",
       "        0.9092437 , 0.84285714, 0.84285714, 0.84369748, 0.91008403,\n",
       "        0.90588235, 0.91008403, 0.91008403, 0.84033613, 0.84033613,\n",
       "        0.83613445, 0.91092437, 0.91260504, 0.90756303, 0.91344538,\n",
       "        0.83361345, 0.83109244, 0.83613445, 0.90756303, 0.91008403,\n",
       "        0.91092437, 0.9092437 , 0.83529412, 0.83109244, 0.82941176,\n",
       "        0.9092437 , 0.90672269, 0.9092437 , 0.91092437, 0.82773109,\n",
       "        0.82352941, 0.82689076, 0.90840336, 0.91512605, 0.90840336,\n",
       "        0.91260504, 0.82184874, 0.82352941, 0.8210084 ]),\n",
       " 'split3_test_score': array([0.90672269, 0.90168067, 0.89915966, 0.90084034, 0.82352941,\n",
       "        0.82605042, 0.82689076, 0.91092437, 0.90420168, 0.9       ,\n",
       "        0.90252101, 0.81596639, 0.8210084 , 0.81932773, 0.90504202,\n",
       "        0.90420168, 0.90504202, 0.90672269, 0.81260504, 0.81512605,\n",
       "        0.81428571, 0.90840336, 0.90756303, 0.90756303, 0.90336134,\n",
       "        0.80504202, 0.80588235, 0.80588235, 0.90084034, 0.90504202,\n",
       "        0.90840336, 0.90672269, 0.80252101, 0.80672269, 0.80588235,\n",
       "        0.90420168, 0.90672269, 0.90084034, 0.91092437, 0.79831933,\n",
       "        0.79915966, 0.80252101, 0.90672269, 0.90840336, 0.90840336,\n",
       "        0.91176471, 0.78823529, 0.79579832, 0.79495798]),\n",
       " 'split4_test_score': array([0.91673675, 0.90916737, 0.9058032 , 0.9058032 , 0.83095038,\n",
       "        0.83095038, 0.83263246, 0.90916737, 0.90748528, 0.91000841,\n",
       "        0.9058032 , 0.82842725, 0.82506308, 0.82169891, 0.91253154,\n",
       "        0.91084945, 0.91000841, 0.9116905 , 0.82422204, 0.81665265,\n",
       "        0.82169891, 0.91505467, 0.91253154, 0.91084945, 0.90832632,\n",
       "        0.82169891, 0.81497056, 0.81412952, 0.91673675, 0.90832632,\n",
       "        0.91337258, 0.91253154, 0.81412952, 0.81328848, 0.81749369,\n",
       "        0.91084945, 0.91000841, 0.90748528, 0.91253154, 0.82001682,\n",
       "        0.82253995, 0.82338099, 0.91505467, 0.9116905 , 0.91000841,\n",
       "        0.90748528, 0.82169891, 0.81833474, 0.81665265]),\n",
       " 'mean_test_score': array([0.90586836, 0.89897633, 0.89863963, 0.89729509, 0.83022369,\n",
       "        0.8327447 , 0.83341725, 0.90670742, 0.90048865, 0.90166555,\n",
       "        0.90116064, 0.82602158, 0.82635715, 0.82484398, 0.90502732,\n",
       "        0.90267409, 0.90502689, 0.9038507 , 0.82198726, 0.82164986,\n",
       "        0.82198684, 0.90603614, 0.90603572, 0.90485897, 0.903514  ,\n",
       "        0.81610449, 0.81559915, 0.81475868, 0.90469189, 0.90536274,\n",
       "        0.90569973, 0.90603572, 0.81492674, 0.81425433, 0.81425504,\n",
       "        0.90502703, 0.9065395 , 0.90469033, 0.90704412, 0.81223866,\n",
       "        0.81173488, 0.81341569, 0.90687648, 0.90687591, 0.9065395 ,\n",
       "        0.90687521, 0.80702886, 0.80803669, 0.80635574]),\n",
       " 'std_test_score': array([0.00855197, 0.00933182, 0.00530926, 0.00746799, 0.00960843,\n",
       "        0.00881912, 0.00662844, 0.00600663, 0.00696671, 0.00744261,\n",
       "        0.00691073, 0.00974931, 0.0085839 , 0.00964382, 0.00833952,\n",
       "        0.00696069, 0.00497045, 0.00871316, 0.0102082 , 0.00943989,\n",
       "        0.00746809, 0.00831016, 0.00802019, 0.00576746, 0.00812778,\n",
       "        0.01037671, 0.00884111, 0.01101738, 0.00772751, 0.00587691,\n",
       "        0.00796515, 0.00628223, 0.01129385, 0.00881673, 0.00855796,\n",
       "        0.00524464, 0.00542066, 0.00550504, 0.00742214, 0.01049473,\n",
       "        0.0097668 , 0.01037253, 0.005908  , 0.00809329, 0.00542066,\n",
       "        0.00545454, 0.01352367, 0.01099988, 0.01041935]),\n",
       " 'rank_test_score': array([11, 26, 27, 28, 31, 30, 29,  5, 25, 23, 24, 33, 32, 34, 14, 22, 16,\n",
       "        20, 35, 37, 36,  8,  9, 17, 21, 38, 39, 41, 18, 13, 12,  9, 40, 43,\n",
       "        42, 15,  6, 19,  1, 45, 46, 44,  2,  3,  6,  4, 48, 47, 49],\n",
       "       dtype=int32)}"
      ]
     },
     "execution_count": 268,
     "metadata": {},
     "output_type": "execute_result"
    }
   ],
   "source": [
    "gs_et.cv_results_"
   ]
  },
  {
   "cell_type": "markdown",
   "id": "7ff58a10-022b-4d0e-bc38-bc30dae1602b",
   "metadata": {},
   "source": [
    "I will feed the results back into my model. Results:\n",
    "- best_params = {'et__max_features': 'auto'} params_et = {\n",
    "    'et__max_features':['auto', 'sqrt','log2']\n",
    "}\n",
    "- best_params = {'cv__min_df': 7, 'cv__ngram_range': (1, 4)} for params_et = {\n",
    "    'cv__ngram_range':[(1,1),(1,2),(1,3),(1,4),(2,2),(2,3),(2,4)],\n",
    "    'cv__min_df':np.arange(2,9)\n",
    "}"
   ]
  },
  {
   "cell_type": "code",
   "execution_count": null,
   "id": "54f0e1ae-6a83-43da-af69-cdf7e9e7ba3c",
   "metadata": {},
   "outputs": [
    {
     "data": {
      "text/plain": [
       "(0.9384770549672213, 0.905241935483871)"
      ]
     },
     "execution_count": 276,
     "metadata": {},
     "output_type": "execute_result"
    }
   ],
   "source": [
    "# Best Model\n",
    "pipe_et = Pipeline([\n",
    "    ('cv', CountVectorizer(stop_words=stop_words,ngram_range=(1,4),min_df=7)),\n",
    "    ('et', ExtraTreesClassifier())\n",
    "])\n",
    "pipe_et.fit(X_train, y_train_enc)\n",
    "pipe_et.score(X_train, y_train_enc), pipe_et.score(X_test, y_test_enc)"
   ]
  },
  {
   "cell_type": "markdown",
   "id": "6e70e3eb-b75c-4f8d-ae54-8ac76f5f9fce",
   "metadata": {
    "tags": []
   },
   "source": [
    "#### Multinomial Naive Bayes Pipeline"
   ]
  },
  {
   "cell_type": "code",
   "execution_count": 280,
   "id": "6cc2a5fa-b994-4248-ab8e-e391364f294e",
   "metadata": {},
   "outputs": [
    {
     "data": {
      "text/plain": [
       "(0.8813245923684653, 0.8805443548387096)"
      ]
     },
     "execution_count": 280,
     "metadata": {},
     "output_type": "execute_result"
    }
   ],
   "source": [
    "pipe_mnb = Pipeline([\n",
    "    ('cv', CountVectorizer(stop_words=stop_words,ngram_range=(1,3),min_df=3,strip_accents = 'unicode')),\n",
    "    ('mnb', MultinomialNB())\n",
    "])\n",
    "pipe_mnb.fit(X_train, y_train_enc)\n",
    "pipe_mnb.score(X_train, y_train_enc), pipe_mnb.score(X_test, y_test_enc)"
   ]
  },
  {
   "cell_type": "code",
   "execution_count": 281,
   "id": "c879365a-891e-48ba-8a36-b284bd2d7049",
   "metadata": {},
   "outputs": [
    {
     "data": {
      "text/plain": [
       "dict_keys(['memory', 'steps', 'verbose', 'cv', 'mnb', 'cv__analyzer', 'cv__binary', 'cv__decode_error', 'cv__dtype', 'cv__encoding', 'cv__input', 'cv__lowercase', 'cv__max_df', 'cv__max_features', 'cv__min_df', 'cv__ngram_range', 'cv__preprocessor', 'cv__stop_words', 'cv__strip_accents', 'cv__token_pattern', 'cv__tokenizer', 'cv__vocabulary', 'mnb__alpha', 'mnb__class_prior', 'mnb__fit_prior'])"
      ]
     },
     "execution_count": 281,
     "metadata": {},
     "output_type": "execute_result"
    }
   ],
   "source": [
    "pipe_mnb.get_params().keys()"
   ]
  },
  {
   "cell_type": "code",
   "execution_count": 289,
   "id": "69868835-38c3-41e8-80ef-cd843b57ac9c",
   "metadata": {},
   "outputs": [],
   "source": [
    "params_mnb = {\n",
    "    'mnb__alpha':[1/50,1/20,1/10]\n",
    "}"
   ]
  },
  {
   "cell_type": "code",
   "execution_count": 290,
   "id": "6a5441f5-33ba-4a0f-a617-d8929cf250a2",
   "metadata": {},
   "outputs": [],
   "source": [
    "gs_mnb = GridSearchCV(pipe_mnb, param_grid = params_mnb, n_jobs=-1)"
   ]
  },
  {
   "cell_type": "code",
   "execution_count": 291,
   "id": "1bc8edfc-0a58-4652-afc9-c8778429c872",
   "metadata": {
    "tags": []
   },
   "outputs": [],
   "source": [
    "gs_mnb.fit(X_train,y_train_enc);"
   ]
  },
  {
   "cell_type": "code",
   "execution_count": 292,
   "id": "04e07c24-c0ee-4f5d-8aa7-32f2ff6374f8",
   "metadata": {},
   "outputs": [
    {
     "data": {
      "text/plain": [
       "{'mnb__alpha': 0.1}"
      ]
     },
     "execution_count": 292,
     "metadata": {},
     "output_type": "execute_result"
    }
   ],
   "source": [
    "gs_mnb.best_params_"
   ]
  },
  {
   "cell_type": "code",
   "execution_count": 293,
   "id": "2284cc51-9299-42ff-8630-faafad27130a",
   "metadata": {},
   "outputs": [
    {
     "data": {
      "text/plain": [
       "0.8727499275572297"
      ]
     },
     "execution_count": 293,
     "metadata": {},
     "output_type": "execute_result"
    }
   ],
   "source": [
    "gs_mnb.best_score_"
   ]
  },
  {
   "cell_type": "code",
   "execution_count": 294,
   "id": "eca5bec1-b5db-4651-90f6-a84fbbe3e596",
   "metadata": {},
   "outputs": [
    {
     "data": {
      "text/plain": [
       "{'mean_fit_time': array([8.05634322, 7.59803061, 6.75429106]),\n",
       " 'std_fit_time': array([0.11787016, 0.71427664, 0.12732171]),\n",
       " 'mean_score_time': array([1.30451722, 1.39987345, 1.39128919]),\n",
       " 'std_score_time': array([0.04749604, 0.08632521, 0.06455451]),\n",
       " 'param_mnb__alpha': masked_array(data=[0.02, 0.05, 0.1],\n",
       "              mask=[False, False, False],\n",
       "        fill_value='?',\n",
       "             dtype=object),\n",
       " 'params': [{'mnb__alpha': 0.02}, {'mnb__alpha': 0.05}, {'mnb__alpha': 0.1}],\n",
       " 'split0_test_score': array([0.8697479 , 0.87142857, 0.87142857]),\n",
       " 'split1_test_score': array([0.87226891, 0.87310924, 0.87310924]),\n",
       " 'split2_test_score': array([0.87563025, 0.87563025, 0.87478992]),\n",
       " 'split3_test_score': array([0.88235294, 0.88235294, 0.88235294]),\n",
       " 'split4_test_score': array([0.86122792, 0.86122792, 0.86206897]),\n",
       " 'mean_test_score': array([0.87224558, 0.87274979, 0.87274993]),\n",
       " 'std_test_score': array([0.00694611, 0.00685778, 0.00651671]),\n",
       " 'rank_test_score': array([3, 2, 1], dtype=int32)}"
      ]
     },
     "execution_count": 294,
     "metadata": {},
     "output_type": "execute_result"
    }
   ],
   "source": [
    "gs_mnb.cv_results_"
   ]
  },
  {
   "cell_type": "markdown",
   "id": "46ca5f5e-8dff-4036-9a19-4e6f1d2cc6ae",
   "metadata": {},
   "source": [
    "I will feed the results back into my model. Results:\n",
    "- best_params = {'mnb__alpha': 0.1} for params_mnb = {\n",
    "    'mnb__alpha':[1/10,1/2,1,2,5,10]\n",
    "}\n",
    "- best_params = {'mnb__alpha': 0.1} for params_mnb = {\n",
    "    'mnb__alpha':[1/50,1/20,1/10]\n",
    "}"
   ]
  },
  {
   "cell_type": "code",
   "execution_count": 288,
   "id": "e934f390-6e40-4a94-b046-5b6b990c605c",
   "metadata": {},
   "outputs": [
    {
     "data": {
      "text/plain": [
       "(0.8838460245419398, 0.8810483870967742)"
      ]
     },
     "execution_count": 288,
     "metadata": {},
     "output_type": "execute_result"
    }
   ],
   "source": [
    "# Best model\n",
    "pipe_mnb = Pipeline([\n",
    "    ('cv', CountVectorizer(stop_words=stop_words,ngram_range=(1,3),min_df=3,strip_accents = 'unicode')),\n",
    "    ('mnb', MultinomialNB(alpha=1/10))\n",
    "])\n",
    "pipe_mnb.fit(X_train, y_train_enc)\n",
    "pipe_mnb.score(X_train, y_train_enc), pipe_mnb.score(X_test, y_test_enc)"
   ]
  },
  {
   "cell_type": "code",
   "execution_count": 301,
   "id": "7ae94935-2ac4-4ff9-82e3-57c2d5bcf811",
   "metadata": {},
   "outputs": [
    {
     "ename": "TypeError",
     "evalue": "__init__() takes 2 positional arguments but 3 were given",
     "output_type": "error",
     "traceback": [
      "\u001b[0;31m---------------------------------------------------------------------------\u001b[0m",
      "\u001b[0;31mTypeError\u001b[0m                                 Traceback (most recent call last)",
      "Input \u001b[0;32mIn [301]\u001b[0m, in \u001b[0;36m<cell line: 1>\u001b[0;34m()\u001b[0m\n\u001b[0;32m----> 1\u001b[0m vc1 \u001b[38;5;241m=\u001b[39m \u001b[43mVotingClassifier\u001b[49m\u001b[43m(\u001b[49m\u001b[43mpipe_lr\u001b[49m\u001b[43m,\u001b[49m\u001b[43mpipe_dt\u001b[49m\u001b[43m)\u001b[49m\n",
      "\u001b[0;31mTypeError\u001b[0m: __init__() takes 2 positional arguments but 3 were given"
     ]
    }
   ],
   "source": [
    "pipevc1 = VotingClassifier([pipe_lr,pipe_dt])"
   ]
  },
  {
   "cell_type": "code",
   "execution_count": 298,
   "id": "edbd317c-9dee-4c1b-af3c-548c649c0f44",
   "metadata": {},
   "outputs": [
    {
     "ename": "TypeError",
     "evalue": "argument of type 'CountVectorizer' is not iterable",
     "output_type": "error",
     "traceback": [
      "\u001b[0;31m---------------------------------------------------------------------------\u001b[0m",
      "\u001b[0;31mTypeError\u001b[0m                                 Traceback (most recent call last)",
      "Input \u001b[0;32mIn [298]\u001b[0m, in \u001b[0;36m<cell line: 1>\u001b[0;34m()\u001b[0m\n\u001b[0;32m----> 1\u001b[0m \u001b[43mvc1\u001b[49m\u001b[38;5;241;43m.\u001b[39;49m\u001b[43mfit\u001b[49m\u001b[43m(\u001b[49m\u001b[43mX_train\u001b[49m\u001b[43m,\u001b[49m\u001b[43my_train_enc\u001b[49m\u001b[43m)\u001b[49m\n",
      "File \u001b[0;32m/Applications/anaconda3/lib/python3.8/site-packages/sklearn/ensemble/_voting.py:324\u001b[0m, in \u001b[0;36mVotingClassifier.fit\u001b[0;34m(self, X, y, sample_weight)\u001b[0m\n\u001b[1;32m    321\u001b[0m \u001b[38;5;28mself\u001b[39m\u001b[38;5;241m.\u001b[39mclasses_ \u001b[38;5;241m=\u001b[39m \u001b[38;5;28mself\u001b[39m\u001b[38;5;241m.\u001b[39mle_\u001b[38;5;241m.\u001b[39mclasses_\n\u001b[1;32m    322\u001b[0m transformed_y \u001b[38;5;241m=\u001b[39m \u001b[38;5;28mself\u001b[39m\u001b[38;5;241m.\u001b[39mle_\u001b[38;5;241m.\u001b[39mtransform(y)\n\u001b[0;32m--> 324\u001b[0m \u001b[38;5;28;01mreturn\u001b[39;00m \u001b[38;5;28;43msuper\u001b[39;49m\u001b[43m(\u001b[49m\u001b[43m)\u001b[49m\u001b[38;5;241;43m.\u001b[39;49m\u001b[43mfit\u001b[49m\u001b[43m(\u001b[49m\u001b[43mX\u001b[49m\u001b[43m,\u001b[49m\u001b[43m \u001b[49m\u001b[43mtransformed_y\u001b[49m\u001b[43m,\u001b[49m\u001b[43m \u001b[49m\u001b[43msample_weight\u001b[49m\u001b[43m)\u001b[49m\n",
      "File \u001b[0;32m/Applications/anaconda3/lib/python3.8/site-packages/sklearn/ensemble/_voting.py:65\u001b[0m, in \u001b[0;36m_BaseVoting.fit\u001b[0;34m(self, X, y, sample_weight)\u001b[0m\n\u001b[1;32m     62\u001b[0m \u001b[38;5;129m@abstractmethod\u001b[39m\n\u001b[1;32m     63\u001b[0m \u001b[38;5;28;01mdef\u001b[39;00m \u001b[38;5;21mfit\u001b[39m(\u001b[38;5;28mself\u001b[39m, X, y, sample_weight\u001b[38;5;241m=\u001b[39m\u001b[38;5;28;01mNone\u001b[39;00m):\n\u001b[1;32m     64\u001b[0m     \u001b[38;5;124;03m\"\"\"Get common fit operations.\"\"\"\u001b[39;00m\n\u001b[0;32m---> 65\u001b[0m     names, clfs \u001b[38;5;241m=\u001b[39m \u001b[38;5;28;43mself\u001b[39;49m\u001b[38;5;241;43m.\u001b[39;49m\u001b[43m_validate_estimators\u001b[49m\u001b[43m(\u001b[49m\u001b[43m)\u001b[49m\n\u001b[1;32m     67\u001b[0m     \u001b[38;5;28;01mif\u001b[39;00m \u001b[38;5;28mself\u001b[39m\u001b[38;5;241m.\u001b[39mweights \u001b[38;5;129;01mis\u001b[39;00m \u001b[38;5;129;01mnot\u001b[39;00m \u001b[38;5;28;01mNone\u001b[39;00m \u001b[38;5;129;01mand\u001b[39;00m \u001b[38;5;28mlen\u001b[39m(\u001b[38;5;28mself\u001b[39m\u001b[38;5;241m.\u001b[39mweights) \u001b[38;5;241m!=\u001b[39m \u001b[38;5;28mlen\u001b[39m(\u001b[38;5;28mself\u001b[39m\u001b[38;5;241m.\u001b[39mestimators):\n\u001b[1;32m     68\u001b[0m         \u001b[38;5;28;01mraise\u001b[39;00m \u001b[38;5;167;01mValueError\u001b[39;00m(\n\u001b[1;32m     69\u001b[0m             \u001b[38;5;124m\"\u001b[39m\u001b[38;5;124mNumber of `estimators` and weights must be equal\u001b[39m\u001b[38;5;124m\"\u001b[39m\n\u001b[1;32m     70\u001b[0m             \u001b[38;5;124m\"\u001b[39m\u001b[38;5;124m; got \u001b[39m\u001b[38;5;132;01m%d\u001b[39;00m\u001b[38;5;124m weights, \u001b[39m\u001b[38;5;132;01m%d\u001b[39;00m\u001b[38;5;124m estimators\u001b[39m\u001b[38;5;124m\"\u001b[39m\n\u001b[1;32m     71\u001b[0m             \u001b[38;5;241m%\u001b[39m (\u001b[38;5;28mlen\u001b[39m(\u001b[38;5;28mself\u001b[39m\u001b[38;5;241m.\u001b[39mweights), \u001b[38;5;28mlen\u001b[39m(\u001b[38;5;28mself\u001b[39m\u001b[38;5;241m.\u001b[39mestimators))\n\u001b[1;32m     72\u001b[0m         )\n",
      "File \u001b[0;32m/Applications/anaconda3/lib/python3.8/site-packages/sklearn/ensemble/_base.py:249\u001b[0m, in \u001b[0;36m_BaseHeterogeneousEnsemble._validate_estimators\u001b[0;34m(self)\u001b[0m\n\u001b[1;32m    247\u001b[0m names, estimators \u001b[38;5;241m=\u001b[39m \u001b[38;5;28mzip\u001b[39m(\u001b[38;5;241m*\u001b[39m\u001b[38;5;28mself\u001b[39m\u001b[38;5;241m.\u001b[39mestimators)\n\u001b[1;32m    248\u001b[0m \u001b[38;5;66;03m# defined by MetaEstimatorMixin\u001b[39;00m\n\u001b[0;32m--> 249\u001b[0m \u001b[38;5;28;43mself\u001b[39;49m\u001b[38;5;241;43m.\u001b[39;49m\u001b[43m_validate_names\u001b[49m\u001b[43m(\u001b[49m\u001b[43mnames\u001b[49m\u001b[43m)\u001b[49m\n\u001b[1;32m    251\u001b[0m has_estimator \u001b[38;5;241m=\u001b[39m \u001b[38;5;28many\u001b[39m(est \u001b[38;5;241m!=\u001b[39m \u001b[38;5;124m\"\u001b[39m\u001b[38;5;124mdrop\u001b[39m\u001b[38;5;124m\"\u001b[39m \u001b[38;5;28;01mfor\u001b[39;00m est \u001b[38;5;129;01min\u001b[39;00m estimators)\n\u001b[1;32m    252\u001b[0m \u001b[38;5;28;01mif\u001b[39;00m \u001b[38;5;129;01mnot\u001b[39;00m has_estimator:\n",
      "File \u001b[0;32m/Applications/anaconda3/lib/python3.8/site-packages/sklearn/utils/metaestimators.py:76\u001b[0m, in \u001b[0;36m_BaseComposition._validate_names\u001b[0;34m(self, names)\u001b[0m\n\u001b[1;32m     70\u001b[0m \u001b[38;5;28;01mif\u001b[39;00m invalid_names:\n\u001b[1;32m     71\u001b[0m     \u001b[38;5;28;01mraise\u001b[39;00m \u001b[38;5;167;01mValueError\u001b[39;00m(\n\u001b[1;32m     72\u001b[0m         \u001b[38;5;124m\"\u001b[39m\u001b[38;5;124mEstimator names conflict with constructor arguments: \u001b[39m\u001b[38;5;132;01m{0!r}\u001b[39;00m\u001b[38;5;124m\"\u001b[39m\u001b[38;5;241m.\u001b[39mformat(\n\u001b[1;32m     73\u001b[0m             \u001b[38;5;28msorted\u001b[39m(invalid_names)\n\u001b[1;32m     74\u001b[0m         )\n\u001b[1;32m     75\u001b[0m     )\n\u001b[0;32m---> 76\u001b[0m invalid_names \u001b[38;5;241m=\u001b[39m [name \u001b[38;5;28;01mfor\u001b[39;00m name \u001b[38;5;129;01min\u001b[39;00m names \u001b[38;5;28;01mif\u001b[39;00m \u001b[38;5;124m\"\u001b[39m\u001b[38;5;124m__\u001b[39m\u001b[38;5;124m\"\u001b[39m \u001b[38;5;129;01min\u001b[39;00m name]\n\u001b[1;32m     77\u001b[0m \u001b[38;5;28;01mif\u001b[39;00m invalid_names:\n\u001b[1;32m     78\u001b[0m     \u001b[38;5;28;01mraise\u001b[39;00m \u001b[38;5;167;01mValueError\u001b[39;00m(\n\u001b[1;32m     79\u001b[0m         \u001b[38;5;124m\"\u001b[39m\u001b[38;5;124mEstimator names must not contain __: got \u001b[39m\u001b[38;5;132;01m{0!r}\u001b[39;00m\u001b[38;5;124m\"\u001b[39m\u001b[38;5;241m.\u001b[39mformat(invalid_names)\n\u001b[1;32m     80\u001b[0m     )\n",
      "File \u001b[0;32m/Applications/anaconda3/lib/python3.8/site-packages/sklearn/utils/metaestimators.py:76\u001b[0m, in \u001b[0;36m<listcomp>\u001b[0;34m(.0)\u001b[0m\n\u001b[1;32m     70\u001b[0m \u001b[38;5;28;01mif\u001b[39;00m invalid_names:\n\u001b[1;32m     71\u001b[0m     \u001b[38;5;28;01mraise\u001b[39;00m \u001b[38;5;167;01mValueError\u001b[39;00m(\n\u001b[1;32m     72\u001b[0m         \u001b[38;5;124m\"\u001b[39m\u001b[38;5;124mEstimator names conflict with constructor arguments: \u001b[39m\u001b[38;5;132;01m{0!r}\u001b[39;00m\u001b[38;5;124m\"\u001b[39m\u001b[38;5;241m.\u001b[39mformat(\n\u001b[1;32m     73\u001b[0m             \u001b[38;5;28msorted\u001b[39m(invalid_names)\n\u001b[1;32m     74\u001b[0m         )\n\u001b[1;32m     75\u001b[0m     )\n\u001b[0;32m---> 76\u001b[0m invalid_names \u001b[38;5;241m=\u001b[39m [name \u001b[38;5;28;01mfor\u001b[39;00m name \u001b[38;5;129;01min\u001b[39;00m names \u001b[38;5;28;01mif\u001b[39;00m \u001b[38;5;124;43m\"\u001b[39;49m\u001b[38;5;124;43m__\u001b[39;49m\u001b[38;5;124;43m\"\u001b[39;49m\u001b[43m \u001b[49m\u001b[38;5;129;43;01min\u001b[39;49;00m\u001b[43m \u001b[49m\u001b[43mname\u001b[49m]\n\u001b[1;32m     77\u001b[0m \u001b[38;5;28;01mif\u001b[39;00m invalid_names:\n\u001b[1;32m     78\u001b[0m     \u001b[38;5;28;01mraise\u001b[39;00m \u001b[38;5;167;01mValueError\u001b[39;00m(\n\u001b[1;32m     79\u001b[0m         \u001b[38;5;124m\"\u001b[39m\u001b[38;5;124mEstimator names must not contain __: got \u001b[39m\u001b[38;5;132;01m{0!r}\u001b[39;00m\u001b[38;5;124m\"\u001b[39m\u001b[38;5;241m.\u001b[39mformat(invalid_names)\n\u001b[1;32m     80\u001b[0m     )\n",
      "\u001b[0;31mTypeError\u001b[0m: argument of type 'CountVectorizer' is not iterable"
     ]
    }
   ],
   "source": [
    "vc1.fit(X_train,y_train_enc)"
   ]
  },
  {
   "cell_type": "code",
   "execution_count": null,
   "id": "c9d4817e-f4b9-4d39-aa5d-d6505c69b605",
   "metadata": {},
   "outputs": [],
   "source": []
  }
 ],
 "metadata": {
  "kernelspec": {
   "display_name": "Python 3 (ipykernel)",
   "language": "python",
   "name": "python3"
  },
  "language_info": {
   "codemirror_mode": {
    "name": "ipython",
    "version": 3
   },
   "file_extension": ".py",
   "mimetype": "text/x-python",
   "name": "python",
   "nbconvert_exporter": "python",
   "pygments_lexer": "ipython3",
   "version": "3.8.8"
  }
 },
 "nbformat": 4,
 "nbformat_minor": 5
}
