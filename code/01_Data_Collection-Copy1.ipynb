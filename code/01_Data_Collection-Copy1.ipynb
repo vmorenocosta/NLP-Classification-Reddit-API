{
 "cells": [
  {
   "cell_type": "markdown",
   "id": "daa43402-084e-4a2c-b164-982fc7c7965d",
   "metadata": {},
   "source": [
    "# 1. Data Collection\n",
    "\n",
    "This notebook collects and prepares posts from two subreddits using [Pushshift's API](https://github.com/pushshift/api). \n",
    "\n",
    "#### Data Collection\n",
    "\n",
    "- Was enough data gathered to generate a significant result?\n",
    "- Was data collected that was useful and relevant to the project?\n",
    "- Was data collection and storage optimized through custom functions, pipelines, and/or automation?\n",
    "- Was thought given to the server receiving the requests such as considering number of requests per second?\n",
    "\n",
    "#### Data Cleaning and EDA\n",
    "\n",
    "- Are missing values imputed/handled appropriately?\n",
    "- Are distributions examined and described?\n",
    "- Are outliers identified and addressed?\n",
    "- Are appropriate summary statistics provided?\n",
    "- Are steps taken during data cleaning and EDA framed appropriately?\n",
    "- Does the student address whether or not they are likely to be able to answer their problem statement with the provided data given what they've discovered during EDA?"
   ]
  },
  {
   "cell_type": "code",
   "execution_count": 369,
   "id": "96fb561a-dd4e-489f-a232-b3e2f8fc2d29",
   "metadata": {},
   "outputs": [],
   "source": [
    "# imports\n",
    "import requests\n",
    "import pandas as pd\n",
    "import time\n",
    "import matplotlib.pyplot as plt\n",
    "\n",
    "from sklearn.feature_extraction.text import CountVectorizer\n",
    "from nltk.corpus import stopwords"
   ]
  },
  {
   "cell_type": "markdown",
   "id": "435fc780-d2ac-4d09-9025-98912f39af59",
   "metadata": {
    "tags": []
   },
   "source": [
    "#### Collect and save data for r/weddingplanning and r/divorce"
   ]
  },
  {
   "cell_type": "code",
   "execution_count": 303,
   "id": "cef2d4a6-5370-4f55-86df-e5f212a5a527",
   "metadata": {},
   "outputs": [],
   "source": [
    "def collect_posts(subreddit):\n",
    "    \"\"\" This function pulls down data from a given subreddit using the Pushshift API and returns the \n",
    "    data as a Pandas DataFrame.\n",
    "    \n",
    "    args:\n",
    "        subreddit (str): name of a subreddit\n",
    "    \n",
    "    return:\n",
    "        df (Pandas DataFrame): information from the 4000 most recent posts with text before Thursday, April 21, 2022 8:55:21 PM\n",
    "    \"\"\"\n",
    "\n",
    "    url = 'https://api.pushshift.io/reddit/search/submission'\n",
    "    \n",
    "    num_posts = 0\n",
    "    min_date = 1650599721\n",
    "    for x in range(40):\n",
    "        params = {\n",
    "            'subreddit':subreddit,\n",
    "            'size':100,\n",
    "            'is_self':True,\n",
    "            'meta_data':True,\n",
    "            'before':min_date\n",
    "        }\n",
    "        res = requests.get(url, params)\n",
    "        if res.status_code == 200:\n",
    "            posts = pd.DataFrame(res.json()['data'])\n",
    "            min_date = posts['created_utc'].min()\n",
    "            if x == 0:\n",
    "                df = posts\n",
    "            else:\n",
    "                df = pd.concat([df,posts],)\n",
    "            time.sleep(1)\n",
    "        else:\n",
    "            print('request_failed')\n",
    "            return df\n",
    "    return df"
   ]
  },
  {
   "cell_type": "code",
   "execution_count": 304,
   "id": "83091117-3979-454c-9e9e-4ce0c90b4ca0",
   "metadata": {},
   "outputs": [],
   "source": [
    "# These function calls were used to collect and save the data\n",
    "\n",
    "# df_wedding = collect_posts('weddingplanning')\n",
    "\n",
    "# df_wedding.to_csv('../datasets/wedding.csv')\n",
    "\n",
    "# df_divorce = collect_posts('divorce')\n",
    "\n",
    "# df_divorce.to_csv('../datasets/divorce.csv')"
   ]
  },
  {
   "cell_type": "markdown",
   "id": "ef18158c-c9e8-41da-85bb-8d1990dab3be",
   "metadata": {
    "tags": []
   },
   "source": [
    "#### Exploratory Data Analysis"
   ]
  },
  {
   "cell_type": "code",
   "execution_count": 305,
   "id": "9bb012d8-72ed-463d-a49a-5678b5ceb555",
   "metadata": {},
   "outputs": [],
   "source": [
    "# Import data frames already pulled from API\n",
    "\n",
    "df_wedding = pd.read_csv('../datasets/wedding.csv')\n",
    "\n",
    "df_divorce = pd.read_csv('../datasets/divorce.csv')"
   ]
  },
  {
   "cell_type": "code",
   "execution_count": 306,
   "id": "1412e376-2529-4598-bcd5-9ede1d6f57ed",
   "metadata": {},
   "outputs": [
    {
     "data": {
      "text/plain": [
       "(4000, 80)"
      ]
     },
     "execution_count": 306,
     "metadata": {},
     "output_type": "execute_result"
    }
   ],
   "source": [
    "df_wedding.shape"
   ]
  },
  {
   "cell_type": "code",
   "execution_count": 307,
   "id": "bd2718d4-f70c-48bc-837a-75c9dfb0adc6",
   "metadata": {},
   "outputs": [
    {
     "name": "stdout",
     "output_type": "stream",
     "text": [
      "<class 'pandas.core.frame.DataFrame'>\n",
      "RangeIndex: 4000 entries, 0 to 3999\n",
      "Data columns (total 80 columns):\n",
      " #   Column                         Non-Null Count  Dtype  \n",
      "---  ------                         --------------  -----  \n",
      " 0   Unnamed: 0                     4000 non-null   int64  \n",
      " 1   all_awardings                  4000 non-null   object \n",
      " 2   allow_live_comments            4000 non-null   bool   \n",
      " 3   author                         4000 non-null   object \n",
      " 4   author_flair_css_class         213 non-null    object \n",
      " 5   author_flair_richtext          3988 non-null   object \n",
      " 6   author_flair_text              213 non-null    object \n",
      " 7   author_flair_type              3988 non-null   object \n",
      " 8   author_fullname                3988 non-null   object \n",
      " 9   author_is_blocked              4000 non-null   bool   \n",
      " 10  author_patreon_flair           3988 non-null   object \n",
      " 11  author_premium                 3988 non-null   object \n",
      " 12  awarders                       4000 non-null   object \n",
      " 13  can_mod_post                   4000 non-null   bool   \n",
      " 14  contest_mode                   4000 non-null   bool   \n",
      " 15  created_utc                    4000 non-null   int64  \n",
      " 16  domain                         4000 non-null   object \n",
      " 17  full_link                      4000 non-null   object \n",
      " 18  gildings                       4000 non-null   object \n",
      " 19  id                             4000 non-null   object \n",
      " 20  is_created_from_ads_ui         4000 non-null   bool   \n",
      " 21  is_crosspostable               4000 non-null   bool   \n",
      " 22  is_meta                        4000 non-null   bool   \n",
      " 23  is_original_content            4000 non-null   bool   \n",
      " 24  is_reddit_media_domain         4000 non-null   bool   \n",
      " 25  is_robot_indexable             4000 non-null   bool   \n",
      " 26  is_self                        4000 non-null   bool   \n",
      " 27  is_video                       4000 non-null   bool   \n",
      " 28  link_flair_background_color    3925 non-null   object \n",
      " 29  link_flair_css_class           3980 non-null   object \n",
      " 30  link_flair_richtext            4000 non-null   object \n",
      " 31  link_flair_template_id         3948 non-null   object \n",
      " 32  link_flair_text                3993 non-null   object \n",
      " 33  link_flair_text_color          4000 non-null   object \n",
      " 34  link_flair_type                4000 non-null   object \n",
      " 35  locked                         4000 non-null   bool   \n",
      " 36  media_only                     4000 non-null   bool   \n",
      " 37  no_follow                      4000 non-null   bool   \n",
      " 38  num_comments                   4000 non-null   int64  \n",
      " 39  num_crossposts                 4000 non-null   int64  \n",
      " 40  over_18                        4000 non-null   bool   \n",
      " 41  parent_whitelist_status        4000 non-null   object \n",
      " 42  permalink                      4000 non-null   object \n",
      " 43  pinned                         4000 non-null   bool   \n",
      " 44  pwls                           4000 non-null   int64  \n",
      " 45  retrieved_on                   4000 non-null   int64  \n",
      " 46  score                          4000 non-null   int64  \n",
      " 47  selftext                       3836 non-null   object \n",
      " 48  send_replies                   4000 non-null   bool   \n",
      " 49  spoiler                        4000 non-null   bool   \n",
      " 50  stickied                       4000 non-null   bool   \n",
      " 51  subreddit                      4000 non-null   object \n",
      " 52  subreddit_id                   4000 non-null   object \n",
      " 53  subreddit_subscribers          4000 non-null   int64  \n",
      " 54  subreddit_type                 4000 non-null   object \n",
      " 55  thumbnail                      4000 non-null   object \n",
      " 56  title                          4000 non-null   object \n",
      " 57  total_awards_received          4000 non-null   int64  \n",
      " 58  treatment_tags                 4000 non-null   object \n",
      " 59  upvote_ratio                   4000 non-null   float64\n",
      " 60  url                            4000 non-null   object \n",
      " 61  whitelist_status               4000 non-null   object \n",
      " 62  wls                            4000 non-null   int64  \n",
      " 63  removed_by_category            692 non-null    object \n",
      " 64  author_flair_template_id       212 non-null    object \n",
      " 65  author_flair_text_color        237 non-null    object \n",
      " 66  author_cakeday                 13 non-null     object \n",
      " 67  poll_data                      66 non-null     object \n",
      " 68  media_metadata                 31 non-null     object \n",
      " 69  thumbnail_height               45 non-null     float64\n",
      " 70  thumbnail_width                45 non-null     float64\n",
      " 71  suggested_sort                 44 non-null     object \n",
      " 72  post_hint                      120 non-null    object \n",
      " 73  preview                        120 non-null    object \n",
      " 74  author_flair_background_color  0 non-null      float64\n",
      " 75  banned_by                      3 non-null      object \n",
      " 76  edited                         5 non-null      float64\n",
      " 77  call_to_action                 0 non-null      float64\n",
      " 78  category                       0 non-null      float64\n",
      " 79  num_posts                      4000 non-null   int64  \n",
      "dtypes: bool(20), float64(7), int64(11), object(42)\n",
      "memory usage: 1.9+ MB\n"
     ]
    }
   ],
   "source": [
    "df_wedding.info()"
   ]
  },
  {
   "cell_type": "markdown",
   "id": "43cacb94-f1cb-4b7f-bf8b-8dd5e2d6cd83",
   "metadata": {},
   "source": [
    "Will want to drop \"Unnamed: 0\" column."
   ]
  },
  {
   "cell_type": "code",
   "execution_count": 308,
   "id": "087cfd9f-9205-48cc-ae58-b9f89610ddcd",
   "metadata": {},
   "outputs": [
    {
     "data": {
      "text/plain": [
       "[('author_flair_css_class', 3787),\n",
       " ('author_flair_richtext', 12),\n",
       " ('author_flair_text', 3787),\n",
       " ('author_flair_type', 12),\n",
       " ('author_fullname', 12),\n",
       " ('author_patreon_flair', 12),\n",
       " ('author_premium', 12),\n",
       " ('link_flair_background_color', 75),\n",
       " ('link_flair_css_class', 20),\n",
       " ('link_flair_template_id', 52),\n",
       " ('link_flair_text', 7),\n",
       " ('selftext', 164),\n",
       " ('removed_by_category', 3308),\n",
       " ('author_flair_template_id', 3788),\n",
       " ('author_flair_text_color', 3763),\n",
       " ('author_cakeday', 3987),\n",
       " ('poll_data', 3934),\n",
       " ('media_metadata', 3969),\n",
       " ('thumbnail_height', 3955),\n",
       " ('thumbnail_width', 3955),\n",
       " ('suggested_sort', 3956),\n",
       " ('post_hint', 3880),\n",
       " ('preview', 3880),\n",
       " ('author_flair_background_color', 4000),\n",
       " ('banned_by', 3997),\n",
       " ('edited', 3995),\n",
       " ('call_to_action', 4000),\n",
       " ('category', 4000)]"
      ]
     },
     "execution_count": 308,
     "metadata": {},
     "output_type": "execute_result"
    }
   ],
   "source": [
    "# Columns with null values\n",
    "[x for x in list(zip(df_wedding.columns, df_wedding.isna().sum())) if x[1] != 0]"
   ]
  },
  {
   "cell_type": "code",
   "execution_count": 309,
   "id": "44f383c5-d03a-408e-8bba-7aa394c96262",
   "metadata": {},
   "outputs": [
    {
     "data": {
      "text/html": [
       "<div>\n",
       "<style scoped>\n",
       "    .dataframe tbody tr th:only-of-type {\n",
       "        vertical-align: middle;\n",
       "    }\n",
       "\n",
       "    .dataframe tbody tr th {\n",
       "        vertical-align: top;\n",
       "    }\n",
       "\n",
       "    .dataframe thead th {\n",
       "        text-align: right;\n",
       "    }\n",
       "</style>\n",
       "<table border=\"1\" class=\"dataframe\">\n",
       "  <thead>\n",
       "    <tr style=\"text-align: right;\">\n",
       "      <th></th>\n",
       "      <th>subreddit</th>\n",
       "      <th>selftext</th>\n",
       "      <th>title</th>\n",
       "    </tr>\n",
       "  </thead>\n",
       "  <tbody>\n",
       "    <tr>\n",
       "      <th>0</th>\n",
       "      <td>weddingplanning</td>\n",
       "      <td>Hello everyone! I’m wondering if it’s common f...</td>\n",
       "      <td>Requiring guest contact info to confirm a rehe...</td>\n",
       "    </tr>\n",
       "    <tr>\n",
       "      <th>1</th>\n",
       "      <td>weddingplanning</td>\n",
       "      <td>[removed]</td>\n",
       "      <td>Officiant Arriving in Town the Day of Wedding ...</td>\n",
       "    </tr>\n",
       "    <tr>\n",
       "      <th>2</th>\n",
       "      <td>weddingplanning</td>\n",
       "      <td>This is one of those things I've never put muc...</td>\n",
       "      <td>How do you find a good officiant?</td>\n",
       "    </tr>\n",
       "    <tr>\n",
       "      <th>3</th>\n",
       "      <td>weddingplanning</td>\n",
       "      <td>We’re in the process of booking our May 2023 w...</td>\n",
       "      <td>Each time we hire a vendor we really only have...</td>\n",
       "    </tr>\n",
       "    <tr>\n",
       "      <th>4</th>\n",
       "      <td>weddingplanning</td>\n",
       "      <td>I love reading y’alls vents so here’s mine. An...</td>\n",
       "      <td>Vent: So many small things</td>\n",
       "    </tr>\n",
       "  </tbody>\n",
       "</table>\n",
       "</div>"
      ],
      "text/plain": [
       "         subreddit                                           selftext  \\\n",
       "0  weddingplanning  Hello everyone! I’m wondering if it’s common f...   \n",
       "1  weddingplanning                                          [removed]   \n",
       "2  weddingplanning  This is one of those things I've never put muc...   \n",
       "3  weddingplanning  We’re in the process of booking our May 2023 w...   \n",
       "4  weddingplanning  I love reading y’alls vents so here’s mine. An...   \n",
       "\n",
       "                                               title  \n",
       "0  Requiring guest contact info to confirm a rehe...  \n",
       "1  Officiant Arriving in Town the Day of Wedding ...  \n",
       "2                  How do you find a good officiant?  \n",
       "3  Each time we hire a vendor we really only have...  \n",
       "4                         Vent: So many small things  "
      ]
     },
     "execution_count": 309,
     "metadata": {},
     "output_type": "execute_result"
    }
   ],
   "source": [
    "df_wedding[['subreddit','selftext','title']].head()"
   ]
  },
  {
   "cell_type": "code",
   "execution_count": 310,
   "id": "c5a9a94e-472e-4871-9420-e3a4bd3be738",
   "metadata": {},
   "outputs": [
    {
     "data": {
      "text/plain": [
       "(3999, 73)"
      ]
     },
     "execution_count": 310,
     "metadata": {},
     "output_type": "execute_result"
    }
   ],
   "source": [
    "df_divorce.shape"
   ]
  },
  {
   "cell_type": "code",
   "execution_count": 311,
   "id": "74ad7988-5443-4337-a19e-eb97feb60dcf",
   "metadata": {},
   "outputs": [
    {
     "data": {
      "text/html": [
       "<div>\n",
       "<style scoped>\n",
       "    .dataframe tbody tr th:only-of-type {\n",
       "        vertical-align: middle;\n",
       "    }\n",
       "\n",
       "    .dataframe tbody tr th {\n",
       "        vertical-align: top;\n",
       "    }\n",
       "\n",
       "    .dataframe thead th {\n",
       "        text-align: right;\n",
       "    }\n",
       "</style>\n",
       "<table border=\"1\" class=\"dataframe\">\n",
       "  <thead>\n",
       "    <tr style=\"text-align: right;\">\n",
       "      <th></th>\n",
       "      <th>subreddit</th>\n",
       "      <th>selftext</th>\n",
       "      <th>title</th>\n",
       "    </tr>\n",
       "  </thead>\n",
       "  <tbody>\n",
       "    <tr>\n",
       "      <th>0</th>\n",
       "      <td>Divorce</td>\n",
       "      <td>I can’t handle it, the thought of not being hi...</td>\n",
       "      <td>How to cope</td>\n",
       "    </tr>\n",
       "    <tr>\n",
       "      <th>1</th>\n",
       "      <td>Divorce</td>\n",
       "      <td>If my child has done something that requires p...</td>\n",
       "      <td>Using different punishments for your children ...</td>\n",
       "    </tr>\n",
       "    <tr>\n",
       "      <th>2</th>\n",
       "      <td>Divorce</td>\n",
       "      <td>I think sometimes it’s easy to get caught up i...</td>\n",
       "      <td>What is something you’re looking forward to?</td>\n",
       "    </tr>\n",
       "    <tr>\n",
       "      <th>3</th>\n",
       "      <td>Divorce</td>\n",
       "      <td>My wife and I have a pretty comfortable life b...</td>\n",
       "      <td>So... when do you know it's time to move on?</td>\n",
       "    </tr>\n",
       "    <tr>\n",
       "      <th>4</th>\n",
       "      <td>Divorce</td>\n",
       "      <td>Young married couple, no kids, no house (we re...</td>\n",
       "      <td>Could this be relatively simple?</td>\n",
       "    </tr>\n",
       "  </tbody>\n",
       "</table>\n",
       "</div>"
      ],
      "text/plain": [
       "  subreddit                                           selftext  \\\n",
       "0   Divorce  I can’t handle it, the thought of not being hi...   \n",
       "1   Divorce  If my child has done something that requires p...   \n",
       "2   Divorce  I think sometimes it’s easy to get caught up i...   \n",
       "3   Divorce  My wife and I have a pretty comfortable life b...   \n",
       "4   Divorce  Young married couple, no kids, no house (we re...   \n",
       "\n",
       "                                               title  \n",
       "0                                        How to cope  \n",
       "1  Using different punishments for your children ...  \n",
       "2       What is something you’re looking forward to?  \n",
       "3       So... when do you know it's time to move on?  \n",
       "4                   Could this be relatively simple?  "
      ]
     },
     "execution_count": 311,
     "metadata": {},
     "output_type": "execute_result"
    }
   ],
   "source": [
    "df_divorce[['subreddit','selftext','title']].head()"
   ]
  },
  {
   "cell_type": "code",
   "execution_count": 312,
   "id": "502a49de-2170-4097-b0e6-6d863a5ec3f4",
   "metadata": {},
   "outputs": [
    {
     "name": "stdout",
     "output_type": "stream",
     "text": [
      "<class 'pandas.core.frame.DataFrame'>\n",
      "RangeIndex: 3999 entries, 0 to 3998\n",
      "Data columns (total 73 columns):\n",
      " #   Column                         Non-Null Count  Dtype  \n",
      "---  ------                         --------------  -----  \n",
      " 0   Unnamed: 0                     3999 non-null   int64  \n",
      " 1   all_awardings                  3999 non-null   object \n",
      " 2   allow_live_comments            3999 non-null   bool   \n",
      " 3   author                         3999 non-null   object \n",
      " 4   author_flair_css_class         0 non-null      float64\n",
      " 5   author_flair_richtext          3997 non-null   object \n",
      " 6   author_flair_text              29 non-null     object \n",
      " 7   author_flair_type              3997 non-null   object \n",
      " 8   author_fullname                3997 non-null   object \n",
      " 9   author_is_blocked              3999 non-null   bool   \n",
      " 10  author_patreon_flair           3997 non-null   object \n",
      " 11  author_premium                 3997 non-null   object \n",
      " 12  awarders                       3999 non-null   object \n",
      " 13  can_mod_post                   3999 non-null   bool   \n",
      " 14  contest_mode                   3999 non-null   bool   \n",
      " 15  created_utc                    3999 non-null   int64  \n",
      " 16  domain                         3999 non-null   object \n",
      " 17  full_link                      3999 non-null   object \n",
      " 18  gildings                       3999 non-null   object \n",
      " 19  id                             3999 non-null   object \n",
      " 20  is_created_from_ads_ui         3999 non-null   bool   \n",
      " 21  is_crosspostable               3999 non-null   bool   \n",
      " 22  is_meta                        3999 non-null   bool   \n",
      " 23  is_original_content            3999 non-null   bool   \n",
      " 24  is_reddit_media_domain         3999 non-null   bool   \n",
      " 25  is_robot_indexable             3999 non-null   bool   \n",
      " 26  is_self                        3999 non-null   bool   \n",
      " 27  is_video                       3999 non-null   bool   \n",
      " 28  link_flair_background_color    3997 non-null   object \n",
      " 29  link_flair_richtext            3999 non-null   object \n",
      " 30  link_flair_template_id         3997 non-null   object \n",
      " 31  link_flair_text                3997 non-null   object \n",
      " 32  link_flair_text_color          3999 non-null   object \n",
      " 33  link_flair_type                3999 non-null   object \n",
      " 34  locked                         3999 non-null   bool   \n",
      " 35  media_only                     3999 non-null   bool   \n",
      " 36  no_follow                      3999 non-null   bool   \n",
      " 37  num_comments                   3999 non-null   int64  \n",
      " 38  num_crossposts                 3999 non-null   int64  \n",
      " 39  over_18                        3999 non-null   bool   \n",
      " 40  parent_whitelist_status        3999 non-null   object \n",
      " 41  permalink                      3999 non-null   object \n",
      " 42  pinned                         3999 non-null   bool   \n",
      " 43  pwls                           3999 non-null   int64  \n",
      " 44  retrieved_on                   3999 non-null   int64  \n",
      " 45  score                          3999 non-null   int64  \n",
      " 46  selftext                       3999 non-null   object \n",
      " 47  send_replies                   3999 non-null   bool   \n",
      " 48  spoiler                        3999 non-null   bool   \n",
      " 49  stickied                       3999 non-null   bool   \n",
      " 50  subreddit                      3999 non-null   object \n",
      " 51  subreddit_id                   3999 non-null   object \n",
      " 52  subreddit_subscribers          3999 non-null   int64  \n",
      " 53  subreddit_type                 3999 non-null   object \n",
      " 54  thumbnail                      3999 non-null   object \n",
      " 55  title                          3999 non-null   object \n",
      " 56  total_awards_received          3999 non-null   int64  \n",
      " 57  treatment_tags                 3999 non-null   object \n",
      " 58  upvote_ratio                   3999 non-null   float64\n",
      " 59  url                            3999 non-null   object \n",
      " 60  whitelist_status               3999 non-null   object \n",
      " 61  wls                            3999 non-null   int64  \n",
      " 62  removed_by_category            491 non-null    object \n",
      " 63  post_hint                      41 non-null     object \n",
      " 64  preview                        41 non-null     object \n",
      " 65  call_to_action                 0 non-null      float64\n",
      " 66  category                       0 non-null      float64\n",
      " 67  edited                         4 non-null      float64\n",
      " 68  author_cakeday                 7 non-null      object \n",
      " 69  author_flair_background_color  27 non-null     object \n",
      " 70  author_flair_template_id       27 non-null     object \n",
      " 71  author_flair_text_color        31 non-null     object \n",
      " 72  distinguished                  2 non-null      object \n",
      "dtypes: bool(20), float64(5), int64(10), object(38)\n",
      "memory usage: 1.7+ MB\n"
     ]
    }
   ],
   "source": [
    "df_divorce.info()"
   ]
  },
  {
   "cell_type": "code",
   "execution_count": 313,
   "id": "72f1b88d-2cff-4543-ae1d-07d113719bae",
   "metadata": {},
   "outputs": [
    {
     "data": {
      "text/plain": [
       "[('author_flair_css_class', 3999),\n",
       " ('author_flair_richtext', 2),\n",
       " ('author_flair_text', 3970),\n",
       " ('author_flair_type', 2),\n",
       " ('author_fullname', 2),\n",
       " ('author_patreon_flair', 2),\n",
       " ('author_premium', 2),\n",
       " ('link_flair_background_color', 2),\n",
       " ('link_flair_template_id', 2),\n",
       " ('link_flair_text', 2),\n",
       " ('removed_by_category', 3508),\n",
       " ('post_hint', 3958),\n",
       " ('preview', 3958),\n",
       " ('call_to_action', 3999),\n",
       " ('category', 3999),\n",
       " ('edited', 3995),\n",
       " ('author_cakeday', 3992),\n",
       " ('author_flair_background_color', 3972),\n",
       " ('author_flair_template_id', 3972),\n",
       " ('author_flair_text_color', 3968),\n",
       " ('distinguished', 3997)]"
      ]
     },
     "execution_count": 313,
     "metadata": {},
     "output_type": "execute_result"
    }
   ],
   "source": [
    "# Columns with null values\n",
    "[x for x in list(zip(df_divorce.columns, df_divorce.isna().sum())) if x[1] != 0]"
   ]
  },
  {
   "cell_type": "markdown",
   "id": "194d8305-a2c9-40f0-bc9b-8a91baaa2e52",
   "metadata": {
    "jp-MarkdownHeadingCollapsed": true,
    "tags": []
   },
   "source": [
    "#### Drop Unnamed column"
   ]
  },
  {
   "cell_type": "code",
   "execution_count": 314,
   "id": "1b9953fa-8f84-4a47-8c79-67b727c27a4d",
   "metadata": {},
   "outputs": [],
   "source": [
    "df_wedding.drop(columns=['Unnamed: 0'],inplace=True)"
   ]
  },
  {
   "cell_type": "code",
   "execution_count": 315,
   "id": "1771a411-1792-41b3-b006-10dac1215357",
   "metadata": {},
   "outputs": [],
   "source": [
    "df_divorce.drop(columns=['Unnamed: 0'],inplace=True)"
   ]
  },
  {
   "cell_type": "markdown",
   "id": "9725e56e-0b38-4be2-9270-06387b958bc6",
   "metadata": {
    "jp-MarkdownHeadingCollapsed": true,
    "tags": []
   },
   "source": [
    "#### Look at post count by unique author"
   ]
  },
  {
   "cell_type": "code",
   "execution_count": 316,
   "id": "6288ef37-9f1a-4109-9590-a94dca64bc32",
   "metadata": {},
   "outputs": [
    {
     "data": {
      "text/plain": [
       "array(['theallusionist', 'Asleep_Contest2388', 'J3llyDonut', ...,\n",
       "       'DeadDollKitty', 'sd6887', 'katels28'], dtype=object)"
      ]
     },
     "execution_count": 316,
     "metadata": {},
     "output_type": "execute_result"
    }
   ],
   "source": [
    "df_wedding['author'].unique()"
   ]
  },
  {
   "cell_type": "code",
   "execution_count": 317,
   "id": "58de1c1e-664c-42a6-b947-904768bad527",
   "metadata": {},
   "outputs": [],
   "source": [
    "df_wedding['num_posts'] = [df_wedding[df_wedding['author'] == user].shape[0] for user in df_wedding['author']]"
   ]
  },
  {
   "cell_type": "code",
   "execution_count": 318,
   "id": "1ef8ccdc-5bc9-4684-bb6c-b58d41f4cc32",
   "metadata": {},
   "outputs": [
    {
     "data": {
      "image/png": "[encoded data removed]",
      "text/plain": [
       "<Figure size 432x288 with 1 Axes>"
      ]
     },
     "metadata": {
      "needs_background": "light"
     },
     "output_type": "display_data"
    }
   ],
   "source": [
    "plt.hist(df_wedding['num_posts'],bins=20)\n",
    "plt.title('Distribution of number of posts by user, r/WeddingPlanning')\n",
    "plt.xlabel('Number of posts per user')\n",
    "plt.ylabel('Count');"
   ]
  },
  {
   "cell_type": "markdown",
   "id": "c89913d4-8d25-443e-993d-9d5838be6016",
   "metadata": {},
   "source": [
    "There is a weird outlier is an author that posts prolifically. Let's explore this."
   ]
  },
  {
   "cell_type": "code",
   "execution_count": 319,
   "id": "72f400bf-26f0-4311-8de4-31ef1019c53a",
   "metadata": {},
   "outputs": [
    {
     "data": {
      "text/html": [
       "<div>\n",
       "<style scoped>\n",
       "    .dataframe tbody tr th:only-of-type {\n",
       "        vertical-align: middle;\n",
       "    }\n",
       "\n",
       "    .dataframe tbody tr th {\n",
       "        vertical-align: top;\n",
       "    }\n",
       "\n",
       "    .dataframe thead th {\n",
       "        text-align: right;\n",
       "    }\n",
       "</style>\n",
       "<table border=\"1\" class=\"dataframe\">\n",
       "  <thead>\n",
       "    <tr style=\"text-align: right;\">\n",
       "      <th></th>\n",
       "      <th>all_awardings</th>\n",
       "      <th>allow_live_comments</th>\n",
       "      <th>author</th>\n",
       "      <th>author_flair_css_class</th>\n",
       "      <th>author_flair_richtext</th>\n",
       "      <th>author_flair_text</th>\n",
       "      <th>author_flair_type</th>\n",
       "      <th>author_fullname</th>\n",
       "      <th>author_is_blocked</th>\n",
       "      <th>author_patreon_flair</th>\n",
       "      <th>...</th>\n",
       "      <th>thumbnail_width</th>\n",
       "      <th>suggested_sort</th>\n",
       "      <th>post_hint</th>\n",
       "      <th>preview</th>\n",
       "      <th>author_flair_background_color</th>\n",
       "      <th>banned_by</th>\n",
       "      <th>edited</th>\n",
       "      <th>call_to_action</th>\n",
       "      <th>category</th>\n",
       "      <th>num_posts</th>\n",
       "    </tr>\n",
       "  </thead>\n",
       "  <tbody>\n",
       "    <tr>\n",
       "      <th>70</th>\n",
       "      <td>[]</td>\n",
       "      <td>False</td>\n",
       "      <td>AutoModerator</td>\n",
       "      <td>NaN</td>\n",
       "      <td>[]</td>\n",
       "      <td>NaN</td>\n",
       "      <td>text</td>\n",
       "      <td>t2_6l4z3</td>\n",
       "      <td>False</td>\n",
       "      <td>False</td>\n",
       "      <td>...</td>\n",
       "      <td>NaN</td>\n",
       "      <td>NaN</td>\n",
       "      <td>NaN</td>\n",
       "      <td>NaN</td>\n",
       "      <td>NaN</td>\n",
       "      <td>NaN</td>\n",
       "      <td>NaN</td>\n",
       "      <td>NaN</td>\n",
       "      <td>NaN</td>\n",
       "      <td>50</td>\n",
       "    </tr>\n",
       "    <tr>\n",
       "      <th>71</th>\n",
       "      <td>[]</td>\n",
       "      <td>False</td>\n",
       "      <td>AutoModerator</td>\n",
       "      <td>NaN</td>\n",
       "      <td>[]</td>\n",
       "      <td>NaN</td>\n",
       "      <td>text</td>\n",
       "      <td>t2_6l4z3</td>\n",
       "      <td>False</td>\n",
       "      <td>False</td>\n",
       "      <td>...</td>\n",
       "      <td>NaN</td>\n",
       "      <td>new</td>\n",
       "      <td>NaN</td>\n",
       "      <td>NaN</td>\n",
       "      <td>NaN</td>\n",
       "      <td>NaN</td>\n",
       "      <td>NaN</td>\n",
       "      <td>NaN</td>\n",
       "      <td>NaN</td>\n",
       "      <td>50</td>\n",
       "    </tr>\n",
       "  </tbody>\n",
       "</table>\n",
       "<p>2 rows × 79 columns</p>\n",
       "</div>"
      ],
      "text/plain": [
       "   all_awardings  allow_live_comments         author author_flair_css_class  \\\n",
       "70            []                False  AutoModerator                    NaN   \n",
       "71            []                False  AutoModerator                    NaN   \n",
       "\n",
       "   author_flair_richtext author_flair_text author_flair_type author_fullname  \\\n",
       "70                    []               NaN              text        t2_6l4z3   \n",
       "71                    []               NaN              text        t2_6l4z3   \n",
       "\n",
       "    author_is_blocked author_patreon_flair  ... thumbnail_width  \\\n",
       "70              False                False  ...             NaN   \n",
       "71              False                False  ...             NaN   \n",
       "\n",
       "   suggested_sort  post_hint  preview  author_flair_background_color  \\\n",
       "70            NaN        NaN      NaN                            NaN   \n",
       "71            new        NaN      NaN                            NaN   \n",
       "\n",
       "   banned_by edited call_to_action category  num_posts  \n",
       "70       NaN    NaN            NaN      NaN         50  \n",
       "71       NaN    NaN            NaN      NaN         50  \n",
       "\n",
       "[2 rows x 79 columns]"
      ]
     },
     "execution_count": 319,
     "metadata": {},
     "output_type": "execute_result"
    }
   ],
   "source": [
    "df_wedding[df_wedding['num_posts']==50].head(2)"
   ]
  },
  {
   "cell_type": "markdown",
   "id": "e6b1972b-10a1-40f9-a7b5-155fda82c687",
   "metadata": {},
   "source": [
    "This is written by an AutoModerator, so perhaps these posts aren't relevant?"
   ]
  },
  {
   "cell_type": "code",
   "execution_count": 320,
   "id": "1e52437b-21bf-47e5-b34e-99ea3937a873",
   "metadata": {},
   "outputs": [
    {
     "data": {
      "text/plain": [
       "70     This is a weekly thread for a more collaborati...\n",
       "71     Discuss anything on your mind with your fellow...\n",
       "168    Discuss anything on your mind with your fellow...\n",
       "290    Discuss anything on your mind with your fellow...\n",
       "386    Discuss anything on your mind with your fellow...\n",
       "Name: selftext, dtype: object"
      ]
     },
     "execution_count": 320,
     "metadata": {},
     "output_type": "execute_result"
    }
   ],
   "source": [
    "df_wedding[df_wedding['num_posts']==50]['selftext'].head(5)"
   ]
  },
  {
   "cell_type": "markdown",
   "id": "ebcd33d8-747e-4b87-a7eb-c1181211c62b",
   "metadata": {},
   "source": [
    "Confirmed: These posts are not relevant. Let's drop all posts from the author 'AutoModerator'."
   ]
  },
  {
   "cell_type": "code",
   "execution_count": 321,
   "id": "3d6c9dbc-ecc1-4b28-9ba1-9a486705c46d",
   "metadata": {},
   "outputs": [
    {
     "data": {
      "text/plain": [
       "Int64Index([  70,   71,  168,  290,  386,  448,  507,  579,  652,  653,  765,\n",
       "             862,  956, 1071, 1151, 1222, 1312, 1313, 1411, 1516, 1607, 1692,\n",
       "            1746, 1832, 1833, 1921, 1922, 2025, 2144, 2264, 2359, 2438, 2515,\n",
       "            2609, 2610, 2720, 2814, 2923, 2999, 3062, 3151, 3245, 3361, 3478,\n",
       "            3579, 3674, 3789, 3881, 3986, 3987],\n",
       "           dtype='int64')"
      ]
     },
     "execution_count": 321,
     "metadata": {},
     "output_type": "execute_result"
    }
   ],
   "source": [
    "df_wedding[df_wedding['author'] == 'AutoModerator'].index"
   ]
  },
  {
   "cell_type": "code",
   "execution_count": 322,
   "id": "af9f28e3-e1e2-4905-ac7a-903f8e0e0e19",
   "metadata": {},
   "outputs": [],
   "source": [
    "df_wedding.drop(index=df_wedding[df_wedding['author'] == 'AutoModerator'].index,inplace=True)"
   ]
  },
  {
   "cell_type": "code",
   "execution_count": 323,
   "id": "a32b366f-d725-48a9-918b-d479f16116f5",
   "metadata": {},
   "outputs": [
    {
     "data": {
      "image/png": "[encoded data removed]",
      "text/plain": [
       "<Figure size 432x288 with 1 Axes>"
      ]
     },
     "metadata": {
      "needs_background": "light"
     },
     "output_type": "display_data"
    }
   ],
   "source": [
    "plt.hist(df_wedding['num_posts'],bins=20)\n",
    "plt.title('Distribution of number of posts by user, r/WeddingPlanning')\n",
    "plt.xlabel('Number of posts per user')\n",
    "plt.ylabel('Count');"
   ]
  },
  {
   "cell_type": "code",
   "execution_count": 324,
   "id": "13f78fa3-aa9b-4bd3-ba09-bc42633f7a54",
   "metadata": {},
   "outputs": [
    {
     "data": {
      "text/plain": [
       "63      I apologize if this is a dumb question but I a...\n",
       "570     When I was growing up, my grandmother practica...\n",
       "868     Hi, all.\\nI’m looking to see if anyone has any...\n",
       "1079    I’ve decided on my chairs that I will have at ...\n",
       "1425    Hello!\\nNeed help planning the wedding again 🤣...\n",
       "1519    My fiancé and I are getting married in the spr...\n",
       "1628    So, unfortunately the venue does not provide c...\n",
       "2018    It’s such a big relief to me that today I fina...\n",
       "2426    Alright so… I really want my guests to have a ...\n",
       "2990    An update to my last post, about how I’ve been...\n",
       "3042    I just wanted to come on here and voice my fru...\n",
       "3144    Hey all. I need some advice again as I go furt...\n",
       "3356    Hey y’all. I’m wondering if rehearsal dinners ...\n",
       "3590    What can I expect making it okay to bring chil...\n",
       "3664    My fiancé and I finally decided on a date, y’a...\n",
       "3702    Hey everyone. I’m wondering if anyone knows wh...\n",
       "Name: selftext, dtype: object"
      ]
     },
     "execution_count": 324,
     "metadata": {},
     "output_type": "execute_result"
    }
   ],
   "source": [
    "df_wedding[df_wedding['num_posts']==16]['selftext']"
   ]
  },
  {
   "cell_type": "markdown",
   "id": "a399ab99-b298-45dc-ad3a-13dc9ccefaf3",
   "metadata": {},
   "source": [
    "The next most prolific poster seems to be real, so we'll leave them alone."
   ]
  },
  {
   "cell_type": "markdown",
   "id": "64150e53-2fc1-4dc6-91f2-8194a0713601",
   "metadata": {},
   "source": [
    "Let's check out divorce now."
   ]
  },
  {
   "cell_type": "code",
   "execution_count": 325,
   "id": "883b6803-ac6c-464b-b941-6f4ef96c49bb",
   "metadata": {},
   "outputs": [
    {
     "data": {
      "text/plain": [
       "array(['NebulaSky5', 'johnnyjacoby86', 'l0852', ..., 'btmbusby',\n",
       "       'MinnCali', 'Pleasant-Series1472'], dtype=object)"
      ]
     },
     "execution_count": 325,
     "metadata": {},
     "output_type": "execute_result"
    }
   ],
   "source": [
    "df_divorce['author'].unique()"
   ]
  },
  {
   "cell_type": "code",
   "execution_count": 326,
   "id": "64e9253b-4d6d-4889-8d03-e77d1fc08b98",
   "metadata": {},
   "outputs": [],
   "source": [
    "df_divorce['num_posts'] = [df_divorce[df_divorce['author'] == user].shape[0] for user in df_divorce['author']]"
   ]
  },
  {
   "cell_type": "code",
   "execution_count": 327,
   "id": "cc0116f6-6259-4268-aa67-69012816cb20",
   "metadata": {},
   "outputs": [
    {
     "data": {
      "image/png": "[encoded data removed]",
      "text/plain": [
       "<Figure size 432x288 with 1 Axes>"
      ]
     },
     "metadata": {
      "needs_background": "light"
     },
     "output_type": "display_data"
    }
   ],
   "source": [
    "plt.hist(df_divorce['num_posts'],bins=20)\n",
    "plt.title('Distribution of number of posts by user, r/Divorce')\n",
    "plt.xlabel('Number of posts per user')\n",
    "plt.ylabel('Count');"
   ]
  },
  {
   "cell_type": "code",
   "execution_count": 328,
   "id": "6d9c3220-975b-4555-8c4b-3e3a31868f8b",
   "metadata": {},
   "outputs": [
    {
     "data": {
      "text/plain": [
       "824     I almost feel hatred for him and his kids and ...\n",
       "913     And starts trying to love bomb me and shit, bu...\n",
       "975     One minute wants to claim me as his wife as if...\n",
       "1057    Talked to my husband today about his last phon...\n",
       "1062    I just got a text from a local number pretendi...\n",
       "1115                   Right now it seems he’s in denial.\n",
       "1174    The only thing keeping me sane is God and look...\n",
       "1209    He’s refusing to give me more. Im out of gas a...\n",
       "2170    Told me he’s done and living the single life a...\n",
       "2261     He laughed and said that’s probably for the best\n",
       "3056    Because it seems he’s still fucking his ex wif...\n",
       "3112    It was a nightmare! It would have made a humor...\n",
       "3431    Well I assumed we’d live apart until we could ...\n",
       "3469    A little hard to accept, but it is truthful an...\n",
       "3504    &amp; is very unlike him to go more than a ful...\n",
       "3530    I can’t even communicate with my husband witho...\n",
       "3575    26f married 48m have been married 6 months and...\n",
       "3806                                  Asking for a friend\n",
       "3807            Trying to understand the confusion. What?\n",
       "3818    But recently have had no choice. I’m unemploye...\n",
       "Name: selftext, dtype: object"
      ]
     },
     "execution_count": 328,
     "metadata": {},
     "output_type": "execute_result"
    }
   ],
   "source": [
    "df_divorce[df_divorce['num_posts']==20]['selftext']"
   ]
  },
  {
   "cell_type": "markdown",
   "id": "596fa483-ed27-4d49-b0ae-716dfb96f7a3",
   "metadata": {},
   "source": [
    "No regular moderators in divorce, just a prolific writer. Nothing to drop here."
   ]
  },
  {
   "cell_type": "markdown",
   "id": "9b721de8-1a5b-4464-9b3d-a6c4665a0874",
   "metadata": {
    "jp-MarkdownHeadingCollapsed": true,
    "tags": []
   },
   "source": [
    "#### Should we drop posts where selftext == [removed]?"
   ]
  },
  {
   "cell_type": "code",
   "execution_count": 329,
   "id": "28389abc-e02e-422d-ac68-63a9bb8e9acf",
   "metadata": {},
   "outputs": [
    {
     "data": {
      "text/plain": [
       "Index(['all_awardings', 'allow_live_comments', 'author',\n",
       "       'author_flair_css_class', 'author_flair_richtext', 'author_flair_text',\n",
       "       'author_flair_type', 'author_fullname', 'author_is_blocked',\n",
       "       'author_patreon_flair', 'author_premium', 'awarders', 'can_mod_post',\n",
       "       'contest_mode', 'created_utc', 'domain', 'full_link', 'gildings', 'id',\n",
       "       'is_created_from_ads_ui', 'is_crosspostable', 'is_meta',\n",
       "       'is_original_content', 'is_reddit_media_domain', 'is_robot_indexable',\n",
       "       'is_self', 'is_video', 'link_flair_background_color',\n",
       "       'link_flair_css_class', 'link_flair_richtext', 'link_flair_template_id',\n",
       "       'link_flair_text', 'link_flair_text_color', 'link_flair_type', 'locked',\n",
       "       'media_only', 'no_follow', 'num_comments', 'num_crossposts', 'over_18',\n",
       "       'parent_whitelist_status', 'permalink', 'pinned', 'pwls',\n",
       "       'retrieved_on', 'score', 'selftext', 'send_replies', 'spoiler',\n",
       "       'stickied', 'subreddit', 'subreddit_id', 'subreddit_subscribers',\n",
       "       'subreddit_type', 'thumbnail', 'title', 'total_awards_received',\n",
       "       'treatment_tags', 'upvote_ratio', 'url', 'whitelist_status', 'wls',\n",
       "       'removed_by_category', 'author_flair_template_id',\n",
       "       'author_flair_text_color', 'author_cakeday', 'poll_data',\n",
       "       'media_metadata', 'thumbnail_height', 'thumbnail_width',\n",
       "       'suggested_sort', 'post_hint', 'preview',\n",
       "       'author_flair_background_color', 'banned_by', 'edited',\n",
       "       'call_to_action', 'category', 'num_posts'],\n",
       "      dtype='object')"
      ]
     },
     "execution_count": 329,
     "metadata": {},
     "output_type": "execute_result"
    }
   ],
   "source": [
    "df_wedding.columns"
   ]
  },
  {
   "cell_type": "code",
   "execution_count": 330,
   "id": "502d6bfc-fa50-40b0-b09d-75bdca780dad",
   "metadata": {},
   "outputs": [
    {
     "data": {
      "text/plain": [
       "1       Officiant Arriving in Town the Day of Wedding ...\n",
       "5       Wedding in 3mo, just ruptured my Achilles’ tendon\n",
       "17                                     The Preferred List\n",
       "34                         Tipping on top of service fee?\n",
       "40                                     Am I in the wrong?\n",
       "                              ...                        \n",
       "3978                                        Wedding date…\n",
       "3992               Has anyone ordered from Jamali Garden?\n",
       "3995    Postponed wedding for 2 years, feeling really ...\n",
       "3996            Time between Ceremony and Reception...???\n",
       "3999    Advice on where to find a long sleeve elopemen...\n",
       "Name: title, Length: 672, dtype: object"
      ]
     },
     "execution_count": 330,
     "metadata": {},
     "output_type": "execute_result"
    }
   ],
   "source": [
    "df_wedding[df_wedding['selftext']=='[removed]']['title']"
   ]
  },
  {
   "cell_type": "markdown",
   "id": "b1d733a9-79a5-46cf-98d1-92cb6e331a6c",
   "metadata": {},
   "source": [
    "These posts still have a title, and it's not obvious that the posts do or do not have additional value, so I will keep them for now. However, I will keep this in mind to add '[removed'] to the stop_words"
   ]
  },
  {
   "cell_type": "markdown",
   "id": "c253bf23-5de3-41a4-87ee-ebc59bb60d6a",
   "metadata": {
    "jp-MarkdownHeadingCollapsed": true,
    "tags": []
   },
   "source": [
    "#### How do we deal with posts with NaN in selftext?"
   ]
  },
  {
   "cell_type": "code",
   "execution_count": 331,
   "id": "8e846426-ac6c-4ff0-b369-05917978110c",
   "metadata": {},
   "outputs": [
    {
     "data": {
      "text/plain": [
       "164"
      ]
     },
     "execution_count": 331,
     "metadata": {},
     "output_type": "execute_result"
    }
   ],
   "source": [
    "df_wedding['selftext'].isna().sum()"
   ]
  },
  {
   "cell_type": "code",
   "execution_count": 332,
   "id": "0c3fffb3-f248-493b-b075-c448899b6e8a",
   "metadata": {},
   "outputs": [
    {
     "data": {
      "text/plain": [
       "0"
      ]
     },
     "execution_count": 332,
     "metadata": {},
     "output_type": "execute_result"
    }
   ],
   "source": [
    "df_divorce['selftext'].isna().sum()"
   ]
  },
  {
   "cell_type": "markdown",
   "id": "4933c2c6-74f2-4af6-b3a9-45ade7747ca8",
   "metadata": {},
   "source": [
    "Let's fill the NaN with 'NA' and use this as a stop_word."
   ]
  },
  {
   "cell_type": "code",
   "execution_count": 333,
   "id": "9997d74f-3b40-4c9b-aaa5-2db7eb1c7955",
   "metadata": {},
   "outputs": [],
   "source": [
    "df_wedding['selftext'] = df_wedding['selftext'].fillna('NA')"
   ]
  },
  {
   "cell_type": "code",
   "execution_count": 334,
   "id": "70c3ab45-2008-4814-8c2e-5a15fd015c1d",
   "metadata": {},
   "outputs": [
    {
     "data": {
      "text/plain": [
       "0"
      ]
     },
     "execution_count": 334,
     "metadata": {},
     "output_type": "execute_result"
    }
   ],
   "source": [
    "df_wedding['selftext'].isna().sum()"
   ]
  },
  {
   "cell_type": "markdown",
   "id": "485d6527-368e-4225-afed-b43c2b657abc",
   "metadata": {
    "jp-MarkdownHeadingCollapsed": true,
    "tags": []
   },
   "source": [
    "#### Number of unique authors"
   ]
  },
  {
   "cell_type": "code",
   "execution_count": 335,
   "id": "789856fd-0878-4c1f-af47-41a593b6bb98",
   "metadata": {},
   "outputs": [
    {
     "name": "stdout",
     "output_type": "stream",
     "text": [
      "Number of unique authors in r/WeddingPlanning: 2871\n",
      "Mean posts per author: 1.4\n"
     ]
    }
   ],
   "source": [
    "num_unique_auth = len(df_wedding['author'].unique())\n",
    "total_posts = df_wedding.shape[0]\n",
    "print('Number of unique authors in r/WeddingPlanning: ' + str(num_unique_auth))\n",
    "print('Mean posts per author: ' + str(round(total_posts/num_unique_auth,1)))"
   ]
  },
  {
   "cell_type": "code",
   "execution_count": 336,
   "id": "90cb9c0f-96db-4f85-beb7-b1680718db6f",
   "metadata": {},
   "outputs": [
    {
     "name": "stdout",
     "output_type": "stream",
     "text": [
      "Number of unique authors in r/Divorce: 2776\n",
      "Mean posts per author: 1.4\n"
     ]
    }
   ],
   "source": [
    "num_unique_auth = len(df_divorce['author'].unique())\n",
    "total_posts = df_divorce.shape[0]\n",
    "print('Number of unique authors in r/Divorce: ' + str(num_unique_auth))\n",
    "print('Mean posts per author: ' + str(round(total_posts/num_unique_auth,1)))"
   ]
  },
  {
   "cell_type": "markdown",
   "id": "1886eda2-b605-4ec0-9198-b91afd563b8f",
   "metadata": {
    "jp-MarkdownHeadingCollapsed": true,
    "tags": []
   },
   "source": [
    "#### Let's look at length of posts and number of words in each posts."
   ]
  },
  {
   "cell_type": "code",
   "execution_count": 337,
   "id": "2fe9a56e-39ee-4845-ac05-9141616fbf91",
   "metadata": {},
   "outputs": [],
   "source": [
    "df_wedding['posts_length'] = df_wedding['selftext'].apply(len)"
   ]
  },
  {
   "cell_type": "code",
   "execution_count": 338,
   "id": "b9d0328b-6567-4d91-9f7d-0c42370ce1bd",
   "metadata": {},
   "outputs": [],
   "source": [
    "df_wedding['post_word_count'] = df_wedding['selftext'].apply(str.split).apply(len)"
   ]
  },
  {
   "cell_type": "code",
   "execution_count": 339,
   "id": "b4d33daf-f01e-4a7a-96c7-51a34262b1b3",
   "metadata": {},
   "outputs": [
    {
     "data": {
      "image/png": "[encoded data removed]",
      "text/plain": [
       "<Figure size 432x288 with 1 Axes>"
      ]
     },
     "metadata": {
      "needs_background": "light"
     },
     "output_type": "display_data"
    }
   ],
   "source": [
    "plt.hist(df_wedding['posts_length'],bins=20)\n",
    "plt.title('Distribution of post length, r/WeddingPlanning')\n",
    "plt.xlabel('Post length, # characters')\n",
    "plt.ylabel('Count');"
   ]
  },
  {
   "cell_type": "code",
   "execution_count": 340,
   "id": "5ff741fe-b5d8-443c-841e-f5d24d53057e",
   "metadata": {},
   "outputs": [
    {
     "data": {
      "image/png": "[encoded data removed]",
      "text/plain": [
       "<Figure size 432x288 with 1 Axes>"
      ]
     },
     "metadata": {
      "needs_background": "light"
     },
     "output_type": "display_data"
    }
   ],
   "source": [
    "plt.hist(df_wedding['post_word_count'],bins=20,color='g')\n",
    "plt.title('Distribution of post word count, r/WeddingPlanning')\n",
    "plt.xlabel('Post length, # words')\n",
    "plt.ylabel('Count');"
   ]
  },
  {
   "cell_type": "code",
   "execution_count": 341,
   "id": "f631785f-5f9a-46ad-b9cd-e7aa2ac9d358",
   "metadata": {},
   "outputs": [
    {
     "data": {
      "text/plain": [
       "270     Hi all! For the uninitiated, Jamie Wolfer is a...\n",
       "597     [First, pictures!](https://imgur.com/a/ZvcNlzt...\n",
       "637     Sorry for the long post, but the details matte...\n",
       "682     Hello 👋 and I hope your wedding planning is co...\n",
       "705     \\n\\n\\nOops, first post deleted as wrong pic fo...\n",
       "945     TLDR: If you want to have a budget bachelorett...\n",
       "1131    CW: brief, vague mention of child abuse. \\n\\n&...\n",
       "2008    A couple of years ago we got engaged. We were ...\n",
       "2194    Please don’t leave rude or negative comments, ...\n",
       "2402    &amp;#x200B;\\n\\nhttps://preview.redd.it/562afp...\n",
       "2566    A few months back I made [this pity party post...\n",
       "3040    &amp;#x200B;\\n\\nhttps://preview.redd.it/tifv3s...\n",
       "3318    Hello everyone!\\n\\nSo I am just about to decid...\n",
       "3522    We estimated $15,000 at the start when we didn...\n",
       "3647    My husband and I got married last October afte...\n",
       "3768    I'm confused y'all. I hope this is the place t...\n",
       "Name: selftext, dtype: object"
      ]
     },
     "execution_count": 341,
     "metadata": {},
     "output_type": "execute_result"
    }
   ],
   "source": [
    "df_wedding[df_wedding['posts_length'] > 6000]['selftext']"
   ]
  },
  {
   "cell_type": "markdown",
   "id": "1cefdeff-79ef-41df-b9a7-a05997ee3e8b",
   "metadata": {},
   "source": [
    "These very long posts seem to be real, so I will leave them alone"
   ]
  },
  {
   "cell_type": "code",
   "execution_count": 342,
   "id": "64697314-3845-4fee-9307-cefe251da309",
   "metadata": {},
   "outputs": [],
   "source": [
    "df_divorce['posts_length'] = df_divorce['selftext'].apply(len)"
   ]
  },
  {
   "cell_type": "code",
   "execution_count": 343,
   "id": "ef283864-a1a0-4201-a143-9c779eaf0b8c",
   "metadata": {},
   "outputs": [],
   "source": [
    "df_divorce['post_word_count'] = df_divorce['selftext'].apply(str.split).apply(len)"
   ]
  },
  {
   "cell_type": "code",
   "execution_count": 344,
   "id": "4e76d36b-b220-4638-887f-c97e63118dca",
   "metadata": {},
   "outputs": [
    {
     "data": {
      "image/png": "[encoded data removed]",
      "text/plain": [
       "<Figure size 432x288 with 1 Axes>"
      ]
     },
     "metadata": {
      "needs_background": "light"
     },
     "output_type": "display_data"
    }
   ],
   "source": [
    "plt.hist(df_divorce['posts_length'],bins=20)\n",
    "plt.title('Distribution of post length, r/Divorce')\n",
    "plt.xlabel('Post length, # characters')\n",
    "plt.ylabel('Count');"
   ]
  },
  {
   "cell_type": "code",
   "execution_count": 345,
   "id": "11d71248-539a-4ffd-8d29-5216cb1e58e4",
   "metadata": {},
   "outputs": [
    {
     "data": {
      "image/png": "[encoded data removed]",
      "text/plain": [
       "<Figure size 432x288 with 1 Axes>"
      ]
     },
     "metadata": {
      "needs_background": "light"
     },
     "output_type": "display_data"
    }
   ],
   "source": [
    "plt.hist(df_divorce['post_word_count'],bins=20,color='g')\n",
    "plt.title('Distribution of post word count, r/WeddingPlanning')\n",
    "plt.xlabel('Post length, # words')\n",
    "plt.ylabel('Count');"
   ]
  },
  {
   "cell_type": "code",
   "execution_count": 346,
   "id": "470faa7e-ce76-4b77-ab85-f73f0966ff65",
   "metadata": {},
   "outputs": [
    {
     "data": {
      "text/plain": [
       "165     So my STBXW left me in Summer 2019 after a yea...\n",
       "236     I guess I'm seeking support from this communit...\n",
       "627     I’ve finally made it. My stbxh comes to pick u...\n",
       "672     It's been 3 weeks since my last post.  I left ...\n",
       "711     I haven’t loved him in so long. I haven’t love...\n",
       "717     I'm so emotionally and physically exhausted th...\n",
       "972     I had been anticipating the day. I filed back ...\n",
       "989     Mourning the loss of my marriage pales in comp...\n",
       "1015    2 summers Ago my grandmother passed away. She ...\n",
       "1134    Hi there! This is my first post on Reddit and ...\n",
       "1510    This is going to be a long one, but hopefully ...\n",
       "1524    Not a throwaway, but an alt account, for obvio...\n",
       "1668    Sorry this is a little long, and I might sound...\n",
       "1679    Here's my story and I could really use some wo...\n",
       "1685       My ex ghost the marriage while working over...\n",
       "1695    Back when we were in relationship before marri...\n",
       "1742    Beware, this is something I just pumped out wh...\n",
       "1746    I’m 16 and my dad recently (4 months ago) move...\n",
       "1768    My husband (36) and me (24) have been married ...\n",
       "1771    I have come to terms with the fact that althou...\n",
       "1809    ...really, even longer than that if I am being...\n",
       "1822    \\n\\nI (37M Larry) am going to tell my Wife (42...\n",
       "1945    Please delete if not allowed or let me know if...\n",
       "2034    It’s been a while since I’ve said anything. My...\n",
       "2145    I'm hoping someone here might be able to give ...\n",
       "2286    I'm on mobile, so I apologize for formatting. ...\n",
       "2318    My (33m) wife (34f) have been together for 13 ...\n",
       "2462    Separated Feb 2018\\n\\nDivorced June 2020\\n\\nLi...\n",
       "2585    It's finally happening and I didn't want to be...\n",
       "2736    My (54m) ex wife (54f) and I moved to the same...\n",
       "2929     I will try to describe the story as understan...\n",
       "3327    Hello everyone,\\n\\nTl;dr: My story and asking ...\n",
       "3359    I am genuinely lost and just in awe. My wife i...\n",
       "3463    TLDR: 7 year marriage, I felt that I have clos...\n",
       "3516    Have any dads here been in the situation where...\n",
       "3547    I'm sorry for the long post. I just really nee...\n",
       "3652    This is a bit long, sorry in advance.\\n\\nMet m...\n",
       "3686    Dear Husband,\\n\\nThere are times that I am spe...\n",
       "3719    Short time lurker, first time poster.  I need ...\n",
       "3748    Alright. So. This is another 'I'm not proud of...\n",
       "3777    Ok I'm not sure if I'm in the right place but ...\n",
       "3867    35F mother of 2, 7M and 9D shared with 33M, to...\n",
       "Name: selftext, dtype: object"
      ]
     },
     "execution_count": 346,
     "metadata": {},
     "output_type": "execute_result"
    }
   ],
   "source": [
    "df_divorce[df_divorce['posts_length'] > 6000]['selftext']"
   ]
  },
  {
   "cell_type": "markdown",
   "id": "eaff659b-379e-48c6-86c0-779dc5234829",
   "metadata": {},
   "source": [
    "These also seem real."
   ]
  },
  {
   "cell_type": "markdown",
   "id": "d45e93a5-4ad5-4f39-b521-f649c4ecf9eb",
   "metadata": {
    "jp-MarkdownHeadingCollapsed": true,
    "tags": []
   },
   "source": [
    "#### Let's see if there are any duplicate posts."
   ]
  },
  {
   "cell_type": "code",
   "execution_count": 347,
   "id": "aba3eb9b-927b-4deb-a0d6-323424bfbb3a",
   "metadata": {},
   "outputs": [
    {
     "data": {
      "text/plain": [
       "(3950, 81)"
      ]
     },
     "execution_count": 347,
     "metadata": {},
     "output_type": "execute_result"
    }
   ],
   "source": [
    "df_wedding.shape"
   ]
  },
  {
   "cell_type": "code",
   "execution_count": 348,
   "id": "6f88d853-1580-4c1d-890b-159b546adc9e",
   "metadata": {},
   "outputs": [
    {
     "data": {
      "text/html": [
       "<div>\n",
       "<style scoped>\n",
       "    .dataframe tbody tr th:only-of-type {\n",
       "        vertical-align: middle;\n",
       "    }\n",
       "\n",
       "    .dataframe tbody tr th {\n",
       "        vertical-align: top;\n",
       "    }\n",
       "\n",
       "    .dataframe thead th {\n",
       "        text-align: right;\n",
       "    }\n",
       "</style>\n",
       "<table border=\"1\" class=\"dataframe\">\n",
       "  <thead>\n",
       "    <tr style=\"text-align: right;\">\n",
       "      <th></th>\n",
       "      <th>all_awardings</th>\n",
       "      <th>allow_live_comments</th>\n",
       "      <th>author</th>\n",
       "      <th>author_flair_css_class</th>\n",
       "      <th>author_flair_richtext</th>\n",
       "      <th>author_flair_text</th>\n",
       "      <th>author_flair_type</th>\n",
       "      <th>author_fullname</th>\n",
       "      <th>author_is_blocked</th>\n",
       "      <th>author_patreon_flair</th>\n",
       "      <th>...</th>\n",
       "      <th>post_hint</th>\n",
       "      <th>preview</th>\n",
       "      <th>author_flair_background_color</th>\n",
       "      <th>banned_by</th>\n",
       "      <th>edited</th>\n",
       "      <th>call_to_action</th>\n",
       "      <th>category</th>\n",
       "      <th>num_posts</th>\n",
       "      <th>posts_length</th>\n",
       "      <th>post_word_count</th>\n",
       "    </tr>\n",
       "  </thead>\n",
       "  <tbody>\n",
       "    <tr>\n",
       "      <th>0</th>\n",
       "      <td>[]</td>\n",
       "      <td>False</td>\n",
       "      <td>theallusionist</td>\n",
       "      <td>NaN</td>\n",
       "      <td>[]</td>\n",
       "      <td>NaN</td>\n",
       "      <td>text</td>\n",
       "      <td>t2_7685k</td>\n",
       "      <td>False</td>\n",
       "      <td>False</td>\n",
       "      <td>...</td>\n",
       "      <td>NaN</td>\n",
       "      <td>NaN</td>\n",
       "      <td>NaN</td>\n",
       "      <td>NaN</td>\n",
       "      <td>NaN</td>\n",
       "      <td>NaN</td>\n",
       "      <td>NaN</td>\n",
       "      <td>1</td>\n",
       "      <td>503</td>\n",
       "      <td>80</td>\n",
       "    </tr>\n",
       "    <tr>\n",
       "      <th>1</th>\n",
       "      <td>[]</td>\n",
       "      <td>False</td>\n",
       "      <td>Asleep_Contest2388</td>\n",
       "      <td>NaN</td>\n",
       "      <td>[]</td>\n",
       "      <td>NaN</td>\n",
       "      <td>text</td>\n",
       "      <td>t2_m8qjrlnv</td>\n",
       "      <td>False</td>\n",
       "      <td>False</td>\n",
       "      <td>...</td>\n",
       "      <td>NaN</td>\n",
       "      <td>NaN</td>\n",
       "      <td>NaN</td>\n",
       "      <td>NaN</td>\n",
       "      <td>NaN</td>\n",
       "      <td>NaN</td>\n",
       "      <td>NaN</td>\n",
       "      <td>1</td>\n",
       "      <td>9</td>\n",
       "      <td>1</td>\n",
       "    </tr>\n",
       "    <tr>\n",
       "      <th>2</th>\n",
       "      <td>[]</td>\n",
       "      <td>False</td>\n",
       "      <td>J3llyDonut</td>\n",
       "      <td>NaN</td>\n",
       "      <td>[]</td>\n",
       "      <td>NaN</td>\n",
       "      <td>text</td>\n",
       "      <td>t2_iaek90tb</td>\n",
       "      <td>False</td>\n",
       "      <td>False</td>\n",
       "      <td>...</td>\n",
       "      <td>NaN</td>\n",
       "      <td>NaN</td>\n",
       "      <td>NaN</td>\n",
       "      <td>NaN</td>\n",
       "      <td>NaN</td>\n",
       "      <td>NaN</td>\n",
       "      <td>NaN</td>\n",
       "      <td>3</td>\n",
       "      <td>752</td>\n",
       "      <td>139</td>\n",
       "    </tr>\n",
       "    <tr>\n",
       "      <th>3</th>\n",
       "      <td>[]</td>\n",
       "      <td>False</td>\n",
       "      <td>Wednesday_Atoms</td>\n",
       "      <td>NaN</td>\n",
       "      <td>[]</td>\n",
       "      <td>NaN</td>\n",
       "      <td>text</td>\n",
       "      <td>t2_ccasgn</td>\n",
       "      <td>False</td>\n",
       "      <td>False</td>\n",
       "      <td>...</td>\n",
       "      <td>NaN</td>\n",
       "      <td>NaN</td>\n",
       "      <td>NaN</td>\n",
       "      <td>NaN</td>\n",
       "      <td>NaN</td>\n",
       "      <td>NaN</td>\n",
       "      <td>NaN</td>\n",
       "      <td>1</td>\n",
       "      <td>1827</td>\n",
       "      <td>342</td>\n",
       "    </tr>\n",
       "    <tr>\n",
       "      <th>4</th>\n",
       "      <td>[]</td>\n",
       "      <td>False</td>\n",
       "      <td>EudoxiaPrade</td>\n",
       "      <td>NaN</td>\n",
       "      <td>[]</td>\n",
       "      <td>NaN</td>\n",
       "      <td>text</td>\n",
       "      <td>t2_itfve</td>\n",
       "      <td>False</td>\n",
       "      <td>False</td>\n",
       "      <td>...</td>\n",
       "      <td>NaN</td>\n",
       "      <td>NaN</td>\n",
       "      <td>NaN</td>\n",
       "      <td>NaN</td>\n",
       "      <td>NaN</td>\n",
       "      <td>NaN</td>\n",
       "      <td>NaN</td>\n",
       "      <td>1</td>\n",
       "      <td>2211</td>\n",
       "      <td>427</td>\n",
       "    </tr>\n",
       "    <tr>\n",
       "      <th>...</th>\n",
       "      <td>...</td>\n",
       "      <td>...</td>\n",
       "      <td>...</td>\n",
       "      <td>...</td>\n",
       "      <td>...</td>\n",
       "      <td>...</td>\n",
       "      <td>...</td>\n",
       "      <td>...</td>\n",
       "      <td>...</td>\n",
       "      <td>...</td>\n",
       "      <td>...</td>\n",
       "      <td>...</td>\n",
       "      <td>...</td>\n",
       "      <td>...</td>\n",
       "      <td>...</td>\n",
       "      <td>...</td>\n",
       "      <td>...</td>\n",
       "      <td>...</td>\n",
       "      <td>...</td>\n",
       "      <td>...</td>\n",
       "      <td>...</td>\n",
       "    </tr>\n",
       "    <tr>\n",
       "      <th>3995</th>\n",
       "      <td>[]</td>\n",
       "      <td>False</td>\n",
       "      <td>chestnutflo</td>\n",
       "      <td>NaN</td>\n",
       "      <td>[]</td>\n",
       "      <td>NaN</td>\n",
       "      <td>text</td>\n",
       "      <td>t2_eyj6tunl</td>\n",
       "      <td>False</td>\n",
       "      <td>False</td>\n",
       "      <td>...</td>\n",
       "      <td>NaN</td>\n",
       "      <td>NaN</td>\n",
       "      <td>NaN</td>\n",
       "      <td>NaN</td>\n",
       "      <td>NaN</td>\n",
       "      <td>NaN</td>\n",
       "      <td>NaN</td>\n",
       "      <td>5</td>\n",
       "      <td>9</td>\n",
       "      <td>1</td>\n",
       "    </tr>\n",
       "    <tr>\n",
       "      <th>3996</th>\n",
       "      <td>[]</td>\n",
       "      <td>False</td>\n",
       "      <td>sd6887</td>\n",
       "      <td>NaN</td>\n",
       "      <td>[]</td>\n",
       "      <td>NaN</td>\n",
       "      <td>text</td>\n",
       "      <td>t2_jsx7wpp6</td>\n",
       "      <td>False</td>\n",
       "      <td>False</td>\n",
       "      <td>...</td>\n",
       "      <td>NaN</td>\n",
       "      <td>NaN</td>\n",
       "      <td>NaN</td>\n",
       "      <td>NaN</td>\n",
       "      <td>NaN</td>\n",
       "      <td>NaN</td>\n",
       "      <td>NaN</td>\n",
       "      <td>1</td>\n",
       "      <td>9</td>\n",
       "      <td>1</td>\n",
       "    </tr>\n",
       "    <tr>\n",
       "      <th>3997</th>\n",
       "      <td>[]</td>\n",
       "      <td>False</td>\n",
       "      <td>littlerose639</td>\n",
       "      <td>NaN</td>\n",
       "      <td>[]</td>\n",
       "      <td>NaN</td>\n",
       "      <td>text</td>\n",
       "      <td>t2_ji3c7l6f</td>\n",
       "      <td>False</td>\n",
       "      <td>False</td>\n",
       "      <td>...</td>\n",
       "      <td>NaN</td>\n",
       "      <td>NaN</td>\n",
       "      <td>NaN</td>\n",
       "      <td>NaN</td>\n",
       "      <td>NaN</td>\n",
       "      <td>NaN</td>\n",
       "      <td>NaN</td>\n",
       "      <td>3</td>\n",
       "      <td>390</td>\n",
       "      <td>68</td>\n",
       "    </tr>\n",
       "    <tr>\n",
       "      <th>3998</th>\n",
       "      <td>[]</td>\n",
       "      <td>False</td>\n",
       "      <td>katels28</td>\n",
       "      <td>NaN</td>\n",
       "      <td>[]</td>\n",
       "      <td>NaN</td>\n",
       "      <td>text</td>\n",
       "      <td>t2_3rlc0zg8</td>\n",
       "      <td>False</td>\n",
       "      <td>False</td>\n",
       "      <td>...</td>\n",
       "      <td>NaN</td>\n",
       "      <td>NaN</td>\n",
       "      <td>NaN</td>\n",
       "      <td>NaN</td>\n",
       "      <td>NaN</td>\n",
       "      <td>NaN</td>\n",
       "      <td>NaN</td>\n",
       "      <td>1</td>\n",
       "      <td>612</td>\n",
       "      <td>105</td>\n",
       "    </tr>\n",
       "    <tr>\n",
       "      <th>3999</th>\n",
       "      <td>[]</td>\n",
       "      <td>False</td>\n",
       "      <td>monmonmondays</td>\n",
       "      <td>NaN</td>\n",
       "      <td>[]</td>\n",
       "      <td>NaN</td>\n",
       "      <td>text</td>\n",
       "      <td>t2_kj4h9l7c</td>\n",
       "      <td>False</td>\n",
       "      <td>False</td>\n",
       "      <td>...</td>\n",
       "      <td>NaN</td>\n",
       "      <td>NaN</td>\n",
       "      <td>NaN</td>\n",
       "      <td>NaN</td>\n",
       "      <td>NaN</td>\n",
       "      <td>NaN</td>\n",
       "      <td>NaN</td>\n",
       "      <td>3</td>\n",
       "      <td>9</td>\n",
       "      <td>1</td>\n",
       "    </tr>\n",
       "  </tbody>\n",
       "</table>\n",
       "<p>3917 rows × 81 columns</p>\n",
       "</div>"
      ],
      "text/plain": [
       "     all_awardings  allow_live_comments              author  \\\n",
       "0               []                False      theallusionist   \n",
       "1               []                False  Asleep_Contest2388   \n",
       "2               []                False          J3llyDonut   \n",
       "3               []                False     Wednesday_Atoms   \n",
       "4               []                False        EudoxiaPrade   \n",
       "...            ...                  ...                 ...   \n",
       "3995            []                False         chestnutflo   \n",
       "3996            []                False              sd6887   \n",
       "3997            []                False       littlerose639   \n",
       "3998            []                False            katels28   \n",
       "3999            []                False       monmonmondays   \n",
       "\n",
       "     author_flair_css_class author_flair_richtext author_flair_text  \\\n",
       "0                       NaN                    []               NaN   \n",
       "1                       NaN                    []               NaN   \n",
       "2                       NaN                    []               NaN   \n",
       "3                       NaN                    []               NaN   \n",
       "4                       NaN                    []               NaN   \n",
       "...                     ...                   ...               ...   \n",
       "3995                    NaN                    []               NaN   \n",
       "3996                    NaN                    []               NaN   \n",
       "3997                    NaN                    []               NaN   \n",
       "3998                    NaN                    []               NaN   \n",
       "3999                    NaN                    []               NaN   \n",
       "\n",
       "     author_flair_type author_fullname  author_is_blocked  \\\n",
       "0                 text        t2_7685k              False   \n",
       "1                 text     t2_m8qjrlnv              False   \n",
       "2                 text     t2_iaek90tb              False   \n",
       "3                 text       t2_ccasgn              False   \n",
       "4                 text        t2_itfve              False   \n",
       "...                ...             ...                ...   \n",
       "3995              text     t2_eyj6tunl              False   \n",
       "3996              text     t2_jsx7wpp6              False   \n",
       "3997              text     t2_ji3c7l6f              False   \n",
       "3998              text     t2_3rlc0zg8              False   \n",
       "3999              text     t2_kj4h9l7c              False   \n",
       "\n",
       "     author_patreon_flair  ... post_hint preview  \\\n",
       "0                   False  ...       NaN     NaN   \n",
       "1                   False  ...       NaN     NaN   \n",
       "2                   False  ...       NaN     NaN   \n",
       "3                   False  ...       NaN     NaN   \n",
       "4                   False  ...       NaN     NaN   \n",
       "...                   ...  ...       ...     ...   \n",
       "3995                False  ...       NaN     NaN   \n",
       "3996                False  ...       NaN     NaN   \n",
       "3997                False  ...       NaN     NaN   \n",
       "3998                False  ...       NaN     NaN   \n",
       "3999                False  ...       NaN     NaN   \n",
       "\n",
       "      author_flair_background_color  banned_by  edited call_to_action  \\\n",
       "0                               NaN        NaN     NaN            NaN   \n",
       "1                               NaN        NaN     NaN            NaN   \n",
       "2                               NaN        NaN     NaN            NaN   \n",
       "3                               NaN        NaN     NaN            NaN   \n",
       "4                               NaN        NaN     NaN            NaN   \n",
       "...                             ...        ...     ...            ...   \n",
       "3995                            NaN        NaN     NaN            NaN   \n",
       "3996                            NaN        NaN     NaN            NaN   \n",
       "3997                            NaN        NaN     NaN            NaN   \n",
       "3998                            NaN        NaN     NaN            NaN   \n",
       "3999                            NaN        NaN     NaN            NaN   \n",
       "\n",
       "     category num_posts posts_length  post_word_count  \n",
       "0         NaN         1          503               80  \n",
       "1         NaN         1            9                1  \n",
       "2         NaN         3          752              139  \n",
       "3         NaN         1         1827              342  \n",
       "4         NaN         1         2211              427  \n",
       "...       ...       ...          ...              ...  \n",
       "3995      NaN         5            9                1  \n",
       "3996      NaN         1            9                1  \n",
       "3997      NaN         3          390               68  \n",
       "3998      NaN         1          612              105  \n",
       "3999      NaN         3            9                1  \n",
       "\n",
       "[3917 rows x 81 columns]"
      ]
     },
     "execution_count": 348,
     "metadata": {},
     "output_type": "execute_result"
    }
   ],
   "source": [
    "df_wedding.drop_duplicates(subset=['title'])"
   ]
  },
  {
   "cell_type": "markdown",
   "id": "20ef1ad6-3c48-4a01-b8cc-5a56e6b9038c",
   "metadata": {},
   "source": [
    "It seems there are a number of duplicates... let's explore those."
   ]
  },
  {
   "cell_type": "code",
   "execution_count": 349,
   "id": "b81492f4-274f-4e6e-8bcf-2c53a3996aec",
   "metadata": {},
   "outputs": [
    {
     "data": {
      "text/plain": [
       "[('[removed]', 672),\n",
       " ('NA', 164),\n",
       " ('[deleted]', 9),\n",
       " ('My fiancé and I are looking to book our honeymoon and wanted to see if anyone had any planning advise, based on our budget and activities we wish to do. For reference, we’re in our mid-twenties, are active and are open to new experiences, specifically cultural experiences. The overarching details of our trip are as follows:\\n\\nIsland: Oahu\\n\\nDates (Including Travel): June 27-July 3 2022\\n\\nBudget: $4,500\\n\\nAccommodations: Adult Only Resort (Or AirBnB, if it’s more convenient); Rental Car\\n\\nExpectations: 40% Relaxation and 60% Adventure/Exploration\\n\\nActivities of Interest (In No Particular Order): Spa Day; Day/Night Snorkeling/Scuba Diving; Outrigger Canoeing/Kayaking; Zip-Lining; Attend a Luau; Canyoning; Sunset Sailing; Cage Dive with Shark; Spelunking\\n\\nPlaces of Interest (In No Particular Order): Dole Pineapple Plantation; Diamond Head Crater; Jurassic Park',\n",
       "  2),\n",
       " (\"Hi all! My fiance and I are really interested in having karaoke at our wedding. I'm looking into having a karaoke machine as opposed to something that is hosted by a DJ. I'm wondering if anyone else has done this themselves or has been to weddings that have? If so, what karaoke machine would you recommend? Does this even sound like a good idea? Any advice would be greatly appreciated! 💙\",\n",
       "  2),\n",
       " (\"A few times I wrote on this site as a very stressed out March bride. Well now my wedding has come and gone and it turned out like a dream. I'm so happy we chose my home city of Cartagena for the wedding. It came with lots of ups and downs but in the end it was perfect. Thank you all for the kind words when I was stressed. I thought I would share a small clip of our wedding. And to all the brides/ grooms still in the planning process, how we say in Colombia...tranquila..... everything will work out in the end :)\",\n",
       "  1),\n",
       " (\"Hi, I had given up on finding a warm olive color my wedding (Anthropologie had some but I can't ask my girls to pay that), but luckily Azazie just released their new color [Martini](https://www.azazie.com/all/bridesmaid-dresses/colors/martini)! However, it only comes in stretch satin — which I love and want for some of my bridesmaids, but I know it's not for everyone.  \\nDoes anyone have experience with Azazie new colors and know if they might add another fabric choice soon? Normally chiffon is the default so I was surprised it was only available in stretch satin.\",\n",
       "  1),\n",
       " ('I am one month out from my wedding and having my bridesmaids and the moms come over my house for hair and makeup on the day of. A few months back, my mother in law asked me if she could do a makeup trial with my makeup artist which I thought was super weird but whatever, I guess. \\n\\nThen today she asks me what the timeline is for the girls getting ready because she wants to know if her hair will be set long enough. We literally have 11 people getting their hair done (me, 2 moms, 7 bridesmaids and a flower girl) so uhhhh no….The only person getting their hair set in curlers is me because otherwise we’d start at like 5 am lol. I told her they are just curling people’s hair, not setting them in curlers and she goes “oh wow. Well at my daughter’s wedding they set everyone’s hair.” \\n\\nThis is on top of being judgmental lately about EVERYTHING, from our cake choice to us using ceremony musicians to our cocktail hour station choices (they are helping with paying for the wedding so we could not tell them off for that) but HOLY SHIT the judgmental bullshit had me seeing red.\\n\\nIt’s normal to not necessarily set everyone’s hair in curlers right? All of the weddings I have been to just ask that your hair is dry and clean and then go to town on your head with curling irons and hairspray.',\n",
       "  1)]"
      ]
     },
     "execution_count": 349,
     "metadata": {},
     "output_type": "execute_result"
    }
   ],
   "source": [
    "post_count = list(zip(df_wedding['selftext'].value_counts().keys(),df_wedding['selftext'].value_counts()))\n",
    "post_count[0:8]"
   ]
  },
  {
   "cell_type": "markdown",
   "id": "55c0c95e-a59a-461f-baa7-b85d6143e3ff",
   "metadata": {},
   "source": [
    "Most of the duplicates are the removed, NA, or deleted posts, but some are real duplicates. Let's drop these duplicates."
   ]
  },
  {
   "cell_type": "code",
   "execution_count": 350,
   "id": "683799b3-27d9-4374-b57f-184c371a9f8b",
   "metadata": {},
   "outputs": [],
   "source": [
    "duplicates = [x[0] for x in post_count if x[1] > 1][3::]"
   ]
  },
  {
   "cell_type": "code",
   "execution_count": 351,
   "id": "bc65c161-4cb9-4dfd-9d77-f729a0a453d8",
   "metadata": {},
   "outputs": [
    {
     "data": {
      "text/plain": [
       "['My fiancé and I are looking to book our honeymoon and wanted to see if anyone had any planning advise, based on our budget and activities we wish to do. For reference, we’re in our mid-twenties, are active and are open to new experiences, specifically cultural experiences. The overarching details of our trip are as follows:\\n\\nIsland: Oahu\\n\\nDates (Including Travel): June 27-July 3 2022\\n\\nBudget: $4,500\\n\\nAccommodations: Adult Only Resort (Or AirBnB, if it’s more convenient); Rental Car\\n\\nExpectations: 40% Relaxation and 60% Adventure/Exploration\\n\\nActivities of Interest (In No Particular Order): Spa Day; Day/Night Snorkeling/Scuba Diving; Outrigger Canoeing/Kayaking; Zip-Lining; Attend a Luau; Canyoning; Sunset Sailing; Cage Dive with Shark; Spelunking\\n\\nPlaces of Interest (In No Particular Order): Dole Pineapple Plantation; Diamond Head Crater; Jurassic Park',\n",
       " \"Hi all! My fiance and I are really interested in having karaoke at our wedding. I'm looking into having a karaoke machine as opposed to something that is hosted by a DJ. I'm wondering if anyone else has done this themselves or has been to weddings that have? If so, what karaoke machine would you recommend? Does this even sound like a good idea? Any advice would be greatly appreciated! 💙\"]"
      ]
     },
     "execution_count": 351,
     "metadata": {},
     "output_type": "execute_result"
    }
   ],
   "source": [
    "duplicates"
   ]
  },
  {
   "cell_type": "code",
   "execution_count": 352,
   "id": "51a7079b-b4d1-49b7-a5c4-4988bdd7834a",
   "metadata": {},
   "outputs": [],
   "source": [
    "duplicates_index = [df_wedding[df_wedding['selftext']==x].index[1:] for x in duplicates]"
   ]
  },
  {
   "cell_type": "code",
   "execution_count": 353,
   "id": "3ed7faac-cbff-406c-9533-2ed470a96ced",
   "metadata": {},
   "outputs": [
    {
     "data": {
      "text/plain": [
       "[Int64Index([2398], dtype='int64'), Int64Index([1283], dtype='int64')]"
      ]
     },
     "execution_count": 353,
     "metadata": {},
     "output_type": "execute_result"
    }
   ],
   "source": [
    "duplicates_index"
   ]
  },
  {
   "cell_type": "code",
   "execution_count": 354,
   "id": "65f09788-b12c-4d4b-b49a-ff07cb8e7410",
   "metadata": {},
   "outputs": [],
   "source": [
    "for x in duplicates_index:\n",
    "    df_wedding.drop(index=x,inplace=True)"
   ]
  },
  {
   "cell_type": "markdown",
   "id": "f5006c74-733e-4585-9ff6-a1288d0ad99c",
   "metadata": {},
   "source": [
    "##### Now with Divorce"
   ]
  },
  {
   "cell_type": "code",
   "execution_count": 355,
   "id": "2c6dea4e-9d59-4ee8-8e6b-d7d77f1fb89b",
   "metadata": {},
   "outputs": [
    {
     "data": {
      "text/plain": [
       "(3999, 75)"
      ]
     },
     "execution_count": 355,
     "metadata": {},
     "output_type": "execute_result"
    }
   ],
   "source": [
    "df_divorce.shape"
   ]
  },
  {
   "cell_type": "code",
   "execution_count": 356,
   "id": "c4801593-ca3c-4ad7-a2a7-8a0f2587564e",
   "metadata": {},
   "outputs": [
    {
     "data": {
      "text/html": [
       "<div>\n",
       "<style scoped>\n",
       "    .dataframe tbody tr th:only-of-type {\n",
       "        vertical-align: middle;\n",
       "    }\n",
       "\n",
       "    .dataframe tbody tr th {\n",
       "        vertical-align: top;\n",
       "    }\n",
       "\n",
       "    .dataframe thead th {\n",
       "        text-align: right;\n",
       "    }\n",
       "</style>\n",
       "<table border=\"1\" class=\"dataframe\">\n",
       "  <thead>\n",
       "    <tr style=\"text-align: right;\">\n",
       "      <th></th>\n",
       "      <th>all_awardings</th>\n",
       "      <th>allow_live_comments</th>\n",
       "      <th>author</th>\n",
       "      <th>author_flair_css_class</th>\n",
       "      <th>author_flair_richtext</th>\n",
       "      <th>author_flair_text</th>\n",
       "      <th>author_flair_type</th>\n",
       "      <th>author_fullname</th>\n",
       "      <th>author_is_blocked</th>\n",
       "      <th>author_patreon_flair</th>\n",
       "      <th>...</th>\n",
       "      <th>category</th>\n",
       "      <th>edited</th>\n",
       "      <th>author_cakeday</th>\n",
       "      <th>author_flair_background_color</th>\n",
       "      <th>author_flair_template_id</th>\n",
       "      <th>author_flair_text_color</th>\n",
       "      <th>distinguished</th>\n",
       "      <th>num_posts</th>\n",
       "      <th>posts_length</th>\n",
       "      <th>post_word_count</th>\n",
       "    </tr>\n",
       "  </thead>\n",
       "  <tbody>\n",
       "    <tr>\n",
       "      <th>0</th>\n",
       "      <td>[]</td>\n",
       "      <td>False</td>\n",
       "      <td>NebulaSky5</td>\n",
       "      <td>NaN</td>\n",
       "      <td>[]</td>\n",
       "      <td>NaN</td>\n",
       "      <td>text</td>\n",
       "      <td>t2_6xs0432p</td>\n",
       "      <td>False</td>\n",
       "      <td>False</td>\n",
       "      <td>...</td>\n",
       "      <td>NaN</td>\n",
       "      <td>NaN</td>\n",
       "      <td>NaN</td>\n",
       "      <td>NaN</td>\n",
       "      <td>NaN</td>\n",
       "      <td>NaN</td>\n",
       "      <td>NaN</td>\n",
       "      <td>7</td>\n",
       "      <td>3270</td>\n",
       "      <td>679</td>\n",
       "    </tr>\n",
       "    <tr>\n",
       "      <th>1</th>\n",
       "      <td>[]</td>\n",
       "      <td>False</td>\n",
       "      <td>johnnyjacoby86</td>\n",
       "      <td>NaN</td>\n",
       "      <td>[]</td>\n",
       "      <td>NaN</td>\n",
       "      <td>text</td>\n",
       "      <td>t2_fnduei3c</td>\n",
       "      <td>False</td>\n",
       "      <td>False</td>\n",
       "      <td>...</td>\n",
       "      <td>NaN</td>\n",
       "      <td>NaN</td>\n",
       "      <td>NaN</td>\n",
       "      <td>NaN</td>\n",
       "      <td>NaN</td>\n",
       "      <td>NaN</td>\n",
       "      <td>NaN</td>\n",
       "      <td>1</td>\n",
       "      <td>516</td>\n",
       "      <td>104</td>\n",
       "    </tr>\n",
       "    <tr>\n",
       "      <th>2</th>\n",
       "      <td>[]</td>\n",
       "      <td>False</td>\n",
       "      <td>l0852</td>\n",
       "      <td>NaN</td>\n",
       "      <td>[]</td>\n",
       "      <td>NaN</td>\n",
       "      <td>text</td>\n",
       "      <td>t2_1ldum2u</td>\n",
       "      <td>False</td>\n",
       "      <td>False</td>\n",
       "      <td>...</td>\n",
       "      <td>NaN</td>\n",
       "      <td>NaN</td>\n",
       "      <td>NaN</td>\n",
       "      <td>NaN</td>\n",
       "      <td>NaN</td>\n",
       "      <td>NaN</td>\n",
       "      <td>NaN</td>\n",
       "      <td>1</td>\n",
       "      <td>450</td>\n",
       "      <td>89</td>\n",
       "    </tr>\n",
       "    <tr>\n",
       "      <th>3</th>\n",
       "      <td>[]</td>\n",
       "      <td>False</td>\n",
       "      <td>M17603</td>\n",
       "      <td>NaN</td>\n",
       "      <td>[]</td>\n",
       "      <td>NaN</td>\n",
       "      <td>text</td>\n",
       "      <td>t2_e0nma86r</td>\n",
       "      <td>False</td>\n",
       "      <td>False</td>\n",
       "      <td>...</td>\n",
       "      <td>NaN</td>\n",
       "      <td>NaN</td>\n",
       "      <td>NaN</td>\n",
       "      <td>NaN</td>\n",
       "      <td>NaN</td>\n",
       "      <td>NaN</td>\n",
       "      <td>NaN</td>\n",
       "      <td>1</td>\n",
       "      <td>1265</td>\n",
       "      <td>238</td>\n",
       "    </tr>\n",
       "    <tr>\n",
       "      <th>4</th>\n",
       "      <td>[]</td>\n",
       "      <td>False</td>\n",
       "      <td>Environmental_Pea_62</td>\n",
       "      <td>NaN</td>\n",
       "      <td>[]</td>\n",
       "      <td>NaN</td>\n",
       "      <td>text</td>\n",
       "      <td>t2_7jmdpuls</td>\n",
       "      <td>False</td>\n",
       "      <td>False</td>\n",
       "      <td>...</td>\n",
       "      <td>NaN</td>\n",
       "      <td>NaN</td>\n",
       "      <td>NaN</td>\n",
       "      <td>NaN</td>\n",
       "      <td>NaN</td>\n",
       "      <td>NaN</td>\n",
       "      <td>NaN</td>\n",
       "      <td>1</td>\n",
       "      <td>266</td>\n",
       "      <td>45</td>\n",
       "    </tr>\n",
       "    <tr>\n",
       "      <th>...</th>\n",
       "      <td>...</td>\n",
       "      <td>...</td>\n",
       "      <td>...</td>\n",
       "      <td>...</td>\n",
       "      <td>...</td>\n",
       "      <td>...</td>\n",
       "      <td>...</td>\n",
       "      <td>...</td>\n",
       "      <td>...</td>\n",
       "      <td>...</td>\n",
       "      <td>...</td>\n",
       "      <td>...</td>\n",
       "      <td>...</td>\n",
       "      <td>...</td>\n",
       "      <td>...</td>\n",
       "      <td>...</td>\n",
       "      <td>...</td>\n",
       "      <td>...</td>\n",
       "      <td>...</td>\n",
       "      <td>...</td>\n",
       "      <td>...</td>\n",
       "    </tr>\n",
       "    <tr>\n",
       "      <th>3994</th>\n",
       "      <td>[]</td>\n",
       "      <td>False</td>\n",
       "      <td>btmbusby</td>\n",
       "      <td>NaN</td>\n",
       "      <td>[]</td>\n",
       "      <td>NaN</td>\n",
       "      <td>text</td>\n",
       "      <td>t2_12l40v</td>\n",
       "      <td>False</td>\n",
       "      <td>False</td>\n",
       "      <td>...</td>\n",
       "      <td>NaN</td>\n",
       "      <td>NaN</td>\n",
       "      <td>NaN</td>\n",
       "      <td>NaN</td>\n",
       "      <td>NaN</td>\n",
       "      <td>NaN</td>\n",
       "      <td>NaN</td>\n",
       "      <td>1</td>\n",
       "      <td>2055</td>\n",
       "      <td>395</td>\n",
       "    </tr>\n",
       "    <tr>\n",
       "      <th>3995</th>\n",
       "      <td>[]</td>\n",
       "      <td>False</td>\n",
       "      <td>MinnCali</td>\n",
       "      <td>NaN</td>\n",
       "      <td>[]</td>\n",
       "      <td>NaN</td>\n",
       "      <td>text</td>\n",
       "      <td>t2_eumpx3ir</td>\n",
       "      <td>False</td>\n",
       "      <td>False</td>\n",
       "      <td>...</td>\n",
       "      <td>NaN</td>\n",
       "      <td>NaN</td>\n",
       "      <td>NaN</td>\n",
       "      <td>NaN</td>\n",
       "      <td>NaN</td>\n",
       "      <td>NaN</td>\n",
       "      <td>NaN</td>\n",
       "      <td>1</td>\n",
       "      <td>1049</td>\n",
       "      <td>211</td>\n",
       "    </tr>\n",
       "    <tr>\n",
       "      <th>3996</th>\n",
       "      <td>[]</td>\n",
       "      <td>False</td>\n",
       "      <td>tinmaridedonpingue</td>\n",
       "      <td>NaN</td>\n",
       "      <td>[]</td>\n",
       "      <td>NaN</td>\n",
       "      <td>text</td>\n",
       "      <td>t2_16fxed</td>\n",
       "      <td>False</td>\n",
       "      <td>False</td>\n",
       "      <td>...</td>\n",
       "      <td>NaN</td>\n",
       "      <td>NaN</td>\n",
       "      <td>NaN</td>\n",
       "      <td>NaN</td>\n",
       "      <td>NaN</td>\n",
       "      <td>NaN</td>\n",
       "      <td>NaN</td>\n",
       "      <td>2</td>\n",
       "      <td>370</td>\n",
       "      <td>71</td>\n",
       "    </tr>\n",
       "    <tr>\n",
       "      <th>3997</th>\n",
       "      <td>[]</td>\n",
       "      <td>False</td>\n",
       "      <td>newlife92021</td>\n",
       "      <td>NaN</td>\n",
       "      <td>[]</td>\n",
       "      <td>NaN</td>\n",
       "      <td>text</td>\n",
       "      <td>t2_en3mluz8</td>\n",
       "      <td>False</td>\n",
       "      <td>False</td>\n",
       "      <td>...</td>\n",
       "      <td>NaN</td>\n",
       "      <td>NaN</td>\n",
       "      <td>NaN</td>\n",
       "      <td>NaN</td>\n",
       "      <td>NaN</td>\n",
       "      <td>NaN</td>\n",
       "      <td>NaN</td>\n",
       "      <td>3</td>\n",
       "      <td>1428</td>\n",
       "      <td>268</td>\n",
       "    </tr>\n",
       "    <tr>\n",
       "      <th>3998</th>\n",
       "      <td>[]</td>\n",
       "      <td>False</td>\n",
       "      <td>Pleasant-Series1472</td>\n",
       "      <td>NaN</td>\n",
       "      <td>[]</td>\n",
       "      <td>NaN</td>\n",
       "      <td>text</td>\n",
       "      <td>t2_8wf79o7k</td>\n",
       "      <td>False</td>\n",
       "      <td>False</td>\n",
       "      <td>...</td>\n",
       "      <td>NaN</td>\n",
       "      <td>NaN</td>\n",
       "      <td>NaN</td>\n",
       "      <td>NaN</td>\n",
       "      <td>NaN</td>\n",
       "      <td>NaN</td>\n",
       "      <td>NaN</td>\n",
       "      <td>1</td>\n",
       "      <td>309</td>\n",
       "      <td>59</td>\n",
       "    </tr>\n",
       "  </tbody>\n",
       "</table>\n",
       "<p>3936 rows × 75 columns</p>\n",
       "</div>"
      ],
      "text/plain": [
       "     all_awardings  allow_live_comments                author  \\\n",
       "0               []                False            NebulaSky5   \n",
       "1               []                False        johnnyjacoby86   \n",
       "2               []                False                 l0852   \n",
       "3               []                False                M17603   \n",
       "4               []                False  Environmental_Pea_62   \n",
       "...            ...                  ...                   ...   \n",
       "3994            []                False              btmbusby   \n",
       "3995            []                False              MinnCali   \n",
       "3996            []                False    tinmaridedonpingue   \n",
       "3997            []                False          newlife92021   \n",
       "3998            []                False   Pleasant-Series1472   \n",
       "\n",
       "      author_flair_css_class author_flair_richtext author_flair_text  \\\n",
       "0                        NaN                    []               NaN   \n",
       "1                        NaN                    []               NaN   \n",
       "2                        NaN                    []               NaN   \n",
       "3                        NaN                    []               NaN   \n",
       "4                        NaN                    []               NaN   \n",
       "...                      ...                   ...               ...   \n",
       "3994                     NaN                    []               NaN   \n",
       "3995                     NaN                    []               NaN   \n",
       "3996                     NaN                    []               NaN   \n",
       "3997                     NaN                    []               NaN   \n",
       "3998                     NaN                    []               NaN   \n",
       "\n",
       "     author_flair_type author_fullname  author_is_blocked  \\\n",
       "0                 text     t2_6xs0432p              False   \n",
       "1                 text     t2_fnduei3c              False   \n",
       "2                 text      t2_1ldum2u              False   \n",
       "3                 text     t2_e0nma86r              False   \n",
       "4                 text     t2_7jmdpuls              False   \n",
       "...                ...             ...                ...   \n",
       "3994              text       t2_12l40v              False   \n",
       "3995              text     t2_eumpx3ir              False   \n",
       "3996              text       t2_16fxed              False   \n",
       "3997              text     t2_en3mluz8              False   \n",
       "3998              text     t2_8wf79o7k              False   \n",
       "\n",
       "     author_patreon_flair  ... category edited  author_cakeday  \\\n",
       "0                   False  ...      NaN    NaN             NaN   \n",
       "1                   False  ...      NaN    NaN             NaN   \n",
       "2                   False  ...      NaN    NaN             NaN   \n",
       "3                   False  ...      NaN    NaN             NaN   \n",
       "4                   False  ...      NaN    NaN             NaN   \n",
       "...                   ...  ...      ...    ...             ...   \n",
       "3994                False  ...      NaN    NaN             NaN   \n",
       "3995                False  ...      NaN    NaN             NaN   \n",
       "3996                False  ...      NaN    NaN             NaN   \n",
       "3997                False  ...      NaN    NaN             NaN   \n",
       "3998                False  ...      NaN    NaN             NaN   \n",
       "\n",
       "      author_flair_background_color  author_flair_template_id  \\\n",
       "0                               NaN                       NaN   \n",
       "1                               NaN                       NaN   \n",
       "2                               NaN                       NaN   \n",
       "3                               NaN                       NaN   \n",
       "4                               NaN                       NaN   \n",
       "...                             ...                       ...   \n",
       "3994                            NaN                       NaN   \n",
       "3995                            NaN                       NaN   \n",
       "3996                            NaN                       NaN   \n",
       "3997                            NaN                       NaN   \n",
       "3998                            NaN                       NaN   \n",
       "\n",
       "     author_flair_text_color distinguished num_posts posts_length  \\\n",
       "0                        NaN           NaN         7         3270   \n",
       "1                        NaN           NaN         1          516   \n",
       "2                        NaN           NaN         1          450   \n",
       "3                        NaN           NaN         1         1265   \n",
       "4                        NaN           NaN         1          266   \n",
       "...                      ...           ...       ...          ...   \n",
       "3994                     NaN           NaN         1         2055   \n",
       "3995                     NaN           NaN         1         1049   \n",
       "3996                     NaN           NaN         2          370   \n",
       "3997                     NaN           NaN         3         1428   \n",
       "3998                     NaN           NaN         1          309   \n",
       "\n",
       "      post_word_count  \n",
       "0                 679  \n",
       "1                 104  \n",
       "2                  89  \n",
       "3                 238  \n",
       "4                  45  \n",
       "...               ...  \n",
       "3994              395  \n",
       "3995              211  \n",
       "3996               71  \n",
       "3997              268  \n",
       "3998               59  \n",
       "\n",
       "[3936 rows x 75 columns]"
      ]
     },
     "execution_count": 356,
     "metadata": {},
     "output_type": "execute_result"
    }
   ],
   "source": [
    "df_divorce.drop_duplicates(subset=['title'])"
   ]
  },
  {
   "cell_type": "code",
   "execution_count": 366,
   "id": "20b06678-3577-4a7f-a1b2-74db74a6be02",
   "metadata": {},
   "outputs": [
    {
     "data": {
      "text/plain": [
       "[('[removed]', 489),\n",
       " ('I can’t handle it, the thought of not being his wife anymore fucking kills me to the point I can’t sleep or eat or enjoy anything. I’m on vacation at my best friends house states away from him and she’s doing her best to try to make me see how shitty he’s become and that he truly doesn’t care, she’s even gotten me a job to help me make a little money while I’m here so I don’t go back broke and on the streets. He happily allowed me to be thrown out of his parents house and lied to me for months stringing me along even lied to our therapist and I keep making excuses for him and I can’t stop. I can’t stop crying. Nothings working. I feel like ending my life this is so painful. I know we had a whirlwind relationship and moved extremely fast and at the time it felt right, and looking back we should’ve waited to get married. I understand I should’ve gotten a job sooner, or tried harder. But at the end of the day…. He didn’t try at all even when we were going through things, he’d run away and push our issues that should’ve been talked about to the side while I cleaned up the mess. Any time I tried to talk about my feelings he’d scream he didn’t want to talk. He crashed my car and didn’t even try to help me get it out of the tow yard, he let his parents be creepy and rude toward me, he blamed me for everything like our room not being clean enough or dishes (I have sensory issues with metal and glass I don’t use traditional dishes) in our room or the car accident, they all blamed me. I begged from the beginning of us moving into his parents house for us to look for an apartment and he said “I’m not ready for that” every. Single. Time. When my car was sitting at the tow yard and he had one it was “my car isn’t fixed yet I can’t move out until it is” he got it in November and the only work that needs to be on it is a fucking break line which he refused to take to a shop I even made an appointment for him to have it fixed and offer to help he said no. I’m tired of crying I feel like I’m never going to get my happy ending. Not talking to him is driving me nuts. He took my dog, all my stuff is at their house and I learned yesterday from two lawyers, LEGALLY I still live there. So I can go up to their door and walk inside if I wanted to. Part of me does to see if it’ll make him see i still want it and not give up, but he’s done. I begged him to postpone the divorce to see if we could work out while separate and he said “being separate is going to make me happy but not it’s not going to make me miss you and make me want you to come back home and the divorce is going to be postponed until I save up $1,500 to even begin.” I’m a wreck I just want the man I originally married back I have no idea who the fuck this heartless man is. He’s treated me like garbage for the last 4 going on 5 months… to make it worse our anniversary is coming up and he plans on picking me up from the bus station when I return. I feel like such a fucking idiot for even wanting to try. He tells me he loves me but “in a way where I’ve grown to know you as a person and I’d be hurt if I heard anything bad happened to you not as my wife though”\\nHow do you cope when you feel like your world is ending? Everyone I talk to says he’s a POS but love is blind I guess?',\n",
       "  1),\n",
       " (\"My divorce has gotten hot and heavy. My ex is wanting to take my kids away and not because I am bad but because she has to be in control of the situation. I have not seen my boys in days because she picks them up from school because she can. \\n\\nI don't think my attorney is doing a good job she doesn't seem like she wants to fight. I do know my ex has a very tough attorney so maybe she's just understanding how he is and playing the game \\n\\nI don't have a lot of money so I am scared to switch attorneys at this point in the game but I feel like it would be a good idea to do so \\n\\nAny thoughts?\",\n",
       "  1),\n",
       " (\"And here we are again. I'm out of the house like my last post said. I also suffer from really bad PTSD and depression. I'm really worried she will move one of her friends in like last time who will hit our dogs and put our son in danger. She doesn't make good decisions sometimes, and I'm worried about this. I don't trust her in all honesty. I cannot be the only one on here who feels this way\",\n",
       "  1),\n",
       " (\"I wonder how I even function at all.\\n\\nHow am I still working, how am I cooking, how am I looking at my children and smiling at them and singing them songs while I am feeling so infinitely sad inside?\\n\\nI am so afraid that one day that ability to just put on a face and do what I need to do is going to go away, and I'll just be a mess somewhere 😔\",\n",
       "  1),\n",
       " ('I’m so scared. I’m a stay at home mom to our three kids. They are 7, 5 and 2. Our five year old also has a chronic illness, so daycare was a huge scare and I haven’t been back to work since his birth. So because if that I have zero work history. I only have a high school diploma and worked multiple receptionist positions. Nothing with decent history. My husband and I have been married for almost six years and he has built an incredible career for himself. I have no one outside of him. We have so many bills and debts that if we split I don’t know what that will do or how I could afford anything.. I don’t even know what I’m asking really… I guess I just need to know from someone who was in the same “helpless” boat that I’m riding right now. I’m heartbroken. I’m scared because I have nothing and no one outside of him to help me or be a shoulder. I have zero friends. I just need guidance or advice ☹️',\n",
       "  1),\n",
       " ('My wife moved out after 7 years of marriage 8 months ago and I started having (I guess) depression during the holidays.  We have a 4 year old and a 6 year old and I have a very stressful job. \\n\\nI keep the kids Wednesday, Thursday and Friday.  She keeps the kids Sunday, Monday, Tuesday.  We swap Saturdays.\\n\\nThe first 6 months I felt like I was coping fine.  Working out, eating pretty well, stopped drinking during the week, cried maybe but 3 times.  I was just angry and driving on and doing am the right things…\\n\\nBut, bam, around January I stopped being able to sleep and fast forward to today.  I am damn near non-functional and it would take a baseball bat to the nose to sleep.\\n\\nMy central nervous system is in overdrive and I just can’t relax.  Like a tiger is chasing me, but there’s no damn tiger.  I’ve probably cried 20 times in the last 2 weeks.\\n\\nHas this occurred to anyone?  I’m seeing a therapist, my doc has tried 2 weeks on Cymbalta, 2 weeks on Lunesta, and 5 days on Remeron now.  Maybe 3rd drug is the charm?\\n\\nIt was so bad, I had to take off work for 2 weeks.  I went back yesterday but I still feel like I’m in a fight or flight state and not improved.  Cannot sleep, really lay down without being I’ll at ease and popping up, cannot stop my mind from racing, extreme tension in my body, foggy, etc.  I’m on the edge of taking FMLA (have 2 months of leave accrued).  It feels so physical, but everyone says it’s in my head.\\n\\nTell me, what the hell is going on and how do I get thru this?  I have so much to be thankful for.  Kids are beautiful, amazing support system, wife didn’t try to take me to the cleaners, etc.\\n\\nHas this happened to anyone else?  Tips and prayers please.',\n",
       "  1),\n",
       " ('Has anyone tried EDMR Therapy to help with depression and anxiety after separating?',\n",
       "  1)]"
      ]
     },
     "execution_count": 366,
     "metadata": {},
     "output_type": "execute_result"
    }
   ],
   "source": [
    "post_count = list(zip(df_divorce['selftext'].value_counts().keys(),df_divorce['selftext'].value_counts()))\n",
    "post_count[0:8]"
   ]
  },
  {
   "cell_type": "markdown",
   "id": "4123a60b-aff1-4bca-afe9-e4f8b768097b",
   "metadata": {},
   "source": [
    "Most of the duplicates are the removed posts, but some are many real duplicates. Let's drop these duplicates."
   ]
  },
  {
   "cell_type": "code",
   "execution_count": 359,
   "id": "1b1347c7-e34f-4e29-a4c2-3dc5b6a250f9",
   "metadata": {},
   "outputs": [],
   "source": [
    "duplicates = [x[0] for x in post_count if x[1] > 1][1::]"
   ]
  },
  {
   "cell_type": "code",
   "execution_count": 361,
   "id": "7ca011ff-8a81-418f-b4a1-98578f4d6fbe",
   "metadata": {},
   "outputs": [
    {
     "data": {
      "text/plain": [
       "15"
      ]
     },
     "execution_count": 361,
     "metadata": {},
     "output_type": "execute_result"
    }
   ],
   "source": [
    "len(duplicates)"
   ]
  },
  {
   "cell_type": "code",
   "execution_count": 362,
   "id": "0151e5e7-3716-4cce-ba57-74e986fe3676",
   "metadata": {},
   "outputs": [],
   "source": [
    "duplicates_index = [df_divorce[df_divorce['selftext']==x].index[1:] for x in duplicates]"
   ]
  },
  {
   "cell_type": "code",
   "execution_count": null,
   "id": "243b8907-1410-40e9-99bb-917db2e604f1",
   "metadata": {},
   "outputs": [
    {
     "data": {
      "text/plain": [
       "[Int64Index([1631], dtype='int64'),\n",
       " Int64Index([3803], dtype='int64'),\n",
       " Int64Index([2842], dtype='int64'),\n",
       " Int64Index([2576], dtype='int64'),\n",
       " Int64Index([1495], dtype='int64'),\n",
       " Int64Index([2570], dtype='int64'),\n",
       " Int64Index([2761], dtype='int64'),\n",
       " Int64Index([96], dtype='int64'),\n",
       " Int64Index([2559], dtype='int64'),\n",
       " Int64Index([897], dtype='int64'),\n",
       " Int64Index([172], dtype='int64'),\n",
       " Int64Index([3031], dtype='int64'),\n",
       " Int64Index([203], dtype='int64'),\n",
       " Int64Index([3097], dtype='int64'),\n",
       " Int64Index([1206], dtype='int64')]"
      ]
     },
     "execution_count": 363,
     "metadata": {},
     "output_type": "execute_result"
    }
   ],
   "source": [
    "duplicates_index"
   ]
  },
  {
   "cell_type": "code",
   "execution_count": 364,
   "id": "277a0327-498d-42cb-9406-4a125457a68a",
   "metadata": {},
   "outputs": [],
   "source": [
    "for x in duplicates_index:\n",
    "    df_divorce.drop(index=x,inplace=True)"
   ]
  },
  {
   "cell_type": "code",
   "execution_count": 365,
   "id": "625d114d-8061-448c-9bcc-8dfff8ab747e",
   "metadata": {},
   "outputs": [
    {
     "data": {
      "text/plain": [
       "(3984, 75)"
      ]
     },
     "execution_count": 365,
     "metadata": {},
     "output_type": "execute_result"
    }
   ],
   "source": [
    "df_divorce.shape"
   ]
  },
  {
   "cell_type": "markdown",
   "id": "dc6fd99f-df39-4dac-9ffd-a445db569ed2",
   "metadata": {},
   "source": [
    "### EDA on Word Counts"
   ]
  },
  {
   "cell_type": "markdown",
   "id": "821d060a-099e-487a-ac47-7910af760e99",
   "metadata": {},
   "source": [
    "#### Create own stop words list"
   ]
  },
  {
   "cell_type": "code",
   "execution_count": 398,
   "id": "9a783c7f-4b5d-4004-ba4e-411802ca04ea",
   "metadata": {},
   "outputs": [],
   "source": [
    "add_stop_words = ['NA','[removed]','[deleted]']"
   ]
  },
  {
   "cell_type": "code",
   "execution_count": 399,
   "id": "0dcf8a8c-9050-44ed-98be-40f579fbf261",
   "metadata": {},
   "outputs": [],
   "source": [
    "stop_words = stopwords.words('english')"
   ]
  },
  {
   "cell_type": "code",
   "execution_count": 400,
   "id": "93fc9181-cc28-46ff-8a52-39c2bd42931a",
   "metadata": {},
   "outputs": [],
   "source": [
    "for word in add_stop_words:\n",
    "    stop_words.append(word)"
   ]
  },
  {
   "cell_type": "code",
   "execution_count": 403,
   "id": "e3eff5b4-0a9b-4069-9cbb-deca79ae0d17",
   "metadata": {},
   "outputs": [
    {
     "data": {
      "text/plain": [
       "['wouldn', \"wouldn't\", 'NA', '[removed]', '[deleted]']"
      ]
     },
     "execution_count": 403,
     "metadata": {},
     "output_type": "execute_result"
    }
   ],
   "source": [
    "stop_words[-5::]"
   ]
  },
  {
   "cell_type": "markdown",
   "id": "571b0d9f-4959-4d7d-8e9d-b4efd7e7bc73",
   "metadata": {},
   "source": [
    "#### Instantiate and fit Count Vectorizer"
   ]
  },
  {
   "cell_type": "code",
   "execution_count": 404,
   "id": "de9b5cbb-997f-4a63-9f1d-4b00216743e8",
   "metadata": {},
   "outputs": [],
   "source": [
    "cv = CountVectorizer(stop_words=stop_words,ngram_range=(1,3))"
   ]
  },
  {
   "cell_type": "code",
   "execution_count": null,
   "id": "3cf50dc1-35a7-42da-a0a8-b1dfa9212e70",
   "metadata": {},
   "outputs": [],
   "source": [
    "cv.fit(df_wedding['selftext']"
   ]
  }
 ],
 "metadata": {
  "kernelspec": {
   "display_name": "Python 3 (ipykernel)",
   "language": "python",
   "name": "python3"
  },
  "language_info": {
   "codemirror_mode": {
    "name": "ipython",
    "version": 3
   },
   "file_extension": ".py",
   "mimetype": "text/x-python",
   "name": "python",
   "nbconvert_exporter": "python",
   "pygments_lexer": "ipython3",
   "version": "3.8.8"
  }
 },
 "nbformat": 4,
 "nbformat_minor": 5
}
