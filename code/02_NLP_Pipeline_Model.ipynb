{
 "cells": [
  {
   "cell_type": "markdown",
   "id": "4f1b9fd9-7d1c-4db5-8c02-68bb5882998e",
   "metadata": {},
   "source": [
    "# 2. Natural Language Processing Pipeline and Model Development\n",
    "\n",
    "This notebook preprocesses and develops pipelines to classify posts collected in [01_Data_Collection](01_Data_Collection.ipynb) using classification models.\n",
    "\n",
    "**Preprocessing and Modeling**\n",
    "- Is text data successfully converted to a matrix representation?\n",
    "- Are methods such as stop words, stemming, and lemmatization explored?\n",
    "- Does the student properly split and/or sample the data for validation/training purposes?\n",
    "- Does the student test and evaluate a variety of models to identify a production algorithm (**AT MINIMUM:** two classification models, **BONUS:** try a Naive Bayes)?\n",
    "- Does the student defend their choice of production model relevant to the data at hand and the problem?\n",
    "- Does the student explain how the model works and evaluate its performance successes/downfalls?"
   ]
  },
  {
   "cell_type": "markdown",
   "id": "d9a70348-6217-4d6e-ac7c-41529c6374e0",
   "metadata": {},
   "source": [
    "#### Imports"
   ]
  },
  {
   "cell_type": "code",
   "execution_count": 86,
   "id": "8af2e953-f669-494c-8960-370399caadb8",
   "metadata": {},
   "outputs": [],
   "source": [
    "import pandas as pd\n",
    "import numpy as np\n",
    "import matplotlib.pyplot as plt\n",
    "\n",
    "from nltk.corpus import stopwords\n",
    "from nltk import word_tokenize\n",
    "from nltk import WordNetLemmatizer\n",
    "\n",
    "from sklearn.model_selection import train_test_split, GridSearchCV\n",
    "from sklearn.feature_extraction.text import CountVectorizer, TfidfVectorizer\n",
    "from sklearn.pipeline import Pipeline\n",
    "from sklearn.linear_model import LogisticRegression\n",
    "from sklearn.compose import make_column_transformer\n",
    "from sklearn.metrics import mean_squared_error, ConfusionMatrixDisplay, recall_score\n",
    "from sklearn.tree import DecisionTreeClassifier\n",
    "from sklearn.dummy import DummyClassifier\n",
    "from sklearn.neighbors import KNeighborsClassifier\n",
    "from sklearn.ensemble import RandomForestClassifier, ExtraTreesClassifier, VotingClassifier, AdaBoostClassifier\n",
    "from sklearn.naive_bayes import MultinomialNB"
   ]
  },
  {
   "cell_type": "code",
   "execution_count": 2,
   "id": "f63b43df-55f3-4727-a0e8-e2bf47fab9ee",
   "metadata": {},
   "outputs": [],
   "source": [
    "%store -r stop_words"
   ]
  },
  {
   "cell_type": "code",
   "execution_count": 3,
   "id": "899e3df8-be8b-40e1-a21a-ce30e8748a7c",
   "metadata": {},
   "outputs": [],
   "source": [
    "df = pd.read_csv('../datasets/combined_cleaned.csv',na_filter=False)"
   ]
  },
  {
   "cell_type": "markdown",
   "id": "f0d1c9a8-2ab6-469e-8fbf-c6479577ef44",
   "metadata": {},
   "source": [
    "#### Make train and test sets out of the train data"
   ]
  },
  {
   "cell_type": "code",
   "execution_count": 4,
   "id": "75c77ce0-9765-4c9b-984b-fc24c4715ef7",
   "metadata": {},
   "outputs": [],
   "source": [
    "X = df[['selftext','title']]\n",
    "y = df['subreddit']"
   ]
  },
  {
   "cell_type": "code",
   "execution_count": 222,
   "id": "59e9da18-fcc0-4eba-9f8d-3712c38938ca",
   "metadata": {},
   "outputs": [
    {
     "name": "stdout",
     "output_type": "stream",
     "text": [
      "Stored 'X_train' (DataFrame)\n",
      "Stored 'X_test' (DataFrame)\n",
      "Stored 'y_train' (Series)\n",
      "Stored 'y_test' (Series)\n"
     ]
    }
   ],
   "source": [
    "X_train, X_test, y_train, y_test = train_test_split(X, y, random_state = 42,stratify=y)\n",
    "%store X_train X_test y_train y_test "
   ]
  },
  {
   "cell_type": "code",
   "execution_count": 213,
   "id": "cff9c1b8-dc2c-416e-8048-9f2dc4548dd6",
   "metadata": {},
   "outputs": [],
   "source": [
    "test_counts = y_test.value_counts()"
   ]
  },
  {
   "cell_type": "code",
   "execution_count": 220,
   "id": "afde0a2a-1ea5-4690-99aa-bd1295f41d78",
   "metadata": {},
   "outputs": [
    {
     "name": "stdout",
     "output_type": "stream",
     "text": [
      "Stored 'baseline' (float64)\n"
     ]
    }
   ],
   "source": [
    "baseline = test_counts[0]/sum(test_counts)\n",
    "%store baseline"
   ]
  },
  {
   "cell_type": "code",
   "execution_count": 219,
   "id": "25e05412-954d-4471-8492-4a10ce083a56",
   "metadata": {},
   "outputs": [
    {
     "name": "stdout",
     "output_type": "stream",
     "text": [
      "Baseline accuracy is 50.3%.\n"
     ]
    }
   ],
   "source": [
    "print(f'Baseline accuracy is {round(baseline*100,1)}%.')"
   ]
  },
  {
   "cell_type": "markdown",
   "id": "619ffaf0-faaa-4870-9fce-eb293733f340",
   "metadata": {},
   "source": [
    "#### Create Lemmatizer"
   ]
  },
  {
   "cell_type": "code",
   "execution_count": 10,
   "id": "e7596dff-cd40-4a6b-af08-7b3e0e123857",
   "metadata": {},
   "outputs": [],
   "source": [
    "def lemma_tokenizer(doc):  ## Used class notes\n",
    "    wnl = WordNetLemmatizer()\n",
    "    return [w for w in word_tokenize(doc)]"
   ]
  },
  {
   "cell_type": "markdown",
   "id": "954251aa-4580-4db6-9a25-ed380fb92b8d",
   "metadata": {},
   "source": [
    "### Pipelines"
   ]
  },
  {
   "cell_type": "markdown",
   "id": "7fcab945-a424-4077-b0e4-466da1ee92b0",
   "metadata": {},
   "source": [
    "#### Logistic Regression Pipeline"
   ]
  },
  {
   "cell_type": "code",
   "execution_count": 11,
   "id": "a9a9aea9-796c-45e6-be6c-475c0658f806",
   "metadata": {},
   "outputs": [],
   "source": [
    "cv1 = CountVectorizer(stop_words=stop_words,ngram_range=(1,3),min_df=4,max_df=0.4,strip_accents='unicode')\n",
    "ct1 = make_column_transformer(\n",
    "    (cv1,'selftext'),\n",
    "    (cv1,'title')\n",
    ")"
   ]
  },
  {
   "cell_type": "code",
   "execution_count": 12,
   "id": "37beac8e-888f-4697-b83c-1b3e984932a1",
   "metadata": {},
   "outputs": [
    {
     "data": {
      "text/plain": [
       "(0.9954614220877458, 0.9732862903225806)"
      ]
     },
     "execution_count": 12,
     "metadata": {},
     "output_type": "execute_result"
    }
   ],
   "source": [
    "# First pass\n",
    "pipe_lr = Pipeline([\n",
    "    ('ct', ct1),\n",
    "    ('lr', LogisticRegression(max_iter = 10_000,random_state=42))\n",
    "])\n",
    "pipe_lr.fit(X_train, y_train)\n",
    "pipe_lr.score(X_train, y_train), pipe_lr.score(X_test, y_test)"
   ]
  },
  {
   "cell_type": "markdown",
   "id": "c9f0f8ce-2dc1-4bf5-bf9b-3b946ecf5c75",
   "metadata": {},
   "source": [
    "GridSearch"
   ]
  },
  {
   "cell_type": "code",
   "execution_count": 14,
   "id": "34be993f-d4a3-4fb3-a485-f3b35a9483dd",
   "metadata": {},
   "outputs": [],
   "source": [
    "params = {\n",
    "    # 'ct__countvectorizer-1__ngram_range':[(1,1),(1,2),(1,3),(1,4)],\n",
    "    # 'ct__countvectorizer-1__min_df':np.arange(2,7),\n",
    "    # 'lr__C': [1/20, 1/10, 1/5, 1/2, 1, 5],\n",
    "    # 'ct__countvectorizer-1__max_df': [0.4,0.6,0.8,0.9,0.95,1.0],\n",
    "    # 'cv__strip_accents': [None,'ascii', 'unicode'],\n",
    "    # 'ct__countvectorizer-1__tokenizer': [None,lemma_tokenizer]\n",
    "}\n",
    "\n",
    "gs_lr = GridSearchCV(\n",
    "    pipe_lr, param_grid=params,n_jobs=-1)\n",
    "\n",
    "gs_lr.fit(X_train,y_train_enc);"
   ]
  },
  {
   "cell_type": "code",
   "execution_count": 15,
   "id": "cbbe976e-610d-47fe-8b43-61fc3fe055af",
   "metadata": {},
   "outputs": [
    {
     "data": {
      "text/plain": [
       "{}"
      ]
     },
     "execution_count": 15,
     "metadata": {},
     "output_type": "execute_result"
    }
   ],
   "source": [
    "gs_lr.best_params_"
   ]
  },
  {
   "cell_type": "code",
   "execution_count": 16,
   "id": "38176d29-9f7a-4cdc-8f66-bc6e8fc94572",
   "metadata": {},
   "outputs": [
    {
     "data": {
      "text/plain": [
       "0.9652031577980225"
      ]
     },
     "execution_count": 16,
     "metadata": {},
     "output_type": "execute_result"
    }
   ],
   "source": [
    "gs_lr.best_score_"
   ]
  },
  {
   "cell_type": "code",
   "execution_count": 18,
   "id": "657db236-2ad1-40bf-ab14-de3f67fdf802",
   "metadata": {},
   "outputs": [
    {
     "data": {
      "text/html": [
       "<div>\n",
       "<style scoped>\n",
       "    .dataframe tbody tr th:only-of-type {\n",
       "        vertical-align: middle;\n",
       "    }\n",
       "\n",
       "    .dataframe tbody tr th {\n",
       "        vertical-align: top;\n",
       "    }\n",
       "\n",
       "    .dataframe thead th {\n",
       "        text-align: right;\n",
       "    }\n",
       "</style>\n",
       "<table border=\"1\" class=\"dataframe\">\n",
       "  <thead>\n",
       "    <tr style=\"text-align: right;\">\n",
       "      <th></th>\n",
       "      <th>mean_fit_time</th>\n",
       "      <th>params</th>\n",
       "      <th>mean_test_score</th>\n",
       "      <th>std_test_score</th>\n",
       "      <th>rank_test_score</th>\n",
       "    </tr>\n",
       "  </thead>\n",
       "  <tbody>\n",
       "    <tr>\n",
       "      <th>0</th>\n",
       "      <td>6.104865</td>\n",
       "      <td>{}</td>\n",
       "      <td>0.965203</td>\n",
       "      <td>0.005178</td>\n",
       "      <td>1</td>\n",
       "    </tr>\n",
       "  </tbody>\n",
       "</table>\n",
       "</div>"
      ],
      "text/plain": [
       "   mean_fit_time params  mean_test_score  std_test_score  rank_test_score\n",
       "0       6.104865     {}         0.965203        0.005178                1"
      ]
     },
     "execution_count": 18,
     "metadata": {},
     "output_type": "execute_result"
    }
   ],
   "source": [
    "pd.DataFrame(gs_lr.cv_results_)[['mean_fit_time','params','mean_test_score','std_test_score','rank_test_score']]"
   ]
  },
  {
   "cell_type": "markdown",
   "id": "f2f4559d-0e83-4396-81ba-61d8aa17f92f",
   "metadata": {},
   "source": [
    "I will feed this back into my model."
   ]
  },
  {
   "cell_type": "markdown",
   "id": "11dbd885-4cd4-484a-80e6-8e52a33f62fc",
   "metadata": {},
   "source": [
    "I will feed the results back into my model. Results:\n",
    "- best_params = {'cv__min_df': 4, 'cv__ngram_range': (1, 3)} for params = {\n",
    "    'cv__ngram_range':[(1,1),(1,2),(1,3),(1,4)],\n",
    "    'cv__min_df':np.arange(2,7)\n",
    "}\n",
    "- best_params = {'lr__C': 0.5} with no impact for max_df for params = {\n",
    "    'lr__C': 'lr__C': [1/20, 1/10, 1/5, 1/2, 1, 5],\n",
    "    'ct__countvectorizer-1__max_df': [0.4,0.6,0.8,0.9,0.95,1.0],\n",
    "    }\n",
    "    *note, the accuracy went down when changing to 1/2, so I kept with default\n",
    "  \n",
    "- best_params = {'cv__strip_accents': 'unicode'} (actually tie with None, but quicker) for params = {\n",
    "    'cv__strip_accents': [None,'ascii', 'unicode']\n",
    "}\n",
    "- best_params = 'cv__tokenizer': None} for params = {\n",
    "    'cv__tokenizer': [None,lemma_tokenizer]\n",
    "}"
   ]
  },
  {
   "cell_type": "markdown",
   "id": "06c0d4cb-e73c-4dea-8569-60a666985fb5",
   "metadata": {
    "tags": []
   },
   "source": [
    "#### Decision Tree Pipeline"
   ]
  },
  {
   "cell_type": "code",
   "execution_count": 19,
   "id": "9f19900a-e9cb-4eb2-acec-fece19640715",
   "metadata": {},
   "outputs": [
    {
     "data": {
      "text/plain": [
       "(0.996301899478904, 0.9395161290322581)"
      ]
     },
     "execution_count": 19,
     "metadata": {},
     "output_type": "execute_result"
    }
   ],
   "source": [
    "pipe_dt = Pipeline([\n",
    "    ('ct', ct1),\n",
    "    ('dt', DecisionTreeClassifier(max_depth=None,criterion='entropy',min_samples_split=3,random_state=42))\n",
    "])\n",
    "pipe_dt.fit(X_train, y_train)\n",
    "pipe_dt.score(X_train, y_train), pipe_dt.score(X_test, y_test)"
   ]
  },
  {
   "cell_type": "code",
   "execution_count": 20,
   "id": "52f7796e-daf2-4ae3-af3e-665c0b115ab8",
   "metadata": {
    "tags": []
   },
   "outputs": [],
   "source": [
    "# params_dt = {\n",
    "#      'cv__max_df': [0.4,0.5,0.6,0.7,0.8,0.9,1.0] \n",
    "# }\n",
    "\n",
    "# gs_dt = GridSearchCV(pipe_dt, param_grid = params_dt, n_jobs=-1)\n",
    "\n",
    "# gs_dt.fit(X_train,y_train_enc);\n",
    "\n",
    "# gs_dt.best_params_\n",
    "\n",
    "# gs_dt.best_score_\n",
    "\n",
    "# gs_dt.cv_results_"
   ]
  },
  {
   "cell_type": "markdown",
   "id": "472c0377-23e8-498a-8483-d905e36831ad",
   "metadata": {},
   "source": [
    "I will feed the results back into my model. Results:\n",
    "- best_params = {'dt__criterion': 'entropy'} for params_dt = {\n",
    "    'dt__criterion': [\"gini\", \"entropy\"]\n",
    "}\n",
    "- best_params = {'dt__criterion': 'entropy', 'dt__min_samples_split': 4} for params_dt = {\n",
    "    'dt__criterion': [\"gini\", \"entropy\"],\n",
    "    'dt__min_samples_split': [2,4,6],\n",
    "}\n",
    "- best_params = {'dt__criterion': 'entropy', 'dt__min_samples_split': 3} for params_dt = {\n",
    "    'dt__criterion': [\"entropy\"],\n",
    "    'dt__min_samples_split': [3,4,5],\n",
    "}\n",
    "- best_params = {'cv__min_df': 4, 'cv__ngram_range': (1, 2)} for params_dt = {\n",
    "    'cv__ngram_range':[(1,1),(1,2),(1,3),(1,4),(2,2),(2,3),(2,4)], 'cv__min_df':np.arange(2,9) \n",
    "}\n",
    "- best_params = {'cv__max_df': 0.5} for params_dt = {\n",
    "     'cv__max_df': [0.4,0.5,0.6,0.7,0.8,0.9,1.0] \n",
    "}"
   ]
  },
  {
   "cell_type": "markdown",
   "id": "72b8fd61-267a-4600-bacb-fe1b33e29c9d",
   "metadata": {
    "tags": []
   },
   "source": [
    "#### K Nearest Neighbors Pipeline"
   ]
  },
  {
   "cell_type": "code",
   "execution_count": 21,
   "id": "409b90f6-746a-440c-96c1-207f5648d509",
   "metadata": {},
   "outputs": [
    {
     "data": {
      "text/plain": [
       "(0.869894099848714, 0.7741935483870968)"
      ]
     },
     "execution_count": 21,
     "metadata": {},
     "output_type": "execute_result"
    }
   ],
   "source": [
    "pipe_knn = Pipeline([\n",
    "    ('ct', ct1),\n",
    "    ('knn', KNeighborsClassifier(n_neighbors=5,p=2))\n",
    "     ])\n",
    "pipe_knn.fit(X_train, y_train)\n",
    "pipe_knn.score(X_train, y_train), pipe_knn.score(X_test, y_test)"
   ]
  },
  {
   "cell_type": "markdown",
   "id": "376496ea-de3f-472e-a1cb-c54ab9c4070d",
   "metadata": {},
   "source": [
    "GridSearch"
   ]
  },
  {
   "cell_type": "code",
   "execution_count": 22,
   "id": "9dc09801-049b-4e88-a6f4-34d32e7534e7",
   "metadata": {
    "tags": []
   },
   "outputs": [],
   "source": [
    "# params_knn = {\n",
    "#     'cv__ngram_range':[(1,1),(1,2),(1,3),(1,4),(2,2),(2,3),(2,4)], 'cv__min_df':np.arange(2,9) \n",
    "# }\n",
    "\n",
    "# gs_knn = GridSearchCV(\n",
    "#     pipe_knn, param_grid=params_knn,n_jobs=-1)\n",
    "\n",
    "# gs_knn.fit(X_train,y_train_enc);\n",
    "\n",
    "# gs_knn.best_params_\n",
    "\n",
    "# gs_knn.best_score_\n",
    "\n",
    "# gs_knn.cv_results_"
   ]
  },
  {
   "cell_type": "markdown",
   "id": "2b5d0bdf-0358-470b-bf0b-4d88a5da3e0c",
   "metadata": {},
   "source": [
    "I will feed the results back into my model. Results:\n",
    "- best_params = {'knn__n_neighbors': 5} for params_knn = {'knn__n_neighbors':np.arange(2,15)}\n",
    "- best_params = {'knn__n_neighbors': 5, 'knn__p': 2} for params_knn = {\n",
    "    'knn__n_neighbors':np.arange(3,7),\n",
    "    'knn__p': [1,2]\n",
    "}\n",
    "- no impact for params_knn = {\n",
    "     'cv__max_df': [0.4,0.5,0.6,0.7,0.8,0.9,1.0] \n",
    "}\n",
    "- best_params = {'cv__min_df': 3, 'cv__ngram_range': (1, 1)} for params_knn = {\n",
    "    'cv__ngram_range':[(1,1),(1,2),(1,3),(1,4),(2,2),(2,3),(2,4)], 'cv__min_df':np.arange(2,9) \n",
    "}"
   ]
  },
  {
   "cell_type": "markdown",
   "id": "04229dc4-e7b9-49df-8d10-a634fa48d57a",
   "metadata": {
    "tags": []
   },
   "source": [
    "#### Random Forest Pipeline"
   ]
  },
  {
   "cell_type": "code",
   "execution_count": 23,
   "id": "15925c71-6b41-48d1-9b9a-341dbd2a5aa4",
   "metadata": {},
   "outputs": [
    {
     "data": {
      "text/plain": [
       "(0.9978147587829888, 0.9637096774193549)"
      ]
     },
     "execution_count": 23,
     "metadata": {},
     "output_type": "execute_result"
    }
   ],
   "source": [
    "pipe_rf = Pipeline([\n",
    "    ('ct', ct1),\n",
    "    ('rf', RandomForestClassifier(max_depth=None,n_estimators=500,random_state=42))\n",
    "])\n",
    "pipe_rf.fit(X_train, y_train)\n",
    "pipe_rf.score(X_train, y_train), pipe_rf.score(X_test, y_test)"
   ]
  },
  {
   "cell_type": "code",
   "execution_count": 24,
   "id": "ef4000d8-f4be-44b8-bbdd-0649d0918410",
   "metadata": {
    "tags": []
   },
   "outputs": [],
   "source": [
    "# params_rf = {\n",
    "#     'cv__min_df':np.arange(7,11)\n",
    "# }\n",
    "\n",
    "# gs_rf = GridSearchCV(pipe_rf, param_grid = params_rf, n_jobs=-1)\n",
    "\n",
    "# gs_rf.fit(X_train,y_train_enc);\n",
    "\n",
    "# gs_rf.best_params_\n",
    "\n",
    "# gs_rf.best_score_\n",
    "\n",
    "# gs_rf.cv_results_"
   ]
  },
  {
   "cell_type": "markdown",
   "id": "9a34327c-39ce-45e1-b7cd-b560a0c9a8fd",
   "metadata": {},
   "source": [
    "I will feed the results back into my model. Results:\n",
    "- best_params = {'cv__min_df': 8, 'cv__ngram_range': (1, 3)} for  'cv__ngram_range':[(1,1),(1,2),(1,3),(1,4),(2,2),(2,3),(2,4)], 'cv__min_df':np.arange(2,9)\n",
    "- best_params = {'rf__max_depth': None, 'rf__n_estimators': 500} for params_rf = {\n",
    "    'rf__max_depth':[None, 1,3,5],\n",
    "    'rf__n_estimators':[100,500,700]\n",
    "}\n",
    "- best_params = {'cv__min_df': 7} for params_rf = {\n",
    "    'cv__min_df':np.arange(7,11)\n",
    "}"
   ]
  },
  {
   "cell_type": "markdown",
   "id": "604a525a-d1d8-4774-b99e-617c77ba72ba",
   "metadata": {
    "tags": []
   },
   "source": [
    "#### Extra Trees Pipeline"
   ]
  },
  {
   "cell_type": "code",
   "execution_count": 25,
   "id": "49aa1816-8fb5-4917-a5f6-dbcd00971ada",
   "metadata": {},
   "outputs": [
    {
     "data": {
      "text/plain": [
       "(0.9978147587829888, 0.9637096774193549)"
      ]
     },
     "execution_count": 25,
     "metadata": {},
     "output_type": "execute_result"
    }
   ],
   "source": [
    "pipe_et = Pipeline([\n",
    "    ('ct', ct1),\n",
    "    ('et', ExtraTreesClassifier(random_state=42))\n",
    "])\n",
    "pipe_et.fit(X_train, y_train)\n",
    "pipe_et.score(X_train, y_train), pipe_et.score(X_test, y_test)"
   ]
  },
  {
   "cell_type": "code",
   "execution_count": 27,
   "id": "84ab7717-6736-440b-886a-c2197152c297",
   "metadata": {
    "tags": []
   },
   "outputs": [],
   "source": [
    "# params_et = {\n",
    "#     'cv__ngram_range':[(1,1),(1,2),(1,3),(1,4),(2,2),(2,3),(2,4)],\n",
    "#     'cv__min_df':np.arange(2,9)\n",
    "# }\n",
    "\n",
    "# gs_et = GridSearchCV(pipe_et, param_grid = params_et, n_jobs=-1)\n",
    "\n",
    "# gs_et.fit(X_train,y_train_enc);\n",
    "\n",
    "# gs_et.best_params_\n",
    "\n",
    "# gs_et.best_score_\n",
    "\n",
    "# gs_et.cv_results_"
   ]
  },
  {
   "cell_type": "markdown",
   "id": "7ff58a10-022b-4d0e-bc38-bc30dae1602b",
   "metadata": {},
   "source": [
    "I will feed the results back into my model. Results:\n",
    "- best_params = {'et__max_features': 'auto'} params_et = {\n",
    "    'et__max_features':['auto', 'sqrt','log2']\n",
    "}\n",
    "- best_params = {'cv__min_df': 7, 'cv__ngram_range': (1, 4)} for params_et = {\n",
    "    'cv__ngram_range':[(1,1),(1,2),(1,3),(1,4),(2,2),(2,3),(2,4)],\n",
    "    'cv__min_df':np.arange(2,9)\n",
    "}"
   ]
  },
  {
   "cell_type": "markdown",
   "id": "6e70e3eb-b75c-4f8d-ae54-8ac76f5f9fce",
   "metadata": {
    "tags": []
   },
   "source": [
    "#### Multinomial Naive Bayes Pipeline"
   ]
  },
  {
   "cell_type": "code",
   "execution_count": 28,
   "id": "6cc2a5fa-b994-4248-ab8e-e391364f294e",
   "metadata": {},
   "outputs": [
    {
     "data": {
      "text/plain": [
       "(0.9789880652210455, 0.9692540322580645)"
      ]
     },
     "execution_count": 28,
     "metadata": {},
     "output_type": "execute_result"
    }
   ],
   "source": [
    "pipe_mnb = Pipeline([\n",
    "    ('ct', ct1),\n",
    "    ('mnb', MultinomialNB())\n",
    "])\n",
    "pipe_mnb.fit(X_train, y_train)\n",
    "pipe_mnb.score(X_train, y_train), pipe_mnb.score(X_test, y_test)"
   ]
  },
  {
   "cell_type": "code",
   "execution_count": 29,
   "id": "03c2a1cc-1ff1-4854-b22a-ed321a802d9c",
   "metadata": {},
   "outputs": [],
   "source": [
    "# params_mnb = {\n",
    "#     'mnb__alpha':[1/50,1/20,1/10]\n",
    "# }\n",
    "\n",
    "# gs_mnb = GridSearchCV(pipe_mnb, param_grid = params_mnb, n_jobs=-1)\n",
    "\n",
    "# gs_mnb.fit(X_train,y_train_enc);\n",
    "\n",
    "# gs_mnb.best_params_\n",
    "\n",
    "# gs_mnb.best_score_\n",
    "\n",
    "# gs_mnb.cv_results_"
   ]
  },
  {
   "cell_type": "markdown",
   "id": "46ca5f5e-8dff-4036-9a19-4e6f1d2cc6ae",
   "metadata": {},
   "source": [
    "I will feed the results back into my model. Results:\n",
    "- best_params = {'mnb__alpha': 0.1} for params_mnb = {\n",
    "    'mnb__alpha':[1/10,1/2,1,2,5,10]\n",
    "}\n",
    "- best_params = {'mnb__alpha': 0.1} for params_mnb = {\n",
    "    'mnb__alpha':[1/50,1/20,1/10]\n",
    "}"
   ]
  },
  {
   "cell_type": "markdown",
   "id": "3e834e1a-d4b6-4203-b5f9-5d337df01ce0",
   "metadata": {},
   "source": [
    "#### Ada Boost Classifier Pipeline"
   ]
  },
  {
   "cell_type": "code",
   "execution_count": 153,
   "id": "56facd69-e65f-407a-b611-95355599fab7",
   "metadata": {},
   "outputs": [
    {
     "data": {
      "text/plain": [
       "(0.9910909396537233, 0.9737903225806451)"
      ]
     },
     "execution_count": 153,
     "metadata": {},
     "output_type": "execute_result"
    }
   ],
   "source": [
    "# First pass\n",
    "pipe_ab = Pipeline([\n",
    "    ('ct', ct1),\n",
    "    ('ab', AdaBoostClassifier(random_state=42,base_estimator=LogisticRegression(),learning_rate=2.0,n_estimators=100))\n",
    "])\n",
    "pipe_ab.fit(X_train, y_train)\n",
    "pipe_ab.score(X_train, y_train), pipe_ab.score(X_test, y_test)"
   ]
  },
  {
   "cell_type": "markdown",
   "id": "b3eb2f6c-3edc-4865-a49c-bbbe6e2f4211",
   "metadata": {},
   "source": [
    "GridSearch"
   ]
  },
  {
   "cell_type": "code",
   "execution_count": 152,
   "id": "864e6511-d5fb-4ff7-aa3c-da365f7d835d",
   "metadata": {
    "tags": []
   },
   "outputs": [],
   "source": [
    "# params = {\n",
    "#     # 'ab__base_estimator': [None, LogisticRegression(), ExtraTreesClassifier()],\n",
    "#     'ab__learning_rate':[1.5,2.0, 2.5]\n",
    "# }\n",
    "\n",
    "# gs_ab = GridSearchCV(\n",
    "#     pipe_ab, param_grid=params,n_jobs=-1)\n",
    "\n",
    "# gs_ab.fit(X_train,y_train_enc);\n",
    "\n",
    "# gs_ab.best_params_\n",
    "\n",
    "# gs_ab.best_score_\n",
    "\n",
    "# pd.DataFrame(gs_ab.cv_results_)[['mean_fit_time','params','mean_test_score','std_test_score','rank_test_score']]"
   ]
  },
  {
   "cell_type": "markdown",
   "id": "6a01e4d7-2748-4a08-b5e0-7d4fc5aa6a36",
   "metadata": {},
   "source": [
    "I will feed the results back into my model. Results:\n",
    "- best_params = {'ab__base_estimator': LogisticRegression()} params_et = {\n",
    "    'ab__base_estimator': [None, LogisticRegression(), ExtraTreesClassifier()] \n",
    "}\n",
    "- best_params = {'ab__learning_rate': 1.5, 'ab__n_estimators': 100} for 'ab__learning_rate':[0.5,1.0, 1.5], \n",
    "    'ab__n_estimators':[25,50,100]\n",
    "}\n",
    "- best_params = {'ab__learning_rate': 2.0} for 'ab__learning_rate':[1.5,2.0, 2.5]"
   ]
  },
  {
   "cell_type": "markdown",
   "id": "e4facc61-1254-463a-bfae-2e8eae863a50",
   "metadata": {},
   "source": [
    "#### Compare scores\n",
    "\n",
    "pipe_mnb.score(X_train, y_train), pipe_mnb.score(X_test, y_test)"
   ]
  },
  {
   "cell_type": "code",
   "execution_count": 154,
   "id": "97942f3e-8246-4c14-9c7d-be6b95760941",
   "metadata": {},
   "outputs": [],
   "source": [
    "pipelines = [pipe_lr, pipe_dt, pipe_knn, pipe_rf, pipe_et, pipe_mnb, pipe_ab]"
   ]
  },
  {
   "cell_type": "code",
   "execution_count": 155,
   "id": "e229e3ee-ee9d-4c65-9339-b7580ca88d25",
   "metadata": {},
   "outputs": [
    {
     "name": "stdout",
     "output_type": "stream",
     "text": [
      "lr train score is 0.9954614220877458 and test score is 0.9732862903225806\n",
      "dt train score is 0.996301899478904 and test score is 0.9395161290322581\n",
      "knn train score is 0.869894099848714 and test score is 0.7741935483870968\n",
      "rf train score is 0.9978147587829888 and test score is 0.9637096774193549\n",
      "et train score is 0.9978147587829888 and test score is 0.9637096774193549\n",
      "mnb train score is 0.9789880652210455 and test score is 0.9692540322580645\n",
      "ab train score is 0.9910909396537233 and test score is 0.9737903225806451\n"
     ]
    }
   ],
   "source": [
    "def scores(pipe):\n",
    "    print(f'{list(pipe.named_steps.keys())[1]} train score is {pipe.score(X_train,y_train)} and test score is {pipe.score(X_test,y_test)}')\n",
    "\n",
    "for pipe in pipelines:\n",
    "    scores(pipe);"
   ]
  },
  {
   "cell_type": "markdown",
   "id": "a8cc1cf8-095f-458e-8c4e-46d10c39a5dc",
   "metadata": {
    "tags": []
   },
   "source": [
    "#### Compare confusion matrices"
   ]
  },
  {
   "cell_type": "code",
   "execution_count": 156,
   "id": "da26cd13-5283-4e4d-94bb-a75d015fa86e",
   "metadata": {},
   "outputs": [
    {
     "data": {
      "image/png": "[encoded data removed]",
      "text/plain": [
       "<Figure size 432x288 with 2 Axes>"
      ]
     },
     "metadata": {
      "needs_background": "light"
     },
     "output_type": "display_data"
    },
    {
     "data": {
      "image/png": "[encoded data removed]",
      "text/plain": [
       "<Figure size 432x288 with 2 Axes>"
      ]
     },
     "metadata": {
      "needs_background": "light"
     },
     "output_type": "display_data"
    },
    {
     "data": {
      "image/png": "[encoded data removed]",
      "text/plain": [
       "<Figure size 432x288 with 2 Axes>"
      ]
     },
     "metadata": {
      "needs_background": "light"
     },
     "output_type": "display_data"
    },
    {
     "data": {
      "image/png": "[encoded data removed]",
      "text/plain": [
       "<Figure size 432x288 with 2 Axes>"
      ]
     },
     "metadata": {
      "needs_background": "light"
     },
     "output_type": "display_data"
    },
    {
     "data": {
      "image/png": "[encoded data removed]",
      "text/plain": [
       "<Figure size 432x288 with 2 Axes>"
      ]
     },
     "metadata": {
      "needs_background": "light"
     },
     "output_type": "display_data"
    },
    {
     "data": {
      "image/png": "[encoded data removed]",
      "text/plain": [
       "<Figure size 432x288 with 2 Axes>"
      ]
     },
     "metadata": {
      "needs_background": "light"
     },
     "output_type": "display_data"
    },
    {
     "data": {
      "image/png": "[encoded data removed]",
      "text/plain": [
       "<Figure size 432x288 with 2 Axes>"
      ]
     },
     "metadata": {
      "needs_background": "light"
     },
     "output_type": "display_data"
    }
   ],
   "source": [
    "def confusion(pipe):\n",
    "    ConfusionMatrixDisplay.from_estimator(pipe,X_test,y_test)\n",
    "    plt.title(f'Confusion Matrix: {list(pipe.named_steps.keys())[1]}');\n",
    "\n",
    "for pipe in pipelines:\n",
    "    confusion(pipe);"
   ]
  },
  {
   "cell_type": "code",
   "execution_count": 157,
   "id": "e994fdd1-d2ce-4111-aff6-296320e34e87",
   "metadata": {},
   "outputs": [],
   "source": [
    "misclassifications= X_test.copy()"
   ]
  },
  {
   "cell_type": "code",
   "execution_count": 158,
   "id": "d2069da4-be47-4ea0-b373-4c5681d0bbd1",
   "metadata": {},
   "outputs": [],
   "source": [
    "misclassifications['true class'] = y_test"
   ]
  },
  {
   "cell_type": "code",
   "execution_count": 159,
   "id": "88a80dc1-1aef-41d2-af36-2e8298f65718",
   "metadata": {},
   "outputs": [],
   "source": [
    "misclassifications['LR pred class'] = pipe_lr.predict(X_test)\n",
    "misclassifications['DT pred class'] = pipe_dt.predict(X_test)\n",
    "misclassifications['KNN pred class'] = pipe_knn.predict(X_test)\n",
    "misclassifications['RF pred class'] = pipe_rf.predict(X_test)\n",
    "misclassifications['ET pred class'] = pipe_et.predict(X_test)\n",
    "misclassifications['MNB pred class'] = pipe_mnb.predict(X_test)\n",
    "misclassifications['AB pred class'] = pipe_ab.predict(X_test)"
   ]
  },
  {
   "cell_type": "code",
   "execution_count": 160,
   "id": "33a2d367-5cf8-4f07-bc06-a9b62e5c3074",
   "metadata": {},
   "outputs": [
    {
     "data": {
      "text/plain": [
       "'Can you give me a checklist of red flags to look out for ? Both during and before you get with a person..'"
      ]
     },
     "execution_count": 160,
     "metadata": {},
     "output_type": "execute_result"
    }
   ],
   "source": [
    "df[['selftext','title']].iloc[7369,:][1]"
   ]
  },
  {
   "cell_type": "code",
   "execution_count": 161,
   "id": "540e94c2-cd22-426e-9ec9-36161e7f6a6d",
   "metadata": {},
   "outputs": [
    {
     "data": {
      "text/html": [
       "<div>\n",
       "<style scoped>\n",
       "    .dataframe tbody tr th:only-of-type {\n",
       "        vertical-align: middle;\n",
       "    }\n",
       "\n",
       "    .dataframe tbody tr th {\n",
       "        vertical-align: top;\n",
       "    }\n",
       "\n",
       "    .dataframe thead th {\n",
       "        text-align: right;\n",
       "    }\n",
       "</style>\n",
       "<table border=\"1\" class=\"dataframe\">\n",
       "  <thead>\n",
       "    <tr style=\"text-align: right;\">\n",
       "      <th></th>\n",
       "      <th>selftext</th>\n",
       "      <th>title</th>\n",
       "      <th>true class</th>\n",
       "      <th>LR pred class</th>\n",
       "      <th>DT pred class</th>\n",
       "      <th>KNN pred class</th>\n",
       "      <th>RF pred class</th>\n",
       "      <th>ET pred class</th>\n",
       "      <th>MNB pred class</th>\n",
       "      <th>AB pred class</th>\n",
       "    </tr>\n",
       "  </thead>\n",
       "  <tbody>\n",
       "    <tr>\n",
       "      <th>3778</th>\n",
       "      <td>[removed]</td>\n",
       "      <td>Am I in the Wrong?</td>\n",
       "      <td>weddingplanning</td>\n",
       "      <td>Divorce</td>\n",
       "      <td>Divorce</td>\n",
       "      <td>weddingplanning</td>\n",
       "      <td>weddingplanning</td>\n",
       "      <td>weddingplanning</td>\n",
       "      <td>weddingplanning</td>\n",
       "      <td>Divorce</td>\n",
       "    </tr>\n",
       "    <tr>\n",
       "      <th>7369</th>\n",
       "      <td>Going through something super unexpected, and ...</td>\n",
       "      <td>Can you give me a checklist of red flags to lo...</td>\n",
       "      <td>Divorce</td>\n",
       "      <td>weddingplanning</td>\n",
       "      <td>Divorce</td>\n",
       "      <td>weddingplanning</td>\n",
       "      <td>weddingplanning</td>\n",
       "      <td>weddingplanning</td>\n",
       "      <td>weddingplanning</td>\n",
       "      <td>weddingplanning</td>\n",
       "    </tr>\n",
       "    <tr>\n",
       "      <th>2448</th>\n",
       "      <td>I feel uncomfortable with being called a \"wife...</td>\n",
       "      <td>Anyone else not want to be referred to as \"wife\"?</td>\n",
       "      <td>weddingplanning</td>\n",
       "      <td>Divorce</td>\n",
       "      <td>Divorce</td>\n",
       "      <td>weddingplanning</td>\n",
       "      <td>Divorce</td>\n",
       "      <td>Divorce</td>\n",
       "      <td>weddingplanning</td>\n",
       "      <td>Divorce</td>\n",
       "    </tr>\n",
       "    <tr>\n",
       "      <th>428</th>\n",
       "      <td>[removed]</td>\n",
       "      <td>No videographer</td>\n",
       "      <td>weddingplanning</td>\n",
       "      <td>Divorce</td>\n",
       "      <td>Divorce</td>\n",
       "      <td>weddingplanning</td>\n",
       "      <td>Divorce</td>\n",
       "      <td>Divorce</td>\n",
       "      <td>weddingplanning</td>\n",
       "      <td>weddingplanning</td>\n",
       "    </tr>\n",
       "    <tr>\n",
       "      <th>508</th>\n",
       "      <td>[removed]</td>\n",
       "      <td>Filing Question</td>\n",
       "      <td>weddingplanning</td>\n",
       "      <td>Divorce</td>\n",
       "      <td>Divorce</td>\n",
       "      <td>Divorce</td>\n",
       "      <td>Divorce</td>\n",
       "      <td>Divorce</td>\n",
       "      <td>Divorce</td>\n",
       "      <td>Divorce</td>\n",
       "    </tr>\n",
       "    <tr>\n",
       "      <th>4343</th>\n",
       "      <td>[removed]</td>\n",
       "      <td>My internet friends please read my post</td>\n",
       "      <td>Divorce</td>\n",
       "      <td>weddingplanning</td>\n",
       "      <td>Divorce</td>\n",
       "      <td>Divorce</td>\n",
       "      <td>Divorce</td>\n",
       "      <td>Divorce</td>\n",
       "      <td>weddingplanning</td>\n",
       "      <td>weddingplanning</td>\n",
       "    </tr>\n",
       "    <tr>\n",
       "      <th>6249</th>\n",
       "      <td>[removed]</td>\n",
       "      <td>How nervous should I (26f) be about her (24f) ...</td>\n",
       "      <td>Divorce</td>\n",
       "      <td>weddingplanning</td>\n",
       "      <td>Divorce</td>\n",
       "      <td>weddingplanning</td>\n",
       "      <td>Divorce</td>\n",
       "      <td>Divorce</td>\n",
       "      <td>weddingplanning</td>\n",
       "      <td>weddingplanning</td>\n",
       "    </tr>\n",
       "    <tr>\n",
       "      <th>6734</th>\n",
       "      <td>[removed]</td>\n",
       "      <td>Other options?</td>\n",
       "      <td>Divorce</td>\n",
       "      <td>weddingplanning</td>\n",
       "      <td>Divorce</td>\n",
       "      <td>weddingplanning</td>\n",
       "      <td>Divorce</td>\n",
       "      <td>Divorce</td>\n",
       "      <td>weddingplanning</td>\n",
       "      <td>weddingplanning</td>\n",
       "    </tr>\n",
       "    <tr>\n",
       "      <th>4108</th>\n",
       "      <td>Never, ever use this rip off service.  Somehow...</td>\n",
       "      <td>COMPLETECASE.com</td>\n",
       "      <td>Divorce</td>\n",
       "      <td>weddingplanning</td>\n",
       "      <td>weddingplanning</td>\n",
       "      <td>Divorce</td>\n",
       "      <td>Divorce</td>\n",
       "      <td>Divorce</td>\n",
       "      <td>Divorce</td>\n",
       "      <td>Divorce</td>\n",
       "    </tr>\n",
       "    <tr>\n",
       "      <th>1506</th>\n",
       "      <td>To start, I'm not engaged currently (Although ...</td>\n",
       "      <td>How are you guys paying for it on top of every...</td>\n",
       "      <td>weddingplanning</td>\n",
       "      <td>Divorce</td>\n",
       "      <td>weddingplanning</td>\n",
       "      <td>Divorce</td>\n",
       "      <td>weddingplanning</td>\n",
       "      <td>Divorce</td>\n",
       "      <td>weddingplanning</td>\n",
       "      <td>Divorce</td>\n",
       "    </tr>\n",
       "    <tr>\n",
       "      <th>2686</th>\n",
       "      <td>[removed]</td>\n",
       "      <td>Customs parents are expecting to see?</td>\n",
       "      <td>weddingplanning</td>\n",
       "      <td>Divorce</td>\n",
       "      <td>weddingplanning</td>\n",
       "      <td>weddingplanning</td>\n",
       "      <td>weddingplanning</td>\n",
       "      <td>weddingplanning</td>\n",
       "      <td>Divorce</td>\n",
       "      <td>Divorce</td>\n",
       "    </tr>\n",
       "    <tr>\n",
       "      <th>220</th>\n",
       "      <td>Has anyone made their own bouquets and boutine...</td>\n",
       "      <td>bouquets and boutineirs</td>\n",
       "      <td>weddingplanning</td>\n",
       "      <td>Divorce</td>\n",
       "      <td>Divorce</td>\n",
       "      <td>weddingplanning</td>\n",
       "      <td>weddingplanning</td>\n",
       "      <td>weddingplanning</td>\n",
       "      <td>weddingplanning</td>\n",
       "      <td>Divorce</td>\n",
       "    </tr>\n",
       "    <tr>\n",
       "      <th>238</th>\n",
       "      <td>My FH and I are a bit camera shy - being in fr...</td>\n",
       "      <td>Unique first look ideas? The pressure to “reac...</td>\n",
       "      <td>weddingplanning</td>\n",
       "      <td>Divorce</td>\n",
       "      <td>weddingplanning</td>\n",
       "      <td>Divorce</td>\n",
       "      <td>weddingplanning</td>\n",
       "      <td>weddingplanning</td>\n",
       "      <td>weddingplanning</td>\n",
       "      <td>Divorce</td>\n",
       "    </tr>\n",
       "    <tr>\n",
       "      <th>3523</th>\n",
       "      <td>[removed]</td>\n",
       "      <td>With what item should I propose to my man?</td>\n",
       "      <td>weddingplanning</td>\n",
       "      <td>Divorce</td>\n",
       "      <td>Divorce</td>\n",
       "      <td>Divorce</td>\n",
       "      <td>Divorce</td>\n",
       "      <td>Divorce</td>\n",
       "      <td>Divorce</td>\n",
       "      <td>Divorce</td>\n",
       "    </tr>\n",
       "    <tr>\n",
       "      <th>2503</th>\n",
       "      <td>FH, X years ago when we first met I knew right...</td>\n",
       "      <td>Vow Critique Please</td>\n",
       "      <td>weddingplanning</td>\n",
       "      <td>Divorce</td>\n",
       "      <td>weddingplanning</td>\n",
       "      <td>Divorce</td>\n",
       "      <td>Divorce</td>\n",
       "      <td>Divorce</td>\n",
       "      <td>Divorce</td>\n",
       "      <td>Divorce</td>\n",
       "    </tr>\n",
       "    <tr>\n",
       "      <th>7412</th>\n",
       "      <td>The end of a marriage for me has been just a c...</td>\n",
       "      <td>Cancelling plans - moments of sadness</td>\n",
       "      <td>Divorce</td>\n",
       "      <td>weddingplanning</td>\n",
       "      <td>Divorce</td>\n",
       "      <td>weddingplanning</td>\n",
       "      <td>Divorce</td>\n",
       "      <td>Divorce</td>\n",
       "      <td>Divorce</td>\n",
       "      <td>weddingplanning</td>\n",
       "    </tr>\n",
       "    <tr>\n",
       "      <th>274</th>\n",
       "      <td>[removed]</td>\n",
       "      <td>Is it worth not inviting one of my cousins?</td>\n",
       "      <td>weddingplanning</td>\n",
       "      <td>Divorce</td>\n",
       "      <td>weddingplanning</td>\n",
       "      <td>Divorce</td>\n",
       "      <td>Divorce</td>\n",
       "      <td>Divorce</td>\n",
       "      <td>weddingplanning</td>\n",
       "      <td>weddingplanning</td>\n",
       "    </tr>\n",
       "    <tr>\n",
       "      <th>1947</th>\n",
       "      <td>It’s so interesting to see that opinions vary ...</td>\n",
       "      <td>Significant others vs plus one</td>\n",
       "      <td>weddingplanning</td>\n",
       "      <td>Divorce</td>\n",
       "      <td>Divorce</td>\n",
       "      <td>weddingplanning</td>\n",
       "      <td>Divorce</td>\n",
       "      <td>Divorce</td>\n",
       "      <td>weddingplanning</td>\n",
       "      <td>weddingplanning</td>\n",
       "    </tr>\n",
       "    <tr>\n",
       "      <th>2222</th>\n",
       "      <td>So exciting, we are going to be going to Edinb...</td>\n",
       "      <td>Hen Do is booked finally!</td>\n",
       "      <td>weddingplanning</td>\n",
       "      <td>Divorce</td>\n",
       "      <td>Divorce</td>\n",
       "      <td>Divorce</td>\n",
       "      <td>Divorce</td>\n",
       "      <td>Divorce</td>\n",
       "      <td>weddingplanning</td>\n",
       "      <td>Divorce</td>\n",
       "    </tr>\n",
       "    <tr>\n",
       "      <th>3629</th>\n",
       "      <td>[removed]</td>\n",
       "      <td>Good lines boob tape for 38DDD?</td>\n",
       "      <td>weddingplanning</td>\n",
       "      <td>Divorce</td>\n",
       "      <td>Divorce</td>\n",
       "      <td>Divorce</td>\n",
       "      <td>Divorce</td>\n",
       "      <td>Divorce</td>\n",
       "      <td>Divorce</td>\n",
       "      <td>Divorce</td>\n",
       "    </tr>\n",
       "    <tr>\n",
       "      <th>2374</th>\n",
       "      <td>Non-transfer and smudge proof lipstick dries t...</td>\n",
       "      <td>Lipstick question</td>\n",
       "      <td>weddingplanning</td>\n",
       "      <td>Divorce</td>\n",
       "      <td>Divorce</td>\n",
       "      <td>weddingplanning</td>\n",
       "      <td>Divorce</td>\n",
       "      <td>Divorce</td>\n",
       "      <td>weddingplanning</td>\n",
       "      <td>Divorce</td>\n",
       "    </tr>\n",
       "    <tr>\n",
       "      <th>2971</th>\n",
       "      <td>[removed]</td>\n",
       "      <td>Videographer?</td>\n",
       "      <td>weddingplanning</td>\n",
       "      <td>Divorce</td>\n",
       "      <td>Divorce</td>\n",
       "      <td>weddingplanning</td>\n",
       "      <td>Divorce</td>\n",
       "      <td>Divorce</td>\n",
       "      <td>weddingplanning</td>\n",
       "      <td>weddingplanning</td>\n",
       "    </tr>\n",
       "    <tr>\n",
       "      <th>528</th>\n",
       "      <td>[removed]</td>\n",
       "      <td>Colored jewelry</td>\n",
       "      <td>weddingplanning</td>\n",
       "      <td>Divorce</td>\n",
       "      <td>Divorce</td>\n",
       "      <td>weddingplanning</td>\n",
       "      <td>Divorce</td>\n",
       "      <td>Divorce</td>\n",
       "      <td>Divorce</td>\n",
       "      <td>Divorce</td>\n",
       "    </tr>\n",
       "    <tr>\n",
       "      <th>1014</th>\n",
       "      <td>Please provide rate or contact info</td>\n",
       "      <td>Hi I’m seeking a saxophone player Fri 4/22 to ...</td>\n",
       "      <td>weddingplanning</td>\n",
       "      <td>Divorce</td>\n",
       "      <td>Divorce</td>\n",
       "      <td>weddingplanning</td>\n",
       "      <td>Divorce</td>\n",
       "      <td>weddingplanning</td>\n",
       "      <td>weddingplanning</td>\n",
       "      <td>weddingplanning</td>\n",
       "    </tr>\n",
       "    <tr>\n",
       "      <th>1088</th>\n",
       "      <td>My husband (we are already legally married) ha...</td>\n",
       "      <td>Step mother in law. Should she wear a MOG dres...</td>\n",
       "      <td>weddingplanning</td>\n",
       "      <td>Divorce</td>\n",
       "      <td>weddingplanning</td>\n",
       "      <td>Divorce</td>\n",
       "      <td>Divorce</td>\n",
       "      <td>weddingplanning</td>\n",
       "      <td>weddingplanning</td>\n",
       "      <td>Divorce</td>\n",
       "    </tr>\n",
       "    <tr>\n",
       "      <th>2172</th>\n",
       "      <td>[removed]</td>\n",
       "      <td>so annoyed at myself!</td>\n",
       "      <td>weddingplanning</td>\n",
       "      <td>Divorce</td>\n",
       "      <td>Divorce</td>\n",
       "      <td>weddingplanning</td>\n",
       "      <td>Divorce</td>\n",
       "      <td>Divorce</td>\n",
       "      <td>weddingplanning</td>\n",
       "      <td>Divorce</td>\n",
       "    </tr>\n",
       "    <tr>\n",
       "      <th>2386</th>\n",
       "      <td>[removed]</td>\n",
       "      <td>Celebrant signing marriage license</td>\n",
       "      <td>weddingplanning</td>\n",
       "      <td>Divorce</td>\n",
       "      <td>Divorce</td>\n",
       "      <td>Divorce</td>\n",
       "      <td>Divorce</td>\n",
       "      <td>Divorce</td>\n",
       "      <td>weddingplanning</td>\n",
       "      <td>Divorce</td>\n",
       "    </tr>\n",
       "    <tr>\n",
       "      <th>4321</th>\n",
       "      <td>Those who have went threw the Discovery proces...</td>\n",
       "      <td>Discovery process Photos</td>\n",
       "      <td>Divorce</td>\n",
       "      <td>weddingplanning</td>\n",
       "      <td>Divorce</td>\n",
       "      <td>Divorce</td>\n",
       "      <td>weddingplanning</td>\n",
       "      <td>weddingplanning</td>\n",
       "      <td>weddingplanning</td>\n",
       "      <td>weddingplanning</td>\n",
       "    </tr>\n",
       "    <tr>\n",
       "      <th>4023</th>\n",
       "      <td>how long do I have time wise to reply back?</td>\n",
       "      <td>I live in Ohio and we're supposed to use famil...</td>\n",
       "      <td>Divorce</td>\n",
       "      <td>weddingplanning</td>\n",
       "      <td>Divorce</td>\n",
       "      <td>weddingplanning</td>\n",
       "      <td>Divorce</td>\n",
       "      <td>weddingplanning</td>\n",
       "      <td>weddingplanning</td>\n",
       "      <td>Divorce</td>\n",
       "    </tr>\n",
       "    <tr>\n",
       "      <th>1167</th>\n",
       "      <td>I'm in the home stretch, 169 days to go, and w...</td>\n",
       "      <td>Remembering what it's all about.</td>\n",
       "      <td>weddingplanning</td>\n",
       "      <td>Divorce</td>\n",
       "      <td>weddingplanning</td>\n",
       "      <td>Divorce</td>\n",
       "      <td>Divorce</td>\n",
       "      <td>Divorce</td>\n",
       "      <td>Divorce</td>\n",
       "      <td>Divorce</td>\n",
       "    </tr>\n",
       "    <tr>\n",
       "      <th>444</th>\n",
       "      <td>In summary - at the end of December I told my ...</td>\n",
       "      <td>Bride to be sister in law argument - bridesmai...</td>\n",
       "      <td>weddingplanning</td>\n",
       "      <td>Divorce</td>\n",
       "      <td>weddingplanning</td>\n",
       "      <td>weddingplanning</td>\n",
       "      <td>weddingplanning</td>\n",
       "      <td>weddingplanning</td>\n",
       "      <td>weddingplanning</td>\n",
       "      <td>Divorce</td>\n",
       "    </tr>\n",
       "    <tr>\n",
       "      <th>5653</th>\n",
       "      <td>I hate my maiden name because my dad abandoned...</td>\n",
       "      <td>Name Change</td>\n",
       "      <td>Divorce</td>\n",
       "      <td>weddingplanning</td>\n",
       "      <td>weddingplanning</td>\n",
       "      <td>Divorce</td>\n",
       "      <td>weddingplanning</td>\n",
       "      <td>weddingplanning</td>\n",
       "      <td>Divorce</td>\n",
       "      <td>weddingplanning</td>\n",
       "    </tr>\n",
       "    <tr>\n",
       "      <th>3918</th>\n",
       "      <td>[removed]</td>\n",
       "      <td>Comfortable Heels</td>\n",
       "      <td>weddingplanning</td>\n",
       "      <td>Divorce</td>\n",
       "      <td>Divorce</td>\n",
       "      <td>Divorce</td>\n",
       "      <td>Divorce</td>\n",
       "      <td>Divorce</td>\n",
       "      <td>weddingplanning</td>\n",
       "      <td>weddingplanning</td>\n",
       "    </tr>\n",
       "    <tr>\n",
       "      <th>5103</th>\n",
       "      <td>[removed]</td>\n",
       "      <td>Bit of a rant about Beta/alpha</td>\n",
       "      <td>Divorce</td>\n",
       "      <td>weddingplanning</td>\n",
       "      <td>weddingplanning</td>\n",
       "      <td>weddingplanning</td>\n",
       "      <td>weddingplanning</td>\n",
       "      <td>weddingplanning</td>\n",
       "      <td>weddingplanning</td>\n",
       "      <td>weddingplanning</td>\n",
       "    </tr>\n",
       "    <tr>\n",
       "      <th>6341</th>\n",
       "      <td>I have my band and engagement ring to sell, th...</td>\n",
       "      <td>Has anyone used Worthy to sell their rings?</td>\n",
       "      <td>Divorce</td>\n",
       "      <td>weddingplanning</td>\n",
       "      <td>weddingplanning</td>\n",
       "      <td>Divorce</td>\n",
       "      <td>weddingplanning</td>\n",
       "      <td>weddingplanning</td>\n",
       "      <td>weddingplanning</td>\n",
       "      <td>weddingplanning</td>\n",
       "    </tr>\n",
       "    <tr>\n",
       "      <th>5917</th>\n",
       "      <td>As the title says. And I couldn’t be more anxi...</td>\n",
       "      <td>Tomorrow is sock day. (Hopefully)</td>\n",
       "      <td>Divorce</td>\n",
       "      <td>weddingplanning</td>\n",
       "      <td>Divorce</td>\n",
       "      <td>Divorce</td>\n",
       "      <td>Divorce</td>\n",
       "      <td>Divorce</td>\n",
       "      <td>Divorce</td>\n",
       "      <td>weddingplanning</td>\n",
       "    </tr>\n",
       "    <tr>\n",
       "      <th>679</th>\n",
       "      <td>[removed]</td>\n",
       "      <td>What would you do in this situation?</td>\n",
       "      <td>weddingplanning</td>\n",
       "      <td>Divorce</td>\n",
       "      <td>Divorce</td>\n",
       "      <td>Divorce</td>\n",
       "      <td>Divorce</td>\n",
       "      <td>Divorce</td>\n",
       "      <td>Divorce</td>\n",
       "      <td>Divorce</td>\n",
       "    </tr>\n",
       "    <tr>\n",
       "      <th>874</th>\n",
       "      <td>[removed]</td>\n",
       "      <td>Wood crescent moon arch</td>\n",
       "      <td>weddingplanning</td>\n",
       "      <td>Divorce</td>\n",
       "      <td>Divorce</td>\n",
       "      <td>weddingplanning</td>\n",
       "      <td>Divorce</td>\n",
       "      <td>Divorce</td>\n",
       "      <td>Divorce</td>\n",
       "      <td>Divorce</td>\n",
       "    </tr>\n",
       "    <tr>\n",
       "      <th>650</th>\n",
       "      <td>[removed]</td>\n",
       "      <td>Virtual assistant</td>\n",
       "      <td>weddingplanning</td>\n",
       "      <td>Divorce</td>\n",
       "      <td>Divorce</td>\n",
       "      <td>weddingplanning</td>\n",
       "      <td>Divorce</td>\n",
       "      <td>Divorce</td>\n",
       "      <td>Divorce</td>\n",
       "      <td>Divorce</td>\n",
       "    </tr>\n",
       "    <tr>\n",
       "      <th>1187</th>\n",
       "      <td>After our second date I had a feeling that you...</td>\n",
       "      <td>Are my personal vows too mushy, just right, or...</td>\n",
       "      <td>weddingplanning</td>\n",
       "      <td>Divorce</td>\n",
       "      <td>Divorce</td>\n",
       "      <td>weddingplanning</td>\n",
       "      <td>Divorce</td>\n",
       "      <td>Divorce</td>\n",
       "      <td>Divorce</td>\n",
       "      <td>Divorce</td>\n",
       "    </tr>\n",
       "    <tr>\n",
       "      <th>3129</th>\n",
       "      <td>Can I get your thoughts on my vows? Should I c...</td>\n",
       "      <td>Can I get thoughts on my vows?</td>\n",
       "      <td>weddingplanning</td>\n",
       "      <td>Divorce</td>\n",
       "      <td>Divorce</td>\n",
       "      <td>Divorce</td>\n",
       "      <td>Divorce</td>\n",
       "      <td>Divorce</td>\n",
       "      <td>Divorce</td>\n",
       "      <td>Divorce</td>\n",
       "    </tr>\n",
       "    <tr>\n",
       "      <th>6076</th>\n",
       "      <td>[removed]</td>\n",
       "      <td>10 Tips for a Healthy Reconciliation to Save Y...</td>\n",
       "      <td>Divorce</td>\n",
       "      <td>weddingplanning</td>\n",
       "      <td>weddingplanning</td>\n",
       "      <td>Divorce</td>\n",
       "      <td>Divorce</td>\n",
       "      <td>Divorce</td>\n",
       "      <td>weddingplanning</td>\n",
       "      <td>weddingplanning</td>\n",
       "    </tr>\n",
       "    <tr>\n",
       "      <th>3777</th>\n",
       "      <td>[removed]</td>\n",
       "      <td>Feeling uncared for</td>\n",
       "      <td>weddingplanning</td>\n",
       "      <td>Divorce</td>\n",
       "      <td>Divorce</td>\n",
       "      <td>Divorce</td>\n",
       "      <td>Divorce</td>\n",
       "      <td>weddingplanning</td>\n",
       "      <td>Divorce</td>\n",
       "      <td>Divorce</td>\n",
       "    </tr>\n",
       "    <tr>\n",
       "      <th>2336</th>\n",
       "      <td>[removed]</td>\n",
       "      <td>Uninvited</td>\n",
       "      <td>weddingplanning</td>\n",
       "      <td>Divorce</td>\n",
       "      <td>Divorce</td>\n",
       "      <td>weddingplanning</td>\n",
       "      <td>Divorce</td>\n",
       "      <td>Divorce</td>\n",
       "      <td>Divorce</td>\n",
       "      <td>Divorce</td>\n",
       "    </tr>\n",
       "    <tr>\n",
       "      <th>3010</th>\n",
       "      <td>[removed]</td>\n",
       "      <td>Need some support with a sticky family situation</td>\n",
       "      <td>weddingplanning</td>\n",
       "      <td>Divorce</td>\n",
       "      <td>Divorce</td>\n",
       "      <td>Divorce</td>\n",
       "      <td>Divorce</td>\n",
       "      <td>Divorce</td>\n",
       "      <td>Divorce</td>\n",
       "      <td>Divorce</td>\n",
       "    </tr>\n",
       "    <tr>\n",
       "      <th>559</th>\n",
       "      <td>NA</td>\n",
       "      <td>Let's do the damn thing!!</td>\n",
       "      <td>weddingplanning</td>\n",
       "      <td>Divorce</td>\n",
       "      <td>Divorce</td>\n",
       "      <td>Divorce</td>\n",
       "      <td>Divorce</td>\n",
       "      <td>Divorce</td>\n",
       "      <td>Divorce</td>\n",
       "      <td>Divorce</td>\n",
       "    </tr>\n",
       "    <tr>\n",
       "      <th>5635</th>\n",
       "      <td>[removed]</td>\n",
       "      <td>any companies that will help consolidate my cr...</td>\n",
       "      <td>Divorce</td>\n",
       "      <td>weddingplanning</td>\n",
       "      <td>weddingplanning</td>\n",
       "      <td>Divorce</td>\n",
       "      <td>Divorce</td>\n",
       "      <td>Divorce</td>\n",
       "      <td>weddingplanning</td>\n",
       "      <td>weddingplanning</td>\n",
       "    </tr>\n",
       "    <tr>\n",
       "      <th>2050</th>\n",
       "      <td>[removed]</td>\n",
       "      <td>Luxury portable washrooms Toronto</td>\n",
       "      <td>weddingplanning</td>\n",
       "      <td>Divorce</td>\n",
       "      <td>Divorce</td>\n",
       "      <td>Divorce</td>\n",
       "      <td>Divorce</td>\n",
       "      <td>Divorce</td>\n",
       "      <td>weddingplanning</td>\n",
       "      <td>Divorce</td>\n",
       "    </tr>\n",
       "    <tr>\n",
       "      <th>6677</th>\n",
       "      <td>[removed]</td>\n",
       "      <td>Staying together for benefits</td>\n",
       "      <td>Divorce</td>\n",
       "      <td>weddingplanning</td>\n",
       "      <td>weddingplanning</td>\n",
       "      <td>Divorce</td>\n",
       "      <td>Divorce</td>\n",
       "      <td>Divorce</td>\n",
       "      <td>Divorce</td>\n",
       "      <td>Divorce</td>\n",
       "    </tr>\n",
       "    <tr>\n",
       "      <th>1491</th>\n",
       "      <td>[removed]</td>\n",
       "      <td>How I got my ex back (short story)</td>\n",
       "      <td>weddingplanning</td>\n",
       "      <td>Divorce</td>\n",
       "      <td>Divorce</td>\n",
       "      <td>Divorce</td>\n",
       "      <td>Divorce</td>\n",
       "      <td>Divorce</td>\n",
       "      <td>Divorce</td>\n",
       "      <td>Divorce</td>\n",
       "    </tr>\n",
       "    <tr>\n",
       "      <th>6485</th>\n",
       "      <td>[removed]</td>\n",
       "      <td>how it began, ended, and the unknowable future</td>\n",
       "      <td>Divorce</td>\n",
       "      <td>weddingplanning</td>\n",
       "      <td>weddingplanning</td>\n",
       "      <td>Divorce</td>\n",
       "      <td>weddingplanning</td>\n",
       "      <td>weddingplanning</td>\n",
       "      <td>weddingplanning</td>\n",
       "      <td>weddingplanning</td>\n",
       "    </tr>\n",
       "    <tr>\n",
       "      <th>368</th>\n",
       "      <td>[removed]</td>\n",
       "      <td>My dad is very introverted</td>\n",
       "      <td>weddingplanning</td>\n",
       "      <td>Divorce</td>\n",
       "      <td>Divorce</td>\n",
       "      <td>Divorce</td>\n",
       "      <td>Divorce</td>\n",
       "      <td>Divorce</td>\n",
       "      <td>Divorce</td>\n",
       "      <td>Divorce</td>\n",
       "    </tr>\n",
       "    <tr>\n",
       "      <th>2232</th>\n",
       "      <td>[removed]</td>\n",
       "      <td>Don't know how to feel about this - Support?</td>\n",
       "      <td>weddingplanning</td>\n",
       "      <td>Divorce</td>\n",
       "      <td>Divorce</td>\n",
       "      <td>Divorce</td>\n",
       "      <td>Divorce</td>\n",
       "      <td>Divorce</td>\n",
       "      <td>Divorce</td>\n",
       "      <td>Divorce</td>\n",
       "    </tr>\n",
       "  </tbody>\n",
       "</table>\n",
       "</div>"
      ],
      "text/plain": [
       "                                               selftext  \\\n",
       "3778                                          [removed]   \n",
       "7369  Going through something super unexpected, and ...   \n",
       "2448  I feel uncomfortable with being called a \"wife...   \n",
       "428                                           [removed]   \n",
       "508                                           [removed]   \n",
       "4343                                          [removed]   \n",
       "6249                                          [removed]   \n",
       "6734                                          [removed]   \n",
       "4108  Never, ever use this rip off service.  Somehow...   \n",
       "1506  To start, I'm not engaged currently (Although ...   \n",
       "2686                                          [removed]   \n",
       "220   Has anyone made their own bouquets and boutine...   \n",
       "238   My FH and I are a bit camera shy - being in fr...   \n",
       "3523                                          [removed]   \n",
       "2503  FH, X years ago when we first met I knew right...   \n",
       "7412  The end of a marriage for me has been just a c...   \n",
       "274                                           [removed]   \n",
       "1947  It’s so interesting to see that opinions vary ...   \n",
       "2222  So exciting, we are going to be going to Edinb...   \n",
       "3629                                          [removed]   \n",
       "2374  Non-transfer and smudge proof lipstick dries t...   \n",
       "2971                                          [removed]   \n",
       "528                                           [removed]   \n",
       "1014                Please provide rate or contact info   \n",
       "1088  My husband (we are already legally married) ha...   \n",
       "2172                                          [removed]   \n",
       "2386                                          [removed]   \n",
       "4321  Those who have went threw the Discovery proces...   \n",
       "4023        how long do I have time wise to reply back?   \n",
       "1167  I'm in the home stretch, 169 days to go, and w...   \n",
       "444   In summary - at the end of December I told my ...   \n",
       "5653  I hate my maiden name because my dad abandoned...   \n",
       "3918                                          [removed]   \n",
       "5103                                          [removed]   \n",
       "6341  I have my band and engagement ring to sell, th...   \n",
       "5917  As the title says. And I couldn’t be more anxi...   \n",
       "679                                           [removed]   \n",
       "874                                           [removed]   \n",
       "650                                           [removed]   \n",
       "1187  After our second date I had a feeling that you...   \n",
       "3129  Can I get your thoughts on my vows? Should I c...   \n",
       "6076                                          [removed]   \n",
       "3777                                          [removed]   \n",
       "2336                                          [removed]   \n",
       "3010                                          [removed]   \n",
       "559                                                  NA   \n",
       "5635                                          [removed]   \n",
       "2050                                          [removed]   \n",
       "6677                                          [removed]   \n",
       "1491                                          [removed]   \n",
       "6485                                          [removed]   \n",
       "368                                           [removed]   \n",
       "2232                                          [removed]   \n",
       "\n",
       "                                                  title       true class  \\\n",
       "3778                                 Am I in the Wrong?  weddingplanning   \n",
       "7369  Can you give me a checklist of red flags to lo...          Divorce   \n",
       "2448  Anyone else not want to be referred to as \"wife\"?  weddingplanning   \n",
       "428                                     No videographer  weddingplanning   \n",
       "508                                     Filing Question  weddingplanning   \n",
       "4343            My internet friends please read my post          Divorce   \n",
       "6249  How nervous should I (26f) be about her (24f) ...          Divorce   \n",
       "6734                                     Other options?          Divorce   \n",
       "4108                                   COMPLETECASE.com          Divorce   \n",
       "1506  How are you guys paying for it on top of every...  weddingplanning   \n",
       "2686              Customs parents are expecting to see?  weddingplanning   \n",
       "220                             bouquets and boutineirs  weddingplanning   \n",
       "238   Unique first look ideas? The pressure to “reac...  weddingplanning   \n",
       "3523         With what item should I propose to my man?  weddingplanning   \n",
       "2503                                Vow Critique Please  weddingplanning   \n",
       "7412              Cancelling plans - moments of sadness          Divorce   \n",
       "274         Is it worth not inviting one of my cousins?  weddingplanning   \n",
       "1947                     Significant others vs plus one  weddingplanning   \n",
       "2222                          Hen Do is booked finally!  weddingplanning   \n",
       "3629                    Good lines boob tape for 38DDD?  weddingplanning   \n",
       "2374                                  Lipstick question  weddingplanning   \n",
       "2971                                      Videographer?  weddingplanning   \n",
       "528                                     Colored jewelry  weddingplanning   \n",
       "1014  Hi I’m seeking a saxophone player Fri 4/22 to ...  weddingplanning   \n",
       "1088  Step mother in law. Should she wear a MOG dres...  weddingplanning   \n",
       "2172                              so annoyed at myself!  weddingplanning   \n",
       "2386                 Celebrant signing marriage license  weddingplanning   \n",
       "4321                           Discovery process Photos          Divorce   \n",
       "4023  I live in Ohio and we're supposed to use famil...          Divorce   \n",
       "1167                   Remembering what it's all about.  weddingplanning   \n",
       "444   Bride to be sister in law argument - bridesmai...  weddingplanning   \n",
       "5653                                        Name Change          Divorce   \n",
       "3918                                  Comfortable Heels  weddingplanning   \n",
       "5103                     Bit of a rant about Beta/alpha          Divorce   \n",
       "6341        Has anyone used Worthy to sell their rings?          Divorce   \n",
       "5917                  Tomorrow is sock day. (Hopefully)          Divorce   \n",
       "679                What would you do in this situation?  weddingplanning   \n",
       "874                             Wood crescent moon arch  weddingplanning   \n",
       "650                                   Virtual assistant  weddingplanning   \n",
       "1187  Are my personal vows too mushy, just right, or...  weddingplanning   \n",
       "3129                     Can I get thoughts on my vows?  weddingplanning   \n",
       "6076  10 Tips for a Healthy Reconciliation to Save Y...          Divorce   \n",
       "3777                                Feeling uncared for  weddingplanning   \n",
       "2336                                          Uninvited  weddingplanning   \n",
       "3010   Need some support with a sticky family situation  weddingplanning   \n",
       "559                           Let's do the damn thing!!  weddingplanning   \n",
       "5635  any companies that will help consolidate my cr...          Divorce   \n",
       "2050                  Luxury portable washrooms Toronto  weddingplanning   \n",
       "6677                      Staying together for benefits          Divorce   \n",
       "1491                 How I got my ex back (short story)  weddingplanning   \n",
       "6485     how it began, ended, and the unknowable future          Divorce   \n",
       "368                          My dad is very introverted  weddingplanning   \n",
       "2232       Don't know how to feel about this - Support?  weddingplanning   \n",
       "\n",
       "        LR pred class    DT pred class   KNN pred class    RF pred class  \\\n",
       "3778          Divorce          Divorce  weddingplanning  weddingplanning   \n",
       "7369  weddingplanning          Divorce  weddingplanning  weddingplanning   \n",
       "2448          Divorce          Divorce  weddingplanning          Divorce   \n",
       "428           Divorce          Divorce  weddingplanning          Divorce   \n",
       "508           Divorce          Divorce          Divorce          Divorce   \n",
       "4343  weddingplanning          Divorce          Divorce          Divorce   \n",
       "6249  weddingplanning          Divorce  weddingplanning          Divorce   \n",
       "6734  weddingplanning          Divorce  weddingplanning          Divorce   \n",
       "4108  weddingplanning  weddingplanning          Divorce          Divorce   \n",
       "1506          Divorce  weddingplanning          Divorce  weddingplanning   \n",
       "2686          Divorce  weddingplanning  weddingplanning  weddingplanning   \n",
       "220           Divorce          Divorce  weddingplanning  weddingplanning   \n",
       "238           Divorce  weddingplanning          Divorce  weddingplanning   \n",
       "3523          Divorce          Divorce          Divorce          Divorce   \n",
       "2503          Divorce  weddingplanning          Divorce          Divorce   \n",
       "7412  weddingplanning          Divorce  weddingplanning          Divorce   \n",
       "274           Divorce  weddingplanning          Divorce          Divorce   \n",
       "1947          Divorce          Divorce  weddingplanning          Divorce   \n",
       "2222          Divorce          Divorce          Divorce          Divorce   \n",
       "3629          Divorce          Divorce          Divorce          Divorce   \n",
       "2374          Divorce          Divorce  weddingplanning          Divorce   \n",
       "2971          Divorce          Divorce  weddingplanning          Divorce   \n",
       "528           Divorce          Divorce  weddingplanning          Divorce   \n",
       "1014          Divorce          Divorce  weddingplanning          Divorce   \n",
       "1088          Divorce  weddingplanning          Divorce          Divorce   \n",
       "2172          Divorce          Divorce  weddingplanning          Divorce   \n",
       "2386          Divorce          Divorce          Divorce          Divorce   \n",
       "4321  weddingplanning          Divorce          Divorce  weddingplanning   \n",
       "4023  weddingplanning          Divorce  weddingplanning          Divorce   \n",
       "1167          Divorce  weddingplanning          Divorce          Divorce   \n",
       "444           Divorce  weddingplanning  weddingplanning  weddingplanning   \n",
       "5653  weddingplanning  weddingplanning          Divorce  weddingplanning   \n",
       "3918          Divorce          Divorce          Divorce          Divorce   \n",
       "5103  weddingplanning  weddingplanning  weddingplanning  weddingplanning   \n",
       "6341  weddingplanning  weddingplanning          Divorce  weddingplanning   \n",
       "5917  weddingplanning          Divorce          Divorce          Divorce   \n",
       "679           Divorce          Divorce          Divorce          Divorce   \n",
       "874           Divorce          Divorce  weddingplanning          Divorce   \n",
       "650           Divorce          Divorce  weddingplanning          Divorce   \n",
       "1187          Divorce          Divorce  weddingplanning          Divorce   \n",
       "3129          Divorce          Divorce          Divorce          Divorce   \n",
       "6076  weddingplanning  weddingplanning          Divorce          Divorce   \n",
       "3777          Divorce          Divorce          Divorce          Divorce   \n",
       "2336          Divorce          Divorce  weddingplanning          Divorce   \n",
       "3010          Divorce          Divorce          Divorce          Divorce   \n",
       "559           Divorce          Divorce          Divorce          Divorce   \n",
       "5635  weddingplanning  weddingplanning          Divorce          Divorce   \n",
       "2050          Divorce          Divorce          Divorce          Divorce   \n",
       "6677  weddingplanning  weddingplanning          Divorce          Divorce   \n",
       "1491          Divorce          Divorce          Divorce          Divorce   \n",
       "6485  weddingplanning  weddingplanning          Divorce  weddingplanning   \n",
       "368           Divorce          Divorce          Divorce          Divorce   \n",
       "2232          Divorce          Divorce          Divorce          Divorce   \n",
       "\n",
       "        ET pred class   MNB pred class    AB pred class  \n",
       "3778  weddingplanning  weddingplanning          Divorce  \n",
       "7369  weddingplanning  weddingplanning  weddingplanning  \n",
       "2448          Divorce  weddingplanning          Divorce  \n",
       "428           Divorce  weddingplanning  weddingplanning  \n",
       "508           Divorce          Divorce          Divorce  \n",
       "4343          Divorce  weddingplanning  weddingplanning  \n",
       "6249          Divorce  weddingplanning  weddingplanning  \n",
       "6734          Divorce  weddingplanning  weddingplanning  \n",
       "4108          Divorce          Divorce          Divorce  \n",
       "1506          Divorce  weddingplanning          Divorce  \n",
       "2686  weddingplanning          Divorce          Divorce  \n",
       "220   weddingplanning  weddingplanning          Divorce  \n",
       "238   weddingplanning  weddingplanning          Divorce  \n",
       "3523          Divorce          Divorce          Divorce  \n",
       "2503          Divorce          Divorce          Divorce  \n",
       "7412          Divorce          Divorce  weddingplanning  \n",
       "274           Divorce  weddingplanning  weddingplanning  \n",
       "1947          Divorce  weddingplanning  weddingplanning  \n",
       "2222          Divorce  weddingplanning          Divorce  \n",
       "3629          Divorce          Divorce          Divorce  \n",
       "2374          Divorce  weddingplanning          Divorce  \n",
       "2971          Divorce  weddingplanning  weddingplanning  \n",
       "528           Divorce          Divorce          Divorce  \n",
       "1014  weddingplanning  weddingplanning  weddingplanning  \n",
       "1088  weddingplanning  weddingplanning          Divorce  \n",
       "2172          Divorce  weddingplanning          Divorce  \n",
       "2386          Divorce  weddingplanning          Divorce  \n",
       "4321  weddingplanning  weddingplanning  weddingplanning  \n",
       "4023  weddingplanning  weddingplanning          Divorce  \n",
       "1167          Divorce          Divorce          Divorce  \n",
       "444   weddingplanning  weddingplanning          Divorce  \n",
       "5653  weddingplanning          Divorce  weddingplanning  \n",
       "3918          Divorce  weddingplanning  weddingplanning  \n",
       "5103  weddingplanning  weddingplanning  weddingplanning  \n",
       "6341  weddingplanning  weddingplanning  weddingplanning  \n",
       "5917          Divorce          Divorce  weddingplanning  \n",
       "679           Divorce          Divorce          Divorce  \n",
       "874           Divorce          Divorce          Divorce  \n",
       "650           Divorce          Divorce          Divorce  \n",
       "1187          Divorce          Divorce          Divorce  \n",
       "3129          Divorce          Divorce          Divorce  \n",
       "6076          Divorce  weddingplanning  weddingplanning  \n",
       "3777  weddingplanning          Divorce          Divorce  \n",
       "2336          Divorce          Divorce          Divorce  \n",
       "3010          Divorce          Divorce          Divorce  \n",
       "559           Divorce          Divorce          Divorce  \n",
       "5635          Divorce  weddingplanning  weddingplanning  \n",
       "2050          Divorce  weddingplanning          Divorce  \n",
       "6677          Divorce          Divorce          Divorce  \n",
       "1491          Divorce          Divorce          Divorce  \n",
       "6485  weddingplanning  weddingplanning  weddingplanning  \n",
       "368           Divorce          Divorce          Divorce  \n",
       "2232          Divorce          Divorce          Divorce  "
      ]
     },
     "execution_count": 161,
     "metadata": {},
     "output_type": "execute_result"
    }
   ],
   "source": [
    "misclassifications[misclassifications['true class'] != misclassifications['LR pred class']]"
   ]
  },
  {
   "cell_type": "markdown",
   "id": "7afd9293-e4fa-45f7-830c-e28ba0c7ffc0",
   "metadata": {},
   "source": [
    "It seems that some of the classifications could go the other way depending on the model used. Let's try a voting classifier to improve model performance."
   ]
  },
  {
   "cell_type": "markdown",
   "id": "7fd653ac-72d8-40ba-b1e4-34c0f1acd8df",
   "metadata": {},
   "source": [
    "### Voting Classifier"
   ]
  },
  {
   "cell_type": "code",
   "execution_count": 187,
   "id": "ed8eb8db-8239-4f0c-849d-272dee17b695",
   "metadata": {},
   "outputs": [],
   "source": [
    "# lr train score is 0.9954614220877458 and test score is 0.9732862903225806\n",
    "# dt train score is 0.996301899478904 and test score is 0.9395161290322581\n",
    "# knn train score is 0.869894099848714 and test score is 0.7741935483870968\n",
    "# rf train score is 0.9978147587829888 and test score is 0.9637096774193549\n",
    "# et train score is 0.9978147587829888 and test score is 0.9637096774193549\n",
    "# mnb train score is 0.9789880652210455 and test score is 0.9692540322580645\n",
    "# ab train score is 0.9290637081862498 and test score is 0.9737903225806451\n"
   ]
  },
  {
   "cell_type": "code",
   "execution_count": 188,
   "id": "4efc504c-555a-41d0-a76d-30e09c9d4172",
   "metadata": {},
   "outputs": [],
   "source": [
    "pipelines_names = list(zip(['lr','dt','knn','rf','et','mnb','ab'],pipelines))"
   ]
  },
  {
   "cell_type": "code",
   "execution_count": 189,
   "id": "3f41f1c8-ad59-4d80-89c6-0c54244e9de3",
   "metadata": {
    "tags": []
   },
   "outputs": [],
   "source": [
    "vr1 = VotingClassifier(\n",
    "    pipelines_names,\n",
    "    n_jobs=-1,\n",
    "    weights=[1,0,0,0,1,0,1],\n",
    "    voting='soft'\n",
    ")\n",
    "vr1.fit(X_train,y_train);"
   ]
  },
  {
   "cell_type": "code",
   "execution_count": 190,
   "id": "be53fc09-130c-42b9-a9f1-2f13e0839191",
   "metadata": {},
   "outputs": [
    {
     "data": {
      "text/plain": [
       "(0.9978147587829888, 0.9737903225806451)"
      ]
     },
     "execution_count": 190,
     "metadata": {},
     "output_type": "execute_result"
    }
   ],
   "source": [
    "vr1.score(X_train,y_train), vr1.score(X_test,y_test)\n"
   ]
  },
  {
   "cell_type": "code",
   "execution_count": 191,
   "id": "7ad717e9-7db9-4645-8119-abf4019269d6",
   "metadata": {},
   "outputs": [
    {
     "data": {
      "text/plain": [
       "<sklearn.metrics._plot.confusion_matrix.ConfusionMatrixDisplay at 0x7feb92c45970>"
      ]
     },
     "execution_count": 191,
     "metadata": {},
     "output_type": "execute_result"
    },
    {
     "data": {
      "image/png": "[encoded data removed]",
      "text/plain": [
       "<Figure size 432x288 with 2 Axes>"
      ]
     },
     "metadata": {
      "needs_background": "light"
     },
     "output_type": "display_data"
    }
   ],
   "source": [
    "ConfusionMatrixDisplay.from_estimator(vr1,X_test,y_test)"
   ]
  },
  {
   "cell_type": "markdown",
   "id": "5c44030f-72ca-41b9-a0f1-90b4f9e47f37",
   "metadata": {},
   "source": [
    "Manual changing of weights & voting (pre-optimization of ada-boost):\n",
    "- test score: 0.97177 for weights = [1,1,1,1,1,1,1] and voting='hard'\n",
    "- test score: 0.97429 for weights = [1,1,1,1,1,1,1] and voting='soft'\n",
    "- test score: 0.97782 for weights=[2,1,0.5,1.5,1.5,1.5,2],\n",
    "    voting='soft'\n",
    "- test score: 0.97379 for weights=[2,1,0.5,1.5,1.5,1.5,2],\n",
    "    voting='hard'\n",
    "- test score: 0.97278 for weights=[1,0,0,0,1,0,1],\n",
    "    voting='hard'\n",
    "- test score: 0.97429 for weights=[1,0,0,0,1,0,1],\n",
    "    voting='soft'\n",
    "- test score: 0.97328 for weights=[1,0,0,1,0,0,1],\n",
    "    voting='soft'\n",
    "- test score: 0.96471 weights=[0,0,0,1,0,0,1],\n",
    "    voting='soft'\n",
    "- test score: 0.96421 weights=[0,0,0,0,1,0,1],\n",
    "    voting='soft'\n",
    "- test score: 0.97429 weights=[0,0,0,1,0,1,1],\n",
    "    voting='soft'"
   ]
  },
  {
   "cell_type": "code",
   "execution_count": 192,
   "id": "6ab57988-cfd7-4822-8a8a-d87f948f7d3e",
   "metadata": {
    "tags": []
   },
   "outputs": [],
   "source": [
    "vr2 = VotingClassifier(\n",
    "    pipelines_names,\n",
    "    n_jobs=-1,\n",
    "    weights=[1,0,0,1,0,0,1],\n",
    "    voting='soft'\n",
    ")\n",
    "vr2.fit(X_train,y_train);"
   ]
  },
  {
   "cell_type": "code",
   "execution_count": 193,
   "id": "b25b958b-0746-4da2-ad55-b553aeb580dc",
   "metadata": {},
   "outputs": [
    {
     "data": {
      "text/plain": [
       "(0.9974785678265254, 0.9727822580645161)"
      ]
     },
     "execution_count": 193,
     "metadata": {},
     "output_type": "execute_result"
    }
   ],
   "source": [
    "vr2.score(X_train,y_train), vr2.score(X_test,y_test)\n"
   ]
  },
  {
   "cell_type": "code",
   "execution_count": 194,
   "id": "776295a0-7ea7-4436-ad75-fd2e532d9c5e",
   "metadata": {},
   "outputs": [
    {
     "data": {
      "text/plain": [
       "<sklearn.metrics._plot.confusion_matrix.ConfusionMatrixDisplay at 0x7feb92c3a940>"
      ]
     },
     "execution_count": 194,
     "metadata": {},
     "output_type": "execute_result"
    },
    {
     "data": {
      "image/png": "[encoded data removed]",
      "text/plain": [
       "<Figure size 432x288 with 2 Axes>"
      ]
     },
     "metadata": {
      "needs_background": "light"
     },
     "output_type": "display_data"
    }
   ],
   "source": [
    "ConfusionMatrixDisplay.from_estimator(vr2,X_test,y_test)"
   ]
  },
  {
   "cell_type": "code",
   "execution_count": 230,
   "id": "686b741b-114c-4b92-8e37-e9fd79fc5f78",
   "metadata": {
    "tags": []
   },
   "outputs": [],
   "source": [
    "vr3 = VotingClassifier(\n",
    "    pipelines_names,\n",
    "    n_jobs=-1,\n",
    "    weights=[2,1,0.5,1.5,1.5,1.5,2],\n",
    "    voting='soft'\n",
    ")\n",
    "vr3.fit(X_train,y_train);"
   ]
  },
  {
   "cell_type": "code",
   "execution_count": 231,
   "id": "34e54595-e09c-4db6-816a-ce3ed658ff86",
   "metadata": {},
   "outputs": [
    {
     "data": {
      "text/plain": [
       "(0.9976466633047572, 0.9773185483870968)"
      ]
     },
     "execution_count": 231,
     "metadata": {},
     "output_type": "execute_result"
    }
   ],
   "source": [
    "vr3.score(X_train,y_train), vr3.score(X_test,y_test)\n"
   ]
  },
  {
   "cell_type": "code",
   "execution_count": 232,
   "id": "0b68dca5-b9d9-4757-8c79-7aa4cd74aad7",
   "metadata": {},
   "outputs": [
    {
     "data": {
      "text/plain": [
       "<sklearn.metrics._plot.confusion_matrix.ConfusionMatrixDisplay at 0x7fe9eba62790>"
      ]
     },
     "execution_count": 232,
     "metadata": {},
     "output_type": "execute_result"
    },
    {
     "data": {
      "image/png": "[encoded data removed]",
      "text/plain": [
       "<Figure size 432x288 with 2 Axes>"
      ]
     },
     "metadata": {
      "needs_background": "light"
     },
     "output_type": "display_data"
    }
   ],
   "source": [
    "ConfusionMatrixDisplay.from_estimator(vr3,X_test,y_test)"
   ]
  },
  {
   "cell_type": "markdown",
   "id": "fcc276a7-9b0c-49fd-aec8-6ad327147086",
   "metadata": {},
   "source": [
    "#### Specificity"
   ]
  },
  {
   "cell_type": "markdown",
   "id": "e07c5b5f-361f-4b65-a02c-ac25c141070a",
   "metadata": {},
   "source": [
    "After consulting my client, the divorce lawyer, with the potential models, she advised me that she is happy with all of the accuracies, and would rather have a model that potentially advertises to more divorcees at the expense of advertising to more wedding planners.\n",
    "\n",
    "In data science terms, this means that among these models, I would like to maximize the specificity (based on how this data was classified, where the positive class is the wedding planner class). This can also be calculated using the recall score wher the positive class label is set to Divorce.\n",
    "\n",
    "Comparing the voting classifier confusion matrices, those that best maximized specificity were:\n",
    "- weights=[1,0,0,0,1,0,1], voting='soft'\n",
    "- weights=[1,0,0,1,0,0,1], voting='soft'\n",
    "\n",
    "Additionally, there was a model that used all models at different weights, and it had the highest accuracy, but lower specificity than vr1 and vr2."
   ]
  },
  {
   "cell_type": "code",
   "execution_count": 225,
   "id": "222a9d5e-b80e-4cab-a1d4-59889eeb5034",
   "metadata": {},
   "outputs": [
    {
     "name": "stdout",
     "output_type": "stream",
     "text": [
      "lr specificity score is 0.9839518555667001\n",
      "dt specificity score is 0.9648946840521565\n",
      "knn specificity score is 0.831494483450351\n",
      "rf specificity score is 0.9879638916750251\n",
      "et specificity score is 0.9859578736208626\n",
      "mnb specificity score is 0.9648946840521565\n",
      "ab specificity score is 0.9809428284854563\n",
      "vr1 specificity score is 0.9899699097291875\n",
      "vr2 specificity score is 0.9899699097291875\n",
      "vr3 specificity score is 0.9869608826479438\n"
     ]
    }
   ],
   "source": [
    "for pipe in pipelines:\n",
    "    print(f'{list(pipe.named_steps.keys())[1]} specificity score is {recall_score(y_test,pipe.predict(X_test),pos_label=\"Divorce\")}')\n",
    "print(f'vr1 specificity score is {recall_score(y_test,vr1.predict(X_test),pos_label=\"Divorce\")}')\n",
    "print(f'vr2 specificity score is {recall_score(y_test,vr2.predict(X_test),pos_label=\"Divorce\")}')\n",
    "print(f'vr3 specificity score is {recall_score(y_test,vr3.predict(X_test),pos_label=\"Divorce\")}')"
   ]
  },
  {
   "cell_type": "markdown",
   "id": "658696e3-f1cb-41ba-983f-8984a27953bb",
   "metadata": {},
   "source": [
    "Among these models, rf, vr1, and vr2 maximized the specificity (reminder, where divorce is negative class)."
   ]
  },
  {
   "cell_type": "code",
   "execution_count": 199,
   "id": "8ccf2783-3100-4045-874f-6e1df07bdb8b",
   "metadata": {},
   "outputs": [
    {
     "name": "stdout",
     "output_type": "stream",
     "text": [
      "rf test accuracy is 0.9637096774193549\n",
      "vr1 test accuracy is 0.9737903225806451\n",
      "vr2 test accuracy is 0.9727822580645161\n"
     ]
    }
   ],
   "source": [
    "print(f'rf test accuracy is {pipe_rf.score(X_test,y_test)}')\n",
    "print(f'vr1 test accuracy is {vr1.score(X_test,y_test)}')\n",
    "print(f'vr2 test accuracy is {vr2.score(X_test,y_test)}')"
   ]
  },
  {
   "cell_type": "markdown",
   "id": "154842cb-a084-4171-b14a-8996b6ca1bed",
   "metadata": {},
   "source": [
    "Between these three models, I will choose to use vr1 for the production model because it has among the highest accuracy scores and maximizes specificity. VR1 uses a equal weight and soft voting method of combining the logistic regression, random forest classifier, and ada boost classifiers."
   ]
  },
  {
   "cell_type": "code",
   "execution_count": 221,
   "id": "6338398e-dc30-455e-839c-9f463d2b740f",
   "metadata": {},
   "outputs": [
    {
     "name": "stdout",
     "output_type": "stream",
     "text": [
      "Stored 'vr1' (VotingClassifier)\n"
     ]
    }
   ],
   "source": [
    "%store vr1"
   ]
  },
  {
   "cell_type": "code",
   "execution_count": 204,
   "id": "3371fecc-c245-428b-852b-2e62fe917b17",
   "metadata": {},
   "outputs": [],
   "source": [
    "misclassifications['vr1 pred class'] = vr1.predict(X_test)"
   ]
  },
  {
   "cell_type": "code",
   "execution_count": 209,
   "id": "b63331ee-1ae2-4f23-8cb1-d8cf3f749605",
   "metadata": {},
   "outputs": [
    {
     "data": {
      "text/html": [
       "<div>\n",
       "<style scoped>\n",
       "    .dataframe tbody tr th:only-of-type {\n",
       "        vertical-align: middle;\n",
       "    }\n",
       "\n",
       "    .dataframe tbody tr th {\n",
       "        vertical-align: top;\n",
       "    }\n",
       "\n",
       "    .dataframe thead th {\n",
       "        text-align: right;\n",
       "    }\n",
       "</style>\n",
       "<table border=\"1\" class=\"dataframe\">\n",
       "  <thead>\n",
       "    <tr style=\"text-align: right;\">\n",
       "      <th></th>\n",
       "      <th>selftext</th>\n",
       "      <th>title</th>\n",
       "      <th>true class</th>\n",
       "      <th>LR pred class</th>\n",
       "      <th>DT pred class</th>\n",
       "      <th>KNN pred class</th>\n",
       "      <th>RF pred class</th>\n",
       "      <th>ET pred class</th>\n",
       "      <th>MNB pred class</th>\n",
       "      <th>AB pred class</th>\n",
       "      <th>vr2 pred class</th>\n",
       "      <th>vr1 pred class</th>\n",
       "    </tr>\n",
       "  </thead>\n",
       "  <tbody>\n",
       "    <tr>\n",
       "      <th>7369</th>\n",
       "      <td>Going through something super unexpected, and ...</td>\n",
       "      <td>Can you give me a checklist of red flags to lo...</td>\n",
       "      <td>Divorce</td>\n",
       "      <td>weddingplanning</td>\n",
       "      <td>Divorce</td>\n",
       "      <td>weddingplanning</td>\n",
       "      <td>weddingplanning</td>\n",
       "      <td>weddingplanning</td>\n",
       "      <td>weddingplanning</td>\n",
       "      <td>weddingplanning</td>\n",
       "      <td>weddingplanning</td>\n",
       "      <td>weddingplanning</td>\n",
       "    </tr>\n",
       "    <tr>\n",
       "      <th>6459</th>\n",
       "      <td>SOCK DAY 21/03/2022, 3PM.\\nIt's nearly time!</td>\n",
       "      <td>NINE days and counting</td>\n",
       "      <td>Divorce</td>\n",
       "      <td>Divorce</td>\n",
       "      <td>Divorce</td>\n",
       "      <td>weddingplanning</td>\n",
       "      <td>weddingplanning</td>\n",
       "      <td>weddingplanning</td>\n",
       "      <td>Divorce</td>\n",
       "      <td>weddingplanning</td>\n",
       "      <td>weddingplanning</td>\n",
       "      <td>weddingplanning</td>\n",
       "    </tr>\n",
       "    <tr>\n",
       "      <th>4600</th>\n",
       "      <td>[removed]</td>\n",
       "      <td>Dads how often do you talk to your kids? its r...</td>\n",
       "      <td>Divorce</td>\n",
       "      <td>Divorce</td>\n",
       "      <td>Divorce</td>\n",
       "      <td>Divorce</td>\n",
       "      <td>weddingplanning</td>\n",
       "      <td>weddingplanning</td>\n",
       "      <td>Divorce</td>\n",
       "      <td>Divorce</td>\n",
       "      <td>Divorce</td>\n",
       "      <td>weddingplanning</td>\n",
       "    </tr>\n",
       "    <tr>\n",
       "      <th>4321</th>\n",
       "      <td>Those who have went threw the Discovery proces...</td>\n",
       "      <td>Discovery process Photos</td>\n",
       "      <td>Divorce</td>\n",
       "      <td>weddingplanning</td>\n",
       "      <td>Divorce</td>\n",
       "      <td>Divorce</td>\n",
       "      <td>weddingplanning</td>\n",
       "      <td>weddingplanning</td>\n",
       "      <td>weddingplanning</td>\n",
       "      <td>weddingplanning</td>\n",
       "      <td>weddingplanning</td>\n",
       "      <td>weddingplanning</td>\n",
       "    </tr>\n",
       "    <tr>\n",
       "      <th>4023</th>\n",
       "      <td>how long do I have time wise to reply back?</td>\n",
       "      <td>I live in Ohio and we're supposed to use famil...</td>\n",
       "      <td>Divorce</td>\n",
       "      <td>weddingplanning</td>\n",
       "      <td>Divorce</td>\n",
       "      <td>weddingplanning</td>\n",
       "      <td>Divorce</td>\n",
       "      <td>weddingplanning</td>\n",
       "      <td>weddingplanning</td>\n",
       "      <td>Divorce</td>\n",
       "      <td>weddingplanning</td>\n",
       "      <td>weddingplanning</td>\n",
       "    </tr>\n",
       "    <tr>\n",
       "      <th>5653</th>\n",
       "      <td>I hate my maiden name because my dad abandoned...</td>\n",
       "      <td>Name Change</td>\n",
       "      <td>Divorce</td>\n",
       "      <td>weddingplanning</td>\n",
       "      <td>weddingplanning</td>\n",
       "      <td>Divorce</td>\n",
       "      <td>weddingplanning</td>\n",
       "      <td>weddingplanning</td>\n",
       "      <td>Divorce</td>\n",
       "      <td>weddingplanning</td>\n",
       "      <td>weddingplanning</td>\n",
       "      <td>weddingplanning</td>\n",
       "    </tr>\n",
       "    <tr>\n",
       "      <th>5103</th>\n",
       "      <td>[removed]</td>\n",
       "      <td>Bit of a rant about Beta/alpha</td>\n",
       "      <td>Divorce</td>\n",
       "      <td>weddingplanning</td>\n",
       "      <td>weddingplanning</td>\n",
       "      <td>weddingplanning</td>\n",
       "      <td>weddingplanning</td>\n",
       "      <td>weddingplanning</td>\n",
       "      <td>weddingplanning</td>\n",
       "      <td>weddingplanning</td>\n",
       "      <td>weddingplanning</td>\n",
       "      <td>weddingplanning</td>\n",
       "    </tr>\n",
       "    <tr>\n",
       "      <th>6341</th>\n",
       "      <td>I have my band and engagement ring to sell, th...</td>\n",
       "      <td>Has anyone used Worthy to sell their rings?</td>\n",
       "      <td>Divorce</td>\n",
       "      <td>weddingplanning</td>\n",
       "      <td>weddingplanning</td>\n",
       "      <td>Divorce</td>\n",
       "      <td>weddingplanning</td>\n",
       "      <td>weddingplanning</td>\n",
       "      <td>weddingplanning</td>\n",
       "      <td>weddingplanning</td>\n",
       "      <td>weddingplanning</td>\n",
       "      <td>weddingplanning</td>\n",
       "    </tr>\n",
       "    <tr>\n",
       "      <th>5635</th>\n",
       "      <td>[removed]</td>\n",
       "      <td>any companies that will help consolidate my cr...</td>\n",
       "      <td>Divorce</td>\n",
       "      <td>weddingplanning</td>\n",
       "      <td>weddingplanning</td>\n",
       "      <td>Divorce</td>\n",
       "      <td>Divorce</td>\n",
       "      <td>Divorce</td>\n",
       "      <td>weddingplanning</td>\n",
       "      <td>weddingplanning</td>\n",
       "      <td>weddingplanning</td>\n",
       "      <td>weddingplanning</td>\n",
       "    </tr>\n",
       "    <tr>\n",
       "      <th>6485</th>\n",
       "      <td>[removed]</td>\n",
       "      <td>how it began, ended, and the unknowable future</td>\n",
       "      <td>Divorce</td>\n",
       "      <td>weddingplanning</td>\n",
       "      <td>weddingplanning</td>\n",
       "      <td>Divorce</td>\n",
       "      <td>weddingplanning</td>\n",
       "      <td>weddingplanning</td>\n",
       "      <td>weddingplanning</td>\n",
       "      <td>weddingplanning</td>\n",
       "      <td>weddingplanning</td>\n",
       "      <td>weddingplanning</td>\n",
       "    </tr>\n",
       "  </tbody>\n",
       "</table>\n",
       "</div>"
      ],
      "text/plain": [
       "                                               selftext  \\\n",
       "7369  Going through something super unexpected, and ...   \n",
       "6459       SOCK DAY 21/03/2022, 3PM.\\nIt's nearly time!   \n",
       "4600                                          [removed]   \n",
       "4321  Those who have went threw the Discovery proces...   \n",
       "4023        how long do I have time wise to reply back?   \n",
       "5653  I hate my maiden name because my dad abandoned...   \n",
       "5103                                          [removed]   \n",
       "6341  I have my band and engagement ring to sell, th...   \n",
       "5635                                          [removed]   \n",
       "6485                                          [removed]   \n",
       "\n",
       "                                                  title true class  \\\n",
       "7369  Can you give me a checklist of red flags to lo...    Divorce   \n",
       "6459                             NINE days and counting    Divorce   \n",
       "4600  Dads how often do you talk to your kids? its r...    Divorce   \n",
       "4321                           Discovery process Photos    Divorce   \n",
       "4023  I live in Ohio and we're supposed to use famil...    Divorce   \n",
       "5653                                        Name Change    Divorce   \n",
       "5103                     Bit of a rant about Beta/alpha    Divorce   \n",
       "6341        Has anyone used Worthy to sell their rings?    Divorce   \n",
       "5635  any companies that will help consolidate my cr...    Divorce   \n",
       "6485     how it began, ended, and the unknowable future    Divorce   \n",
       "\n",
       "        LR pred class    DT pred class   KNN pred class    RF pred class  \\\n",
       "7369  weddingplanning          Divorce  weddingplanning  weddingplanning   \n",
       "6459          Divorce          Divorce  weddingplanning  weddingplanning   \n",
       "4600          Divorce          Divorce          Divorce  weddingplanning   \n",
       "4321  weddingplanning          Divorce          Divorce  weddingplanning   \n",
       "4023  weddingplanning          Divorce  weddingplanning          Divorce   \n",
       "5653  weddingplanning  weddingplanning          Divorce  weddingplanning   \n",
       "5103  weddingplanning  weddingplanning  weddingplanning  weddingplanning   \n",
       "6341  weddingplanning  weddingplanning          Divorce  weddingplanning   \n",
       "5635  weddingplanning  weddingplanning          Divorce          Divorce   \n",
       "6485  weddingplanning  weddingplanning          Divorce  weddingplanning   \n",
       "\n",
       "        ET pred class   MNB pred class    AB pred class   vr2 pred class  \\\n",
       "7369  weddingplanning  weddingplanning  weddingplanning  weddingplanning   \n",
       "6459  weddingplanning          Divorce  weddingplanning  weddingplanning   \n",
       "4600  weddingplanning          Divorce          Divorce          Divorce   \n",
       "4321  weddingplanning  weddingplanning  weddingplanning  weddingplanning   \n",
       "4023  weddingplanning  weddingplanning          Divorce  weddingplanning   \n",
       "5653  weddingplanning          Divorce  weddingplanning  weddingplanning   \n",
       "5103  weddingplanning  weddingplanning  weddingplanning  weddingplanning   \n",
       "6341  weddingplanning  weddingplanning  weddingplanning  weddingplanning   \n",
       "5635          Divorce  weddingplanning  weddingplanning  weddingplanning   \n",
       "6485  weddingplanning  weddingplanning  weddingplanning  weddingplanning   \n",
       "\n",
       "       vr1 pred class  \n",
       "7369  weddingplanning  \n",
       "6459  weddingplanning  \n",
       "4600  weddingplanning  \n",
       "4321  weddingplanning  \n",
       "4023  weddingplanning  \n",
       "5653  weddingplanning  \n",
       "5103  weddingplanning  \n",
       "6341  weddingplanning  \n",
       "5635  weddingplanning  \n",
       "6485  weddingplanning  "
      ]
     },
     "execution_count": 209,
     "metadata": {},
     "output_type": "execute_result"
    }
   ],
   "source": [
    "misclassifications[(misclassifications['true class'] != misclassifications['vr1 pred class']) & (misclassifications['true class'] == 'Divorce')]   "
   ]
  },
  {
   "cell_type": "markdown",
   "id": "3cc3e84c-763e-4a9f-9324-e9a6e479493b",
   "metadata": {},
   "source": [
    "Save misclassifications for later analysis"
   ]
  },
  {
   "cell_type": "code",
   "execution_count": 210,
   "id": "492fa378-f4ee-4560-83c8-110c06c1b5d2",
   "metadata": {},
   "outputs": [],
   "source": [
    "misclassifications.to_csv('../datasets/misclassifications.csv',index=False)"
   ]
  },
  {
   "cell_type": "code",
   "execution_count": 238,
   "id": "a788ffc9-e0fe-46c5-b46e-377ad530f0b0",
   "metadata": {},
   "outputs": [
    {
     "data": {
      "text/html": [
       "<div>\n",
       "<style scoped>\n",
       "    .dataframe tbody tr th:only-of-type {\n",
       "        vertical-align: middle;\n",
       "    }\n",
       "\n",
       "    .dataframe tbody tr th {\n",
       "        vertical-align: top;\n",
       "    }\n",
       "\n",
       "    .dataframe thead th {\n",
       "        text-align: right;\n",
       "    }\n",
       "</style>\n",
       "<table border=\"1\" class=\"dataframe\">\n",
       "  <thead>\n",
       "    <tr style=\"text-align: right;\">\n",
       "      <th></th>\n",
       "      <th>selftext</th>\n",
       "      <th>title</th>\n",
       "      <th>true class</th>\n",
       "      <th>LR pred class</th>\n",
       "      <th>DT pred class</th>\n",
       "      <th>KNN pred class</th>\n",
       "      <th>RF pred class</th>\n",
       "      <th>ET pred class</th>\n",
       "      <th>MNB pred class</th>\n",
       "      <th>AB pred class</th>\n",
       "      <th>vr2 pred class</th>\n",
       "      <th>vr1 pred class</th>\n",
       "    </tr>\n",
       "  </thead>\n",
       "  <tbody>\n",
       "    <tr>\n",
       "      <th>3208</th>\n",
       "      <td>I know I know I know I know I don’t *have* to ...</td>\n",
       "      <td>Minor detail: I’m struggling with the whole na...</td>\n",
       "      <td>weddingplanning</td>\n",
       "      <td>weddingplanning</td>\n",
       "      <td>weddingplanning</td>\n",
       "      <td>Divorce</td>\n",
       "      <td>Divorce</td>\n",
       "      <td>Divorce</td>\n",
       "      <td>Divorce</td>\n",
       "      <td>weddingplanning</td>\n",
       "      <td>Divorce</td>\n",
       "      <td>Divorce</td>\n",
       "    </tr>\n",
       "    <tr>\n",
       "      <th>77</th>\n",
       "      <td>Hi all! I am a first-time poster but a long-ti...</td>\n",
       "      <td>Father/daughter dance alternative options?</td>\n",
       "      <td>weddingplanning</td>\n",
       "      <td>weddingplanning</td>\n",
       "      <td>weddingplanning</td>\n",
       "      <td>weddingplanning</td>\n",
       "      <td>Divorce</td>\n",
       "      <td>Divorce</td>\n",
       "      <td>weddingplanning</td>\n",
       "      <td>weddingplanning</td>\n",
       "      <td>weddingplanning</td>\n",
       "      <td>weddingplanning</td>\n",
       "    </tr>\n",
       "    <tr>\n",
       "      <th>2635</th>\n",
       "      <td>I'd love to hear how other people handled situ...</td>\n",
       "      <td>How did you/are you planning on handling any a...</td>\n",
       "      <td>weddingplanning</td>\n",
       "      <td>weddingplanning</td>\n",
       "      <td>Divorce</td>\n",
       "      <td>weddingplanning</td>\n",
       "      <td>weddingplanning</td>\n",
       "      <td>weddingplanning</td>\n",
       "      <td>weddingplanning</td>\n",
       "      <td>weddingplanning</td>\n",
       "      <td>weddingplanning</td>\n",
       "      <td>weddingplanning</td>\n",
       "    </tr>\n",
       "    <tr>\n",
       "      <th>3631</th>\n",
       "      <td>I just bought a bunch of photo frames at Goodw...</td>\n",
       "      <td>what photos are typically displayed at weddings?</td>\n",
       "      <td>weddingplanning</td>\n",
       "      <td>weddingplanning</td>\n",
       "      <td>weddingplanning</td>\n",
       "      <td>Divorce</td>\n",
       "      <td>weddingplanning</td>\n",
       "      <td>weddingplanning</td>\n",
       "      <td>weddingplanning</td>\n",
       "      <td>weddingplanning</td>\n",
       "      <td>weddingplanning</td>\n",
       "      <td>weddingplanning</td>\n",
       "    </tr>\n",
       "    <tr>\n",
       "      <th>2195</th>\n",
       "      <td>TLDR/BLUF:  Do I contribute what I'm most comf...</td>\n",
       "      <td>Seeking input re my contribution (I'm the groo...</td>\n",
       "      <td>weddingplanning</td>\n",
       "      <td>weddingplanning</td>\n",
       "      <td>weddingplanning</td>\n",
       "      <td>weddingplanning</td>\n",
       "      <td>weddingplanning</td>\n",
       "      <td>weddingplanning</td>\n",
       "      <td>weddingplanning</td>\n",
       "      <td>weddingplanning</td>\n",
       "      <td>weddingplanning</td>\n",
       "      <td>weddingplanning</td>\n",
       "    </tr>\n",
       "    <tr>\n",
       "      <th>1088</th>\n",
       "      <td>My husband (we are already legally married) ha...</td>\n",
       "      <td>Step mother in law. Should she wear a MOG dres...</td>\n",
       "      <td>weddingplanning</td>\n",
       "      <td>Divorce</td>\n",
       "      <td>weddingplanning</td>\n",
       "      <td>Divorce</td>\n",
       "      <td>Divorce</td>\n",
       "      <td>weddingplanning</td>\n",
       "      <td>weddingplanning</td>\n",
       "      <td>Divorce</td>\n",
       "      <td>Divorce</td>\n",
       "      <td>Divorce</td>\n",
       "    </tr>\n",
       "    <tr>\n",
       "      <th>2518</th>\n",
       "      <td>Hi weddit,\\n\\nI'm looking for some advice on c...</td>\n",
       "      <td>Collecting wedding shower RSVPs when parents a...</td>\n",
       "      <td>weddingplanning</td>\n",
       "      <td>weddingplanning</td>\n",
       "      <td>weddingplanning</td>\n",
       "      <td>weddingplanning</td>\n",
       "      <td>weddingplanning</td>\n",
       "      <td>weddingplanning</td>\n",
       "      <td>weddingplanning</td>\n",
       "      <td>weddingplanning</td>\n",
       "      <td>weddingplanning</td>\n",
       "      <td>weddingplanning</td>\n",
       "    </tr>\n",
       "    <tr>\n",
       "      <th>2700</th>\n",
       "      <td>I’ll try to keep this short. My fiancé wants b...</td>\n",
       "      <td>My mom is siding with my fiancé about spending...</td>\n",
       "      <td>weddingplanning</td>\n",
       "      <td>weddingplanning</td>\n",
       "      <td>weddingplanning</td>\n",
       "      <td>weddingplanning</td>\n",
       "      <td>weddingplanning</td>\n",
       "      <td>weddingplanning</td>\n",
       "      <td>weddingplanning</td>\n",
       "      <td>weddingplanning</td>\n",
       "      <td>weddingplanning</td>\n",
       "      <td>weddingplanning</td>\n",
       "    </tr>\n",
       "    <tr>\n",
       "      <th>3376</th>\n",
       "      <td>Alright weddit!! 6 weeks out and working to fi...</td>\n",
       "      <td>Who did your parents and in-laws walk down the...</td>\n",
       "      <td>weddingplanning</td>\n",
       "      <td>weddingplanning</td>\n",
       "      <td>Divorce</td>\n",
       "      <td>Divorce</td>\n",
       "      <td>Divorce</td>\n",
       "      <td>weddingplanning</td>\n",
       "      <td>weddingplanning</td>\n",
       "      <td>weddingplanning</td>\n",
       "      <td>weddingplanning</td>\n",
       "      <td>weddingplanning</td>\n",
       "    </tr>\n",
       "    <tr>\n",
       "      <th>2093</th>\n",
       "      <td>I got engaged in October 2019... Covid hit and...</td>\n",
       "      <td>advice for a bride with a tense parental situa...</td>\n",
       "      <td>weddingplanning</td>\n",
       "      <td>weddingplanning</td>\n",
       "      <td>weddingplanning</td>\n",
       "      <td>weddingplanning</td>\n",
       "      <td>Divorce</td>\n",
       "      <td>Divorce</td>\n",
       "      <td>weddingplanning</td>\n",
       "      <td>weddingplanning</td>\n",
       "      <td>weddingplanning</td>\n",
       "      <td>weddingplanning</td>\n",
       "    </tr>\n",
       "    <tr>\n",
       "      <th>72</th>\n",
       "      <td>Hoping for some impartial opinions! My fiancé ...</td>\n",
       "      <td>Memorial/generations of love table advice</td>\n",
       "      <td>weddingplanning</td>\n",
       "      <td>weddingplanning</td>\n",
       "      <td>weddingplanning</td>\n",
       "      <td>weddingplanning</td>\n",
       "      <td>weddingplanning</td>\n",
       "      <td>weddingplanning</td>\n",
       "      <td>weddingplanning</td>\n",
       "      <td>weddingplanning</td>\n",
       "      <td>weddingplanning</td>\n",
       "      <td>weddingplanning</td>\n",
       "    </tr>\n",
       "    <tr>\n",
       "      <th>3089</th>\n",
       "      <td>Due to budget and logistical reasons we could ...</td>\n",
       "      <td>For those of you struggling with guests wantin...</td>\n",
       "      <td>weddingplanning</td>\n",
       "      <td>weddingplanning</td>\n",
       "      <td>weddingplanning</td>\n",
       "      <td>weddingplanning</td>\n",
       "      <td>weddingplanning</td>\n",
       "      <td>weddingplanning</td>\n",
       "      <td>weddingplanning</td>\n",
       "      <td>weddingplanning</td>\n",
       "      <td>weddingplanning</td>\n",
       "      <td>weddingplanning</td>\n",
       "    </tr>\n",
       "  </tbody>\n",
       "</table>\n",
       "</div>"
      ],
      "text/plain": [
       "                                               selftext  \\\n",
       "3208  I know I know I know I know I don’t *have* to ...   \n",
       "77    Hi all! I am a first-time poster but a long-ti...   \n",
       "2635  I'd love to hear how other people handled situ...   \n",
       "3631  I just bought a bunch of photo frames at Goodw...   \n",
       "2195  TLDR/BLUF:  Do I contribute what I'm most comf...   \n",
       "1088  My husband (we are already legally married) ha...   \n",
       "2518  Hi weddit,\\n\\nI'm looking for some advice on c...   \n",
       "2700  I’ll try to keep this short. My fiancé wants b...   \n",
       "3376  Alright weddit!! 6 weeks out and working to fi...   \n",
       "2093  I got engaged in October 2019... Covid hit and...   \n",
       "72    Hoping for some impartial opinions! My fiancé ...   \n",
       "3089  Due to budget and logistical reasons we could ...   \n",
       "\n",
       "                                                  title       true class  \\\n",
       "3208  Minor detail: I’m struggling with the whole na...  weddingplanning   \n",
       "77           Father/daughter dance alternative options?  weddingplanning   \n",
       "2635  How did you/are you planning on handling any a...  weddingplanning   \n",
       "3631   what photos are typically displayed at weddings?  weddingplanning   \n",
       "2195  Seeking input re my contribution (I'm the groo...  weddingplanning   \n",
       "1088  Step mother in law. Should she wear a MOG dres...  weddingplanning   \n",
       "2518  Collecting wedding shower RSVPs when parents a...  weddingplanning   \n",
       "2700  My mom is siding with my fiancé about spending...  weddingplanning   \n",
       "3376  Who did your parents and in-laws walk down the...  weddingplanning   \n",
       "2093  advice for a bride with a tense parental situa...  weddingplanning   \n",
       "72            Memorial/generations of love table advice  weddingplanning   \n",
       "3089  For those of you struggling with guests wantin...  weddingplanning   \n",
       "\n",
       "        LR pred class    DT pred class   KNN pred class    RF pred class  \\\n",
       "3208  weddingplanning  weddingplanning          Divorce          Divorce   \n",
       "77    weddingplanning  weddingplanning  weddingplanning          Divorce   \n",
       "2635  weddingplanning          Divorce  weddingplanning  weddingplanning   \n",
       "3631  weddingplanning  weddingplanning          Divorce  weddingplanning   \n",
       "2195  weddingplanning  weddingplanning  weddingplanning  weddingplanning   \n",
       "1088          Divorce  weddingplanning          Divorce          Divorce   \n",
       "2518  weddingplanning  weddingplanning  weddingplanning  weddingplanning   \n",
       "2700  weddingplanning  weddingplanning  weddingplanning  weddingplanning   \n",
       "3376  weddingplanning          Divorce          Divorce          Divorce   \n",
       "2093  weddingplanning  weddingplanning  weddingplanning          Divorce   \n",
       "72    weddingplanning  weddingplanning  weddingplanning  weddingplanning   \n",
       "3089  weddingplanning  weddingplanning  weddingplanning  weddingplanning   \n",
       "\n",
       "        ET pred class   MNB pred class    AB pred class   vr2 pred class  \\\n",
       "3208          Divorce          Divorce  weddingplanning          Divorce   \n",
       "77            Divorce  weddingplanning  weddingplanning  weddingplanning   \n",
       "2635  weddingplanning  weddingplanning  weddingplanning  weddingplanning   \n",
       "3631  weddingplanning  weddingplanning  weddingplanning  weddingplanning   \n",
       "2195  weddingplanning  weddingplanning  weddingplanning  weddingplanning   \n",
       "1088  weddingplanning  weddingplanning          Divorce          Divorce   \n",
       "2518  weddingplanning  weddingplanning  weddingplanning  weddingplanning   \n",
       "2700  weddingplanning  weddingplanning  weddingplanning  weddingplanning   \n",
       "3376  weddingplanning  weddingplanning  weddingplanning  weddingplanning   \n",
       "2093          Divorce  weddingplanning  weddingplanning  weddingplanning   \n",
       "72    weddingplanning  weddingplanning  weddingplanning  weddingplanning   \n",
       "3089  weddingplanning  weddingplanning  weddingplanning  weddingplanning   \n",
       "\n",
       "       vr1 pred class  \n",
       "3208          Divorce  \n",
       "77    weddingplanning  \n",
       "2635  weddingplanning  \n",
       "3631  weddingplanning  \n",
       "2195  weddingplanning  \n",
       "1088          Divorce  \n",
       "2518  weddingplanning  \n",
       "2700  weddingplanning  \n",
       "3376  weddingplanning  \n",
       "2093  weddingplanning  \n",
       "72    weddingplanning  \n",
       "3089  weddingplanning  "
      ]
     },
     "execution_count": 238,
     "metadata": {},
     "output_type": "execute_result"
    }
   ],
   "source": [
    "misclassifications[(misclassifications['selftext'].str.contains('divorce')) & (misclassifications['true class']=='weddingplanning')]"
   ]
  },
  {
   "cell_type": "code",
   "execution_count": null,
   "id": "32190c49-b32b-4b27-8c57-04e1f69bbf6c",
   "metadata": {},
   "outputs": [],
   "source": []
  }
 ],
 "metadata": {
  "kernelspec": {
   "display_name": "Python 3 (ipykernel)",
   "language": "python",
   "name": "python3"
  },
  "language_info": {
   "codemirror_mode": {
    "name": "ipython",
    "version": 3
   },
   "file_extension": ".py",
   "mimetype": "text/x-python",
   "name": "python",
   "nbconvert_exporter": "python",
   "pygments_lexer": "ipython3",
   "version": "3.8.8"
  }
 },
 "nbformat": 4,
 "nbformat_minor": 5
}
